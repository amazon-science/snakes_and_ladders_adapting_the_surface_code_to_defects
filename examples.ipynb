{
 "cells": [
  {
   "cell_type": "code",
   "execution_count": null,
   "id": "5e8af69b",
   "metadata": {},
   "outputs": [],
   "source": [
    "\"\"\"\n",
    "Copyright Amazon.com, Inc. or its affiliates. All Rights Reserved.  \n",
    "\n",
    "SPDX-License-Identifier: CC-BY-NC-4.0\n",
    "\"\"\""
   ]
  },
  {
   "cell_type": "code",
   "execution_count": null,
   "id": "a708d9a7",
   "metadata": {},
   "outputs": [],
   "source": [
    "from defects_module.base import PauliT, Pos\n",
    "from defects_module.code_library import RotatedSurfaceCode\n",
    "from defects_module.defects import DefectiveSurfaceCode, PauliT, Heuristics\n",
    "from defects_module.plot import plot\n",
    "from defects_module.simulate import get_logical_error_rate\n",
    "from defects_module.utils import memory_program, standard_noise\n",
    "import matplotlib.pyplot as plt"
   ]
  },
  {
   "cell_type": "markdown",
   "id": "214a83ee",
   "metadata": {},
   "source": [
    "## How to use the module\n",
    "\n",
    "Please note that we print warnings whenever strategies are dropped during the global optimization phase when doing the boundary deformation, usually because the code did not find a valid corner placement."
   ]
  },
  {
   "cell_type": "code",
   "execution_count": 2,
   "id": "73189aeb",
   "metadata": {},
   "outputs": [
    {
     "name": "stdout",
     "output_type": "stream",
     "text": [
      "Found 1 defect clusters.\n",
      "Strategy dropped: Did not find four corners to draw boundaries.\n",
      "(horizontal, vertical distance) = (4, 5)\n"
     ]
    }
   ],
   "source": [
    "# First we define the undamaged patch\n",
    "undamaged_patch = RotatedSurfaceCode(5)\n",
    "\n",
    "# Second we define the defects in the patch\n",
    "ancilla_defects = set([Pos(4, 4)])\n",
    "data_defects = set([Pos(1, 1), Pos(1, 3)])\n",
    "link_defects = set([])\n",
    "\n",
    "# Produce some damaged patches\n",
    "_, damaged_patches = DefectiveSurfaceCode.make_defective_patches(\n",
    "    undamaged_patch,\n",
    "    ancilla_defects,\n",
    "    data_defects,\n",
    "    link_defects,\n",
    "    repurpose_ancillas=True,\n",
    "    add_padding=True,\n",
    "    first_super_type=PauliT.X,\n",
    ")\n",
    "for patch in damaged_patches:\n",
    "    print(f\"(horizontal, vertical distance) = {patch.effective_distance}\")"
   ]
  },
  {
   "cell_type": "code",
   "execution_count": 3,
   "id": "4a4c0fc3",
   "metadata": {},
   "outputs": [
    {
     "data": {
      "application/vnd.plotly.v1+json": {
       "config": {
        "plotlyServerURL": "https://plot.ly"
       },
       "data": [
        {
         "marker": {
          "color": "#474645",
          "size": 8
         },
         "mode": "markers",
         "name": "qubit",
         "showlegend": false,
         "type": "scatter",
         "x": [
          1,
          1,
          1,
          1,
          1,
          3,
          3,
          3,
          3,
          3,
          5,
          5,
          5,
          5,
          5,
          7,
          7,
          7,
          7,
          7,
          9,
          9,
          9,
          9,
          9
         ],
         "y": [
          1,
          3,
          5,
          7,
          9,
          1,
          3,
          5,
          7,
          9,
          1,
          3,
          5,
          7,
          9,
          1,
          3,
          5,
          7,
          9,
          1,
          3,
          5,
          7,
          9
         ]
        },
        {
         "marker": {
          "color": "#787776",
          "size": 10
         },
         "mode": "markers",
         "name": "qubit",
         "showlegend": false,
         "type": "scatter",
         "x": [
          0,
          0,
          0,
          0,
          0,
          0,
          2,
          2,
          2,
          2,
          2,
          2,
          4,
          4,
          4,
          4,
          4,
          4,
          6,
          6,
          6,
          6,
          6,
          6,
          8,
          8,
          8,
          8,
          8,
          8,
          10,
          10,
          10,
          10,
          10,
          10
         ],
         "y": [
          0,
          2,
          4,
          6,
          8,
          10,
          0,
          2,
          4,
          6,
          8,
          10,
          0,
          2,
          4,
          6,
          8,
          10,
          0,
          2,
          4,
          6,
          8,
          10,
          0,
          2,
          4,
          6,
          8,
          10,
          0,
          2,
          4,
          6,
          8,
          10
         ]
        },
        {
         "fill": "toself",
         "fillcolor": "#78DAF0",
         "hoverinfo": "none",
         "legendgroup": "S_Z",
         "line": {
          "color": "#128AA5",
          "width": 2
         },
         "name": "S_Z",
         "showlegend": true,
         "type": "scatter",
         "x": [
          5,
          7,
          7,
          5,
          5
         ],
         "y": [
          1,
          1,
          3,
          3,
          1
         ]
        },
        {
         "marker": {
          "color": "#474645",
          "size": 8
         },
         "mode": "markers",
         "name": "data",
         "showlegend": false,
         "type": "scatter",
         "x": [
          5,
          7,
          5,
          7
         ],
         "y": [
          3,
          3,
          1,
          1
         ]
        },
        {
         "fill": "toself",
         "fillcolor": "#78DAF0",
         "hoverinfo": "none",
         "legendgroup": "S_Z",
         "line": {
          "color": "#128AA5",
          "width": 2
         },
         "name": "S_Z",
         "showlegend": false,
         "type": "scatter",
         "x": [
          5,
          7,
          7,
          5,
          5
         ],
         "y": [
          5,
          5,
          7,
          7,
          5
         ]
        },
        {
         "marker": {
          "color": "#474645",
          "size": 8
         },
         "mode": "markers",
         "name": "data",
         "showlegend": false,
         "type": "scatter",
         "x": [
          5,
          7,
          5,
          7
         ],
         "y": [
          7,
          7,
          5,
          5
         ]
        },
        {
         "fill": "toself",
         "fillcolor": "#E27985",
         "hoverinfo": "none",
         "legendgroup": "S_X",
         "line": {
          "color": "#CE2D40",
          "width": 2
         },
         "name": "S_X",
         "showlegend": true,
         "type": "scatter",
         "x": [
          1,
          3,
          3,
          1,
          1
         ],
         "y": [
          7,
          7,
          9,
          9,
          7
         ]
        },
        {
         "marker": {
          "color": "#474645",
          "size": 8
         },
         "mode": "markers",
         "name": "data",
         "showlegend": false,
         "type": "scatter",
         "x": [
          1,
          3,
          1,
          3
         ],
         "y": [
          9,
          9,
          7,
          7
         ]
        },
        {
         "fill": "toself",
         "fillcolor": "#78DAF0",
         "hoverinfo": "none",
         "legendgroup": "S_Z",
         "line": {
          "color": "#128AA5",
          "width": 2
         },
         "name": "S_Z",
         "showlegend": false,
         "type": "scatter",
         "x": [
          3,
          5,
          5,
          3,
          3
         ],
         "y": [
          7,
          7,
          9,
          9,
          7
         ]
        },
        {
         "marker": {
          "color": "#474645",
          "size": 8
         },
         "mode": "markers",
         "name": "data",
         "showlegend": false,
         "type": "scatter",
         "x": [
          3,
          5,
          3,
          5
         ],
         "y": [
          9,
          9,
          7,
          7
         ]
        },
        {
         "fill": "toself",
         "fillcolor": "#E27985",
         "hoverinfo": "none",
         "legendgroup": "S_X",
         "line": {
          "color": "#CE2D40",
          "width": 2
         },
         "name": "S_X",
         "showlegend": false,
         "type": "scatter",
         "x": [
          5,
          7,
          7,
          5,
          5
         ],
         "y": [
          7,
          7,
          9,
          9,
          7
         ]
        },
        {
         "marker": {
          "color": "#474645",
          "size": 8
         },
         "mode": "markers",
         "name": "data",
         "showlegend": false,
         "type": "scatter",
         "x": [
          5,
          7,
          5,
          7
         ],
         "y": [
          9,
          9,
          7,
          7
         ]
        },
        {
         "fill": "toself",
         "fillcolor": "#E27985",
         "hoverinfo": "none",
         "legendgroup": "S_X",
         "line": {
          "color": "#CE2D40",
          "width": 2
         },
         "name": "S_X",
         "showlegend": false,
         "type": "scatter",
         "x": [
          7,
          9,
          9,
          7,
          7
         ],
         "y": [
          1,
          1,
          3,
          3,
          1
         ]
        },
        {
         "marker": {
          "color": "#474645",
          "size": 8
         },
         "mode": "markers",
         "name": "data",
         "showlegend": false,
         "type": "scatter",
         "x": [
          7,
          9,
          7,
          9
         ],
         "y": [
          3,
          3,
          1,
          1
         ]
        },
        {
         "fill": "toself",
         "fillcolor": "#78DAF0",
         "hoverinfo": "none",
         "legendgroup": "S_Z",
         "line": {
          "color": "#128AA5",
          "width": 2
         },
         "name": "S_Z",
         "showlegend": false,
         "type": "scatter",
         "x": [
          7,
          9,
          9,
          7,
          7
         ],
         "y": [
          3,
          3,
          5,
          5,
          3
         ]
        },
        {
         "marker": {
          "color": "#474645",
          "size": 8
         },
         "mode": "markers",
         "name": "data",
         "showlegend": false,
         "type": "scatter",
         "x": [
          7,
          9,
          7,
          9
         ],
         "y": [
          5,
          5,
          3,
          3
         ]
        },
        {
         "fill": "toself",
         "fillcolor": "#E27985",
         "hoverinfo": "none",
         "legendgroup": "S_X",
         "line": {
          "color": "#CE2D40",
          "width": 2
         },
         "name": "S_X",
         "showlegend": false,
         "type": "scatter",
         "x": [
          7,
          9,
          9,
          7,
          7
         ],
         "y": [
          5,
          5,
          7,
          7,
          5
         ]
        },
        {
         "marker": {
          "color": "#474645",
          "size": 8
         },
         "mode": "markers",
         "name": "data",
         "showlegend": false,
         "type": "scatter",
         "x": [
          7,
          9,
          7,
          9
         ],
         "y": [
          7,
          7,
          5,
          5
         ]
        },
        {
         "fill": "toself",
         "fillcolor": "#78DAF0",
         "hoverinfo": "none",
         "legendgroup": "S_Z",
         "line": {
          "color": "#128AA5",
          "width": 2
         },
         "name": "S_Z",
         "showlegend": false,
         "type": "scatter",
         "x": [
          7,
          9,
          9,
          7,
          7
         ],
         "y": [
          7,
          7,
          9,
          9,
          7
         ]
        },
        {
         "marker": {
          "color": "#474645",
          "size": 8
         },
         "mode": "markers",
         "name": "data",
         "showlegend": false,
         "type": "scatter",
         "x": [
          7,
          9,
          7,
          9
         ],
         "y": [
          9,
          9,
          7,
          7
         ]
        },
        {
         "fill": "toself",
         "fillcolor": "#D49587",
         "hoverinfo": "none",
         "legendgroup": "S_X",
         "line": {
          "color": "#BD5E49",
          "width": 2
         },
         "name": "S_X",
         "showlegend": false,
         "type": "scatter",
         "x": [
          3,
          5,
          5,
          3,
          3
         ],
         "y": [
          5,
          5,
          7,
          7,
          5
         ]
        },
        {
         "marker": {
          "color": "#474645",
          "size": 8
         },
         "mode": "markers",
         "name": "data",
         "showlegend": false,
         "type": "scatter",
         "x": [
          3,
          3,
          5,
          5
         ],
         "y": [
          7,
          5,
          7,
          5
         ]
        },
        {
         "fill": "toself",
         "fillcolor": "#D49587",
         "hoverinfo": "none",
         "legendgroup": "S_X",
         "line": {
          "color": "#BD5E49",
          "width": 2
         },
         "name": "S_X",
         "showlegend": false,
         "type": "scatter",
         "x": [
          3,
          5,
          5,
          3,
          3
         ],
         "y": [
          1,
          1,
          3,
          3,
          1
         ]
        },
        {
         "marker": {
          "color": "#474645",
          "size": 8
         },
         "mode": "markers",
         "name": "data",
         "showlegend": false,
         "type": "scatter",
         "x": [
          3,
          3,
          5,
          5
         ],
         "y": [
          1,
          3,
          1,
          3
         ]
        },
        {
         "fill": "toself",
         "fillcolor": "#EE8F6D",
         "hoverinfo": "none",
         "legendgroup": "S_X",
         "line": {
          "color": "#E55724",
          "width": 2
         },
         "name": "S_X",
         "showlegend": false,
         "type": "scatter",
         "x": [
          5,
          7,
          7,
          5,
          5
         ],
         "y": [
          3,
          3,
          5,
          5,
          3
         ]
        },
        {
         "marker": {
          "color": "#474645",
          "size": 8
         },
         "mode": "markers",
         "name": "data",
         "showlegend": false,
         "type": "scatter",
         "x": [
          5,
          7,
          5,
          7
         ],
         "y": [
          5,
          5,
          3,
          3
         ]
        },
        {
         "fill": "toself",
         "fillcolor": "#78DAF0",
         "hoverinfo": "none",
         "legendgroup": "S_Z",
         "line": {
          "color": "#128AA5",
          "width": 2
         },
         "name": "S_Z",
         "showlegend": false,
         "type": "scatter",
         "x": [
          1,
          3,
          3,
          1
         ],
         "y": [
          7,
          7,
          5,
          7
         ]
        },
        {
         "marker": {
          "color": "#474645",
          "size": 8
         },
         "mode": "markers",
         "name": "data",
         "showlegend": false,
         "type": "scatter",
         "x": [
          1,
          3,
          3
         ],
         "y": [
          7,
          7,
          5
         ]
        },
        {
         "fill": "toself",
         "fillcolor": "#78DAF0",
         "hoverinfo": "none",
         "legendgroup": "S_Z",
         "line": {
          "color": "#128AA5",
          "width": 2
         },
         "name": "S_Z",
         "showlegend": false,
         "type": "scatter",
         "x": [
          2,
          3,
          3,
          2
         ],
         "y": [
          2,
          1,
          3,
          2
         ]
        },
        {
         "marker": {
          "color": "#474645",
          "size": 8
         },
         "mode": "markers",
         "name": "data",
         "showlegend": false,
         "type": "scatter",
         "x": [
          3,
          3
         ],
         "y": [
          1,
          3
         ]
        },
        {
         "fill": "toself",
         "fillcolor": "#E27985",
         "hoverinfo": "none",
         "legendgroup": "S_X",
         "line": {
          "color": "#CE2D40",
          "width": 2
         },
         "name": "S_X",
         "showlegend": false,
         "type": "scatter",
         "x": [
          6,
          5,
          7,
          6
         ],
         "y": [
          0,
          1,
          1,
          0
         ]
        },
        {
         "marker": {
          "color": "#474645",
          "size": 8
         },
         "mode": "markers",
         "name": "data",
         "showlegend": false,
         "type": "scatter",
         "x": [
          5,
          7
         ],
         "y": [
          1,
          1
         ]
        },
        {
         "fill": "toself",
         "fillcolor": "#78DAF0",
         "hoverinfo": "none",
         "legendgroup": "S_Z",
         "line": {
          "color": "#128AA5",
          "width": 2
         },
         "name": "S_Z",
         "showlegend": false,
         "type": "scatter",
         "x": [
          0,
          1,
          1,
          0
         ],
         "y": [
          8,
          9,
          7,
          8
         ]
        },
        {
         "marker": {
          "color": "#474645",
          "size": 8
         },
         "mode": "markers",
         "name": "data",
         "showlegend": false,
         "type": "scatter",
         "x": [
          1,
          1
         ],
         "y": [
          9,
          7
         ]
        },
        {
         "fill": "toself",
         "fillcolor": "#E27985",
         "hoverinfo": "none",
         "legendgroup": "S_X",
         "line": {
          "color": "#CE2D40",
          "width": 2
         },
         "name": "S_X",
         "showlegend": false,
         "type": "scatter",
         "x": [
          4,
          3,
          5,
          4
         ],
         "y": [
          10,
          9,
          9,
          10
         ]
        },
        {
         "marker": {
          "color": "#474645",
          "size": 8
         },
         "mode": "markers",
         "name": "data",
         "showlegend": false,
         "type": "scatter",
         "x": [
          3,
          5
         ],
         "y": [
          9,
          9
         ]
        },
        {
         "fill": "toself",
         "fillcolor": "#E27985",
         "hoverinfo": "none",
         "legendgroup": "S_X",
         "line": {
          "color": "#CE2D40",
          "width": 2
         },
         "name": "S_X",
         "showlegend": false,
         "type": "scatter",
         "x": [
          8,
          7,
          9,
          8
         ],
         "y": [
          10,
          9,
          9,
          10
         ]
        },
        {
         "marker": {
          "color": "#474645",
          "size": 8
         },
         "mode": "markers",
         "name": "data",
         "showlegend": false,
         "type": "scatter",
         "x": [
          7,
          9
         ],
         "y": [
          9,
          9
         ]
        },
        {
         "fill": "toself",
         "fillcolor": "#78DAF0",
         "hoverinfo": "none",
         "legendgroup": "S_Z",
         "line": {
          "color": "#128AA5",
          "width": 2
         },
         "name": "S_Z",
         "showlegend": false,
         "type": "scatter",
         "x": [
          10,
          9,
          9,
          10
         ],
         "y": [
          2,
          3,
          1,
          2
         ]
        },
        {
         "marker": {
          "color": "#474645",
          "size": 8
         },
         "mode": "markers",
         "name": "data",
         "showlegend": false,
         "type": "scatter",
         "x": [
          9,
          9
         ],
         "y": [
          3,
          1
         ]
        },
        {
         "fill": "toself",
         "fillcolor": "#78DAF0",
         "hoverinfo": "none",
         "legendgroup": "S_Z",
         "line": {
          "color": "#128AA5",
          "width": 2
         },
         "name": "S_Z",
         "showlegend": false,
         "type": "scatter",
         "x": [
          10,
          9,
          9,
          10
         ],
         "y": [
          6,
          7,
          5,
          6
         ]
        },
        {
         "marker": {
          "color": "#474645",
          "size": 8
         },
         "mode": "markers",
         "name": "data",
         "showlegend": false,
         "type": "scatter",
         "x": [
          9,
          9
         ],
         "y": [
          7,
          5
         ]
        },
        {
         "fill": "toself",
         "fillcolor": "#B3BFD0",
         "hoverinfo": "none",
         "legendgroup": "S_Z",
         "line": {
          "color": "#5D7598",
          "width": 2
         },
         "name": "S_Z",
         "showlegend": false,
         "type": "scatter",
         "x": [
          2,
          3,
          3,
          2
         ],
         "y": [
          4,
          5,
          3,
          4
         ]
        },
        {
         "marker": {
          "color": "#474645",
          "size": 8
         },
         "mode": "markers",
         "name": "data",
         "showlegend": false,
         "type": "scatter",
         "x": [
          3,
          3
         ],
         "y": [
          5,
          3
         ]
        },
        {
         "fill": "toself",
         "fillcolor": "#B3BFD0",
         "hoverinfo": "none",
         "legendgroup": "S_Z",
         "line": {
          "color": "#5D7598",
          "width": 2
         },
         "name": "S_Z",
         "showlegend": false,
         "type": "scatter",
         "x": [
          6,
          5,
          5,
          6
         ],
         "y": [
          4,
          5,
          3,
          4
         ]
        },
        {
         "marker": {
          "color": "#474645",
          "size": 8
         },
         "mode": "markers",
         "name": "data",
         "showlegend": false,
         "type": "scatter",
         "x": [
          5,
          5
         ],
         "y": [
          5,
          3
         ]
        },
        {
         "hoverlabel": {
          "namelength": -1
         },
         "marker": {
          "color": "#787776",
          "size": 10
         },
         "mode": "markers",
         "name": "Ancilla ZZ",
         "showlegend": false,
         "type": "scatter",
         "x": [
          2
         ],
         "y": [
          2
         ]
        },
        {
         "hoverlabel": {
          "namelength": -1
         },
         "marker": {
          "color": "#787776",
          "size": 10
         },
         "mode": "markers",
         "name": "Ancilla ZZZ",
         "showlegend": false,
         "type": "scatter",
         "x": [
          2
         ],
         "y": [
          6
         ]
        },
        {
         "hoverlabel": {
          "namelength": -1
         },
         "marker": {
          "color": "#787776",
          "size": 10
         },
         "mode": "markers",
         "name": "Ancilla XX",
         "showlegend": false,
         "type": "scatter",
         "x": [
          6
         ],
         "y": [
          0
         ]
        },
        {
         "hoverlabel": {
          "namelength": -1
         },
         "marker": {
          "color": "#787776",
          "size": 10
         },
         "mode": "markers",
         "name": "Ancilla ZZZZ",
         "showlegend": false,
         "type": "scatter",
         "x": [
          6
         ],
         "y": [
          2
         ]
        },
        {
         "hoverlabel": {
          "namelength": -1
         },
         "marker": {
          "color": "#787776",
          "size": 10
         },
         "mode": "markers",
         "name": "Ancilla ZZZZ",
         "showlegend": false,
         "type": "scatter",
         "x": [
          6
         ],
         "y": [
          6
         ]
        },
        {
         "hoverlabel": {
          "namelength": -1
         },
         "marker": {
          "color": "#787776",
          "size": 10
         },
         "mode": "markers",
         "name": "Ancilla ZZ",
         "showlegend": false,
         "type": "scatter",
         "x": [
          0
         ],
         "y": [
          8
         ]
        },
        {
         "hoverlabel": {
          "namelength": -1
         },
         "marker": {
          "color": "#787776",
          "size": 10
         },
         "mode": "markers",
         "name": "Ancilla XXXX",
         "showlegend": false,
         "type": "scatter",
         "x": [
          2
         ],
         "y": [
          8
         ]
        },
        {
         "hoverlabel": {
          "namelength": -1
         },
         "marker": {
          "color": "#787776",
          "size": 10
         },
         "mode": "markers",
         "name": "Ancilla ZZZZ",
         "showlegend": false,
         "type": "scatter",
         "x": [
          4
         ],
         "y": [
          8
         ]
        },
        {
         "hoverlabel": {
          "namelength": -1
         },
         "marker": {
          "color": "#787776",
          "size": 10
         },
         "mode": "markers",
         "name": "Ancilla XXXX",
         "showlegend": false,
         "type": "scatter",
         "x": [
          6
         ],
         "y": [
          8
         ]
        },
        {
         "hoverlabel": {
          "namelength": -1
         },
         "marker": {
          "color": "#787776",
          "size": 10
         },
         "mode": "markers",
         "name": "Ancilla XXXX",
         "showlegend": false,
         "type": "scatter",
         "x": [
          8
         ],
         "y": [
          2
         ]
        },
        {
         "hoverlabel": {
          "namelength": -1
         },
         "marker": {
          "color": "#787776",
          "size": 10
         },
         "mode": "markers",
         "name": "Ancilla ZZZZ",
         "showlegend": false,
         "type": "scatter",
         "x": [
          8
         ],
         "y": [
          4
         ]
        },
        {
         "hoverlabel": {
          "namelength": -1
         },
         "marker": {
          "color": "#787776",
          "size": 10
         },
         "mode": "markers",
         "name": "Ancilla XXXX",
         "showlegend": false,
         "type": "scatter",
         "x": [
          8
         ],
         "y": [
          6
         ]
        },
        {
         "hoverlabel": {
          "namelength": -1
         },
         "marker": {
          "color": "#787776",
          "size": 10
         },
         "mode": "markers",
         "name": "Ancilla ZZZZ",
         "showlegend": false,
         "type": "scatter",
         "x": [
          8
         ],
         "y": [
          8
         ]
        },
        {
         "hoverlabel": {
          "namelength": -1
         },
         "marker": {
          "color": "#787776",
          "size": 10
         },
         "mode": "markers",
         "name": "Ancilla XX",
         "showlegend": false,
         "type": "scatter",
         "x": [
          4
         ],
         "y": [
          10
         ]
        },
        {
         "hoverlabel": {
          "namelength": -1
         },
         "marker": {
          "color": "#787776",
          "size": 10
         },
         "mode": "markers",
         "name": "Ancilla XX",
         "showlegend": false,
         "type": "scatter",
         "x": [
          8
         ],
         "y": [
          10
         ]
        },
        {
         "hoverlabel": {
          "namelength": -1
         },
         "marker": {
          "color": "#787776",
          "size": 10
         },
         "mode": "markers",
         "name": "Ancilla ZZ",
         "showlegend": false,
         "type": "scatter",
         "x": [
          10
         ],
         "y": [
          2
         ]
        },
        {
         "hoverlabel": {
          "namelength": -1
         },
         "marker": {
          "color": "#787776",
          "size": 10
         },
         "mode": "markers",
         "name": "Ancilla ZZ",
         "showlegend": false,
         "type": "scatter",
         "x": [
          10
         ],
         "y": [
          6
         ]
        },
        {
         "hoverlabel": {
          "namelength": -1
         },
         "marker": {
          "color": "#787776",
          "size": 10
         },
         "mode": "markers",
         "name": "Ancilla ZZ",
         "showlegend": false,
         "type": "scatter",
         "x": [
          2
         ],
         "y": [
          4
         ]
        },
        {
         "hoverlabel": {
          "namelength": -1
         },
         "marker": {
          "color": "#787776",
          "size": 10
         },
         "mode": "markers",
         "name": "Ancilla ZZ,XXXX",
         "showlegend": false,
         "type": "scatter",
         "x": [
          6
         ],
         "y": [
          4
         ]
        },
        {
         "hoverlabel": {
          "namelength": -1
         },
         "marker": {
          "color": "#787776",
          "size": 10
         },
         "mode": "markers",
         "name": "Ancilla XXXX",
         "showlegend": false,
         "type": "scatter",
         "x": [
          4
         ],
         "y": [
          6
         ]
        },
        {
         "hoverlabel": {
          "namelength": -1
         },
         "marker": {
          "color": "#787776",
          "size": 10
         },
         "mode": "markers",
         "name": "Ancilla XXXX",
         "showlegend": false,
         "type": "scatter",
         "x": [
          4
         ],
         "y": [
          2
         ]
        },
        {
         "legendgroup": "X_L",
         "line": {
          "color": "#CE2D40",
          "width": 4
         },
         "name": "X_L",
         "showlegend": false,
         "type": "scatter",
         "x": [
          1,
          1,
          3,
          3,
          3
         ],
         "y": [
          9,
          7,
          5,
          3,
          1
         ]
        },
        {
         "legendgroup": "Z_L",
         "line": {
          "color": "#128AA5",
          "width": 4
         },
         "name": "Z_L",
         "showlegend": false,
         "type": "scatter",
         "x": [
          3,
          5,
          7,
          9
         ],
         "y": [
          1,
          1,
          1,
          1
         ]
        },
        {
         "legendgroup": "X_L",
         "line": {
          "color": "#CE2D40",
          "width": 4
         },
         "name": "X_L",
         "showlegend": true,
         "type": "scatter",
         "x": [
          9,
          9,
          9,
          9,
          9
         ],
         "y": [
          1,
          3,
          5,
          7,
          9
         ]
        },
        {
         "legendgroup": "Z_L",
         "line": {
          "color": "#128AA5",
          "width": 4
         },
         "name": "Z_L",
         "showlegend": true,
         "type": "scatter",
         "x": [
          9,
          7,
          5,
          3,
          1
         ],
         "y": [
          9,
          9,
          9,
          9,
          9
         ]
        },
        {
         "marker": {
          "color": "red",
          "size": 12,
          "symbol": "x"
         },
         "mode": "markers",
         "name": "qubit defect",
         "showlegend": false,
         "type": "scatter",
         "x": [
          4,
          1,
          1
         ],
         "y": [
          4,
          3,
          1
         ]
        }
       ],
       "layout": {
        "autosize": false,
        "template": {
         "data": {
          "bar": [
           {
            "error_x": {
             "color": "#2a3f5f"
            },
            "error_y": {
             "color": "#2a3f5f"
            },
            "marker": {
             "line": {
              "color": "#E5ECF6",
              "width": 0.5
             },
             "pattern": {
              "fillmode": "overlay",
              "size": 10,
              "solidity": 0.2
             }
            },
            "type": "bar"
           }
          ],
          "barpolar": [
           {
            "marker": {
             "line": {
              "color": "#E5ECF6",
              "width": 0.5
             },
             "pattern": {
              "fillmode": "overlay",
              "size": 10,
              "solidity": 0.2
             }
            },
            "type": "barpolar"
           }
          ],
          "carpet": [
           {
            "aaxis": {
             "endlinecolor": "#2a3f5f",
             "gridcolor": "white",
             "linecolor": "white",
             "minorgridcolor": "white",
             "startlinecolor": "#2a3f5f"
            },
            "baxis": {
             "endlinecolor": "#2a3f5f",
             "gridcolor": "white",
             "linecolor": "white",
             "minorgridcolor": "white",
             "startlinecolor": "#2a3f5f"
            },
            "type": "carpet"
           }
          ],
          "choropleth": [
           {
            "colorbar": {
             "outlinewidth": 0,
             "ticks": ""
            },
            "type": "choropleth"
           }
          ],
          "contour": [
           {
            "colorbar": {
             "outlinewidth": 0,
             "ticks": ""
            },
            "colorscale": [
             [
              0,
              "#0d0887"
             ],
             [
              0.1111111111111111,
              "#46039f"
             ],
             [
              0.2222222222222222,
              "#7201a8"
             ],
             [
              0.3333333333333333,
              "#9c179e"
             ],
             [
              0.4444444444444444,
              "#bd3786"
             ],
             [
              0.5555555555555556,
              "#d8576b"
             ],
             [
              0.6666666666666666,
              "#ed7953"
             ],
             [
              0.7777777777777778,
              "#fb9f3a"
             ],
             [
              0.8888888888888888,
              "#fdca26"
             ],
             [
              1,
              "#f0f921"
             ]
            ],
            "type": "contour"
           }
          ],
          "contourcarpet": [
           {
            "colorbar": {
             "outlinewidth": 0,
             "ticks": ""
            },
            "type": "contourcarpet"
           }
          ],
          "heatmap": [
           {
            "colorbar": {
             "outlinewidth": 0,
             "ticks": ""
            },
            "colorscale": [
             [
              0,
              "#0d0887"
             ],
             [
              0.1111111111111111,
              "#46039f"
             ],
             [
              0.2222222222222222,
              "#7201a8"
             ],
             [
              0.3333333333333333,
              "#9c179e"
             ],
             [
              0.4444444444444444,
              "#bd3786"
             ],
             [
              0.5555555555555556,
              "#d8576b"
             ],
             [
              0.6666666666666666,
              "#ed7953"
             ],
             [
              0.7777777777777778,
              "#fb9f3a"
             ],
             [
              0.8888888888888888,
              "#fdca26"
             ],
             [
              1,
              "#f0f921"
             ]
            ],
            "type": "heatmap"
           }
          ],
          "heatmapgl": [
           {
            "colorbar": {
             "outlinewidth": 0,
             "ticks": ""
            },
            "colorscale": [
             [
              0,
              "#0d0887"
             ],
             [
              0.1111111111111111,
              "#46039f"
             ],
             [
              0.2222222222222222,
              "#7201a8"
             ],
             [
              0.3333333333333333,
              "#9c179e"
             ],
             [
              0.4444444444444444,
              "#bd3786"
             ],
             [
              0.5555555555555556,
              "#d8576b"
             ],
             [
              0.6666666666666666,
              "#ed7953"
             ],
             [
              0.7777777777777778,
              "#fb9f3a"
             ],
             [
              0.8888888888888888,
              "#fdca26"
             ],
             [
              1,
              "#f0f921"
             ]
            ],
            "type": "heatmapgl"
           }
          ],
          "histogram": [
           {
            "marker": {
             "pattern": {
              "fillmode": "overlay",
              "size": 10,
              "solidity": 0.2
             }
            },
            "type": "histogram"
           }
          ],
          "histogram2d": [
           {
            "colorbar": {
             "outlinewidth": 0,
             "ticks": ""
            },
            "colorscale": [
             [
              0,
              "#0d0887"
             ],
             [
              0.1111111111111111,
              "#46039f"
             ],
             [
              0.2222222222222222,
              "#7201a8"
             ],
             [
              0.3333333333333333,
              "#9c179e"
             ],
             [
              0.4444444444444444,
              "#bd3786"
             ],
             [
              0.5555555555555556,
              "#d8576b"
             ],
             [
              0.6666666666666666,
              "#ed7953"
             ],
             [
              0.7777777777777778,
              "#fb9f3a"
             ],
             [
              0.8888888888888888,
              "#fdca26"
             ],
             [
              1,
              "#f0f921"
             ]
            ],
            "type": "histogram2d"
           }
          ],
          "histogram2dcontour": [
           {
            "colorbar": {
             "outlinewidth": 0,
             "ticks": ""
            },
            "colorscale": [
             [
              0,
              "#0d0887"
             ],
             [
              0.1111111111111111,
              "#46039f"
             ],
             [
              0.2222222222222222,
              "#7201a8"
             ],
             [
              0.3333333333333333,
              "#9c179e"
             ],
             [
              0.4444444444444444,
              "#bd3786"
             ],
             [
              0.5555555555555556,
              "#d8576b"
             ],
             [
              0.6666666666666666,
              "#ed7953"
             ],
             [
              0.7777777777777778,
              "#fb9f3a"
             ],
             [
              0.8888888888888888,
              "#fdca26"
             ],
             [
              1,
              "#f0f921"
             ]
            ],
            "type": "histogram2dcontour"
           }
          ],
          "mesh3d": [
           {
            "colorbar": {
             "outlinewidth": 0,
             "ticks": ""
            },
            "type": "mesh3d"
           }
          ],
          "parcoords": [
           {
            "line": {
             "colorbar": {
              "outlinewidth": 0,
              "ticks": ""
             }
            },
            "type": "parcoords"
           }
          ],
          "pie": [
           {
            "automargin": true,
            "type": "pie"
           }
          ],
          "scatter": [
           {
            "fillpattern": {
             "fillmode": "overlay",
             "size": 10,
             "solidity": 0.2
            },
            "type": "scatter"
           }
          ],
          "scatter3d": [
           {
            "line": {
             "colorbar": {
              "outlinewidth": 0,
              "ticks": ""
             }
            },
            "marker": {
             "colorbar": {
              "outlinewidth": 0,
              "ticks": ""
             }
            },
            "type": "scatter3d"
           }
          ],
          "scattercarpet": [
           {
            "marker": {
             "colorbar": {
              "outlinewidth": 0,
              "ticks": ""
             }
            },
            "type": "scattercarpet"
           }
          ],
          "scattergeo": [
           {
            "marker": {
             "colorbar": {
              "outlinewidth": 0,
              "ticks": ""
             }
            },
            "type": "scattergeo"
           }
          ],
          "scattergl": [
           {
            "marker": {
             "colorbar": {
              "outlinewidth": 0,
              "ticks": ""
             }
            },
            "type": "scattergl"
           }
          ],
          "scattermapbox": [
           {
            "marker": {
             "colorbar": {
              "outlinewidth": 0,
              "ticks": ""
             }
            },
            "type": "scattermapbox"
           }
          ],
          "scatterpolar": [
           {
            "marker": {
             "colorbar": {
              "outlinewidth": 0,
              "ticks": ""
             }
            },
            "type": "scatterpolar"
           }
          ],
          "scatterpolargl": [
           {
            "marker": {
             "colorbar": {
              "outlinewidth": 0,
              "ticks": ""
             }
            },
            "type": "scatterpolargl"
           }
          ],
          "scatterternary": [
           {
            "marker": {
             "colorbar": {
              "outlinewidth": 0,
              "ticks": ""
             }
            },
            "type": "scatterternary"
           }
          ],
          "surface": [
           {
            "colorbar": {
             "outlinewidth": 0,
             "ticks": ""
            },
            "colorscale": [
             [
              0,
              "#0d0887"
             ],
             [
              0.1111111111111111,
              "#46039f"
             ],
             [
              0.2222222222222222,
              "#7201a8"
             ],
             [
              0.3333333333333333,
              "#9c179e"
             ],
             [
              0.4444444444444444,
              "#bd3786"
             ],
             [
              0.5555555555555556,
              "#d8576b"
             ],
             [
              0.6666666666666666,
              "#ed7953"
             ],
             [
              0.7777777777777778,
              "#fb9f3a"
             ],
             [
              0.8888888888888888,
              "#fdca26"
             ],
             [
              1,
              "#f0f921"
             ]
            ],
            "type": "surface"
           }
          ],
          "table": [
           {
            "cells": {
             "fill": {
              "color": "#EBF0F8"
             },
             "line": {
              "color": "white"
             }
            },
            "header": {
             "fill": {
              "color": "#C8D4E3"
             },
             "line": {
              "color": "white"
             }
            },
            "type": "table"
           }
          ]
         },
         "layout": {
          "annotationdefaults": {
           "arrowcolor": "#2a3f5f",
           "arrowhead": 0,
           "arrowwidth": 1
          },
          "autotypenumbers": "strict",
          "coloraxis": {
           "colorbar": {
            "outlinewidth": 0,
            "ticks": ""
           }
          },
          "colorscale": {
           "diverging": [
            [
             0,
             "#8e0152"
            ],
            [
             0.1,
             "#c51b7d"
            ],
            [
             0.2,
             "#de77ae"
            ],
            [
             0.3,
             "#f1b6da"
            ],
            [
             0.4,
             "#fde0ef"
            ],
            [
             0.5,
             "#f7f7f7"
            ],
            [
             0.6,
             "#e6f5d0"
            ],
            [
             0.7,
             "#b8e186"
            ],
            [
             0.8,
             "#7fbc41"
            ],
            [
             0.9,
             "#4d9221"
            ],
            [
             1,
             "#276419"
            ]
           ],
           "sequential": [
            [
             0,
             "#0d0887"
            ],
            [
             0.1111111111111111,
             "#46039f"
            ],
            [
             0.2222222222222222,
             "#7201a8"
            ],
            [
             0.3333333333333333,
             "#9c179e"
            ],
            [
             0.4444444444444444,
             "#bd3786"
            ],
            [
             0.5555555555555556,
             "#d8576b"
            ],
            [
             0.6666666666666666,
             "#ed7953"
            ],
            [
             0.7777777777777778,
             "#fb9f3a"
            ],
            [
             0.8888888888888888,
             "#fdca26"
            ],
            [
             1,
             "#f0f921"
            ]
           ],
           "sequentialminus": [
            [
             0,
             "#0d0887"
            ],
            [
             0.1111111111111111,
             "#46039f"
            ],
            [
             0.2222222222222222,
             "#7201a8"
            ],
            [
             0.3333333333333333,
             "#9c179e"
            ],
            [
             0.4444444444444444,
             "#bd3786"
            ],
            [
             0.5555555555555556,
             "#d8576b"
            ],
            [
             0.6666666666666666,
             "#ed7953"
            ],
            [
             0.7777777777777778,
             "#fb9f3a"
            ],
            [
             0.8888888888888888,
             "#fdca26"
            ],
            [
             1,
             "#f0f921"
            ]
           ]
          },
          "colorway": [
           "#636efa",
           "#EF553B",
           "#00cc96",
           "#ab63fa",
           "#FFA15A",
           "#19d3f3",
           "#FF6692",
           "#B6E880",
           "#FF97FF",
           "#FECB52"
          ],
          "font": {
           "color": "#2a3f5f"
          },
          "geo": {
           "bgcolor": "white",
           "lakecolor": "white",
           "landcolor": "#E5ECF6",
           "showlakes": true,
           "showland": true,
           "subunitcolor": "white"
          },
          "hoverlabel": {
           "align": "left"
          },
          "hovermode": "closest",
          "mapbox": {
           "style": "light"
          },
          "paper_bgcolor": "white",
          "plot_bgcolor": "#E5ECF6",
          "polar": {
           "angularaxis": {
            "gridcolor": "white",
            "linecolor": "white",
            "ticks": ""
           },
           "bgcolor": "#E5ECF6",
           "radialaxis": {
            "gridcolor": "white",
            "linecolor": "white",
            "ticks": ""
           }
          },
          "scene": {
           "xaxis": {
            "backgroundcolor": "#E5ECF6",
            "gridcolor": "white",
            "gridwidth": 2,
            "linecolor": "white",
            "showbackground": true,
            "ticks": "",
            "zerolinecolor": "white"
           },
           "yaxis": {
            "backgroundcolor": "#E5ECF6",
            "gridcolor": "white",
            "gridwidth": 2,
            "linecolor": "white",
            "showbackground": true,
            "ticks": "",
            "zerolinecolor": "white"
           },
           "zaxis": {
            "backgroundcolor": "#E5ECF6",
            "gridcolor": "white",
            "gridwidth": 2,
            "linecolor": "white",
            "showbackground": true,
            "ticks": "",
            "zerolinecolor": "white"
           }
          },
          "shapedefaults": {
           "line": {
            "color": "#2a3f5f"
           }
          },
          "ternary": {
           "aaxis": {
            "gridcolor": "white",
            "linecolor": "white",
            "ticks": ""
           },
           "baxis": {
            "gridcolor": "white",
            "linecolor": "white",
            "ticks": ""
           },
           "bgcolor": "#E5ECF6",
           "caxis": {
            "gridcolor": "white",
            "linecolor": "white",
            "ticks": ""
           }
          },
          "title": {
           "x": 0.05
          },
          "xaxis": {
           "automargin": true,
           "gridcolor": "white",
           "linecolor": "white",
           "ticks": "",
           "title": {
            "standoff": 15
           },
           "zerolinecolor": "white",
           "zerolinewidth": 2
          },
          "yaxis": {
           "automargin": true,
           "gridcolor": "white",
           "linecolor": "white",
           "ticks": "",
           "title": {
            "standoff": 15
           },
           "zerolinecolor": "white",
           "zerolinewidth": 2
          }
         }
        },
        "width": 800,
        "xaxis": {
         "showgrid": false
        },
        "yaxis": {
         "scaleanchor": "x",
         "showgrid": false
        }
       }
      }
     },
     "metadata": {},
     "output_type": "display_data"
    }
   ],
   "source": [
    "# Plot the outputs.\n",
    "figs = [plot(damaged_patch) for damaged_patch in damaged_patches]\n",
    "for fig in figs:\n",
    "    fig.show()"
   ]
  },
  {
   "cell_type": "code",
   "execution_count": 4,
   "id": "371cf039",
   "metadata": {},
   "outputs": [
    {
     "name": "stdout",
     "output_type": "stream",
     "text": [
      "Found 1 defect clusters.\n",
      "(horizontal, vertical distance) = (5, 4)\n",
      "(horizontal, vertical distance) = (4, 5)\n"
     ]
    },
    {
     "data": {
      "application/vnd.plotly.v1+json": {
       "config": {
        "plotlyServerURL": "https://plot.ly"
       },
       "data": [
        {
         "marker": {
          "color": "#474645",
          "size": 8
         },
         "mode": "markers",
         "name": "qubit",
         "showlegend": false,
         "type": "scatter",
         "x": [
          1,
          1,
          1,
          1,
          1,
          1,
          1,
          3,
          3,
          3,
          3,
          3,
          3,
          3,
          5,
          5,
          5,
          5,
          5,
          5,
          5,
          7,
          7,
          7,
          7,
          7,
          7,
          7,
          9,
          9,
          9,
          9,
          9,
          9,
          9,
          11,
          11,
          11,
          11,
          11,
          11,
          11,
          13,
          13,
          13,
          13,
          13,
          13,
          13
         ],
         "y": [
          1,
          3,
          5,
          7,
          9,
          11,
          13,
          1,
          3,
          5,
          7,
          9,
          11,
          13,
          1,
          3,
          5,
          7,
          9,
          11,
          13,
          1,
          3,
          5,
          7,
          9,
          11,
          13,
          1,
          3,
          5,
          7,
          9,
          11,
          13,
          1,
          3,
          5,
          7,
          9,
          11,
          13,
          1,
          3,
          5,
          7,
          9,
          11,
          13
         ]
        },
        {
         "marker": {
          "color": "#787776",
          "size": 10
         },
         "mode": "markers",
         "name": "qubit",
         "showlegend": false,
         "type": "scatter",
         "x": [
          0,
          0,
          0,
          0,
          0,
          0,
          0,
          0,
          2,
          2,
          2,
          2,
          2,
          2,
          2,
          2,
          4,
          4,
          4,
          4,
          4,
          4,
          4,
          4,
          6,
          6,
          6,
          6,
          6,
          6,
          6,
          6,
          8,
          8,
          8,
          8,
          8,
          8,
          8,
          8,
          10,
          10,
          10,
          10,
          10,
          10,
          10,
          10,
          12,
          12,
          12,
          12,
          12,
          12,
          12,
          12,
          14,
          14,
          14,
          14,
          14,
          14,
          14,
          14
         ],
         "y": [
          0,
          2,
          4,
          6,
          8,
          10,
          12,
          14,
          0,
          2,
          4,
          6,
          8,
          10,
          12,
          14,
          0,
          2,
          4,
          6,
          8,
          10,
          12,
          14,
          0,
          2,
          4,
          6,
          8,
          10,
          12,
          14,
          0,
          2,
          4,
          6,
          8,
          10,
          12,
          14,
          0,
          2,
          4,
          6,
          8,
          10,
          12,
          14,
          0,
          2,
          4,
          6,
          8,
          10,
          12,
          14,
          0,
          2,
          4,
          6,
          8,
          10,
          12,
          14
         ]
        },
        {
         "fill": "toself",
         "fillcolor": "#78DAF0",
         "hoverinfo": "none",
         "legendgroup": "S_Z",
         "line": {
          "color": "#128AA5",
          "width": 2
         },
         "name": "S_Z",
         "showlegend": true,
         "type": "scatter",
         "x": [
          1,
          3,
          3,
          1,
          1
         ],
         "y": [
          1,
          1,
          3,
          3,
          1
         ]
        },
        {
         "marker": {
          "color": "#474645",
          "size": 8
         },
         "mode": "markers",
         "name": "data",
         "showlegend": false,
         "type": "scatter",
         "x": [
          1,
          3,
          1,
          3
         ],
         "y": [
          3,
          3,
          1,
          1
         ]
        },
        {
         "fill": "toself",
         "fillcolor": "#78DAF0",
         "hoverinfo": "none",
         "legendgroup": "S_Z",
         "line": {
          "color": "#128AA5",
          "width": 2
         },
         "name": "S_Z",
         "showlegend": false,
         "type": "scatter",
         "x": [
          1,
          3,
          3,
          1,
          1
         ],
         "y": [
          5,
          5,
          7,
          7,
          5
         ]
        },
        {
         "marker": {
          "color": "#474645",
          "size": 8
         },
         "mode": "markers",
         "name": "data",
         "showlegend": false,
         "type": "scatter",
         "x": [
          1,
          3,
          1,
          3
         ],
         "y": [
          7,
          7,
          5,
          5
         ]
        },
        {
         "fill": "toself",
         "fillcolor": "#E27985",
         "hoverinfo": "none",
         "legendgroup": "S_X",
         "line": {
          "color": "#CE2D40",
          "width": 2
         },
         "name": "S_X",
         "showlegend": true,
         "type": "scatter",
         "x": [
          1,
          3,
          3,
          1,
          1
         ],
         "y": [
          7,
          7,
          9,
          9,
          7
         ]
        },
        {
         "marker": {
          "color": "#474645",
          "size": 8
         },
         "mode": "markers",
         "name": "data",
         "showlegend": false,
         "type": "scatter",
         "x": [
          1,
          3,
          1,
          3
         ],
         "y": [
          9,
          9,
          7,
          7
         ]
        },
        {
         "fill": "toself",
         "fillcolor": "#78DAF0",
         "hoverinfo": "none",
         "legendgroup": "S_Z",
         "line": {
          "color": "#128AA5",
          "width": 2
         },
         "name": "S_Z",
         "showlegend": false,
         "type": "scatter",
         "x": [
          3,
          5,
          5,
          3,
          3
         ],
         "y": [
          7,
          7,
          9,
          9,
          7
         ]
        },
        {
         "marker": {
          "color": "#474645",
          "size": 8
         },
         "mode": "markers",
         "name": "data",
         "showlegend": false,
         "type": "scatter",
         "x": [
          3,
          5,
          3,
          5
         ],
         "y": [
          9,
          9,
          7,
          7
         ]
        },
        {
         "fill": "toself",
         "fillcolor": "#78DAF0",
         "hoverinfo": "none",
         "legendgroup": "S_Z",
         "line": {
          "color": "#128AA5",
          "width": 2
         },
         "name": "S_Z",
         "showlegend": false,
         "type": "scatter",
         "x": [
          1,
          3,
          3,
          1,
          1
         ],
         "y": [
          9,
          9,
          11,
          11,
          9
         ]
        },
        {
         "marker": {
          "color": "#474645",
          "size": 8
         },
         "mode": "markers",
         "name": "data",
         "showlegend": false,
         "type": "scatter",
         "x": [
          1,
          3,
          1,
          3
         ],
         "y": [
          11,
          11,
          9,
          9
         ]
        },
        {
         "fill": "toself",
         "fillcolor": "#E27985",
         "hoverinfo": "none",
         "legendgroup": "S_X",
         "line": {
          "color": "#CE2D40",
          "width": 2
         },
         "name": "S_X",
         "showlegend": false,
         "type": "scatter",
         "x": [
          3,
          5,
          5,
          3,
          3
         ],
         "y": [
          9,
          9,
          11,
          11,
          9
         ]
        },
        {
         "marker": {
          "color": "#474645",
          "size": 8
         },
         "mode": "markers",
         "name": "data",
         "showlegend": false,
         "type": "scatter",
         "x": [
          3,
          5,
          3,
          5
         ],
         "y": [
          11,
          11,
          9,
          9
         ]
        },
        {
         "fill": "toself",
         "fillcolor": "#78DAF0",
         "hoverinfo": "none",
         "legendgroup": "S_Z",
         "line": {
          "color": "#128AA5",
          "width": 2
         },
         "name": "S_Z",
         "showlegend": false,
         "type": "scatter",
         "x": [
          5,
          7,
          7,
          5,
          5
         ],
         "y": [
          9,
          9,
          11,
          11,
          9
         ]
        },
        {
         "marker": {
          "color": "#474645",
          "size": 8
         },
         "mode": "markers",
         "name": "data",
         "showlegend": false,
         "type": "scatter",
         "x": [
          5,
          7,
          5,
          7
         ],
         "y": [
          11,
          11,
          9,
          9
         ]
        },
        {
         "fill": "toself",
         "fillcolor": "#E27985",
         "hoverinfo": "none",
         "legendgroup": "S_X",
         "line": {
          "color": "#CE2D40",
          "width": 2
         },
         "name": "S_X",
         "showlegend": false,
         "type": "scatter",
         "x": [
          7,
          9,
          9,
          7,
          7
         ],
         "y": [
          9,
          9,
          11,
          11,
          9
         ]
        },
        {
         "marker": {
          "color": "#474645",
          "size": 8
         },
         "mode": "markers",
         "name": "data",
         "showlegend": false,
         "type": "scatter",
         "x": [
          7,
          9,
          7,
          9
         ],
         "y": [
          11,
          11,
          9,
          9
         ]
        },
        {
         "fill": "toself",
         "fillcolor": "#78DAF0",
         "hoverinfo": "none",
         "legendgroup": "S_Z",
         "line": {
          "color": "#128AA5",
          "width": 2
         },
         "name": "S_Z",
         "showlegend": false,
         "type": "scatter",
         "x": [
          9,
          11,
          11,
          9,
          9
         ],
         "y": [
          5,
          5,
          7,
          7,
          5
         ]
        },
        {
         "marker": {
          "color": "#474645",
          "size": 8
         },
         "mode": "markers",
         "name": "data",
         "showlegend": false,
         "type": "scatter",
         "x": [
          9,
          11,
          9,
          11
         ],
         "y": [
          7,
          7,
          5,
          5
         ]
        },
        {
         "fill": "toself",
         "fillcolor": "#E27985",
         "hoverinfo": "none",
         "legendgroup": "S_X",
         "line": {
          "color": "#CE2D40",
          "width": 2
         },
         "name": "S_X",
         "showlegend": false,
         "type": "scatter",
         "x": [
          9,
          11,
          11,
          9,
          9
         ],
         "y": [
          7,
          7,
          9,
          9,
          7
         ]
        },
        {
         "marker": {
          "color": "#474645",
          "size": 8
         },
         "mode": "markers",
         "name": "data",
         "showlegend": false,
         "type": "scatter",
         "x": [
          9,
          11,
          9,
          11
         ],
         "y": [
          9,
          9,
          7,
          7
         ]
        },
        {
         "fill": "toself",
         "fillcolor": "#78DAF0",
         "hoverinfo": "none",
         "legendgroup": "S_Z",
         "line": {
          "color": "#128AA5",
          "width": 2
         },
         "name": "S_Z",
         "showlegend": false,
         "type": "scatter",
         "x": [
          9,
          11,
          11,
          9,
          9
         ],
         "y": [
          9,
          9,
          11,
          11,
          9
         ]
        },
        {
         "marker": {
          "color": "#474645",
          "size": 8
         },
         "mode": "markers",
         "name": "data",
         "showlegend": false,
         "type": "scatter",
         "x": [
          9,
          11,
          9,
          11
         ],
         "y": [
          11,
          11,
          9,
          9
         ]
        },
        {
         "fill": "toself",
         "fillcolor": "#E27985",
         "hoverinfo": "none",
         "legendgroup": "S_X",
         "line": {
          "color": "#CE2D40",
          "width": 2
         },
         "name": "S_X",
         "showlegend": false,
         "type": "scatter",
         "x": [
          1,
          3,
          3,
          1,
          1
         ],
         "y": [
          11,
          11,
          13,
          13,
          11
         ]
        },
        {
         "marker": {
          "color": "#474645",
          "size": 8
         },
         "mode": "markers",
         "name": "data",
         "showlegend": false,
         "type": "scatter",
         "x": [
          1,
          3,
          1,
          3
         ],
         "y": [
          13,
          13,
          11,
          11
         ]
        },
        {
         "fill": "toself",
         "fillcolor": "#78DAF0",
         "hoverinfo": "none",
         "legendgroup": "S_Z",
         "line": {
          "color": "#128AA5",
          "width": 2
         },
         "name": "S_Z",
         "showlegend": false,
         "type": "scatter",
         "x": [
          3,
          5,
          5,
          3,
          3
         ],
         "y": [
          11,
          11,
          13,
          13,
          11
         ]
        },
        {
         "marker": {
          "color": "#474645",
          "size": 8
         },
         "mode": "markers",
         "name": "data",
         "showlegend": false,
         "type": "scatter",
         "x": [
          3,
          5,
          3,
          5
         ],
         "y": [
          13,
          13,
          11,
          11
         ]
        },
        {
         "fill": "toself",
         "fillcolor": "#E27985",
         "hoverinfo": "none",
         "legendgroup": "S_X",
         "line": {
          "color": "#CE2D40",
          "width": 2
         },
         "name": "S_X",
         "showlegend": false,
         "type": "scatter",
         "x": [
          5,
          7,
          7,
          5,
          5
         ],
         "y": [
          11,
          11,
          13,
          13,
          11
         ]
        },
        {
         "marker": {
          "color": "#474645",
          "size": 8
         },
         "mode": "markers",
         "name": "data",
         "showlegend": false,
         "type": "scatter",
         "x": [
          5,
          7,
          5,
          7
         ],
         "y": [
          13,
          13,
          11,
          11
         ]
        },
        {
         "fill": "toself",
         "fillcolor": "#78DAF0",
         "hoverinfo": "none",
         "legendgroup": "S_Z",
         "line": {
          "color": "#128AA5",
          "width": 2
         },
         "name": "S_Z",
         "showlegend": false,
         "type": "scatter",
         "x": [
          7,
          9,
          9,
          7,
          7
         ],
         "y": [
          11,
          11,
          13,
          13,
          11
         ]
        },
        {
         "marker": {
          "color": "#474645",
          "size": 8
         },
         "mode": "markers",
         "name": "data",
         "showlegend": false,
         "type": "scatter",
         "x": [
          7,
          9,
          7,
          9
         ],
         "y": [
          13,
          13,
          11,
          11
         ]
        },
        {
         "fill": "toself",
         "fillcolor": "#E27985",
         "hoverinfo": "none",
         "legendgroup": "S_X",
         "line": {
          "color": "#CE2D40",
          "width": 2
         },
         "name": "S_X",
         "showlegend": false,
         "type": "scatter",
         "x": [
          9,
          11,
          11,
          9,
          9
         ],
         "y": [
          11,
          11,
          13,
          13,
          11
         ]
        },
        {
         "marker": {
          "color": "#474645",
          "size": 8
         },
         "mode": "markers",
         "name": "data",
         "showlegend": false,
         "type": "scatter",
         "x": [
          9,
          11,
          9,
          11
         ],
         "y": [
          13,
          13,
          11,
          11
         ]
        },
        {
         "fill": "toself",
         "fillcolor": "#E27985",
         "hoverinfo": "none",
         "legendgroup": "S_X",
         "line": {
          "color": "#CE2D40",
          "width": 2
         },
         "name": "S_X",
         "showlegend": false,
         "type": "scatter",
         "x": [
          11,
          13,
          13,
          11,
          11
         ],
         "y": [
          1,
          1,
          3,
          3,
          1
         ]
        },
        {
         "marker": {
          "color": "#474645",
          "size": 8
         },
         "mode": "markers",
         "name": "data",
         "showlegend": false,
         "type": "scatter",
         "x": [
          11,
          13,
          11,
          13
         ],
         "y": [
          3,
          3,
          1,
          1
         ]
        },
        {
         "fill": "toself",
         "fillcolor": "#78DAF0",
         "hoverinfo": "none",
         "legendgroup": "S_Z",
         "line": {
          "color": "#128AA5",
          "width": 2
         },
         "name": "S_Z",
         "showlegend": false,
         "type": "scatter",
         "x": [
          11,
          13,
          13,
          11,
          11
         ],
         "y": [
          3,
          3,
          5,
          5,
          3
         ]
        },
        {
         "marker": {
          "color": "#474645",
          "size": 8
         },
         "mode": "markers",
         "name": "data",
         "showlegend": false,
         "type": "scatter",
         "x": [
          11,
          13,
          11,
          13
         ],
         "y": [
          5,
          5,
          3,
          3
         ]
        },
        {
         "fill": "toself",
         "fillcolor": "#E27985",
         "hoverinfo": "none",
         "legendgroup": "S_X",
         "line": {
          "color": "#CE2D40",
          "width": 2
         },
         "name": "S_X",
         "showlegend": false,
         "type": "scatter",
         "x": [
          11,
          13,
          13,
          11,
          11
         ],
         "y": [
          5,
          5,
          7,
          7,
          5
         ]
        },
        {
         "marker": {
          "color": "#474645",
          "size": 8
         },
         "mode": "markers",
         "name": "data",
         "showlegend": false,
         "type": "scatter",
         "x": [
          11,
          13,
          11,
          13
         ],
         "y": [
          7,
          7,
          5,
          5
         ]
        },
        {
         "fill": "toself",
         "fillcolor": "#78DAF0",
         "hoverinfo": "none",
         "legendgroup": "S_Z",
         "line": {
          "color": "#128AA5",
          "width": 2
         },
         "name": "S_Z",
         "showlegend": false,
         "type": "scatter",
         "x": [
          11,
          13,
          13,
          11,
          11
         ],
         "y": [
          7,
          7,
          9,
          9,
          7
         ]
        },
        {
         "marker": {
          "color": "#474645",
          "size": 8
         },
         "mode": "markers",
         "name": "data",
         "showlegend": false,
         "type": "scatter",
         "x": [
          11,
          13,
          11,
          13
         ],
         "y": [
          9,
          9,
          7,
          7
         ]
        },
        {
         "fill": "toself",
         "fillcolor": "#E27985",
         "hoverinfo": "none",
         "legendgroup": "S_X",
         "line": {
          "color": "#CE2D40",
          "width": 2
         },
         "name": "S_X",
         "showlegend": false,
         "type": "scatter",
         "x": [
          11,
          13,
          13,
          11,
          11
         ],
         "y": [
          9,
          9,
          11,
          11,
          9
         ]
        },
        {
         "marker": {
          "color": "#474645",
          "size": 8
         },
         "mode": "markers",
         "name": "data",
         "showlegend": false,
         "type": "scatter",
         "x": [
          11,
          13,
          11,
          13
         ],
         "y": [
          11,
          11,
          9,
          9
         ]
        },
        {
         "fill": "toself",
         "fillcolor": "#78DAF0",
         "hoverinfo": "none",
         "legendgroup": "S_Z",
         "line": {
          "color": "#128AA5",
          "width": 2
         },
         "name": "S_Z",
         "showlegend": false,
         "type": "scatter",
         "x": [
          11,
          13,
          13,
          11,
          11
         ],
         "y": [
          11,
          11,
          13,
          13,
          11
         ]
        },
        {
         "marker": {
          "color": "#474645",
          "size": 8
         },
         "mode": "markers",
         "name": "data",
         "showlegend": false,
         "type": "scatter",
         "x": [
          11,
          13,
          11,
          13
         ],
         "y": [
          13,
          13,
          11,
          11
         ]
        },
        {
         "fill": "toself",
         "fillcolor": "#C9A769",
         "hoverinfo": "none",
         "legendgroup": "S_X",
         "line": {
          "color": "#A5803B",
          "width": 2
         },
         "name": "S_X",
         "showlegend": false,
         "type": "scatter",
         "x": [
          1,
          3,
          3,
          1,
          1
         ],
         "y": [
          3,
          3,
          5,
          5,
          3
         ]
        },
        {
         "marker": {
          "color": "#474645",
          "size": 8
         },
         "mode": "markers",
         "name": "data",
         "showlegend": false,
         "type": "scatter",
         "x": [
          1,
          3,
          1,
          3
         ],
         "y": [
          5,
          5,
          3,
          3
         ]
        },
        {
         "fill": "toself",
         "fillcolor": "#B3BFD0",
         "hoverinfo": "none",
         "legendgroup": "S_Z",
         "line": {
          "color": "#5D7598",
          "width": 2
         },
         "name": "S_Z",
         "showlegend": false,
         "type": "scatter",
         "x": [
          5,
          7,
          7,
          5
         ],
         "y": [
          1,
          3,
          1,
          1
         ]
        },
        {
         "marker": {
          "color": "#474645",
          "size": 8
         },
         "mode": "markers",
         "name": "data",
         "showlegend": false,
         "type": "scatter",
         "x": [
          5,
          7,
          7
         ],
         "y": [
          1,
          3,
          1
         ]
        },
        {
         "fill": "toself",
         "fillcolor": "#B3BFD0",
         "hoverinfo": "none",
         "legendgroup": "S_Z",
         "line": {
          "color": "#5D7598",
          "width": 2
         },
         "name": "S_Z",
         "showlegend": false,
         "type": "scatter",
         "x": [
          7,
          9,
          9,
          7
         ],
         "y": [
          9,
          7,
          9,
          9
         ]
        },
        {
         "marker": {
          "color": "#474645",
          "size": 8
         },
         "mode": "markers",
         "name": "data",
         "showlegend": false,
         "type": "scatter",
         "x": [
          7,
          9,
          9
         ],
         "y": [
          9,
          7,
          9
         ]
        },
        {
         "fill": "toself",
         "fillcolor": "#F1BB7E",
         "hoverinfo": "none",
         "legendgroup": "S_X",
         "line": {
          "color": "#DC8118",
          "width": 2
         },
         "name": "S_X",
         "showlegend": false,
         "type": "scatter",
         "x": [
          3,
          3,
          5,
          3
         ],
         "y": [
          5,
          7,
          7,
          5
         ]
        },
        {
         "marker": {
          "color": "#474645",
          "size": 8
         },
         "mode": "markers",
         "name": "data",
         "showlegend": false,
         "type": "scatter",
         "x": [
          3,
          3,
          5
         ],
         "y": [
          5,
          7,
          7
         ]
        },
        {
         "fill": "toself",
         "fillcolor": "#F1BB7E",
         "hoverinfo": "none",
         "legendgroup": "S_X",
         "line": {
          "color": "#DC8118",
          "width": 2
         },
         "name": "S_X",
         "showlegend": false,
         "type": "scatter",
         "x": [
          3,
          3,
          5,
          3
         ],
         "y": [
          3,
          1,
          1,
          3
         ]
        },
        {
         "marker": {
          "color": "#474645",
          "size": 8
         },
         "mode": "markers",
         "name": "data",
         "showlegend": false,
         "type": "scatter",
         "x": [
          3,
          3,
          5
         ],
         "y": [
          3,
          1,
          1
         ]
        },
        {
         "fill": "toself",
         "fillcolor": "#EE8F6D",
         "hoverinfo": "none",
         "legendgroup": "S_X",
         "line": {
          "color": "#E55724",
          "width": 2
         },
         "name": "S_X",
         "showlegend": false,
         "type": "scatter",
         "x": [
          5,
          5,
          7,
          5
         ],
         "y": [
          7,
          9,
          9,
          7
         ]
        },
        {
         "marker": {
          "color": "#474645",
          "size": 8
         },
         "mode": "markers",
         "name": "data",
         "showlegend": false,
         "type": "scatter",
         "x": [
          5,
          5,
          7
         ],
         "y": [
          7,
          9,
          9
         ]
        },
        {
         "fill": "toself",
         "fillcolor": "#EE8F6D",
         "hoverinfo": "none",
         "legendgroup": "S_X",
         "line": {
          "color": "#E55724",
          "width": 2
         },
         "name": "S_X",
         "showlegend": false,
         "type": "scatter",
         "x": [
          7,
          9,
          9,
          7
         ],
         "y": [
          5,
          5,
          7,
          5
         ]
        },
        {
         "marker": {
          "color": "#474645",
          "size": 8
         },
         "mode": "markers",
         "name": "data",
         "showlegend": false,
         "type": "scatter",
         "x": [
          7,
          9,
          9
         ],
         "y": [
          5,
          5,
          7
         ]
        },
        {
         "fill": "toself",
         "fillcolor": "#D49587",
         "hoverinfo": "none",
         "legendgroup": "S_X",
         "line": {
          "color": "#BD5E49",
          "width": 2
         },
         "name": "S_X",
         "showlegend": false,
         "type": "scatter",
         "x": [
          9,
          11,
          11,
          9
         ],
         "y": [
          5,
          3,
          5,
          5
         ]
        },
        {
         "marker": {
          "color": "#474645",
          "size": 8
         },
         "mode": "markers",
         "name": "data",
         "showlegend": false,
         "type": "scatter",
         "x": [
          9,
          11,
          11
         ],
         "y": [
          5,
          3,
          5
         ]
        },
        {
         "fill": "toself",
         "fillcolor": "#D49587",
         "hoverinfo": "none",
         "legendgroup": "S_X",
         "line": {
          "color": "#BD5E49",
          "width": 2
         },
         "name": "S_X",
         "showlegend": false,
         "type": "scatter",
         "x": [
          7,
          7,
          9,
          7
         ],
         "y": [
          3,
          1,
          1,
          3
         ]
        },
        {
         "marker": {
          "color": "#474645",
          "size": 8
         },
         "mode": "markers",
         "name": "data",
         "showlegend": false,
         "type": "scatter",
         "x": [
          7,
          7,
          9
         ],
         "y": [
          3,
          1,
          1
         ]
        },
        {
         "fill": "toself",
         "fillcolor": "#9C97FB",
         "hoverinfo": "none",
         "legendgroup": "S_Z",
         "line": {
          "color": "#564EF9",
          "width": 2
         },
         "name": "S_Z",
         "showlegend": false,
         "type": "scatter",
         "x": [
          9,
          11,
          11,
          9
         ],
         "y": [
          1,
          3,
          1,
          1
         ]
        },
        {
         "marker": {
          "color": "#474645",
          "size": 8
         },
         "mode": "markers",
         "name": "data",
         "showlegend": false,
         "type": "scatter",
         "x": [
          9,
          11,
          11
         ],
         "y": [
          1,
          3,
          1
         ]
        },
        {
         "fill": "toself",
         "fillcolor": "#9C97FB",
         "hoverinfo": "none",
         "legendgroup": "S_Z",
         "line": {
          "color": "#564EF9",
          "width": 2
         },
         "name": "S_Z",
         "showlegend": false,
         "type": "scatter",
         "x": [
          7,
          7,
          9,
          7
         ],
         "y": [
          3,
          5,
          5,
          3
         ]
        },
        {
         "marker": {
          "color": "#474645",
          "size": 8
         },
         "mode": "markers",
         "name": "data",
         "showlegend": false,
         "type": "scatter",
         "x": [
          7,
          7,
          9
         ],
         "y": [
          3,
          5,
          5
         ]
        },
        {
         "fill": "toself",
         "fillcolor": "#E27985",
         "hoverinfo": "none",
         "legendgroup": "S_X",
         "line": {
          "color": "#CE2D40",
          "width": 2
         },
         "name": "S_X",
         "showlegend": false,
         "type": "scatter",
         "x": [
          2,
          1,
          3,
          2
         ],
         "y": [
          0,
          1,
          1,
          0
         ]
        },
        {
         "marker": {
          "color": "#474645",
          "size": 8
         },
         "mode": "markers",
         "name": "data",
         "showlegend": false,
         "type": "scatter",
         "x": [
          1,
          3
         ],
         "y": [
          1,
          1
         ]
        },
        {
         "fill": "toself",
         "fillcolor": "#78DAF0",
         "hoverinfo": "none",
         "legendgroup": "S_Z",
         "line": {
          "color": "#128AA5",
          "width": 2
         },
         "name": "S_Z",
         "showlegend": false,
         "type": "scatter",
         "x": [
          0,
          1,
          1,
          0
         ],
         "y": [
          4,
          5,
          3,
          4
         ]
        },
        {
         "marker": {
          "color": "#474645",
          "size": 8
         },
         "mode": "markers",
         "name": "data",
         "showlegend": false,
         "type": "scatter",
         "x": [
          1,
          1
         ],
         "y": [
          5,
          3
         ]
        },
        {
         "fill": "toself",
         "fillcolor": "#E27985",
         "hoverinfo": "none",
         "legendgroup": "S_X",
         "line": {
          "color": "#CE2D40",
          "width": 2
         },
         "name": "S_X",
         "showlegend": false,
         "type": "scatter",
         "x": [
          6,
          5,
          7,
          6
         ],
         "y": [
          0,
          1,
          1,
          0
         ]
        },
        {
         "marker": {
          "color": "#474645",
          "size": 8
         },
         "mode": "markers",
         "name": "data",
         "showlegend": false,
         "type": "scatter",
         "x": [
          5,
          7
         ],
         "y": [
          1,
          1
         ]
        },
        {
         "fill": "toself",
         "fillcolor": "#78DAF0",
         "hoverinfo": "none",
         "legendgroup": "S_Z",
         "line": {
          "color": "#128AA5",
          "width": 2
         },
         "name": "S_Z",
         "showlegend": false,
         "type": "scatter",
         "x": [
          0,
          1,
          1,
          0
         ],
         "y": [
          8,
          9,
          7,
          8
         ]
        },
        {
         "marker": {
          "color": "#474645",
          "size": 8
         },
         "mode": "markers",
         "name": "data",
         "showlegend": false,
         "type": "scatter",
         "x": [
          1,
          1
         ],
         "y": [
          9,
          7
         ]
        },
        {
         "fill": "toself",
         "fillcolor": "#E27985",
         "hoverinfo": "none",
         "legendgroup": "S_X",
         "line": {
          "color": "#CE2D40",
          "width": 2
         },
         "name": "S_X",
         "showlegend": false,
         "type": "scatter",
         "x": [
          10,
          9,
          11,
          10
         ],
         "y": [
          0,
          1,
          1,
          0
         ]
        },
        {
         "marker": {
          "color": "#474645",
          "size": 8
         },
         "mode": "markers",
         "name": "data",
         "showlegend": false,
         "type": "scatter",
         "x": [
          9,
          11
         ],
         "y": [
          1,
          1
         ]
        },
        {
         "fill": "toself",
         "fillcolor": "#78DAF0",
         "hoverinfo": "none",
         "legendgroup": "S_Z",
         "line": {
          "color": "#128AA5",
          "width": 2
         },
         "name": "S_Z",
         "showlegend": false,
         "type": "scatter",
         "x": [
          0,
          1,
          1,
          0
         ],
         "y": [
          12,
          13,
          11,
          12
         ]
        },
        {
         "marker": {
          "color": "#474645",
          "size": 8
         },
         "mode": "markers",
         "name": "data",
         "showlegend": false,
         "type": "scatter",
         "x": [
          1,
          1
         ],
         "y": [
          13,
          11
         ]
        },
        {
         "fill": "toself",
         "fillcolor": "#E27985",
         "hoverinfo": "none",
         "legendgroup": "S_X",
         "line": {
          "color": "#CE2D40",
          "width": 2
         },
         "name": "S_X",
         "showlegend": false,
         "type": "scatter",
         "x": [
          4,
          3,
          5,
          4
         ],
         "y": [
          14,
          13,
          13,
          14
         ]
        },
        {
         "marker": {
          "color": "#474645",
          "size": 8
         },
         "mode": "markers",
         "name": "data",
         "showlegend": false,
         "type": "scatter",
         "x": [
          3,
          5
         ],
         "y": [
          13,
          13
         ]
        },
        {
         "fill": "toself",
         "fillcolor": "#E27985",
         "hoverinfo": "none",
         "legendgroup": "S_X",
         "line": {
          "color": "#CE2D40",
          "width": 2
         },
         "name": "S_X",
         "showlegend": false,
         "type": "scatter",
         "x": [
          8,
          7,
          9,
          8
         ],
         "y": [
          14,
          13,
          13,
          14
         ]
        },
        {
         "marker": {
          "color": "#474645",
          "size": 8
         },
         "mode": "markers",
         "name": "data",
         "showlegend": false,
         "type": "scatter",
         "x": [
          7,
          9
         ],
         "y": [
          13,
          13
         ]
        },
        {
         "fill": "toself",
         "fillcolor": "#E27985",
         "hoverinfo": "none",
         "legendgroup": "S_X",
         "line": {
          "color": "#CE2D40",
          "width": 2
         },
         "name": "S_X",
         "showlegend": false,
         "type": "scatter",
         "x": [
          12,
          11,
          13,
          12
         ],
         "y": [
          14,
          13,
          13,
          14
         ]
        },
        {
         "marker": {
          "color": "#474645",
          "size": 8
         },
         "mode": "markers",
         "name": "data",
         "showlegend": false,
         "type": "scatter",
         "x": [
          11,
          13
         ],
         "y": [
          13,
          13
         ]
        },
        {
         "fill": "toself",
         "fillcolor": "#78DAF0",
         "hoverinfo": "none",
         "legendgroup": "S_Z",
         "line": {
          "color": "#128AA5",
          "width": 2
         },
         "name": "S_Z",
         "showlegend": false,
         "type": "scatter",
         "x": [
          14,
          13,
          13,
          14
         ],
         "y": [
          2,
          3,
          1,
          2
         ]
        },
        {
         "marker": {
          "color": "#474645",
          "size": 8
         },
         "mode": "markers",
         "name": "data",
         "showlegend": false,
         "type": "scatter",
         "x": [
          13,
          13
         ],
         "y": [
          3,
          1
         ]
        },
        {
         "fill": "toself",
         "fillcolor": "#78DAF0",
         "hoverinfo": "none",
         "legendgroup": "S_Z",
         "line": {
          "color": "#128AA5",
          "width": 2
         },
         "name": "S_Z",
         "showlegend": false,
         "type": "scatter",
         "x": [
          14,
          13,
          13,
          14
         ],
         "y": [
          6,
          7,
          5,
          6
         ]
        },
        {
         "marker": {
          "color": "#474645",
          "size": 8
         },
         "mode": "markers",
         "name": "data",
         "showlegend": false,
         "type": "scatter",
         "x": [
          13,
          13
         ],
         "y": [
          7,
          5
         ]
        },
        {
         "fill": "toself",
         "fillcolor": "#78DAF0",
         "hoverinfo": "none",
         "legendgroup": "S_Z",
         "line": {
          "color": "#128AA5",
          "width": 2
         },
         "name": "S_Z",
         "showlegend": false,
         "type": "scatter",
         "x": [
          14,
          13,
          13,
          14
         ],
         "y": [
          10,
          11,
          9,
          10
         ]
        },
        {
         "marker": {
          "color": "#474645",
          "size": 8
         },
         "mode": "markers",
         "name": "data",
         "showlegend": false,
         "type": "scatter",
         "x": [
          13,
          13
         ],
         "y": [
          11,
          9
         ]
        },
        {
         "fill": "toself",
         "fillcolor": "#B3BFD0",
         "hoverinfo": "none",
         "legendgroup": "S_Z",
         "line": {
          "color": "#5D7598",
          "width": 2
         },
         "name": "S_Z",
         "showlegend": false,
         "type": "scatter",
         "x": [
          6,
          5,
          7,
          6
         ],
         "y": [
          6,
          7,
          5,
          6
         ]
        },
        {
         "marker": {
          "color": "#474645",
          "size": 8
         },
         "mode": "markers",
         "name": "data",
         "showlegend": false,
         "type": "scatter",
         "x": [
          5,
          7
         ],
         "y": [
          7,
          5
         ]
        },
        {
         "fill": "toself",
         "fillcolor": "#B3BFD0",
         "hoverinfo": "none",
         "legendgroup": "S_Z",
         "line": {
          "color": "#5D7598",
          "width": 2
         },
         "name": "S_Z",
         "showlegend": false,
         "type": "scatter",
         "x": [
          2,
          3,
          3,
          2
         ],
         "y": [
          4,
          5,
          3,
          4
         ]
        },
        {
         "marker": {
          "color": "#474645",
          "size": 8
         },
         "mode": "markers",
         "name": "data",
         "showlegend": false,
         "type": "scatter",
         "x": [
          3,
          3
         ],
         "y": [
          5,
          3
         ]
        },
        {
         "fill": "toself",
         "fillcolor": "#F1BB7E",
         "hoverinfo": "none",
         "legendgroup": "S_X",
         "line": {
          "color": "#DC8118",
          "width": 2
         },
         "name": "S_X",
         "showlegend": false,
         "type": "scatter",
         "x": [
          6,
          7,
          7,
          6
         ],
         "y": [
          4,
          3,
          5,
          4
         ]
        },
        {
         "marker": {
          "color": "#474645",
          "size": 8
         },
         "mode": "markers",
         "name": "data",
         "showlegend": false,
         "type": "scatter",
         "x": [
          7,
          7
         ],
         "y": [
          3,
          5
         ]
        },
        {
         "hoverlabel": {
          "namelength": -1
         },
         "marker": {
          "color": "#787776",
          "size": 10
         },
         "mode": "markers",
         "name": "Ancilla XX",
         "showlegend": false,
         "type": "scatter",
         "x": [
          2
         ],
         "y": [
          0
         ]
        },
        {
         "hoverlabel": {
          "namelength": -1
         },
         "marker": {
          "color": "#787776",
          "size": 10
         },
         "mode": "markers",
         "name": "Ancilla ZZZZ",
         "showlegend": false,
         "type": "scatter",
         "x": [
          2
         ],
         "y": [
          2
         ]
        },
        {
         "hoverlabel": {
          "namelength": -1
         },
         "marker": {
          "color": "#787776",
          "size": 10
         },
         "mode": "markers",
         "name": "Ancilla ZZ",
         "showlegend": false,
         "type": "scatter",
         "x": [
          0
         ],
         "y": [
          4
         ]
        },
        {
         "hoverlabel": {
          "namelength": -1
         },
         "marker": {
          "color": "#787776",
          "size": 10
         },
         "mode": "markers",
         "name": "Ancilla ZZZZ",
         "showlegend": false,
         "type": "scatter",
         "x": [
          2
         ],
         "y": [
          6
         ]
        },
        {
         "hoverlabel": {
          "namelength": -1
         },
         "marker": {
          "color": "#787776",
          "size": 10
         },
         "mode": "markers",
         "name": "Ancilla XX",
         "showlegend": false,
         "type": "scatter",
         "x": [
          6
         ],
         "y": [
          0
         ]
        },
        {
         "hoverlabel": {
          "namelength": -1
         },
         "marker": {
          "color": "#787776",
          "size": 10
         },
         "mode": "markers",
         "name": "Ancilla ZZ",
         "showlegend": false,
         "type": "scatter",
         "x": [
          0
         ],
         "y": [
          8
         ]
        },
        {
         "hoverlabel": {
          "namelength": -1
         },
         "marker": {
          "color": "#787776",
          "size": 10
         },
         "mode": "markers",
         "name": "Ancilla XXXX",
         "showlegend": false,
         "type": "scatter",
         "x": [
          2
         ],
         "y": [
          8
         ]
        },
        {
         "hoverlabel": {
          "namelength": -1
         },
         "marker": {
          "color": "#787776",
          "size": 10
         },
         "mode": "markers",
         "name": "Ancilla ZZZZ",
         "showlegend": false,
         "type": "scatter",
         "x": [
          4
         ],
         "y": [
          8
         ]
        },
        {
         "hoverlabel": {
          "namelength": -1
         },
         "marker": {
          "color": "#787776",
          "size": 10
         },
         "mode": "markers",
         "name": "Ancilla ZZZZ",
         "showlegend": false,
         "type": "scatter",
         "x": [
          2
         ],
         "y": [
          10
         ]
        },
        {
         "hoverlabel": {
          "namelength": -1
         },
         "marker": {
          "color": "#787776",
          "size": 10
         },
         "mode": "markers",
         "name": "Ancilla XXXX",
         "showlegend": false,
         "type": "scatter",
         "x": [
          4
         ],
         "y": [
          10
         ]
        },
        {
         "hoverlabel": {
          "namelength": -1
         },
         "marker": {
          "color": "#787776",
          "size": 10
         },
         "mode": "markers",
         "name": "Ancilla ZZZZ",
         "showlegend": false,
         "type": "scatter",
         "x": [
          6
         ],
         "y": [
          10
         ]
        },
        {
         "hoverlabel": {
          "namelength": -1
         },
         "marker": {
          "color": "#787776",
          "size": 10
         },
         "mode": "markers",
         "name": "Ancilla XXXX",
         "showlegend": false,
         "type": "scatter",
         "x": [
          8
         ],
         "y": [
          10
         ]
        },
        {
         "hoverlabel": {
          "namelength": -1
         },
         "marker": {
          "color": "#787776",
          "size": 10
         },
         "mode": "markers",
         "name": "Ancilla XX",
         "showlegend": false,
         "type": "scatter",
         "x": [
          10
         ],
         "y": [
          0
         ]
        },
        {
         "hoverlabel": {
          "namelength": -1
         },
         "marker": {
          "color": "#787776",
          "size": 10
         },
         "mode": "markers",
         "name": "Ancilla ZZZZ",
         "showlegend": false,
         "type": "scatter",
         "x": [
          10
         ],
         "y": [
          6
         ]
        },
        {
         "hoverlabel": {
          "namelength": -1
         },
         "marker": {
          "color": "#787776",
          "size": 10
         },
         "mode": "markers",
         "name": "Ancilla XXXX",
         "showlegend": false,
         "type": "scatter",
         "x": [
          10
         ],
         "y": [
          8
         ]
        },
        {
         "hoverlabel": {
          "namelength": -1
         },
         "marker": {
          "color": "#787776",
          "size": 10
         },
         "mode": "markers",
         "name": "Ancilla ZZZZ",
         "showlegend": false,
         "type": "scatter",
         "x": [
          10
         ],
         "y": [
          10
         ]
        },
        {
         "hoverlabel": {
          "namelength": -1
         },
         "marker": {
          "color": "#787776",
          "size": 10
         },
         "mode": "markers",
         "name": "Ancilla ZZ",
         "showlegend": false,
         "type": "scatter",
         "x": [
          0
         ],
         "y": [
          12
         ]
        },
        {
         "hoverlabel": {
          "namelength": -1
         },
         "marker": {
          "color": "#787776",
          "size": 10
         },
         "mode": "markers",
         "name": "Ancilla XXXX",
         "showlegend": false,
         "type": "scatter",
         "x": [
          2
         ],
         "y": [
          12
         ]
        },
        {
         "hoverlabel": {
          "namelength": -1
         },
         "marker": {
          "color": "#787776",
          "size": 10
         },
         "mode": "markers",
         "name": "Ancilla ZZZZ",
         "showlegend": false,
         "type": "scatter",
         "x": [
          4
         ],
         "y": [
          12
         ]
        },
        {
         "hoverlabel": {
          "namelength": -1
         },
         "marker": {
          "color": "#787776",
          "size": 10
         },
         "mode": "markers",
         "name": "Ancilla XXXX",
         "showlegend": false,
         "type": "scatter",
         "x": [
          6
         ],
         "y": [
          12
         ]
        },
        {
         "hoverlabel": {
          "namelength": -1
         },
         "marker": {
          "color": "#787776",
          "size": 10
         },
         "mode": "markers",
         "name": "Ancilla ZZZZ",
         "showlegend": false,
         "type": "scatter",
         "x": [
          8
         ],
         "y": [
          12
         ]
        },
        {
         "hoverlabel": {
          "namelength": -1
         },
         "marker": {
          "color": "#787776",
          "size": 10
         },
         "mode": "markers",
         "name": "Ancilla XXXX",
         "showlegend": false,
         "type": "scatter",
         "x": [
          10
         ],
         "y": [
          12
         ]
        },
        {
         "hoverlabel": {
          "namelength": -1
         },
         "marker": {
          "color": "#787776",
          "size": 10
         },
         "mode": "markers",
         "name": "Ancilla XXXX",
         "showlegend": false,
         "type": "scatter",
         "x": [
          12
         ],
         "y": [
          2
         ]
        },
        {
         "hoverlabel": {
          "namelength": -1
         },
         "marker": {
          "color": "#787776",
          "size": 10
         },
         "mode": "markers",
         "name": "Ancilla ZZZZ",
         "showlegend": false,
         "type": "scatter",
         "x": [
          12
         ],
         "y": [
          4
         ]
        },
        {
         "hoverlabel": {
          "namelength": -1
         },
         "marker": {
          "color": "#787776",
          "size": 10
         },
         "mode": "markers",
         "name": "Ancilla XXXX",
         "showlegend": false,
         "type": "scatter",
         "x": [
          12
         ],
         "y": [
          6
         ]
        },
        {
         "hoverlabel": {
          "namelength": -1
         },
         "marker": {
          "color": "#787776",
          "size": 10
         },
         "mode": "markers",
         "name": "Ancilla ZZZZ",
         "showlegend": false,
         "type": "scatter",
         "x": [
          12
         ],
         "y": [
          8
         ]
        },
        {
         "hoverlabel": {
          "namelength": -1
         },
         "marker": {
          "color": "#787776",
          "size": 10
         },
         "mode": "markers",
         "name": "Ancilla XXXX",
         "showlegend": false,
         "type": "scatter",
         "x": [
          12
         ],
         "y": [
          10
         ]
        },
        {
         "hoverlabel": {
          "namelength": -1
         },
         "marker": {
          "color": "#787776",
          "size": 10
         },
         "mode": "markers",
         "name": "Ancilla ZZZZ",
         "showlegend": false,
         "type": "scatter",
         "x": [
          12
         ],
         "y": [
          12
         ]
        },
        {
         "hoverlabel": {
          "namelength": -1
         },
         "marker": {
          "color": "#787776",
          "size": 10
         },
         "mode": "markers",
         "name": "Ancilla XX",
         "showlegend": false,
         "type": "scatter",
         "x": [
          4
         ],
         "y": [
          14
         ]
        },
        {
         "hoverlabel": {
          "namelength": -1
         },
         "marker": {
          "color": "#787776",
          "size": 10
         },
         "mode": "markers",
         "name": "Ancilla XX",
         "showlegend": false,
         "type": "scatter",
         "x": [
          8
         ],
         "y": [
          14
         ]
        },
        {
         "hoverlabel": {
          "namelength": -1
         },
         "marker": {
          "color": "#787776",
          "size": 10
         },
         "mode": "markers",
         "name": "Ancilla XX",
         "showlegend": false,
         "type": "scatter",
         "x": [
          12
         ],
         "y": [
          14
         ]
        },
        {
         "hoverlabel": {
          "namelength": -1
         },
         "marker": {
          "color": "#787776",
          "size": 10
         },
         "mode": "markers",
         "name": "Ancilla ZZ",
         "showlegend": false,
         "type": "scatter",
         "x": [
          14
         ],
         "y": [
          2
         ]
        },
        {
         "hoverlabel": {
          "namelength": -1
         },
         "marker": {
          "color": "#787776",
          "size": 10
         },
         "mode": "markers",
         "name": "Ancilla ZZ",
         "showlegend": false,
         "type": "scatter",
         "x": [
          14
         ],
         "y": [
          6
         ]
        },
        {
         "hoverlabel": {
          "namelength": -1
         },
         "marker": {
          "color": "#787776",
          "size": 10
         },
         "mode": "markers",
         "name": "Ancilla ZZ",
         "showlegend": false,
         "type": "scatter",
         "x": [
          14
         ],
         "y": [
          10
         ]
        },
        {
         "hoverlabel": {
          "namelength": -1
         },
         "marker": {
          "color": "#787776",
          "size": 10
         },
         "mode": "markers",
         "name": "Ancilla XXXX,ZZ",
         "showlegend": false,
         "type": "scatter",
         "x": [
          2
         ],
         "y": [
          4
         ]
        },
        {
         "hoverlabel": {
          "namelength": -1
         },
         "marker": {
          "color": "#787776",
          "size": 10
         },
         "mode": "markers",
         "name": "Ancilla ZZZ",
         "showlegend": false,
         "type": "scatter",
         "x": [
          6
         ],
         "y": [
          2
         ]
        },
        {
         "hoverlabel": {
          "namelength": -1
         },
         "marker": {
          "color": "#787776",
          "size": 10
         },
         "mode": "markers",
         "name": "Ancilla ZZ",
         "showlegend": false,
         "type": "scatter",
         "x": [
          6
         ],
         "y": [
          6
         ]
        },
        {
         "hoverlabel": {
          "namelength": -1
         },
         "marker": {
          "color": "#787776",
          "size": 10
         },
         "mode": "markers",
         "name": "Ancilla ZZZ",
         "showlegend": false,
         "type": "scatter",
         "x": [
          8
         ],
         "y": [
          8
         ]
        },
        {
         "hoverlabel": {
          "namelength": -1
         },
         "marker": {
          "color": "#787776",
          "size": 10
         },
         "mode": "markers",
         "name": "Ancilla XXX",
         "showlegend": false,
         "type": "scatter",
         "x": [
          4
         ],
         "y": [
          6
         ]
        },
        {
         "hoverlabel": {
          "namelength": -1
         },
         "marker": {
          "color": "#787776",
          "size": 10
         },
         "mode": "markers",
         "name": "Ancilla XX",
         "showlegend": false,
         "type": "scatter",
         "x": [
          6
         ],
         "y": [
          4
         ]
        },
        {
         "hoverlabel": {
          "namelength": -1
         },
         "marker": {
          "color": "#787776",
          "size": 10
         },
         "mode": "markers",
         "name": "Ancilla XXX",
         "showlegend": false,
         "type": "scatter",
         "x": [
          4
         ],
         "y": [
          2
         ]
        },
        {
         "hoverlabel": {
          "namelength": -1
         },
         "marker": {
          "color": "#787776",
          "size": 10
         },
         "mode": "markers",
         "name": "Ancilla XXX",
         "showlegend": false,
         "type": "scatter",
         "x": [
          6
         ],
         "y": [
          8
         ]
        },
        {
         "hoverlabel": {
          "namelength": -1
         },
         "marker": {
          "color": "#787776",
          "size": 10
         },
         "mode": "markers",
         "name": "Ancilla XXX",
         "showlegend": false,
         "type": "scatter",
         "x": [
          8
         ],
         "y": [
          6
         ]
        },
        {
         "hoverlabel": {
          "namelength": -1
         },
         "marker": {
          "color": "#787776",
          "size": 10
         },
         "mode": "markers",
         "name": "Ancilla XXX",
         "showlegend": false,
         "type": "scatter",
         "x": [
          10
         ],
         "y": [
          4
         ]
        },
        {
         "hoverlabel": {
          "namelength": -1
         },
         "marker": {
          "color": "#787776",
          "size": 10
         },
         "mode": "markers",
         "name": "Ancilla XXX",
         "showlegend": false,
         "type": "scatter",
         "x": [
          8
         ],
         "y": [
          2
         ]
        },
        {
         "hoverlabel": {
          "namelength": -1
         },
         "marker": {
          "color": "#787776",
          "size": 10
         },
         "mode": "markers",
         "name": "Ancilla ZZZ",
         "showlegend": false,
         "type": "scatter",
         "x": [
          10
         ],
         "y": [
          2
         ]
        },
        {
         "hoverlabel": {
          "namelength": -1
         },
         "marker": {
          "color": "#787776",
          "size": 10
         },
         "mode": "markers",
         "name": "Ancilla ZZZ",
         "showlegend": false,
         "type": "scatter",
         "x": [
          8
         ],
         "y": [
          4
         ]
        },
        {
         "legendgroup": "X_L",
         "line": {
          "color": "#CE2D40",
          "width": 4
         },
         "name": "X_L",
         "showlegend": false,
         "type": "scatter",
         "x": [
          1,
          1,
          1,
          1,
          1,
          1,
          1
         ],
         "y": [
          13,
          11,
          9,
          7,
          5,
          3,
          1
         ]
        },
        {
         "legendgroup": "Z_L",
         "line": {
          "color": "#128AA5",
          "width": 4
         },
         "name": "Z_L",
         "showlegend": false,
         "type": "scatter",
         "x": [
          1,
          3,
          5,
          7,
          9,
          11,
          13
         ],
         "y": [
          1,
          1,
          1,
          1,
          1,
          1,
          1
         ]
        },
        {
         "legendgroup": "X_L",
         "line": {
          "color": "#CE2D40",
          "width": 4
         },
         "name": "X_L",
         "showlegend": true,
         "type": "scatter",
         "x": [
          13,
          13,
          13,
          13,
          13,
          13,
          13
         ],
         "y": [
          1,
          3,
          5,
          7,
          9,
          11,
          13
         ]
        },
        {
         "legendgroup": "Z_L",
         "line": {
          "color": "#128AA5",
          "width": 4
         },
         "name": "Z_L",
         "showlegend": true,
         "type": "scatter",
         "x": [
          13,
          11,
          9,
          7,
          5,
          3,
          1
         ],
         "y": [
          13,
          13,
          13,
          13,
          13,
          13,
          13
         ]
        },
        {
         "marker": {
          "color": "red",
          "size": 12,
          "symbol": "x"
         },
         "mode": "markers",
         "name": "qubit defect",
         "showlegend": false,
         "type": "scatter",
         "x": [
          4,
          5,
          9
         ],
         "y": [
          4,
          5,
          3
         ]
        },
        {
         "line": {
          "color": "red",
          "dash": "dot",
          "width": 2
         },
         "mode": "lines",
         "name": "link defect",
         "showlegend": false,
         "type": "scatter",
         "x": [
          6,
          6.5,
          7
         ],
         "y": [
          6,
          6.5,
          7
         ]
        },
        {
         "line": {
          "color": "red",
          "dash": "dot",
          "width": 2
         },
         "mode": "lines",
         "name": "link defect",
         "showlegend": false,
         "type": "scatter",
         "x": [
          6,
          6.5,
          7
         ],
         "y": [
          8,
          7.5,
          7
         ]
        }
       ],
       "layout": {
        "autosize": false,
        "template": {
         "data": {
          "bar": [
           {
            "error_x": {
             "color": "#2a3f5f"
            },
            "error_y": {
             "color": "#2a3f5f"
            },
            "marker": {
             "line": {
              "color": "#E5ECF6",
              "width": 0.5
             },
             "pattern": {
              "fillmode": "overlay",
              "size": 10,
              "solidity": 0.2
             }
            },
            "type": "bar"
           }
          ],
          "barpolar": [
           {
            "marker": {
             "line": {
              "color": "#E5ECF6",
              "width": 0.5
             },
             "pattern": {
              "fillmode": "overlay",
              "size": 10,
              "solidity": 0.2
             }
            },
            "type": "barpolar"
           }
          ],
          "carpet": [
           {
            "aaxis": {
             "endlinecolor": "#2a3f5f",
             "gridcolor": "white",
             "linecolor": "white",
             "minorgridcolor": "white",
             "startlinecolor": "#2a3f5f"
            },
            "baxis": {
             "endlinecolor": "#2a3f5f",
             "gridcolor": "white",
             "linecolor": "white",
             "minorgridcolor": "white",
             "startlinecolor": "#2a3f5f"
            },
            "type": "carpet"
           }
          ],
          "choropleth": [
           {
            "colorbar": {
             "outlinewidth": 0,
             "ticks": ""
            },
            "type": "choropleth"
           }
          ],
          "contour": [
           {
            "colorbar": {
             "outlinewidth": 0,
             "ticks": ""
            },
            "colorscale": [
             [
              0,
              "#0d0887"
             ],
             [
              0.1111111111111111,
              "#46039f"
             ],
             [
              0.2222222222222222,
              "#7201a8"
             ],
             [
              0.3333333333333333,
              "#9c179e"
             ],
             [
              0.4444444444444444,
              "#bd3786"
             ],
             [
              0.5555555555555556,
              "#d8576b"
             ],
             [
              0.6666666666666666,
              "#ed7953"
             ],
             [
              0.7777777777777778,
              "#fb9f3a"
             ],
             [
              0.8888888888888888,
              "#fdca26"
             ],
             [
              1,
              "#f0f921"
             ]
            ],
            "type": "contour"
           }
          ],
          "contourcarpet": [
           {
            "colorbar": {
             "outlinewidth": 0,
             "ticks": ""
            },
            "type": "contourcarpet"
           }
          ],
          "heatmap": [
           {
            "colorbar": {
             "outlinewidth": 0,
             "ticks": ""
            },
            "colorscale": [
             [
              0,
              "#0d0887"
             ],
             [
              0.1111111111111111,
              "#46039f"
             ],
             [
              0.2222222222222222,
              "#7201a8"
             ],
             [
              0.3333333333333333,
              "#9c179e"
             ],
             [
              0.4444444444444444,
              "#bd3786"
             ],
             [
              0.5555555555555556,
              "#d8576b"
             ],
             [
              0.6666666666666666,
              "#ed7953"
             ],
             [
              0.7777777777777778,
              "#fb9f3a"
             ],
             [
              0.8888888888888888,
              "#fdca26"
             ],
             [
              1,
              "#f0f921"
             ]
            ],
            "type": "heatmap"
           }
          ],
          "heatmapgl": [
           {
            "colorbar": {
             "outlinewidth": 0,
             "ticks": ""
            },
            "colorscale": [
             [
              0,
              "#0d0887"
             ],
             [
              0.1111111111111111,
              "#46039f"
             ],
             [
              0.2222222222222222,
              "#7201a8"
             ],
             [
              0.3333333333333333,
              "#9c179e"
             ],
             [
              0.4444444444444444,
              "#bd3786"
             ],
             [
              0.5555555555555556,
              "#d8576b"
             ],
             [
              0.6666666666666666,
              "#ed7953"
             ],
             [
              0.7777777777777778,
              "#fb9f3a"
             ],
             [
              0.8888888888888888,
              "#fdca26"
             ],
             [
              1,
              "#f0f921"
             ]
            ],
            "type": "heatmapgl"
           }
          ],
          "histogram": [
           {
            "marker": {
             "pattern": {
              "fillmode": "overlay",
              "size": 10,
              "solidity": 0.2
             }
            },
            "type": "histogram"
           }
          ],
          "histogram2d": [
           {
            "colorbar": {
             "outlinewidth": 0,
             "ticks": ""
            },
            "colorscale": [
             [
              0,
              "#0d0887"
             ],
             [
              0.1111111111111111,
              "#46039f"
             ],
             [
              0.2222222222222222,
              "#7201a8"
             ],
             [
              0.3333333333333333,
              "#9c179e"
             ],
             [
              0.4444444444444444,
              "#bd3786"
             ],
             [
              0.5555555555555556,
              "#d8576b"
             ],
             [
              0.6666666666666666,
              "#ed7953"
             ],
             [
              0.7777777777777778,
              "#fb9f3a"
             ],
             [
              0.8888888888888888,
              "#fdca26"
             ],
             [
              1,
              "#f0f921"
             ]
            ],
            "type": "histogram2d"
           }
          ],
          "histogram2dcontour": [
           {
            "colorbar": {
             "outlinewidth": 0,
             "ticks": ""
            },
            "colorscale": [
             [
              0,
              "#0d0887"
             ],
             [
              0.1111111111111111,
              "#46039f"
             ],
             [
              0.2222222222222222,
              "#7201a8"
             ],
             [
              0.3333333333333333,
              "#9c179e"
             ],
             [
              0.4444444444444444,
              "#bd3786"
             ],
             [
              0.5555555555555556,
              "#d8576b"
             ],
             [
              0.6666666666666666,
              "#ed7953"
             ],
             [
              0.7777777777777778,
              "#fb9f3a"
             ],
             [
              0.8888888888888888,
              "#fdca26"
             ],
             [
              1,
              "#f0f921"
             ]
            ],
            "type": "histogram2dcontour"
           }
          ],
          "mesh3d": [
           {
            "colorbar": {
             "outlinewidth": 0,
             "ticks": ""
            },
            "type": "mesh3d"
           }
          ],
          "parcoords": [
           {
            "line": {
             "colorbar": {
              "outlinewidth": 0,
              "ticks": ""
             }
            },
            "type": "parcoords"
           }
          ],
          "pie": [
           {
            "automargin": true,
            "type": "pie"
           }
          ],
          "scatter": [
           {
            "fillpattern": {
             "fillmode": "overlay",
             "size": 10,
             "solidity": 0.2
            },
            "type": "scatter"
           }
          ],
          "scatter3d": [
           {
            "line": {
             "colorbar": {
              "outlinewidth": 0,
              "ticks": ""
             }
            },
            "marker": {
             "colorbar": {
              "outlinewidth": 0,
              "ticks": ""
             }
            },
            "type": "scatter3d"
           }
          ],
          "scattercarpet": [
           {
            "marker": {
             "colorbar": {
              "outlinewidth": 0,
              "ticks": ""
             }
            },
            "type": "scattercarpet"
           }
          ],
          "scattergeo": [
           {
            "marker": {
             "colorbar": {
              "outlinewidth": 0,
              "ticks": ""
             }
            },
            "type": "scattergeo"
           }
          ],
          "scattergl": [
           {
            "marker": {
             "colorbar": {
              "outlinewidth": 0,
              "ticks": ""
             }
            },
            "type": "scattergl"
           }
          ],
          "scattermapbox": [
           {
            "marker": {
             "colorbar": {
              "outlinewidth": 0,
              "ticks": ""
             }
            },
            "type": "scattermapbox"
           }
          ],
          "scatterpolar": [
           {
            "marker": {
             "colorbar": {
              "outlinewidth": 0,
              "ticks": ""
             }
            },
            "type": "scatterpolar"
           }
          ],
          "scatterpolargl": [
           {
            "marker": {
             "colorbar": {
              "outlinewidth": 0,
              "ticks": ""
             }
            },
            "type": "scatterpolargl"
           }
          ],
          "scatterternary": [
           {
            "marker": {
             "colorbar": {
              "outlinewidth": 0,
              "ticks": ""
             }
            },
            "type": "scatterternary"
           }
          ],
          "surface": [
           {
            "colorbar": {
             "outlinewidth": 0,
             "ticks": ""
            },
            "colorscale": [
             [
              0,
              "#0d0887"
             ],
             [
              0.1111111111111111,
              "#46039f"
             ],
             [
              0.2222222222222222,
              "#7201a8"
             ],
             [
              0.3333333333333333,
              "#9c179e"
             ],
             [
              0.4444444444444444,
              "#bd3786"
             ],
             [
              0.5555555555555556,
              "#d8576b"
             ],
             [
              0.6666666666666666,
              "#ed7953"
             ],
             [
              0.7777777777777778,
              "#fb9f3a"
             ],
             [
              0.8888888888888888,
              "#fdca26"
             ],
             [
              1,
              "#f0f921"
             ]
            ],
            "type": "surface"
           }
          ],
          "table": [
           {
            "cells": {
             "fill": {
              "color": "#EBF0F8"
             },
             "line": {
              "color": "white"
             }
            },
            "header": {
             "fill": {
              "color": "#C8D4E3"
             },
             "line": {
              "color": "white"
             }
            },
            "type": "table"
           }
          ]
         },
         "layout": {
          "annotationdefaults": {
           "arrowcolor": "#2a3f5f",
           "arrowhead": 0,
           "arrowwidth": 1
          },
          "autotypenumbers": "strict",
          "coloraxis": {
           "colorbar": {
            "outlinewidth": 0,
            "ticks": ""
           }
          },
          "colorscale": {
           "diverging": [
            [
             0,
             "#8e0152"
            ],
            [
             0.1,
             "#c51b7d"
            ],
            [
             0.2,
             "#de77ae"
            ],
            [
             0.3,
             "#f1b6da"
            ],
            [
             0.4,
             "#fde0ef"
            ],
            [
             0.5,
             "#f7f7f7"
            ],
            [
             0.6,
             "#e6f5d0"
            ],
            [
             0.7,
             "#b8e186"
            ],
            [
             0.8,
             "#7fbc41"
            ],
            [
             0.9,
             "#4d9221"
            ],
            [
             1,
             "#276419"
            ]
           ],
           "sequential": [
            [
             0,
             "#0d0887"
            ],
            [
             0.1111111111111111,
             "#46039f"
            ],
            [
             0.2222222222222222,
             "#7201a8"
            ],
            [
             0.3333333333333333,
             "#9c179e"
            ],
            [
             0.4444444444444444,
             "#bd3786"
            ],
            [
             0.5555555555555556,
             "#d8576b"
            ],
            [
             0.6666666666666666,
             "#ed7953"
            ],
            [
             0.7777777777777778,
             "#fb9f3a"
            ],
            [
             0.8888888888888888,
             "#fdca26"
            ],
            [
             1,
             "#f0f921"
            ]
           ],
           "sequentialminus": [
            [
             0,
             "#0d0887"
            ],
            [
             0.1111111111111111,
             "#46039f"
            ],
            [
             0.2222222222222222,
             "#7201a8"
            ],
            [
             0.3333333333333333,
             "#9c179e"
            ],
            [
             0.4444444444444444,
             "#bd3786"
            ],
            [
             0.5555555555555556,
             "#d8576b"
            ],
            [
             0.6666666666666666,
             "#ed7953"
            ],
            [
             0.7777777777777778,
             "#fb9f3a"
            ],
            [
             0.8888888888888888,
             "#fdca26"
            ],
            [
             1,
             "#f0f921"
            ]
           ]
          },
          "colorway": [
           "#636efa",
           "#EF553B",
           "#00cc96",
           "#ab63fa",
           "#FFA15A",
           "#19d3f3",
           "#FF6692",
           "#B6E880",
           "#FF97FF",
           "#FECB52"
          ],
          "font": {
           "color": "#2a3f5f"
          },
          "geo": {
           "bgcolor": "white",
           "lakecolor": "white",
           "landcolor": "#E5ECF6",
           "showlakes": true,
           "showland": true,
           "subunitcolor": "white"
          },
          "hoverlabel": {
           "align": "left"
          },
          "hovermode": "closest",
          "mapbox": {
           "style": "light"
          },
          "paper_bgcolor": "white",
          "plot_bgcolor": "#E5ECF6",
          "polar": {
           "angularaxis": {
            "gridcolor": "white",
            "linecolor": "white",
            "ticks": ""
           },
           "bgcolor": "#E5ECF6",
           "radialaxis": {
            "gridcolor": "white",
            "linecolor": "white",
            "ticks": ""
           }
          },
          "scene": {
           "xaxis": {
            "backgroundcolor": "#E5ECF6",
            "gridcolor": "white",
            "gridwidth": 2,
            "linecolor": "white",
            "showbackground": true,
            "ticks": "",
            "zerolinecolor": "white"
           },
           "yaxis": {
            "backgroundcolor": "#E5ECF6",
            "gridcolor": "white",
            "gridwidth": 2,
            "linecolor": "white",
            "showbackground": true,
            "ticks": "",
            "zerolinecolor": "white"
           },
           "zaxis": {
            "backgroundcolor": "#E5ECF6",
            "gridcolor": "white",
            "gridwidth": 2,
            "linecolor": "white",
            "showbackground": true,
            "ticks": "",
            "zerolinecolor": "white"
           }
          },
          "shapedefaults": {
           "line": {
            "color": "#2a3f5f"
           }
          },
          "ternary": {
           "aaxis": {
            "gridcolor": "white",
            "linecolor": "white",
            "ticks": ""
           },
           "baxis": {
            "gridcolor": "white",
            "linecolor": "white",
            "ticks": ""
           },
           "bgcolor": "#E5ECF6",
           "caxis": {
            "gridcolor": "white",
            "linecolor": "white",
            "ticks": ""
           }
          },
          "title": {
           "x": 0.05
          },
          "xaxis": {
           "automargin": true,
           "gridcolor": "white",
           "linecolor": "white",
           "ticks": "",
           "title": {
            "standoff": 15
           },
           "zerolinecolor": "white",
           "zerolinewidth": 2
          },
          "yaxis": {
           "automargin": true,
           "gridcolor": "white",
           "linecolor": "white",
           "ticks": "",
           "title": {
            "standoff": 15
           },
           "zerolinecolor": "white",
           "zerolinewidth": 2
          }
         }
        },
        "width": 800,
        "xaxis": {
         "showgrid": false
        },
        "yaxis": {
         "scaleanchor": "x",
         "showgrid": false
        }
       }
      }
     },
     "metadata": {},
     "output_type": "display_data"
    },
    {
     "data": {
      "application/vnd.plotly.v1+json": {
       "config": {
        "plotlyServerURL": "https://plot.ly"
       },
       "data": [
        {
         "marker": {
          "color": "#474645",
          "size": 8
         },
         "mode": "markers",
         "name": "qubit",
         "showlegend": false,
         "type": "scatter",
         "x": [
          1,
          1,
          1,
          1,
          1,
          1,
          1,
          3,
          3,
          3,
          3,
          3,
          3,
          3,
          5,
          5,
          5,
          5,
          5,
          5,
          5,
          7,
          7,
          7,
          7,
          7,
          7,
          7,
          9,
          9,
          9,
          9,
          9,
          9,
          9,
          11,
          11,
          11,
          11,
          11,
          11,
          11,
          13,
          13,
          13,
          13,
          13,
          13,
          13
         ],
         "y": [
          1,
          3,
          5,
          7,
          9,
          11,
          13,
          1,
          3,
          5,
          7,
          9,
          11,
          13,
          1,
          3,
          5,
          7,
          9,
          11,
          13,
          1,
          3,
          5,
          7,
          9,
          11,
          13,
          1,
          3,
          5,
          7,
          9,
          11,
          13,
          1,
          3,
          5,
          7,
          9,
          11,
          13,
          1,
          3,
          5,
          7,
          9,
          11,
          13
         ]
        },
        {
         "marker": {
          "color": "#787776",
          "size": 10
         },
         "mode": "markers",
         "name": "qubit",
         "showlegend": false,
         "type": "scatter",
         "x": [
          0,
          0,
          0,
          0,
          0,
          0,
          0,
          0,
          2,
          2,
          2,
          2,
          2,
          2,
          2,
          2,
          4,
          4,
          4,
          4,
          4,
          4,
          4,
          4,
          6,
          6,
          6,
          6,
          6,
          6,
          6,
          6,
          8,
          8,
          8,
          8,
          8,
          8,
          8,
          8,
          10,
          10,
          10,
          10,
          10,
          10,
          10,
          10,
          12,
          12,
          12,
          12,
          12,
          12,
          12,
          12,
          14,
          14,
          14,
          14,
          14,
          14,
          14,
          14
         ],
         "y": [
          0,
          2,
          4,
          6,
          8,
          10,
          12,
          14,
          0,
          2,
          4,
          6,
          8,
          10,
          12,
          14,
          0,
          2,
          4,
          6,
          8,
          10,
          12,
          14,
          0,
          2,
          4,
          6,
          8,
          10,
          12,
          14,
          0,
          2,
          4,
          6,
          8,
          10,
          12,
          14,
          0,
          2,
          4,
          6,
          8,
          10,
          12,
          14,
          0,
          2,
          4,
          6,
          8,
          10,
          12,
          14,
          0,
          2,
          4,
          6,
          8,
          10,
          12,
          14
         ]
        },
        {
         "fill": "toself",
         "fillcolor": "#78DAF0",
         "hoverinfo": "none",
         "legendgroup": "S_Z",
         "line": {
          "color": "#128AA5",
          "width": 2
         },
         "name": "S_Z",
         "showlegend": true,
         "type": "scatter",
         "x": [
          1,
          3,
          3,
          1,
          1
         ],
         "y": [
          1,
          1,
          3,
          3,
          1
         ]
        },
        {
         "marker": {
          "color": "#474645",
          "size": 8
         },
         "mode": "markers",
         "name": "data",
         "showlegend": false,
         "type": "scatter",
         "x": [
          1,
          3,
          1,
          3
         ],
         "y": [
          3,
          3,
          1,
          1
         ]
        },
        {
         "fill": "toself",
         "fillcolor": "#78DAF0",
         "hoverinfo": "none",
         "legendgroup": "S_Z",
         "line": {
          "color": "#128AA5",
          "width": 2
         },
         "name": "S_Z",
         "showlegend": false,
         "type": "scatter",
         "x": [
          5,
          7,
          7,
          5,
          5
         ],
         "y": [
          1,
          1,
          3,
          3,
          1
         ]
        },
        {
         "marker": {
          "color": "#474645",
          "size": 8
         },
         "mode": "markers",
         "name": "data",
         "showlegend": false,
         "type": "scatter",
         "x": [
          5,
          7,
          5,
          7
         ],
         "y": [
          3,
          3,
          1,
          1
         ]
        },
        {
         "fill": "toself",
         "fillcolor": "#E27985",
         "hoverinfo": "none",
         "legendgroup": "S_X",
         "line": {
          "color": "#CE2D40",
          "width": 2
         },
         "name": "S_X",
         "showlegend": true,
         "type": "scatter",
         "x": [
          1,
          3,
          3,
          1,
          1
         ],
         "y": [
          7,
          7,
          9,
          9,
          7
         ]
        },
        {
         "marker": {
          "color": "#474645",
          "size": 8
         },
         "mode": "markers",
         "name": "data",
         "showlegend": false,
         "type": "scatter",
         "x": [
          1,
          3,
          1,
          3
         ],
         "y": [
          9,
          9,
          7,
          7
         ]
        },
        {
         "fill": "toself",
         "fillcolor": "#78DAF0",
         "hoverinfo": "none",
         "legendgroup": "S_Z",
         "line": {
          "color": "#128AA5",
          "width": 2
         },
         "name": "S_Z",
         "showlegend": false,
         "type": "scatter",
         "x": [
          3,
          5,
          5,
          3,
          3
         ],
         "y": [
          7,
          7,
          9,
          9,
          7
         ]
        },
        {
         "marker": {
          "color": "#474645",
          "size": 8
         },
         "mode": "markers",
         "name": "data",
         "showlegend": false,
         "type": "scatter",
         "x": [
          3,
          5,
          3,
          5
         ],
         "y": [
          9,
          9,
          7,
          7
         ]
        },
        {
         "fill": "toself",
         "fillcolor": "#78DAF0",
         "hoverinfo": "none",
         "legendgroup": "S_Z",
         "line": {
          "color": "#128AA5",
          "width": 2
         },
         "name": "S_Z",
         "showlegend": false,
         "type": "scatter",
         "x": [
          1,
          3,
          3,
          1,
          1
         ],
         "y": [
          9,
          9,
          11,
          11,
          9
         ]
        },
        {
         "marker": {
          "color": "#474645",
          "size": 8
         },
         "mode": "markers",
         "name": "data",
         "showlegend": false,
         "type": "scatter",
         "x": [
          1,
          3,
          1,
          3
         ],
         "y": [
          11,
          11,
          9,
          9
         ]
        },
        {
         "fill": "toself",
         "fillcolor": "#E27985",
         "hoverinfo": "none",
         "legendgroup": "S_X",
         "line": {
          "color": "#CE2D40",
          "width": 2
         },
         "name": "S_X",
         "showlegend": false,
         "type": "scatter",
         "x": [
          3,
          5,
          5,
          3,
          3
         ],
         "y": [
          9,
          9,
          11,
          11,
          9
         ]
        },
        {
         "marker": {
          "color": "#474645",
          "size": 8
         },
         "mode": "markers",
         "name": "data",
         "showlegend": false,
         "type": "scatter",
         "x": [
          3,
          5,
          3,
          5
         ],
         "y": [
          11,
          11,
          9,
          9
         ]
        },
        {
         "fill": "toself",
         "fillcolor": "#78DAF0",
         "hoverinfo": "none",
         "legendgroup": "S_Z",
         "line": {
          "color": "#128AA5",
          "width": 2
         },
         "name": "S_Z",
         "showlegend": false,
         "type": "scatter",
         "x": [
          5,
          7,
          7,
          5,
          5
         ],
         "y": [
          9,
          9,
          11,
          11,
          9
         ]
        },
        {
         "marker": {
          "color": "#474645",
          "size": 8
         },
         "mode": "markers",
         "name": "data",
         "showlegend": false,
         "type": "scatter",
         "x": [
          5,
          7,
          5,
          7
         ],
         "y": [
          11,
          11,
          9,
          9
         ]
        },
        {
         "fill": "toself",
         "fillcolor": "#E27985",
         "hoverinfo": "none",
         "legendgroup": "S_X",
         "line": {
          "color": "#CE2D40",
          "width": 2
         },
         "name": "S_X",
         "showlegend": false,
         "type": "scatter",
         "x": [
          7,
          9,
          9,
          7,
          7
         ],
         "y": [
          9,
          9,
          11,
          11,
          9
         ]
        },
        {
         "marker": {
          "color": "#474645",
          "size": 8
         },
         "mode": "markers",
         "name": "data",
         "showlegend": false,
         "type": "scatter",
         "x": [
          7,
          9,
          7,
          9
         ],
         "y": [
          11,
          11,
          9,
          9
         ]
        },
        {
         "fill": "toself",
         "fillcolor": "#78DAF0",
         "hoverinfo": "none",
         "legendgroup": "S_Z",
         "line": {
          "color": "#128AA5",
          "width": 2
         },
         "name": "S_Z",
         "showlegend": false,
         "type": "scatter",
         "x": [
          9,
          11,
          11,
          9,
          9
         ],
         "y": [
          5,
          5,
          7,
          7,
          5
         ]
        },
        {
         "marker": {
          "color": "#474645",
          "size": 8
         },
         "mode": "markers",
         "name": "data",
         "showlegend": false,
         "type": "scatter",
         "x": [
          9,
          11,
          9,
          11
         ],
         "y": [
          7,
          7,
          5,
          5
         ]
        },
        {
         "fill": "toself",
         "fillcolor": "#E27985",
         "hoverinfo": "none",
         "legendgroup": "S_X",
         "line": {
          "color": "#CE2D40",
          "width": 2
         },
         "name": "S_X",
         "showlegend": false,
         "type": "scatter",
         "x": [
          9,
          11,
          11,
          9,
          9
         ],
         "y": [
          7,
          7,
          9,
          9,
          7
         ]
        },
        {
         "marker": {
          "color": "#474645",
          "size": 8
         },
         "mode": "markers",
         "name": "data",
         "showlegend": false,
         "type": "scatter",
         "x": [
          9,
          11,
          9,
          11
         ],
         "y": [
          9,
          9,
          7,
          7
         ]
        },
        {
         "fill": "toself",
         "fillcolor": "#78DAF0",
         "hoverinfo": "none",
         "legendgroup": "S_Z",
         "line": {
          "color": "#128AA5",
          "width": 2
         },
         "name": "S_Z",
         "showlegend": false,
         "type": "scatter",
         "x": [
          9,
          11,
          11,
          9,
          9
         ],
         "y": [
          9,
          9,
          11,
          11,
          9
         ]
        },
        {
         "marker": {
          "color": "#474645",
          "size": 8
         },
         "mode": "markers",
         "name": "data",
         "showlegend": false,
         "type": "scatter",
         "x": [
          9,
          11,
          9,
          11
         ],
         "y": [
          11,
          11,
          9,
          9
         ]
        },
        {
         "fill": "toself",
         "fillcolor": "#E27985",
         "hoverinfo": "none",
         "legendgroup": "S_X",
         "line": {
          "color": "#CE2D40",
          "width": 2
         },
         "name": "S_X",
         "showlegend": false,
         "type": "scatter",
         "x": [
          1,
          3,
          3,
          1,
          1
         ],
         "y": [
          11,
          11,
          13,
          13,
          11
         ]
        },
        {
         "marker": {
          "color": "#474645",
          "size": 8
         },
         "mode": "markers",
         "name": "data",
         "showlegend": false,
         "type": "scatter",
         "x": [
          1,
          3,
          1,
          3
         ],
         "y": [
          13,
          13,
          11,
          11
         ]
        },
        {
         "fill": "toself",
         "fillcolor": "#78DAF0",
         "hoverinfo": "none",
         "legendgroup": "S_Z",
         "line": {
          "color": "#128AA5",
          "width": 2
         },
         "name": "S_Z",
         "showlegend": false,
         "type": "scatter",
         "x": [
          3,
          5,
          5,
          3,
          3
         ],
         "y": [
          11,
          11,
          13,
          13,
          11
         ]
        },
        {
         "marker": {
          "color": "#474645",
          "size": 8
         },
         "mode": "markers",
         "name": "data",
         "showlegend": false,
         "type": "scatter",
         "x": [
          3,
          5,
          3,
          5
         ],
         "y": [
          13,
          13,
          11,
          11
         ]
        },
        {
         "fill": "toself",
         "fillcolor": "#E27985",
         "hoverinfo": "none",
         "legendgroup": "S_X",
         "line": {
          "color": "#CE2D40",
          "width": 2
         },
         "name": "S_X",
         "showlegend": false,
         "type": "scatter",
         "x": [
          5,
          7,
          7,
          5,
          5
         ],
         "y": [
          11,
          11,
          13,
          13,
          11
         ]
        },
        {
         "marker": {
          "color": "#474645",
          "size": 8
         },
         "mode": "markers",
         "name": "data",
         "showlegend": false,
         "type": "scatter",
         "x": [
          5,
          7,
          5,
          7
         ],
         "y": [
          13,
          13,
          11,
          11
         ]
        },
        {
         "fill": "toself",
         "fillcolor": "#78DAF0",
         "hoverinfo": "none",
         "legendgroup": "S_Z",
         "line": {
          "color": "#128AA5",
          "width": 2
         },
         "name": "S_Z",
         "showlegend": false,
         "type": "scatter",
         "x": [
          7,
          9,
          9,
          7,
          7
         ],
         "y": [
          11,
          11,
          13,
          13,
          11
         ]
        },
        {
         "marker": {
          "color": "#474645",
          "size": 8
         },
         "mode": "markers",
         "name": "data",
         "showlegend": false,
         "type": "scatter",
         "x": [
          7,
          9,
          7,
          9
         ],
         "y": [
          13,
          13,
          11,
          11
         ]
        },
        {
         "fill": "toself",
         "fillcolor": "#E27985",
         "hoverinfo": "none",
         "legendgroup": "S_X",
         "line": {
          "color": "#CE2D40",
          "width": 2
         },
         "name": "S_X",
         "showlegend": false,
         "type": "scatter",
         "x": [
          9,
          11,
          11,
          9,
          9
         ],
         "y": [
          11,
          11,
          13,
          13,
          11
         ]
        },
        {
         "marker": {
          "color": "#474645",
          "size": 8
         },
         "mode": "markers",
         "name": "data",
         "showlegend": false,
         "type": "scatter",
         "x": [
          9,
          11,
          9,
          11
         ],
         "y": [
          13,
          13,
          11,
          11
         ]
        },
        {
         "fill": "toself",
         "fillcolor": "#E27985",
         "hoverinfo": "none",
         "legendgroup": "S_X",
         "line": {
          "color": "#CE2D40",
          "width": 2
         },
         "name": "S_X",
         "showlegend": false,
         "type": "scatter",
         "x": [
          11,
          13,
          13,
          11,
          11
         ],
         "y": [
          1,
          1,
          3,
          3,
          1
         ]
        },
        {
         "marker": {
          "color": "#474645",
          "size": 8
         },
         "mode": "markers",
         "name": "data",
         "showlegend": false,
         "type": "scatter",
         "x": [
          11,
          13,
          11,
          13
         ],
         "y": [
          3,
          3,
          1,
          1
         ]
        },
        {
         "fill": "toself",
         "fillcolor": "#78DAF0",
         "hoverinfo": "none",
         "legendgroup": "S_Z",
         "line": {
          "color": "#128AA5",
          "width": 2
         },
         "name": "S_Z",
         "showlegend": false,
         "type": "scatter",
         "x": [
          11,
          13,
          13,
          11,
          11
         ],
         "y": [
          3,
          3,
          5,
          5,
          3
         ]
        },
        {
         "marker": {
          "color": "#474645",
          "size": 8
         },
         "mode": "markers",
         "name": "data",
         "showlegend": false,
         "type": "scatter",
         "x": [
          11,
          13,
          11,
          13
         ],
         "y": [
          5,
          5,
          3,
          3
         ]
        },
        {
         "fill": "toself",
         "fillcolor": "#E27985",
         "hoverinfo": "none",
         "legendgroup": "S_X",
         "line": {
          "color": "#CE2D40",
          "width": 2
         },
         "name": "S_X",
         "showlegend": false,
         "type": "scatter",
         "x": [
          11,
          13,
          13,
          11,
          11
         ],
         "y": [
          5,
          5,
          7,
          7,
          5
         ]
        },
        {
         "marker": {
          "color": "#474645",
          "size": 8
         },
         "mode": "markers",
         "name": "data",
         "showlegend": false,
         "type": "scatter",
         "x": [
          11,
          13,
          11,
          13
         ],
         "y": [
          7,
          7,
          5,
          5
         ]
        },
        {
         "fill": "toself",
         "fillcolor": "#78DAF0",
         "hoverinfo": "none",
         "legendgroup": "S_Z",
         "line": {
          "color": "#128AA5",
          "width": 2
         },
         "name": "S_Z",
         "showlegend": false,
         "type": "scatter",
         "x": [
          11,
          13,
          13,
          11,
          11
         ],
         "y": [
          7,
          7,
          9,
          9,
          7
         ]
        },
        {
         "marker": {
          "color": "#474645",
          "size": 8
         },
         "mode": "markers",
         "name": "data",
         "showlegend": false,
         "type": "scatter",
         "x": [
          11,
          13,
          11,
          13
         ],
         "y": [
          9,
          9,
          7,
          7
         ]
        },
        {
         "fill": "toself",
         "fillcolor": "#E27985",
         "hoverinfo": "none",
         "legendgroup": "S_X",
         "line": {
          "color": "#CE2D40",
          "width": 2
         },
         "name": "S_X",
         "showlegend": false,
         "type": "scatter",
         "x": [
          11,
          13,
          13,
          11,
          11
         ],
         "y": [
          9,
          9,
          11,
          11,
          9
         ]
        },
        {
         "marker": {
          "color": "#474645",
          "size": 8
         },
         "mode": "markers",
         "name": "data",
         "showlegend": false,
         "type": "scatter",
         "x": [
          11,
          13,
          11,
          13
         ],
         "y": [
          11,
          11,
          9,
          9
         ]
        },
        {
         "fill": "toself",
         "fillcolor": "#78DAF0",
         "hoverinfo": "none",
         "legendgroup": "S_Z",
         "line": {
          "color": "#128AA5",
          "width": 2
         },
         "name": "S_Z",
         "showlegend": false,
         "type": "scatter",
         "x": [
          11,
          13,
          13,
          11,
          11
         ],
         "y": [
          11,
          11,
          13,
          13,
          11
         ]
        },
        {
         "marker": {
          "color": "#474645",
          "size": 8
         },
         "mode": "markers",
         "name": "data",
         "showlegend": false,
         "type": "scatter",
         "x": [
          11,
          13,
          11,
          13
         ],
         "y": [
          13,
          13,
          11,
          11
         ]
        },
        {
         "fill": "toself",
         "fillcolor": "#EE8F6D",
         "hoverinfo": "none",
         "legendgroup": "S_X",
         "line": {
          "color": "#E55724",
          "width": 2
         },
         "name": "S_X",
         "showlegend": false,
         "type": "scatter",
         "x": [
          3,
          5,
          5,
          3,
          3
         ],
         "y": [
          1,
          1,
          3,
          3,
          1
         ]
        },
        {
         "marker": {
          "color": "#474645",
          "size": 8
         },
         "mode": "markers",
         "name": "data",
         "showlegend": false,
         "type": "scatter",
         "x": [
          3,
          5,
          3,
          5
         ],
         "y": [
          3,
          3,
          1,
          1
         ]
        },
        {
         "fill": "toself",
         "fillcolor": "#C9A769",
         "hoverinfo": "none",
         "legendgroup": "S_X",
         "line": {
          "color": "#A5803B",
          "width": 2
         },
         "name": "S_X",
         "showlegend": false,
         "type": "scatter",
         "x": [
          5,
          7,
          7,
          5
         ],
         "y": [
          3,
          3,
          5,
          3
         ]
        },
        {
         "marker": {
          "color": "#474645",
          "size": 8
         },
         "mode": "markers",
         "name": "data",
         "showlegend": false,
         "type": "scatter",
         "x": [
          5,
          7,
          7
         ],
         "y": [
          3,
          3,
          5
         ]
        },
        {
         "fill": "toself",
         "fillcolor": "#C9A769",
         "hoverinfo": "none",
         "legendgroup": "S_X",
         "line": {
          "color": "#A5803B",
          "width": 2
         },
         "name": "S_X",
         "showlegend": false,
         "type": "scatter",
         "x": [
          1,
          3,
          1,
          1
         ],
         "y": [
          3,
          3,
          5,
          3
         ]
        },
        {
         "marker": {
          "color": "#474645",
          "size": 8
         },
         "mode": "markers",
         "name": "data",
         "showlegend": false,
         "type": "scatter",
         "x": [
          1,
          3,
          1
         ],
         "y": [
          3,
          3,
          5
         ]
        },
        {
         "fill": "toself",
         "fillcolor": "#7BB5EB",
         "hoverinfo": "none",
         "legendgroup": "S_Z",
         "line": {
          "color": "#207DD5",
          "width": 2
         },
         "name": "S_Z",
         "showlegend": false,
         "type": "scatter",
         "x": [
          1,
          1,
          3,
          1
         ],
         "y": [
          5,
          7,
          7,
          5
         ]
        },
        {
         "marker": {
          "color": "#474645",
          "size": 8
         },
         "mode": "markers",
         "name": "data",
         "showlegend": false,
         "type": "scatter",
         "x": [
          1,
          1,
          3
         ],
         "y": [
          5,
          7,
          7
         ]
        },
        {
         "fill": "toself",
         "fillcolor": "#7BB5EB",
         "hoverinfo": "none",
         "legendgroup": "S_Z",
         "line": {
          "color": "#207DD5",
          "width": 2
         },
         "name": "S_Z",
         "showlegend": false,
         "type": "scatter",
         "x": [
          7,
          9,
          9,
          7
         ],
         "y": [
          9,
          7,
          9,
          9
         ]
        },
        {
         "marker": {
          "color": "#474645",
          "size": 8
         },
         "mode": "markers",
         "name": "data",
         "showlegend": false,
         "type": "scatter",
         "x": [
          7,
          9,
          9
         ],
         "y": [
          9,
          7,
          9
         ]
        },
        {
         "fill": "toself",
         "fillcolor": "#D49587",
         "hoverinfo": "none",
         "legendgroup": "S_X",
         "line": {
          "color": "#BD5E49",
          "width": 2
         },
         "name": "S_X",
         "showlegend": false,
         "type": "scatter",
         "x": [
          5,
          5,
          7,
          5
         ],
         "y": [
          7,
          9,
          9,
          7
         ]
        },
        {
         "marker": {
          "color": "#474645",
          "size": 8
         },
         "mode": "markers",
         "name": "data",
         "showlegend": false,
         "type": "scatter",
         "x": [
          5,
          5,
          7
         ],
         "y": [
          7,
          9,
          9
         ]
        },
        {
         "fill": "toself",
         "fillcolor": "#D49587",
         "hoverinfo": "none",
         "legendgroup": "S_X",
         "line": {
          "color": "#BD5E49",
          "width": 2
         },
         "name": "S_X",
         "showlegend": false,
         "type": "scatter",
         "x": [
          7,
          9,
          9,
          7
         ],
         "y": [
          5,
          5,
          7,
          5
         ]
        },
        {
         "marker": {
          "color": "#474645",
          "size": 8
         },
         "mode": "markers",
         "name": "data",
         "showlegend": false,
         "type": "scatter",
         "x": [
          7,
          9,
          9
         ],
         "y": [
          5,
          5,
          7
         ]
        },
        {
         "fill": "toself",
         "fillcolor": "#F1BB7E",
         "hoverinfo": "none",
         "legendgroup": "S_X",
         "line": {
          "color": "#DC8118",
          "width": 2
         },
         "name": "S_X",
         "showlegend": false,
         "type": "scatter",
         "x": [
          9,
          11,
          11,
          9
         ],
         "y": [
          5,
          3,
          5,
          5
         ]
        },
        {
         "marker": {
          "color": "#474645",
          "size": 8
         },
         "mode": "markers",
         "name": "data",
         "showlegend": false,
         "type": "scatter",
         "x": [
          9,
          11,
          11
         ],
         "y": [
          5,
          3,
          5
         ]
        },
        {
         "fill": "toself",
         "fillcolor": "#F1BB7E",
         "hoverinfo": "none",
         "legendgroup": "S_X",
         "line": {
          "color": "#DC8118",
          "width": 2
         },
         "name": "S_X",
         "showlegend": false,
         "type": "scatter",
         "x": [
          7,
          7,
          9,
          7
         ],
         "y": [
          3,
          1,
          1,
          3
         ]
        },
        {
         "marker": {
          "color": "#474645",
          "size": 8
         },
         "mode": "markers",
         "name": "data",
         "showlegend": false,
         "type": "scatter",
         "x": [
          7,
          7,
          9
         ],
         "y": [
          3,
          1,
          1
         ]
        },
        {
         "fill": "toself",
         "fillcolor": "#D2AAF0",
         "hoverinfo": "none",
         "legendgroup": "S_Z",
         "line": {
          "color": "#A352E0",
          "width": 2
         },
         "name": "S_Z",
         "showlegend": false,
         "type": "scatter",
         "x": [
          9,
          11,
          11,
          9
         ],
         "y": [
          1,
          3,
          1,
          1
         ]
        },
        {
         "marker": {
          "color": "#474645",
          "size": 8
         },
         "mode": "markers",
         "name": "data",
         "showlegend": false,
         "type": "scatter",
         "x": [
          9,
          11,
          11
         ],
         "y": [
          1,
          3,
          1
         ]
        },
        {
         "fill": "toself",
         "fillcolor": "#D2AAF0",
         "hoverinfo": "none",
         "legendgroup": "S_Z",
         "line": {
          "color": "#A352E0",
          "width": 2
         },
         "name": "S_Z",
         "showlegend": false,
         "type": "scatter",
         "x": [
          7,
          7,
          9,
          7
         ],
         "y": [
          3,
          5,
          5,
          3
         ]
        },
        {
         "marker": {
          "color": "#474645",
          "size": 8
         },
         "mode": "markers",
         "name": "data",
         "showlegend": false,
         "type": "scatter",
         "x": [
          7,
          7,
          9
         ],
         "y": [
          3,
          5,
          5
         ]
        },
        {
         "fill": "toself",
         "fillcolor": "#E27985",
         "hoverinfo": "none",
         "legendgroup": "S_X",
         "line": {
          "color": "#CE2D40",
          "width": 2
         },
         "name": "S_X",
         "showlegend": false,
         "type": "scatter",
         "x": [
          2,
          1,
          3,
          2
         ],
         "y": [
          0,
          1,
          1,
          0
         ]
        },
        {
         "marker": {
          "color": "#474645",
          "size": 8
         },
         "mode": "markers",
         "name": "data",
         "showlegend": false,
         "type": "scatter",
         "x": [
          1,
          3
         ],
         "y": [
          1,
          1
         ]
        },
        {
         "fill": "toself",
         "fillcolor": "#78DAF0",
         "hoverinfo": "none",
         "legendgroup": "S_Z",
         "line": {
          "color": "#128AA5",
          "width": 2
         },
         "name": "S_Z",
         "showlegend": false,
         "type": "scatter",
         "x": [
          0,
          1,
          1,
          0
         ],
         "y": [
          4,
          5,
          3,
          4
         ]
        },
        {
         "marker": {
          "color": "#474645",
          "size": 8
         },
         "mode": "markers",
         "name": "data",
         "showlegend": false,
         "type": "scatter",
         "x": [
          1,
          1
         ],
         "y": [
          5,
          3
         ]
        },
        {
         "fill": "toself",
         "fillcolor": "#E27985",
         "hoverinfo": "none",
         "legendgroup": "S_X",
         "line": {
          "color": "#CE2D40",
          "width": 2
         },
         "name": "S_X",
         "showlegend": false,
         "type": "scatter",
         "x": [
          6,
          5,
          7,
          6
         ],
         "y": [
          0,
          1,
          1,
          0
         ]
        },
        {
         "marker": {
          "color": "#474645",
          "size": 8
         },
         "mode": "markers",
         "name": "data",
         "showlegend": false,
         "type": "scatter",
         "x": [
          5,
          7
         ],
         "y": [
          1,
          1
         ]
        },
        {
         "fill": "toself",
         "fillcolor": "#78DAF0",
         "hoverinfo": "none",
         "legendgroup": "S_Z",
         "line": {
          "color": "#128AA5",
          "width": 2
         },
         "name": "S_Z",
         "showlegend": false,
         "type": "scatter",
         "x": [
          0,
          1,
          1,
          0
         ],
         "y": [
          8,
          9,
          7,
          8
         ]
        },
        {
         "marker": {
          "color": "#474645",
          "size": 8
         },
         "mode": "markers",
         "name": "data",
         "showlegend": false,
         "type": "scatter",
         "x": [
          1,
          1
         ],
         "y": [
          9,
          7
         ]
        },
        {
         "fill": "toself",
         "fillcolor": "#E27985",
         "hoverinfo": "none",
         "legendgroup": "S_X",
         "line": {
          "color": "#CE2D40",
          "width": 2
         },
         "name": "S_X",
         "showlegend": false,
         "type": "scatter",
         "x": [
          10,
          9,
          11,
          10
         ],
         "y": [
          0,
          1,
          1,
          0
         ]
        },
        {
         "marker": {
          "color": "#474645",
          "size": 8
         },
         "mode": "markers",
         "name": "data",
         "showlegend": false,
         "type": "scatter",
         "x": [
          9,
          11
         ],
         "y": [
          1,
          1
         ]
        },
        {
         "fill": "toself",
         "fillcolor": "#78DAF0",
         "hoverinfo": "none",
         "legendgroup": "S_Z",
         "line": {
          "color": "#128AA5",
          "width": 2
         },
         "name": "S_Z",
         "showlegend": false,
         "type": "scatter",
         "x": [
          0,
          1,
          1,
          0
         ],
         "y": [
          12,
          13,
          11,
          12
         ]
        },
        {
         "marker": {
          "color": "#474645",
          "size": 8
         },
         "mode": "markers",
         "name": "data",
         "showlegend": false,
         "type": "scatter",
         "x": [
          1,
          1
         ],
         "y": [
          13,
          11
         ]
        },
        {
         "fill": "toself",
         "fillcolor": "#E27985",
         "hoverinfo": "none",
         "legendgroup": "S_X",
         "line": {
          "color": "#CE2D40",
          "width": 2
         },
         "name": "S_X",
         "showlegend": false,
         "type": "scatter",
         "x": [
          4,
          3,
          5,
          4
         ],
         "y": [
          14,
          13,
          13,
          14
         ]
        },
        {
         "marker": {
          "color": "#474645",
          "size": 8
         },
         "mode": "markers",
         "name": "data",
         "showlegend": false,
         "type": "scatter",
         "x": [
          3,
          5
         ],
         "y": [
          13,
          13
         ]
        },
        {
         "fill": "toself",
         "fillcolor": "#E27985",
         "hoverinfo": "none",
         "legendgroup": "S_X",
         "line": {
          "color": "#CE2D40",
          "width": 2
         },
         "name": "S_X",
         "showlegend": false,
         "type": "scatter",
         "x": [
          8,
          7,
          9,
          8
         ],
         "y": [
          14,
          13,
          13,
          14
         ]
        },
        {
         "marker": {
          "color": "#474645",
          "size": 8
         },
         "mode": "markers",
         "name": "data",
         "showlegend": false,
         "type": "scatter",
         "x": [
          7,
          9
         ],
         "y": [
          13,
          13
         ]
        },
        {
         "fill": "toself",
         "fillcolor": "#E27985",
         "hoverinfo": "none",
         "legendgroup": "S_X",
         "line": {
          "color": "#CE2D40",
          "width": 2
         },
         "name": "S_X",
         "showlegend": false,
         "type": "scatter",
         "x": [
          12,
          11,
          13,
          12
         ],
         "y": [
          14,
          13,
          13,
          14
         ]
        },
        {
         "marker": {
          "color": "#474645",
          "size": 8
         },
         "mode": "markers",
         "name": "data",
         "showlegend": false,
         "type": "scatter",
         "x": [
          11,
          13
         ],
         "y": [
          13,
          13
         ]
        },
        {
         "fill": "toself",
         "fillcolor": "#78DAF0",
         "hoverinfo": "none",
         "legendgroup": "S_Z",
         "line": {
          "color": "#128AA5",
          "width": 2
         },
         "name": "S_Z",
         "showlegend": false,
         "type": "scatter",
         "x": [
          14,
          13,
          13,
          14
         ],
         "y": [
          2,
          3,
          1,
          2
         ]
        },
        {
         "marker": {
          "color": "#474645",
          "size": 8
         },
         "mode": "markers",
         "name": "data",
         "showlegend": false,
         "type": "scatter",
         "x": [
          13,
          13
         ],
         "y": [
          3,
          1
         ]
        },
        {
         "fill": "toself",
         "fillcolor": "#78DAF0",
         "hoverinfo": "none",
         "legendgroup": "S_Z",
         "line": {
          "color": "#128AA5",
          "width": 2
         },
         "name": "S_Z",
         "showlegend": false,
         "type": "scatter",
         "x": [
          14,
          13,
          13,
          14
         ],
         "y": [
          6,
          7,
          5,
          6
         ]
        },
        {
         "marker": {
          "color": "#474645",
          "size": 8
         },
         "mode": "markers",
         "name": "data",
         "showlegend": false,
         "type": "scatter",
         "x": [
          13,
          13
         ],
         "y": [
          7,
          5
         ]
        },
        {
         "fill": "toself",
         "fillcolor": "#78DAF0",
         "hoverinfo": "none",
         "legendgroup": "S_Z",
         "line": {
          "color": "#128AA5",
          "width": 2
         },
         "name": "S_Z",
         "showlegend": false,
         "type": "scatter",
         "x": [
          14,
          13,
          13,
          14
         ],
         "y": [
          10,
          11,
          9,
          10
         ]
        },
        {
         "marker": {
          "color": "#474645",
          "size": 8
         },
         "mode": "markers",
         "name": "data",
         "showlegend": false,
         "type": "scatter",
         "x": [
          13,
          13
         ],
         "y": [
          11,
          9
         ]
        },
        {
         "fill": "toself",
         "fillcolor": "#C9A769",
         "hoverinfo": "none",
         "legendgroup": "S_X",
         "line": {
          "color": "#A5803B",
          "width": 2
         },
         "name": "S_X",
         "showlegend": false,
         "type": "scatter",
         "x": [
          4,
          3,
          5,
          4
         ],
         "y": [
          6,
          7,
          7,
          6
         ]
        },
        {
         "marker": {
          "color": "#474645",
          "size": 8
         },
         "mode": "markers",
         "name": "data",
         "showlegend": false,
         "type": "scatter",
         "x": [
          3,
          5
         ],
         "y": [
          7,
          7
         ]
        },
        {
         "fill": "toself",
         "fillcolor": "#7BB5EB",
         "hoverinfo": "none",
         "legendgroup": "S_Z",
         "line": {
          "color": "#207DD5",
          "width": 2
         },
         "name": "S_Z",
         "showlegend": false,
         "type": "scatter",
         "x": [
          6,
          5,
          7,
          6
         ],
         "y": [
          6,
          7,
          5,
          6
         ]
        },
        {
         "marker": {
          "color": "#474645",
          "size": 8
         },
         "mode": "markers",
         "name": "data",
         "showlegend": false,
         "type": "scatter",
         "x": [
          5,
          7
         ],
         "y": [
          7,
          5
         ]
        },
        {
         "fill": "toself",
         "fillcolor": "#7BB5EB",
         "hoverinfo": "none",
         "legendgroup": "S_Z",
         "line": {
          "color": "#207DD5",
          "width": 2
         },
         "name": "S_Z",
         "showlegend": false,
         "type": "scatter",
         "x": [
          4,
          5,
          3,
          4
         ],
         "y": [
          2,
          3,
          3,
          2
         ]
        },
        {
         "marker": {
          "color": "#474645",
          "size": 8
         },
         "mode": "markers",
         "name": "data",
         "showlegend": false,
         "type": "scatter",
         "x": [
          5,
          3
         ],
         "y": [
          3,
          3
         ]
        },
        {
         "hoverlabel": {
          "namelength": -1
         },
         "marker": {
          "color": "#787776",
          "size": 10
         },
         "mode": "markers",
         "name": "Ancilla XX",
         "showlegend": false,
         "type": "scatter",
         "x": [
          2
         ],
         "y": [
          0
         ]
        },
        {
         "hoverlabel": {
          "namelength": -1
         },
         "marker": {
          "color": "#787776",
          "size": 10
         },
         "mode": "markers",
         "name": "Ancilla ZZZZ",
         "showlegend": false,
         "type": "scatter",
         "x": [
          2
         ],
         "y": [
          2
         ]
        },
        {
         "hoverlabel": {
          "namelength": -1
         },
         "marker": {
          "color": "#787776",
          "size": 10
         },
         "mode": "markers",
         "name": "Ancilla ZZ",
         "showlegend": false,
         "type": "scatter",
         "x": [
          0
         ],
         "y": [
          4
         ]
        },
        {
         "hoverlabel": {
          "namelength": -1
         },
         "marker": {
          "color": "#787776",
          "size": 10
         },
         "mode": "markers",
         "name": "Ancilla XX",
         "showlegend": false,
         "type": "scatter",
         "x": [
          6
         ],
         "y": [
          0
         ]
        },
        {
         "hoverlabel": {
          "namelength": -1
         },
         "marker": {
          "color": "#787776",
          "size": 10
         },
         "mode": "markers",
         "name": "Ancilla ZZZZ",
         "showlegend": false,
         "type": "scatter",
         "x": [
          6
         ],
         "y": [
          2
         ]
        },
        {
         "hoverlabel": {
          "namelength": -1
         },
         "marker": {
          "color": "#787776",
          "size": 10
         },
         "mode": "markers",
         "name": "Ancilla ZZ",
         "showlegend": false,
         "type": "scatter",
         "x": [
          0
         ],
         "y": [
          8
         ]
        },
        {
         "hoverlabel": {
          "namelength": -1
         },
         "marker": {
          "color": "#787776",
          "size": 10
         },
         "mode": "markers",
         "name": "Ancilla XXXX",
         "showlegend": false,
         "type": "scatter",
         "x": [
          2
         ],
         "y": [
          8
         ]
        },
        {
         "hoverlabel": {
          "namelength": -1
         },
         "marker": {
          "color": "#787776",
          "size": 10
         },
         "mode": "markers",
         "name": "Ancilla ZZZZ",
         "showlegend": false,
         "type": "scatter",
         "x": [
          4
         ],
         "y": [
          8
         ]
        },
        {
         "hoverlabel": {
          "namelength": -1
         },
         "marker": {
          "color": "#787776",
          "size": 10
         },
         "mode": "markers",
         "name": "Ancilla ZZZZ",
         "showlegend": false,
         "type": "scatter",
         "x": [
          2
         ],
         "y": [
          10
         ]
        },
        {
         "hoverlabel": {
          "namelength": -1
         },
         "marker": {
          "color": "#787776",
          "size": 10
         },
         "mode": "markers",
         "name": "Ancilla XXXX",
         "showlegend": false,
         "type": "scatter",
         "x": [
          4
         ],
         "y": [
          10
         ]
        },
        {
         "hoverlabel": {
          "namelength": -1
         },
         "marker": {
          "color": "#787776",
          "size": 10
         },
         "mode": "markers",
         "name": "Ancilla ZZZZ",
         "showlegend": false,
         "type": "scatter",
         "x": [
          6
         ],
         "y": [
          10
         ]
        },
        {
         "hoverlabel": {
          "namelength": -1
         },
         "marker": {
          "color": "#787776",
          "size": 10
         },
         "mode": "markers",
         "name": "Ancilla XXXX",
         "showlegend": false,
         "type": "scatter",
         "x": [
          8
         ],
         "y": [
          10
         ]
        },
        {
         "hoverlabel": {
          "namelength": -1
         },
         "marker": {
          "color": "#787776",
          "size": 10
         },
         "mode": "markers",
         "name": "Ancilla XX",
         "showlegend": false,
         "type": "scatter",
         "x": [
          10
         ],
         "y": [
          0
         ]
        },
        {
         "hoverlabel": {
          "namelength": -1
         },
         "marker": {
          "color": "#787776",
          "size": 10
         },
         "mode": "markers",
         "name": "Ancilla ZZZZ",
         "showlegend": false,
         "type": "scatter",
         "x": [
          10
         ],
         "y": [
          6
         ]
        },
        {
         "hoverlabel": {
          "namelength": -1
         },
         "marker": {
          "color": "#787776",
          "size": 10
         },
         "mode": "markers",
         "name": "Ancilla XXXX",
         "showlegend": false,
         "type": "scatter",
         "x": [
          10
         ],
         "y": [
          8
         ]
        },
        {
         "hoverlabel": {
          "namelength": -1
         },
         "marker": {
          "color": "#787776",
          "size": 10
         },
         "mode": "markers",
         "name": "Ancilla ZZZZ",
         "showlegend": false,
         "type": "scatter",
         "x": [
          10
         ],
         "y": [
          10
         ]
        },
        {
         "hoverlabel": {
          "namelength": -1
         },
         "marker": {
          "color": "#787776",
          "size": 10
         },
         "mode": "markers",
         "name": "Ancilla ZZ",
         "showlegend": false,
         "type": "scatter",
         "x": [
          0
         ],
         "y": [
          12
         ]
        },
        {
         "hoverlabel": {
          "namelength": -1
         },
         "marker": {
          "color": "#787776",
          "size": 10
         },
         "mode": "markers",
         "name": "Ancilla XXXX",
         "showlegend": false,
         "type": "scatter",
         "x": [
          2
         ],
         "y": [
          12
         ]
        },
        {
         "hoverlabel": {
          "namelength": -1
         },
         "marker": {
          "color": "#787776",
          "size": 10
         },
         "mode": "markers",
         "name": "Ancilla ZZZZ",
         "showlegend": false,
         "type": "scatter",
         "x": [
          4
         ],
         "y": [
          12
         ]
        },
        {
         "hoverlabel": {
          "namelength": -1
         },
         "marker": {
          "color": "#787776",
          "size": 10
         },
         "mode": "markers",
         "name": "Ancilla XXXX",
         "showlegend": false,
         "type": "scatter",
         "x": [
          6
         ],
         "y": [
          12
         ]
        },
        {
         "hoverlabel": {
          "namelength": -1
         },
         "marker": {
          "color": "#787776",
          "size": 10
         },
         "mode": "markers",
         "name": "Ancilla ZZZZ",
         "showlegend": false,
         "type": "scatter",
         "x": [
          8
         ],
         "y": [
          12
         ]
        },
        {
         "hoverlabel": {
          "namelength": -1
         },
         "marker": {
          "color": "#787776",
          "size": 10
         },
         "mode": "markers",
         "name": "Ancilla XXXX",
         "showlegend": false,
         "type": "scatter",
         "x": [
          10
         ],
         "y": [
          12
         ]
        },
        {
         "hoverlabel": {
          "namelength": -1
         },
         "marker": {
          "color": "#787776",
          "size": 10
         },
         "mode": "markers",
         "name": "Ancilla XXXX",
         "showlegend": false,
         "type": "scatter",
         "x": [
          12
         ],
         "y": [
          2
         ]
        },
        {
         "hoverlabel": {
          "namelength": -1
         },
         "marker": {
          "color": "#787776",
          "size": 10
         },
         "mode": "markers",
         "name": "Ancilla ZZZZ",
         "showlegend": false,
         "type": "scatter",
         "x": [
          12
         ],
         "y": [
          4
         ]
        },
        {
         "hoverlabel": {
          "namelength": -1
         },
         "marker": {
          "color": "#787776",
          "size": 10
         },
         "mode": "markers",
         "name": "Ancilla XXXX",
         "showlegend": false,
         "type": "scatter",
         "x": [
          12
         ],
         "y": [
          6
         ]
        },
        {
         "hoverlabel": {
          "namelength": -1
         },
         "marker": {
          "color": "#787776",
          "size": 10
         },
         "mode": "markers",
         "name": "Ancilla ZZZZ",
         "showlegend": false,
         "type": "scatter",
         "x": [
          12
         ],
         "y": [
          8
         ]
        },
        {
         "hoverlabel": {
          "namelength": -1
         },
         "marker": {
          "color": "#787776",
          "size": 10
         },
         "mode": "markers",
         "name": "Ancilla XXXX",
         "showlegend": false,
         "type": "scatter",
         "x": [
          12
         ],
         "y": [
          10
         ]
        },
        {
         "hoverlabel": {
          "namelength": -1
         },
         "marker": {
          "color": "#787776",
          "size": 10
         },
         "mode": "markers",
         "name": "Ancilla ZZZZ",
         "showlegend": false,
         "type": "scatter",
         "x": [
          12
         ],
         "y": [
          12
         ]
        },
        {
         "hoverlabel": {
          "namelength": -1
         },
         "marker": {
          "color": "#787776",
          "size": 10
         },
         "mode": "markers",
         "name": "Ancilla XX",
         "showlegend": false,
         "type": "scatter",
         "x": [
          4
         ],
         "y": [
          14
         ]
        },
        {
         "hoverlabel": {
          "namelength": -1
         },
         "marker": {
          "color": "#787776",
          "size": 10
         },
         "mode": "markers",
         "name": "Ancilla XX",
         "showlegend": false,
         "type": "scatter",
         "x": [
          8
         ],
         "y": [
          14
         ]
        },
        {
         "hoverlabel": {
          "namelength": -1
         },
         "marker": {
          "color": "#787776",
          "size": 10
         },
         "mode": "markers",
         "name": "Ancilla XX",
         "showlegend": false,
         "type": "scatter",
         "x": [
          12
         ],
         "y": [
          14
         ]
        },
        {
         "hoverlabel": {
          "namelength": -1
         },
         "marker": {
          "color": "#787776",
          "size": 10
         },
         "mode": "markers",
         "name": "Ancilla ZZ",
         "showlegend": false,
         "type": "scatter",
         "x": [
          14
         ],
         "y": [
          2
         ]
        },
        {
         "hoverlabel": {
          "namelength": -1
         },
         "marker": {
          "color": "#787776",
          "size": 10
         },
         "mode": "markers",
         "name": "Ancilla ZZ",
         "showlegend": false,
         "type": "scatter",
         "x": [
          14
         ],
         "y": [
          6
         ]
        },
        {
         "hoverlabel": {
          "namelength": -1
         },
         "marker": {
          "color": "#787776",
          "size": 10
         },
         "mode": "markers",
         "name": "Ancilla ZZ",
         "showlegend": false,
         "type": "scatter",
         "x": [
          14
         ],
         "y": [
          10
         ]
        },
        {
         "hoverlabel": {
          "namelength": -1
         },
         "marker": {
          "color": "#787776",
          "size": 10
         },
         "mode": "markers",
         "name": "Ancilla XX",
         "showlegend": false,
         "type": "scatter",
         "x": [
          4
         ],
         "y": [
          6
         ]
        },
        {
         "hoverlabel": {
          "namelength": -1
         },
         "marker": {
          "color": "#787776",
          "size": 10
         },
         "mode": "markers",
         "name": "Ancilla XXX",
         "showlegend": false,
         "type": "scatter",
         "x": [
          6
         ],
         "y": [
          4
         ]
        },
        {
         "hoverlabel": {
          "namelength": -1
         },
         "marker": {
          "color": "#787776",
          "size": 10
         },
         "mode": "markers",
         "name": "Ancilla XXX",
         "showlegend": false,
         "type": "scatter",
         "x": [
          2
         ],
         "y": [
          4
         ]
        },
        {
         "hoverlabel": {
          "namelength": -1
         },
         "marker": {
          "color": "#787776",
          "size": 10
         },
         "mode": "markers",
         "name": "Ancilla ZZZ",
         "showlegend": false,
         "type": "scatter",
         "x": [
          2
         ],
         "y": [
          6
         ]
        },
        {
         "hoverlabel": {
          "namelength": -1
         },
         "marker": {
          "color": "#787776",
          "size": 10
         },
         "mode": "markers",
         "name": "Ancilla ZZ",
         "showlegend": false,
         "type": "scatter",
         "x": [
          6
         ],
         "y": [
          6
         ]
        },
        {
         "hoverlabel": {
          "namelength": -1
         },
         "marker": {
          "color": "#787776",
          "size": 10
         },
         "mode": "markers",
         "name": "Ancilla ZZZ",
         "showlegend": false,
         "type": "scatter",
         "x": [
          8
         ],
         "y": [
          8
         ]
        },
        {
         "hoverlabel": {
          "namelength": -1
         },
         "marker": {
          "color": "#787776",
          "size": 10
         },
         "mode": "markers",
         "name": "Ancilla ZZ,XXXX",
         "showlegend": false,
         "type": "scatter",
         "x": [
          4
         ],
         "y": [
          2
         ]
        },
        {
         "hoverlabel": {
          "namelength": -1
         },
         "marker": {
          "color": "#787776",
          "size": 10
         },
         "mode": "markers",
         "name": "Ancilla XXX",
         "showlegend": false,
         "type": "scatter",
         "x": [
          6
         ],
         "y": [
          8
         ]
        },
        {
         "hoverlabel": {
          "namelength": -1
         },
         "marker": {
          "color": "#787776",
          "size": 10
         },
         "mode": "markers",
         "name": "Ancilla XXX",
         "showlegend": false,
         "type": "scatter",
         "x": [
          8
         ],
         "y": [
          6
         ]
        },
        {
         "hoverlabel": {
          "namelength": -1
         },
         "marker": {
          "color": "#787776",
          "size": 10
         },
         "mode": "markers",
         "name": "Ancilla XXX",
         "showlegend": false,
         "type": "scatter",
         "x": [
          10
         ],
         "y": [
          4
         ]
        },
        {
         "hoverlabel": {
          "namelength": -1
         },
         "marker": {
          "color": "#787776",
          "size": 10
         },
         "mode": "markers",
         "name": "Ancilla XXX",
         "showlegend": false,
         "type": "scatter",
         "x": [
          8
         ],
         "y": [
          2
         ]
        },
        {
         "hoverlabel": {
          "namelength": -1
         },
         "marker": {
          "color": "#787776",
          "size": 10
         },
         "mode": "markers",
         "name": "Ancilla ZZZ",
         "showlegend": false,
         "type": "scatter",
         "x": [
          10
         ],
         "y": [
          2
         ]
        },
        {
         "hoverlabel": {
          "namelength": -1
         },
         "marker": {
          "color": "#787776",
          "size": 10
         },
         "mode": "markers",
         "name": "Ancilla ZZZ",
         "showlegend": false,
         "type": "scatter",
         "x": [
          8
         ],
         "y": [
          4
         ]
        },
        {
         "legendgroup": "X_L",
         "line": {
          "color": "#CE2D40",
          "width": 4
         },
         "name": "X_L",
         "showlegend": false,
         "type": "scatter",
         "x": [
          1,
          1,
          1,
          1,
          1,
          1,
          1
         ],
         "y": [
          13,
          11,
          9,
          7,
          5,
          3,
          1
         ]
        },
        {
         "legendgroup": "Z_L",
         "line": {
          "color": "#128AA5",
          "width": 4
         },
         "name": "Z_L",
         "showlegend": false,
         "type": "scatter",
         "x": [
          1,
          3,
          5,
          7,
          9,
          11,
          13
         ],
         "y": [
          1,
          1,
          1,
          1,
          1,
          1,
          1
         ]
        },
        {
         "legendgroup": "X_L",
         "line": {
          "color": "#CE2D40",
          "width": 4
         },
         "name": "X_L",
         "showlegend": true,
         "type": "scatter",
         "x": [
          13,
          13,
          13,
          13,
          13,
          13,
          13
         ],
         "y": [
          1,
          3,
          5,
          7,
          9,
          11,
          13
         ]
        },
        {
         "legendgroup": "Z_L",
         "line": {
          "color": "#128AA5",
          "width": 4
         },
         "name": "Z_L",
         "showlegend": true,
         "type": "scatter",
         "x": [
          13,
          11,
          9,
          7,
          5,
          3,
          1
         ],
         "y": [
          13,
          13,
          13,
          13,
          13,
          13,
          13
         ]
        },
        {
         "marker": {
          "color": "red",
          "size": 12,
          "symbol": "x"
         },
         "mode": "markers",
         "name": "qubit defect",
         "showlegend": false,
         "type": "scatter",
         "x": [
          4,
          5,
          9
         ],
         "y": [
          4,
          5,
          3
         ]
        },
        {
         "line": {
          "color": "red",
          "dash": "dot",
          "width": 2
         },
         "mode": "lines",
         "name": "link defect",
         "showlegend": false,
         "type": "scatter",
         "x": [
          6,
          6.5,
          7
         ],
         "y": [
          6,
          6.5,
          7
         ]
        },
        {
         "line": {
          "color": "red",
          "dash": "dot",
          "width": 2
         },
         "mode": "lines",
         "name": "link defect",
         "showlegend": false,
         "type": "scatter",
         "x": [
          6,
          6.5,
          7
         ],
         "y": [
          8,
          7.5,
          7
         ]
        }
       ],
       "layout": {
        "autosize": false,
        "template": {
         "data": {
          "bar": [
           {
            "error_x": {
             "color": "#2a3f5f"
            },
            "error_y": {
             "color": "#2a3f5f"
            },
            "marker": {
             "line": {
              "color": "#E5ECF6",
              "width": 0.5
             },
             "pattern": {
              "fillmode": "overlay",
              "size": 10,
              "solidity": 0.2
             }
            },
            "type": "bar"
           }
          ],
          "barpolar": [
           {
            "marker": {
             "line": {
              "color": "#E5ECF6",
              "width": 0.5
             },
             "pattern": {
              "fillmode": "overlay",
              "size": 10,
              "solidity": 0.2
             }
            },
            "type": "barpolar"
           }
          ],
          "carpet": [
           {
            "aaxis": {
             "endlinecolor": "#2a3f5f",
             "gridcolor": "white",
             "linecolor": "white",
             "minorgridcolor": "white",
             "startlinecolor": "#2a3f5f"
            },
            "baxis": {
             "endlinecolor": "#2a3f5f",
             "gridcolor": "white",
             "linecolor": "white",
             "minorgridcolor": "white",
             "startlinecolor": "#2a3f5f"
            },
            "type": "carpet"
           }
          ],
          "choropleth": [
           {
            "colorbar": {
             "outlinewidth": 0,
             "ticks": ""
            },
            "type": "choropleth"
           }
          ],
          "contour": [
           {
            "colorbar": {
             "outlinewidth": 0,
             "ticks": ""
            },
            "colorscale": [
             [
              0,
              "#0d0887"
             ],
             [
              0.1111111111111111,
              "#46039f"
             ],
             [
              0.2222222222222222,
              "#7201a8"
             ],
             [
              0.3333333333333333,
              "#9c179e"
             ],
             [
              0.4444444444444444,
              "#bd3786"
             ],
             [
              0.5555555555555556,
              "#d8576b"
             ],
             [
              0.6666666666666666,
              "#ed7953"
             ],
             [
              0.7777777777777778,
              "#fb9f3a"
             ],
             [
              0.8888888888888888,
              "#fdca26"
             ],
             [
              1,
              "#f0f921"
             ]
            ],
            "type": "contour"
           }
          ],
          "contourcarpet": [
           {
            "colorbar": {
             "outlinewidth": 0,
             "ticks": ""
            },
            "type": "contourcarpet"
           }
          ],
          "heatmap": [
           {
            "colorbar": {
             "outlinewidth": 0,
             "ticks": ""
            },
            "colorscale": [
             [
              0,
              "#0d0887"
             ],
             [
              0.1111111111111111,
              "#46039f"
             ],
             [
              0.2222222222222222,
              "#7201a8"
             ],
             [
              0.3333333333333333,
              "#9c179e"
             ],
             [
              0.4444444444444444,
              "#bd3786"
             ],
             [
              0.5555555555555556,
              "#d8576b"
             ],
             [
              0.6666666666666666,
              "#ed7953"
             ],
             [
              0.7777777777777778,
              "#fb9f3a"
             ],
             [
              0.8888888888888888,
              "#fdca26"
             ],
             [
              1,
              "#f0f921"
             ]
            ],
            "type": "heatmap"
           }
          ],
          "heatmapgl": [
           {
            "colorbar": {
             "outlinewidth": 0,
             "ticks": ""
            },
            "colorscale": [
             [
              0,
              "#0d0887"
             ],
             [
              0.1111111111111111,
              "#46039f"
             ],
             [
              0.2222222222222222,
              "#7201a8"
             ],
             [
              0.3333333333333333,
              "#9c179e"
             ],
             [
              0.4444444444444444,
              "#bd3786"
             ],
             [
              0.5555555555555556,
              "#d8576b"
             ],
             [
              0.6666666666666666,
              "#ed7953"
             ],
             [
              0.7777777777777778,
              "#fb9f3a"
             ],
             [
              0.8888888888888888,
              "#fdca26"
             ],
             [
              1,
              "#f0f921"
             ]
            ],
            "type": "heatmapgl"
           }
          ],
          "histogram": [
           {
            "marker": {
             "pattern": {
              "fillmode": "overlay",
              "size": 10,
              "solidity": 0.2
             }
            },
            "type": "histogram"
           }
          ],
          "histogram2d": [
           {
            "colorbar": {
             "outlinewidth": 0,
             "ticks": ""
            },
            "colorscale": [
             [
              0,
              "#0d0887"
             ],
             [
              0.1111111111111111,
              "#46039f"
             ],
             [
              0.2222222222222222,
              "#7201a8"
             ],
             [
              0.3333333333333333,
              "#9c179e"
             ],
             [
              0.4444444444444444,
              "#bd3786"
             ],
             [
              0.5555555555555556,
              "#d8576b"
             ],
             [
              0.6666666666666666,
              "#ed7953"
             ],
             [
              0.7777777777777778,
              "#fb9f3a"
             ],
             [
              0.8888888888888888,
              "#fdca26"
             ],
             [
              1,
              "#f0f921"
             ]
            ],
            "type": "histogram2d"
           }
          ],
          "histogram2dcontour": [
           {
            "colorbar": {
             "outlinewidth": 0,
             "ticks": ""
            },
            "colorscale": [
             [
              0,
              "#0d0887"
             ],
             [
              0.1111111111111111,
              "#46039f"
             ],
             [
              0.2222222222222222,
              "#7201a8"
             ],
             [
              0.3333333333333333,
              "#9c179e"
             ],
             [
              0.4444444444444444,
              "#bd3786"
             ],
             [
              0.5555555555555556,
              "#d8576b"
             ],
             [
              0.6666666666666666,
              "#ed7953"
             ],
             [
              0.7777777777777778,
              "#fb9f3a"
             ],
             [
              0.8888888888888888,
              "#fdca26"
             ],
             [
              1,
              "#f0f921"
             ]
            ],
            "type": "histogram2dcontour"
           }
          ],
          "mesh3d": [
           {
            "colorbar": {
             "outlinewidth": 0,
             "ticks": ""
            },
            "type": "mesh3d"
           }
          ],
          "parcoords": [
           {
            "line": {
             "colorbar": {
              "outlinewidth": 0,
              "ticks": ""
             }
            },
            "type": "parcoords"
           }
          ],
          "pie": [
           {
            "automargin": true,
            "type": "pie"
           }
          ],
          "scatter": [
           {
            "fillpattern": {
             "fillmode": "overlay",
             "size": 10,
             "solidity": 0.2
            },
            "type": "scatter"
           }
          ],
          "scatter3d": [
           {
            "line": {
             "colorbar": {
              "outlinewidth": 0,
              "ticks": ""
             }
            },
            "marker": {
             "colorbar": {
              "outlinewidth": 0,
              "ticks": ""
             }
            },
            "type": "scatter3d"
           }
          ],
          "scattercarpet": [
           {
            "marker": {
             "colorbar": {
              "outlinewidth": 0,
              "ticks": ""
             }
            },
            "type": "scattercarpet"
           }
          ],
          "scattergeo": [
           {
            "marker": {
             "colorbar": {
              "outlinewidth": 0,
              "ticks": ""
             }
            },
            "type": "scattergeo"
           }
          ],
          "scattergl": [
           {
            "marker": {
             "colorbar": {
              "outlinewidth": 0,
              "ticks": ""
             }
            },
            "type": "scattergl"
           }
          ],
          "scattermapbox": [
           {
            "marker": {
             "colorbar": {
              "outlinewidth": 0,
              "ticks": ""
             }
            },
            "type": "scattermapbox"
           }
          ],
          "scatterpolar": [
           {
            "marker": {
             "colorbar": {
              "outlinewidth": 0,
              "ticks": ""
             }
            },
            "type": "scatterpolar"
           }
          ],
          "scatterpolargl": [
           {
            "marker": {
             "colorbar": {
              "outlinewidth": 0,
              "ticks": ""
             }
            },
            "type": "scatterpolargl"
           }
          ],
          "scatterternary": [
           {
            "marker": {
             "colorbar": {
              "outlinewidth": 0,
              "ticks": ""
             }
            },
            "type": "scatterternary"
           }
          ],
          "surface": [
           {
            "colorbar": {
             "outlinewidth": 0,
             "ticks": ""
            },
            "colorscale": [
             [
              0,
              "#0d0887"
             ],
             [
              0.1111111111111111,
              "#46039f"
             ],
             [
              0.2222222222222222,
              "#7201a8"
             ],
             [
              0.3333333333333333,
              "#9c179e"
             ],
             [
              0.4444444444444444,
              "#bd3786"
             ],
             [
              0.5555555555555556,
              "#d8576b"
             ],
             [
              0.6666666666666666,
              "#ed7953"
             ],
             [
              0.7777777777777778,
              "#fb9f3a"
             ],
             [
              0.8888888888888888,
              "#fdca26"
             ],
             [
              1,
              "#f0f921"
             ]
            ],
            "type": "surface"
           }
          ],
          "table": [
           {
            "cells": {
             "fill": {
              "color": "#EBF0F8"
             },
             "line": {
              "color": "white"
             }
            },
            "header": {
             "fill": {
              "color": "#C8D4E3"
             },
             "line": {
              "color": "white"
             }
            },
            "type": "table"
           }
          ]
         },
         "layout": {
          "annotationdefaults": {
           "arrowcolor": "#2a3f5f",
           "arrowhead": 0,
           "arrowwidth": 1
          },
          "autotypenumbers": "strict",
          "coloraxis": {
           "colorbar": {
            "outlinewidth": 0,
            "ticks": ""
           }
          },
          "colorscale": {
           "diverging": [
            [
             0,
             "#8e0152"
            ],
            [
             0.1,
             "#c51b7d"
            ],
            [
             0.2,
             "#de77ae"
            ],
            [
             0.3,
             "#f1b6da"
            ],
            [
             0.4,
             "#fde0ef"
            ],
            [
             0.5,
             "#f7f7f7"
            ],
            [
             0.6,
             "#e6f5d0"
            ],
            [
             0.7,
             "#b8e186"
            ],
            [
             0.8,
             "#7fbc41"
            ],
            [
             0.9,
             "#4d9221"
            ],
            [
             1,
             "#276419"
            ]
           ],
           "sequential": [
            [
             0,
             "#0d0887"
            ],
            [
             0.1111111111111111,
             "#46039f"
            ],
            [
             0.2222222222222222,
             "#7201a8"
            ],
            [
             0.3333333333333333,
             "#9c179e"
            ],
            [
             0.4444444444444444,
             "#bd3786"
            ],
            [
             0.5555555555555556,
             "#d8576b"
            ],
            [
             0.6666666666666666,
             "#ed7953"
            ],
            [
             0.7777777777777778,
             "#fb9f3a"
            ],
            [
             0.8888888888888888,
             "#fdca26"
            ],
            [
             1,
             "#f0f921"
            ]
           ],
           "sequentialminus": [
            [
             0,
             "#0d0887"
            ],
            [
             0.1111111111111111,
             "#46039f"
            ],
            [
             0.2222222222222222,
             "#7201a8"
            ],
            [
             0.3333333333333333,
             "#9c179e"
            ],
            [
             0.4444444444444444,
             "#bd3786"
            ],
            [
             0.5555555555555556,
             "#d8576b"
            ],
            [
             0.6666666666666666,
             "#ed7953"
            ],
            [
             0.7777777777777778,
             "#fb9f3a"
            ],
            [
             0.8888888888888888,
             "#fdca26"
            ],
            [
             1,
             "#f0f921"
            ]
           ]
          },
          "colorway": [
           "#636efa",
           "#EF553B",
           "#00cc96",
           "#ab63fa",
           "#FFA15A",
           "#19d3f3",
           "#FF6692",
           "#B6E880",
           "#FF97FF",
           "#FECB52"
          ],
          "font": {
           "color": "#2a3f5f"
          },
          "geo": {
           "bgcolor": "white",
           "lakecolor": "white",
           "landcolor": "#E5ECF6",
           "showlakes": true,
           "showland": true,
           "subunitcolor": "white"
          },
          "hoverlabel": {
           "align": "left"
          },
          "hovermode": "closest",
          "mapbox": {
           "style": "light"
          },
          "paper_bgcolor": "white",
          "plot_bgcolor": "#E5ECF6",
          "polar": {
           "angularaxis": {
            "gridcolor": "white",
            "linecolor": "white",
            "ticks": ""
           },
           "bgcolor": "#E5ECF6",
           "radialaxis": {
            "gridcolor": "white",
            "linecolor": "white",
            "ticks": ""
           }
          },
          "scene": {
           "xaxis": {
            "backgroundcolor": "#E5ECF6",
            "gridcolor": "white",
            "gridwidth": 2,
            "linecolor": "white",
            "showbackground": true,
            "ticks": "",
            "zerolinecolor": "white"
           },
           "yaxis": {
            "backgroundcolor": "#E5ECF6",
            "gridcolor": "white",
            "gridwidth": 2,
            "linecolor": "white",
            "showbackground": true,
            "ticks": "",
            "zerolinecolor": "white"
           },
           "zaxis": {
            "backgroundcolor": "#E5ECF6",
            "gridcolor": "white",
            "gridwidth": 2,
            "linecolor": "white",
            "showbackground": true,
            "ticks": "",
            "zerolinecolor": "white"
           }
          },
          "shapedefaults": {
           "line": {
            "color": "#2a3f5f"
           }
          },
          "ternary": {
           "aaxis": {
            "gridcolor": "white",
            "linecolor": "white",
            "ticks": ""
           },
           "baxis": {
            "gridcolor": "white",
            "linecolor": "white",
            "ticks": ""
           },
           "bgcolor": "#E5ECF6",
           "caxis": {
            "gridcolor": "white",
            "linecolor": "white",
            "ticks": ""
           }
          },
          "title": {
           "x": 0.05
          },
          "xaxis": {
           "automargin": true,
           "gridcolor": "white",
           "linecolor": "white",
           "ticks": "",
           "title": {
            "standoff": 15
           },
           "zerolinecolor": "white",
           "zerolinewidth": 2
          },
          "yaxis": {
           "automargin": true,
           "gridcolor": "white",
           "linecolor": "white",
           "ticks": "",
           "title": {
            "standoff": 15
           },
           "zerolinecolor": "white",
           "zerolinewidth": 2
          }
         }
        },
        "width": 800,
        "xaxis": {
         "showgrid": false
        },
        "yaxis": {
         "scaleanchor": "x",
         "showgrid": false
        }
       }
      }
     },
     "metadata": {},
     "output_type": "display_data"
    }
   ],
   "source": [
    "# First we define the undamaged patch\n",
    "undamaged_patch = RotatedSurfaceCode(7)\n",
    "\n",
    "# Second we define the defects in the patch\n",
    "ancilla_defects = set([Pos(4, 4)])\n",
    "data_defects = set([Pos(9, 3), Pos(5, 5)])\n",
    "link_defects = set([(Pos(6, 6), Pos(7, 7)), (Pos(6, 8), Pos(7, 7))])\n",
    "\n",
    "# Produce some damaged patches\n",
    "_, damaged_patches = DefectiveSurfaceCode.make_defective_patches(\n",
    "    undamaged_patch,\n",
    "    ancilla_defects,\n",
    "    data_defects,\n",
    "    link_defects,\n",
    "    repurpose_ancillas=True,\n",
    "    add_padding=True,\n",
    "    first_super_type=PauliT.X,\n",
    ")\n",
    "for patch in damaged_patches:\n",
    "    print(f\"(horizontal, vertical distance) = {patch.effective_distance}\")\n",
    "\n",
    "# Plot the outputs.\n",
    "figs = [plot(damaged_patch) for damaged_patch in damaged_patches]\n",
    "for fig in figs:\n",
    "    fig.show()"
   ]
  },
  {
   "cell_type": "markdown",
   "id": "06f82482",
   "metadata": {},
   "source": [
    "## Logical memory experiment"
   ]
  },
  {
   "cell_type": "code",
   "execution_count": 5,
   "id": "09255132",
   "metadata": {},
   "outputs": [
    {
     "name": "stdout",
     "output_type": "stream",
     "text": [
      "Found 1 defect clusters.\n",
      "(horizontal, vertical distance) = (d_X, d_Z) = (6, 6)\n",
      "6e-05 0.0002\n"
     ]
    }
   ],
   "source": [
    "# First we define the undamaged patch\n",
    "undamaged_patch = RotatedSurfaceCode(7, vertical_logical=PauliT.Z)\n",
    "\n",
    "# Second we define the defects in the patch\n",
    "ancilla_defects = set([Pos(4, 4)])\n",
    "data_defects = set()\n",
    "link_defects = set([(Pos(6, 6), Pos(7, 7)), (Pos(6, 8), Pos(7, 7))])\n",
    "\n",
    "# Produce some damaged patches\n",
    "_, damaged_patches = DefectiveSurfaceCode.make_defective_patches(\n",
    "    undamaged_patch,\n",
    "    ancilla_defects,\n",
    "    data_defects,\n",
    "    link_defects,\n",
    "    repurpose_ancillas=True,\n",
    "    add_padding=True,\n",
    "    first_super_type=PauliT.X,\n",
    ")\n",
    "damaged_patch = damaged_patches[0]\n",
    "print(f\"(horizontal, vertical distance) = (d_X, d_Z) = {damaged_patch.effective_distance}\")\n",
    "\n",
    "# Run some memory experiments\n",
    "# X basis memory\n",
    "circ_X = memory_program(damaged_patch, standard_noise(1e-3), rounds=14, pauli=PauliT.X)\n",
    "p_Z = get_logical_error_rate(circ_X, num_shots=100_000)\n",
    "# Z basis memory\n",
    "circ_Z = memory_program(damaged_patch, standard_noise(1e-3), rounds=14, pauli=PauliT.Z)\n",
    "p_X = get_logical_error_rate(circ_Z, num_shots=100_000)\n",
    "print(p_X, p_Z)"
   ]
  },
  {
   "cell_type": "code",
   "execution_count": 6,
   "id": "8bcab55d",
   "metadata": {},
   "outputs": [],
   "source": [
    "# Calculate logical error rate for different values of physical error rate\n",
    "error_rates = [0.004, 0.005, 0.006, 0.007, 0.008]\n",
    "num_shots = 50_000  # this is a low number of shots for speed\n",
    "rounds = 14\n",
    "defects_logical_p_X = []\n",
    "defects_logical_p_Z = []\n",
    "undamaged_logical_p_X = []\n",
    "undamaged_logical_p_Z = []\n",
    "# Sweep over physical error rate\n",
    "for p in error_rates:\n",
    "    noise = standard_noise(p)\n",
    "\n",
    "    circ_X = memory_program(damaged_patch, noise, rounds=rounds, pauli=PauliT.X)\n",
    "    p_Z = get_logical_error_rate(circ_X, num_shots=num_shots)\n",
    "    circ_Z = memory_program(damaged_patch,noise, rounds=rounds, pauli=PauliT.Z)\n",
    "    p_X = get_logical_error_rate(circ_Z, num_shots=num_shots)\n",
    "    defects_logical_p_X.append(p_X)\n",
    "    defects_logical_p_Z.append(p_Z)\n",
    "\n",
    "    circ_X = memory_program(undamaged_patch, noise, rounds=rounds, pauli=PauliT.X)\n",
    "    p_Z = get_logical_error_rate(circ_X, num_shots=num_shots)\n",
    "    circ_Z = memory_program(undamaged_patch, noise, rounds=rounds, pauli=PauliT.Z)\n",
    "    p_X = get_logical_error_rate(circ_Z, num_shots=num_shots)\n",
    "    undamaged_logical_p_X.append(p_X)\n",
    "    undamaged_logical_p_Z.append(p_Z)\n"
   ]
  },
  {
   "cell_type": "code",
   "execution_count": 7,
   "id": "68a68c21",
   "metadata": {},
   "outputs": [
    {
     "data": {
      "text/plain": [
       "Text(0, 0.5, 'Logical error rate (14 rounds)')"
      ]
     },
     "execution_count": 7,
     "metadata": {},
     "output_type": "execute_result"
    },
    {
     "data": {
      "image/png": "[encoded data removed]",
      "text/plain": [
       "<Figure size 640x480 with 1 Axes>"
      ]
     },
     "metadata": {},
     "output_type": "display_data"
    }
   ],
   "source": [
    "fig, ax = plt.subplots()\n",
    "ax.plot(error_rates, defects_logical_p_X, label=\"defective logical X\")\n",
    "ax.plot(error_rates, defects_logical_p_Z, label=\"defective logical Z\")\n",
    "ax.plot(error_rates, undamaged_logical_p_X, label=\"undamaged logical X\")\n",
    "ax.plot(error_rates, undamaged_logical_p_Z, label=\"undamaged logical Z\")\n",
    "ax.legend()\n",
    "ax.set_yscale('log')\n",
    "ax.set_xscale('log')\n",
    "ax.set_xlabel(\"Physical error rate\")\n",
    "ax.set_ylabel(\"Logical error rate (14 rounds)\")"
   ]
  },
  {
   "cell_type": "markdown",
   "id": "bf7ee84a",
   "metadata": {},
   "source": [
    "## Heuristics\n",
    "\n",
    "We can also use heuristics: force efficient checks and drop lossy ones to make the algorithm faster."
   ]
  },
  {
   "cell_type": "code",
   "execution_count": 8,
   "id": "9ea317c0",
   "metadata": {},
   "outputs": [
    {
     "name": "stdout",
     "output_type": "stream",
     "text": [
      "Found 6 defect clusters.\n",
      "(horizontal, vertical distance) = (d_X, d_Z) = (5, 6)\n",
      "CPU times: user 30.4 s, sys: 223 ms, total: 30.6 s\n",
      "Wall time: 30.8 s\n"
     ]
    }
   ],
   "source": [
    "%%time \n",
    "# First with no heuristics.\n",
    "\n",
    "undamaged_patch = RotatedSurfaceCode(9, vertical_logical=PauliT.Z)\n",
    "ancilla_defects = {Pos(4, 4), Pos(6, 18), Pos(14, 12), Pos(16, 6)}\n",
    "data_defects = {Pos(3, 7), Pos(7, 11), Pos(7, 5), Pos(15, 17)}\n",
    "link_defects = {(Pos(6, 6), Pos(7, 7)), (Pos(14, 4), Pos(13, 5)), (Pos(14, 6), Pos(15, 7))}\n",
    "\n",
    "_, damaged_patches = DefectiveSurfaceCode.make_defective_patches(\n",
    "    undamaged_patch,\n",
    "    ancilla_defects,\n",
    "    data_defects,\n",
    "    link_defects,\n",
    "    repurpose_ancillas=True,\n",
    "    add_padding=True,\n",
    "    first_super_type=PauliT.X,\n",
    ")\n",
    "damaged_patch = damaged_patches[0]\n",
    "print(f\"(horizontal, vertical distance) = (d_X, d_Z) = {damaged_patch.effective_distance}\")"
   ]
  },
  {
   "cell_type": "code",
   "execution_count": 9,
   "id": "57f471f9",
   "metadata": {},
   "outputs": [
    {
     "data": {
      "application/vnd.plotly.v1+json": {
       "config": {
        "plotlyServerURL": "https://plot.ly"
       },
       "data": [
        {
         "marker": {
          "color": "#474645",
          "size": 8
         },
         "mode": "markers",
         "name": "qubit",
         "showlegend": false,
         "type": "scatter",
         "x": [
          1,
          1,
          1,
          1,
          1,
          1,
          1,
          1,
          1,
          3,
          3,
          3,
          3,
          3,
          3,
          3,
          3,
          3,
          5,
          5,
          5,
          5,
          5,
          5,
          5,
          5,
          5,
          7,
          7,
          7,
          7,
          7,
          7,
          7,
          7,
          7,
          9,
          9,
          9,
          9,
          9,
          9,
          9,
          9,
          9,
          11,
          11,
          11,
          11,
          11,
          11,
          11,
          11,
          11,
          13,
          13,
          13,
          13,
          13,
          13,
          13,
          13,
          13,
          15,
          15,
          15,
          15,
          15,
          15,
          15,
          15,
          15,
          17,
          17,
          17,
          17,
          17,
          17,
          17,
          17,
          17
         ],
         "y": [
          1,
          3,
          5,
          7,
          9,
          11,
          13,
          15,
          17,
          1,
          3,
          5,
          7,
          9,
          11,
          13,
          15,
          17,
          1,
          3,
          5,
          7,
          9,
          11,
          13,
          15,
          17,
          1,
          3,
          5,
          7,
          9,
          11,
          13,
          15,
          17,
          1,
          3,
          5,
          7,
          9,
          11,
          13,
          15,
          17,
          1,
          3,
          5,
          7,
          9,
          11,
          13,
          15,
          17,
          1,
          3,
          5,
          7,
          9,
          11,
          13,
          15,
          17,
          1,
          3,
          5,
          7,
          9,
          11,
          13,
          15,
          17,
          1,
          3,
          5,
          7,
          9,
          11,
          13,
          15,
          17
         ]
        },
        {
         "marker": {
          "color": "#787776",
          "size": 10
         },
         "mode": "markers",
         "name": "qubit",
         "showlegend": false,
         "type": "scatter",
         "x": [
          0,
          0,
          0,
          0,
          0,
          0,
          0,
          0,
          0,
          0,
          2,
          2,
          2,
          2,
          2,
          2,
          2,
          2,
          2,
          2,
          4,
          4,
          4,
          4,
          4,
          4,
          4,
          4,
          4,
          4,
          6,
          6,
          6,
          6,
          6,
          6,
          6,
          6,
          6,
          6,
          8,
          8,
          8,
          8,
          8,
          8,
          8,
          8,
          8,
          8,
          10,
          10,
          10,
          10,
          10,
          10,
          10,
          10,
          10,
          10,
          12,
          12,
          12,
          12,
          12,
          12,
          12,
          12,
          12,
          12,
          14,
          14,
          14,
          14,
          14,
          14,
          14,
          14,
          14,
          14,
          16,
          16,
          16,
          16,
          16,
          16,
          16,
          16,
          16,
          16,
          18,
          18,
          18,
          18,
          18,
          18,
          18,
          18,
          18,
          18
         ],
         "y": [
          0,
          2,
          4,
          6,
          8,
          10,
          12,
          14,
          16,
          18,
          0,
          2,
          4,
          6,
          8,
          10,
          12,
          14,
          16,
          18,
          0,
          2,
          4,
          6,
          8,
          10,
          12,
          14,
          16,
          18,
          0,
          2,
          4,
          6,
          8,
          10,
          12,
          14,
          16,
          18,
          0,
          2,
          4,
          6,
          8,
          10,
          12,
          14,
          16,
          18,
          0,
          2,
          4,
          6,
          8,
          10,
          12,
          14,
          16,
          18,
          0,
          2,
          4,
          6,
          8,
          10,
          12,
          14,
          16,
          18,
          0,
          2,
          4,
          6,
          8,
          10,
          12,
          14,
          16,
          18,
          0,
          2,
          4,
          6,
          8,
          10,
          12,
          14,
          16,
          18,
          0,
          2,
          4,
          6,
          8,
          10,
          12,
          14,
          16,
          18
         ]
        },
        {
         "fill": "toself",
         "fillcolor": "#78DAF0",
         "hoverinfo": "none",
         "legendgroup": "S_Z",
         "line": {
          "color": "#128AA5",
          "width": 2
         },
         "name": "S_Z",
         "showlegend": true,
         "type": "scatter",
         "x": [
          1,
          3,
          3,
          1,
          1
         ],
         "y": [
          1,
          1,
          3,
          3,
          1
         ]
        },
        {
         "marker": {
          "color": "#474645",
          "size": 8
         },
         "mode": "markers",
         "name": "data",
         "showlegend": false,
         "type": "scatter",
         "x": [
          1,
          3,
          1,
          3
         ],
         "y": [
          3,
          3,
          1,
          1
         ]
        },
        {
         "fill": "toself",
         "fillcolor": "#78DAF0",
         "hoverinfo": "none",
         "legendgroup": "S_Z",
         "line": {
          "color": "#128AA5",
          "width": 2
         },
         "name": "S_Z",
         "showlegend": false,
         "type": "scatter",
         "x": [
          5,
          7,
          7,
          5,
          5
         ],
         "y": [
          1,
          1,
          3,
          3,
          1
         ]
        },
        {
         "marker": {
          "color": "#474645",
          "size": 8
         },
         "mode": "markers",
         "name": "data",
         "showlegend": false,
         "type": "scatter",
         "x": [
          5,
          7,
          5,
          7
         ],
         "y": [
          3,
          3,
          1,
          1
         ]
        },
        {
         "fill": "toself",
         "fillcolor": "#E27985",
         "hoverinfo": "none",
         "legendgroup": "S_X",
         "line": {
          "color": "#CE2D40",
          "width": 2
         },
         "name": "S_X",
         "showlegend": true,
         "type": "scatter",
         "x": [
          7,
          9,
          9,
          7,
          7
         ],
         "y": [
          1,
          1,
          3,
          3,
          1
         ]
        },
        {
         "marker": {
          "color": "#474645",
          "size": 8
         },
         "mode": "markers",
         "name": "data",
         "showlegend": false,
         "type": "scatter",
         "x": [
          7,
          9,
          7,
          9
         ],
         "y": [
          3,
          3,
          1,
          1
         ]
        },
        {
         "fill": "toself",
         "fillcolor": "#78DAF0",
         "hoverinfo": "none",
         "legendgroup": "S_Z",
         "line": {
          "color": "#128AA5",
          "width": 2
         },
         "name": "S_Z",
         "showlegend": false,
         "type": "scatter",
         "x": [
          1,
          3,
          3,
          1,
          1
         ],
         "y": [
          9,
          9,
          11,
          11,
          9
         ]
        },
        {
         "marker": {
          "color": "#474645",
          "size": 8
         },
         "mode": "markers",
         "name": "data",
         "showlegend": false,
         "type": "scatter",
         "x": [
          1,
          3,
          1,
          3
         ],
         "y": [
          11,
          11,
          9,
          9
         ]
        },
        {
         "fill": "toself",
         "fillcolor": "#E27985",
         "hoverinfo": "none",
         "legendgroup": "S_X",
         "line": {
          "color": "#CE2D40",
          "width": 2
         },
         "name": "S_X",
         "showlegend": false,
         "type": "scatter",
         "x": [
          3,
          5,
          5,
          3,
          3
         ],
         "y": [
          9,
          9,
          11,
          11,
          9
         ]
        },
        {
         "marker": {
          "color": "#474645",
          "size": 8
         },
         "mode": "markers",
         "name": "data",
         "showlegend": false,
         "type": "scatter",
         "x": [
          3,
          5,
          3,
          5
         ],
         "y": [
          11,
          11,
          9,
          9
         ]
        },
        {
         "fill": "toself",
         "fillcolor": "#78DAF0",
         "hoverinfo": "none",
         "legendgroup": "S_Z",
         "line": {
          "color": "#128AA5",
          "width": 2
         },
         "name": "S_Z",
         "showlegend": false,
         "type": "scatter",
         "x": [
          9,
          11,
          11,
          9,
          9
         ],
         "y": [
          1,
          1,
          3,
          3,
          1
         ]
        },
        {
         "marker": {
          "color": "#474645",
          "size": 8
         },
         "mode": "markers",
         "name": "data",
         "showlegend": false,
         "type": "scatter",
         "x": [
          9,
          11,
          9,
          11
         ],
         "y": [
          3,
          3,
          1,
          1
         ]
        },
        {
         "fill": "toself",
         "fillcolor": "#E27985",
         "hoverinfo": "none",
         "legendgroup": "S_X",
         "line": {
          "color": "#CE2D40",
          "width": 2
         },
         "name": "S_X",
         "showlegend": false,
         "type": "scatter",
         "x": [
          9,
          11,
          11,
          9,
          9
         ],
         "y": [
          3,
          3,
          5,
          5,
          3
         ]
        },
        {
         "marker": {
          "color": "#474645",
          "size": 8
         },
         "mode": "markers",
         "name": "data",
         "showlegend": false,
         "type": "scatter",
         "x": [
          9,
          11,
          9,
          11
         ],
         "y": [
          5,
          5,
          3,
          3
         ]
        },
        {
         "fill": "toself",
         "fillcolor": "#78DAF0",
         "hoverinfo": "none",
         "legendgroup": "S_Z",
         "line": {
          "color": "#128AA5",
          "width": 2
         },
         "name": "S_Z",
         "showlegend": false,
         "type": "scatter",
         "x": [
          9,
          11,
          11,
          9,
          9
         ],
         "y": [
          5,
          5,
          7,
          7,
          5
         ]
        },
        {
         "marker": {
          "color": "#474645",
          "size": 8
         },
         "mode": "markers",
         "name": "data",
         "showlegend": false,
         "type": "scatter",
         "x": [
          9,
          11,
          9,
          11
         ],
         "y": [
          7,
          7,
          5,
          5
         ]
        },
        {
         "fill": "toself",
         "fillcolor": "#E27985",
         "hoverinfo": "none",
         "legendgroup": "S_X",
         "line": {
          "color": "#CE2D40",
          "width": 2
         },
         "name": "S_X",
         "showlegend": false,
         "type": "scatter",
         "x": [
          9,
          11,
          11,
          9,
          9
         ],
         "y": [
          7,
          7,
          9,
          9,
          7
         ]
        },
        {
         "marker": {
          "color": "#474645",
          "size": 8
         },
         "mode": "markers",
         "name": "data",
         "showlegend": false,
         "type": "scatter",
         "x": [
          9,
          11,
          9,
          11
         ],
         "y": [
          9,
          9,
          7,
          7
         ]
        },
        {
         "fill": "toself",
         "fillcolor": "#78DAF0",
         "hoverinfo": "none",
         "legendgroup": "S_Z",
         "line": {
          "color": "#128AA5",
          "width": 2
         },
         "name": "S_Z",
         "showlegend": false,
         "type": "scatter",
         "x": [
          9,
          11,
          11,
          9,
          9
         ],
         "y": [
          9,
          9,
          11,
          11,
          9
         ]
        },
        {
         "marker": {
          "color": "#474645",
          "size": 8
         },
         "mode": "markers",
         "name": "data",
         "showlegend": false,
         "type": "scatter",
         "x": [
          9,
          11,
          9,
          11
         ],
         "y": [
          11,
          11,
          9,
          9
         ]
        },
        {
         "fill": "toself",
         "fillcolor": "#E27985",
         "hoverinfo": "none",
         "legendgroup": "S_X",
         "line": {
          "color": "#CE2D40",
          "width": 2
         },
         "name": "S_X",
         "showlegend": false,
         "type": "scatter",
         "x": [
          1,
          3,
          3,
          1,
          1
         ],
         "y": [
          11,
          11,
          13,
          13,
          11
         ]
        },
        {
         "marker": {
          "color": "#474645",
          "size": 8
         },
         "mode": "markers",
         "name": "data",
         "showlegend": false,
         "type": "scatter",
         "x": [
          1,
          3,
          1,
          3
         ],
         "y": [
          13,
          13,
          11,
          11
         ]
        },
        {
         "fill": "toself",
         "fillcolor": "#78DAF0",
         "hoverinfo": "none",
         "legendgroup": "S_Z",
         "line": {
          "color": "#128AA5",
          "width": 2
         },
         "name": "S_Z",
         "showlegend": false,
         "type": "scatter",
         "x": [
          3,
          5,
          5,
          3,
          3
         ],
         "y": [
          11,
          11,
          13,
          13,
          11
         ]
        },
        {
         "marker": {
          "color": "#474645",
          "size": 8
         },
         "mode": "markers",
         "name": "data",
         "showlegend": false,
         "type": "scatter",
         "x": [
          3,
          5,
          3,
          5
         ],
         "y": [
          13,
          13,
          11,
          11
         ]
        },
        {
         "fill": "toself",
         "fillcolor": "#E27985",
         "hoverinfo": "none",
         "legendgroup": "S_X",
         "line": {
          "color": "#CE2D40",
          "width": 2
         },
         "name": "S_X",
         "showlegend": false,
         "type": "scatter",
         "x": [
          9,
          11,
          11,
          9,
          9
         ],
         "y": [
          11,
          11,
          13,
          13,
          11
         ]
        },
        {
         "marker": {
          "color": "#474645",
          "size": 8
         },
         "mode": "markers",
         "name": "data",
         "showlegend": false,
         "type": "scatter",
         "x": [
          9,
          11,
          9,
          11
         ],
         "y": [
          13,
          13,
          11,
          11
         ]
        },
        {
         "fill": "toself",
         "fillcolor": "#E27985",
         "hoverinfo": "none",
         "legendgroup": "S_X",
         "line": {
          "color": "#CE2D40",
          "width": 2
         },
         "name": "S_X",
         "showlegend": false,
         "type": "scatter",
         "x": [
          11,
          13,
          13,
          11,
          11
         ],
         "y": [
          1,
          1,
          3,
          3,
          1
         ]
        },
        {
         "marker": {
          "color": "#474645",
          "size": 8
         },
         "mode": "markers",
         "name": "data",
         "showlegend": false,
         "type": "scatter",
         "x": [
          11,
          13,
          11,
          13
         ],
         "y": [
          3,
          3,
          1,
          1
         ]
        },
        {
         "fill": "toself",
         "fillcolor": "#E27985",
         "hoverinfo": "none",
         "legendgroup": "S_X",
         "line": {
          "color": "#CE2D40",
          "width": 2
         },
         "name": "S_X",
         "showlegend": false,
         "type": "scatter",
         "x": [
          11,
          13,
          13,
          11,
          11
         ],
         "y": [
          5,
          5,
          7,
          7,
          5
         ]
        },
        {
         "marker": {
          "color": "#474645",
          "size": 8
         },
         "mode": "markers",
         "name": "data",
         "showlegend": false,
         "type": "scatter",
         "x": [
          11,
          11,
          13,
          13
         ],
         "y": [
          5,
          7,
          7,
          5
         ]
        },
        {
         "fill": "toself",
         "fillcolor": "#78DAF0",
         "hoverinfo": "none",
         "legendgroup": "S_Z",
         "line": {
          "color": "#128AA5",
          "width": 2
         },
         "name": "S_Z",
         "showlegend": false,
         "type": "scatter",
         "x": [
          11,
          13,
          13,
          11,
          11
         ],
         "y": [
          7,
          7,
          9,
          9,
          7
         ]
        },
        {
         "marker": {
          "color": "#474645",
          "size": 8
         },
         "mode": "markers",
         "name": "data",
         "showlegend": false,
         "type": "scatter",
         "x": [
          11,
          13,
          11,
          13
         ],
         "y": [
          9,
          9,
          7,
          7
         ]
        },
        {
         "fill": "toself",
         "fillcolor": "#E27985",
         "hoverinfo": "none",
         "legendgroup": "S_X",
         "line": {
          "color": "#CE2D40",
          "width": 2
         },
         "name": "S_X",
         "showlegend": false,
         "type": "scatter",
         "x": [
          11,
          13,
          13,
          11,
          11
         ],
         "y": [
          9,
          9,
          11,
          11,
          9
         ]
        },
        {
         "marker": {
          "color": "#474645",
          "size": 8
         },
         "mode": "markers",
         "name": "data",
         "showlegend": false,
         "type": "scatter",
         "x": [
          11,
          13,
          11,
          13
         ],
         "y": [
          11,
          11,
          9,
          9
         ]
        },
        {
         "fill": "toself",
         "fillcolor": "#78DAF0",
         "hoverinfo": "none",
         "legendgroup": "S_Z",
         "line": {
          "color": "#128AA5",
          "width": 2
         },
         "name": "S_Z",
         "showlegend": false,
         "type": "scatter",
         "x": [
          1,
          3,
          3,
          1,
          1
         ],
         "y": [
          13,
          13,
          15,
          15,
          13
         ]
        },
        {
         "marker": {
          "color": "#474645",
          "size": 8
         },
         "mode": "markers",
         "name": "data",
         "showlegend": false,
         "type": "scatter",
         "x": [
          1,
          3,
          1,
          3
         ],
         "y": [
          15,
          15,
          13,
          13
         ]
        },
        {
         "fill": "toself",
         "fillcolor": "#E27985",
         "hoverinfo": "none",
         "legendgroup": "S_X",
         "line": {
          "color": "#CE2D40",
          "width": 2
         },
         "name": "S_X",
         "showlegend": false,
         "type": "scatter",
         "x": [
          3,
          5,
          5,
          3,
          3
         ],
         "y": [
          13,
          13,
          15,
          15,
          13
         ]
        },
        {
         "marker": {
          "color": "#474645",
          "size": 8
         },
         "mode": "markers",
         "name": "data",
         "showlegend": false,
         "type": "scatter",
         "x": [
          3,
          5,
          3,
          5
         ],
         "y": [
          15,
          15,
          13,
          13
         ]
        },
        {
         "fill": "toself",
         "fillcolor": "#78DAF0",
         "hoverinfo": "none",
         "legendgroup": "S_Z",
         "line": {
          "color": "#128AA5",
          "width": 2
         },
         "name": "S_Z",
         "showlegend": false,
         "type": "scatter",
         "x": [
          5,
          7,
          7,
          5,
          5
         ],
         "y": [
          13,
          13,
          15,
          15,
          13
         ]
        },
        {
         "marker": {
          "color": "#474645",
          "size": 8
         },
         "mode": "markers",
         "name": "data",
         "showlegend": false,
         "type": "scatter",
         "x": [
          5,
          7,
          5,
          7
         ],
         "y": [
          15,
          15,
          13,
          13
         ]
        },
        {
         "fill": "toself",
         "fillcolor": "#E27985",
         "hoverinfo": "none",
         "legendgroup": "S_X",
         "line": {
          "color": "#CE2D40",
          "width": 2
         },
         "name": "S_X",
         "showlegend": false,
         "type": "scatter",
         "x": [
          7,
          9,
          9,
          7,
          7
         ],
         "y": [
          13,
          13,
          15,
          15,
          13
         ]
        },
        {
         "marker": {
          "color": "#474645",
          "size": 8
         },
         "mode": "markers",
         "name": "data",
         "showlegend": false,
         "type": "scatter",
         "x": [
          7,
          9,
          7,
          9
         ],
         "y": [
          15,
          15,
          13,
          13
         ]
        },
        {
         "fill": "toself",
         "fillcolor": "#78DAF0",
         "hoverinfo": "none",
         "legendgroup": "S_Z",
         "line": {
          "color": "#128AA5",
          "width": 2
         },
         "name": "S_Z",
         "showlegend": false,
         "type": "scatter",
         "x": [
          9,
          11,
          11,
          9,
          9
         ],
         "y": [
          13,
          13,
          15,
          15,
          13
         ]
        },
        {
         "marker": {
          "color": "#474645",
          "size": 8
         },
         "mode": "markers",
         "name": "data",
         "showlegend": false,
         "type": "scatter",
         "x": [
          9,
          11,
          9,
          11
         ],
         "y": [
          15,
          15,
          13,
          13
         ]
        },
        {
         "fill": "toself",
         "fillcolor": "#E27985",
         "hoverinfo": "none",
         "legendgroup": "S_X",
         "line": {
          "color": "#CE2D40",
          "width": 2
         },
         "name": "S_X",
         "showlegend": false,
         "type": "scatter",
         "x": [
          11,
          13,
          13,
          11,
          11
         ],
         "y": [
          13,
          13,
          15,
          15,
          13
         ]
        },
        {
         "marker": {
          "color": "#474645",
          "size": 8
         },
         "mode": "markers",
         "name": "data",
         "showlegend": false,
         "type": "scatter",
         "x": [
          11,
          13,
          11,
          13
         ],
         "y": [
          15,
          15,
          13,
          13
         ]
        },
        {
         "fill": "toself",
         "fillcolor": "#78DAF0",
         "hoverinfo": "none",
         "legendgroup": "S_Z",
         "line": {
          "color": "#128AA5",
          "width": 2
         },
         "name": "S_Z",
         "showlegend": false,
         "type": "scatter",
         "x": [
          13,
          15,
          15,
          13,
          13
         ],
         "y": [
          1,
          1,
          3,
          3,
          1
         ]
        },
        {
         "marker": {
          "color": "#474645",
          "size": 8
         },
         "mode": "markers",
         "name": "data",
         "showlegend": false,
         "type": "scatter",
         "x": [
          13,
          15,
          13,
          15
         ],
         "y": [
          3,
          3,
          1,
          1
         ]
        },
        {
         "fill": "toself",
         "fillcolor": "#E27985",
         "hoverinfo": "none",
         "legendgroup": "S_X",
         "line": {
          "color": "#CE2D40",
          "width": 2
         },
         "name": "S_X",
         "showlegend": false,
         "type": "scatter",
         "x": [
          13,
          15,
          15,
          13,
          13
         ],
         "y": [
          7,
          7,
          9,
          9,
          7
         ]
        },
        {
         "marker": {
          "color": "#474645",
          "size": 8
         },
         "mode": "markers",
         "name": "data",
         "showlegend": false,
         "type": "scatter",
         "x": [
          13,
          15,
          13,
          15
         ],
         "y": [
          9,
          9,
          7,
          7
         ]
        },
        {
         "fill": "toself",
         "fillcolor": "#E27985",
         "hoverinfo": "none",
         "legendgroup": "S_X",
         "line": {
          "color": "#CE2D40",
          "width": 2
         },
         "name": "S_X",
         "showlegend": false,
         "type": "scatter",
         "x": [
          1,
          3,
          3,
          1,
          1
         ],
         "y": [
          15,
          15,
          17,
          17,
          15
         ]
        },
        {
         "marker": {
          "color": "#474645",
          "size": 8
         },
         "mode": "markers",
         "name": "data",
         "showlegend": false,
         "type": "scatter",
         "x": [
          1,
          3,
          1,
          3
         ],
         "y": [
          17,
          17,
          15,
          15
         ]
        },
        {
         "fill": "toself",
         "fillcolor": "#78DAF0",
         "hoverinfo": "none",
         "legendgroup": "S_Z",
         "line": {
          "color": "#128AA5",
          "width": 2
         },
         "name": "S_Z",
         "showlegend": false,
         "type": "scatter",
         "x": [
          3,
          5,
          5,
          3,
          3
         ],
         "y": [
          15,
          15,
          17,
          17,
          15
         ]
        },
        {
         "marker": {
          "color": "#474645",
          "size": 8
         },
         "mode": "markers",
         "name": "data",
         "showlegend": false,
         "type": "scatter",
         "x": [
          3,
          5,
          3,
          5
         ],
         "y": [
          17,
          17,
          15,
          15
         ]
        },
        {
         "fill": "toself",
         "fillcolor": "#78DAF0",
         "hoverinfo": "none",
         "legendgroup": "S_Z",
         "line": {
          "color": "#128AA5",
          "width": 2
         },
         "name": "S_Z",
         "showlegend": false,
         "type": "scatter",
         "x": [
          7,
          9,
          9,
          7,
          7
         ],
         "y": [
          15,
          15,
          17,
          17,
          15
         ]
        },
        {
         "marker": {
          "color": "#474645",
          "size": 8
         },
         "mode": "markers",
         "name": "data",
         "showlegend": false,
         "type": "scatter",
         "x": [
          7,
          9,
          7,
          9
         ],
         "y": [
          17,
          17,
          15,
          15
         ]
        },
        {
         "fill": "toself",
         "fillcolor": "#E27985",
         "hoverinfo": "none",
         "legendgroup": "S_X",
         "line": {
          "color": "#CE2D40",
          "width": 2
         },
         "name": "S_X",
         "showlegend": false,
         "type": "scatter",
         "x": [
          9,
          11,
          11,
          9,
          9
         ],
         "y": [
          15,
          15,
          17,
          17,
          15
         ]
        },
        {
         "marker": {
          "color": "#474645",
          "size": 8
         },
         "mode": "markers",
         "name": "data",
         "showlegend": false,
         "type": "scatter",
         "x": [
          9,
          11,
          9,
          11
         ],
         "y": [
          17,
          17,
          15,
          15
         ]
        },
        {
         "fill": "toself",
         "fillcolor": "#E27985",
         "hoverinfo": "none",
         "legendgroup": "S_X",
         "line": {
          "color": "#CE2D40",
          "width": 2
         },
         "name": "S_X",
         "showlegend": false,
         "type": "scatter",
         "x": [
          15,
          17,
          17,
          15,
          15
         ],
         "y": [
          1,
          1,
          3,
          3,
          1
         ]
        },
        {
         "marker": {
          "color": "#474645",
          "size": 8
         },
         "mode": "markers",
         "name": "data",
         "showlegend": false,
         "type": "scatter",
         "x": [
          15,
          17,
          15,
          17
         ],
         "y": [
          3,
          3,
          1,
          1
         ]
        },
        {
         "fill": "toself",
         "fillcolor": "#E27985",
         "hoverinfo": "none",
         "legendgroup": "S_X",
         "line": {
          "color": "#CE2D40",
          "width": 2
         },
         "name": "S_X",
         "showlegend": false,
         "type": "scatter",
         "x": [
          15,
          17,
          17,
          15,
          15
         ],
         "y": [
          9,
          9,
          11,
          11,
          9
         ]
        },
        {
         "marker": {
          "color": "#474645",
          "size": 8
         },
         "mode": "markers",
         "name": "data",
         "showlegend": false,
         "type": "scatter",
         "x": [
          15,
          17,
          15,
          17
         ],
         "y": [
          11,
          11,
          9,
          9
         ]
        },
        {
         "fill": "toself",
         "fillcolor": "#E27985",
         "hoverinfo": "none",
         "legendgroup": "S_X",
         "line": {
          "color": "#CE2D40",
          "width": 2
         },
         "name": "S_X",
         "showlegend": false,
         "type": "scatter",
         "x": [
          15,
          17,
          17,
          15,
          15
         ],
         "y": [
          13,
          13,
          15,
          15,
          13
         ]
        },
        {
         "marker": {
          "color": "#474645",
          "size": 8
         },
         "mode": "markers",
         "name": "data",
         "showlegend": false,
         "type": "scatter",
         "x": [
          15,
          17,
          15,
          17
         ],
         "y": [
          15,
          15,
          13,
          13
         ]
        },
        {
         "fill": "toself",
         "fillcolor": "#C9A769",
         "hoverinfo": "none",
         "legendgroup": "S_X",
         "line": {
          "color": "#A5803B",
          "width": 2
         },
         "name": "S_X",
         "showlegend": false,
         "type": "scatter",
         "x": [
          1,
          3,
          3,
          1,
          1
         ],
         "y": [
          3,
          3,
          5,
          5,
          3
         ]
        },
        {
         "marker": {
          "color": "#474645",
          "size": 8
         },
         "mode": "markers",
         "name": "data",
         "showlegend": false,
         "type": "scatter",
         "x": [
          1,
          3,
          1,
          3
         ],
         "y": [
          3,
          3,
          5,
          5
         ]
        },
        {
         "fill": "toself",
         "fillcolor": "#D49587",
         "hoverinfo": "none",
         "legendgroup": "S_X",
         "line": {
          "color": "#BD5E49",
          "width": 2
         },
         "name": "S_X",
         "showlegend": false,
         "type": "scatter",
         "x": [
          3,
          5,
          5,
          3,
          3
         ],
         "y": [
          1,
          1,
          3,
          3,
          1
         ]
        },
        {
         "marker": {
          "color": "#474645",
          "size": 8
         },
         "mode": "markers",
         "name": "data",
         "showlegend": false,
         "type": "scatter",
         "x": [
          3,
          5,
          3,
          5
         ],
         "y": [
          3,
          3,
          1,
          1
         ]
        },
        {
         "fill": "toself",
         "fillcolor": "#F1BB7E",
         "hoverinfo": "none",
         "legendgroup": "S_X",
         "line": {
          "color": "#DC8118",
          "width": 2
         },
         "name": "S_X",
         "showlegend": false,
         "type": "scatter",
         "x": [
          5,
          7,
          7,
          5,
          5
         ],
         "y": [
          15,
          15,
          17,
          17,
          15
         ]
        },
        {
         "marker": {
          "color": "#474645",
          "size": 8
         },
         "mode": "markers",
         "name": "data",
         "showlegend": false,
         "type": "scatter",
         "x": [
          5,
          7,
          5,
          7
         ],
         "y": [
          17,
          17,
          15,
          15
         ]
        },
        {
         "fill": "toself",
         "fillcolor": "#7BB5EB",
         "hoverinfo": "none",
         "legendgroup": "S_Z",
         "line": {
          "color": "#207DD5",
          "width": 2
         },
         "name": "S_Z",
         "showlegend": false,
         "type": "scatter",
         "x": [
          11,
          13,
          13,
          11,
          11
         ],
         "y": [
          3,
          3,
          5,
          5,
          3
         ]
        },
        {
         "marker": {
          "color": "#474645",
          "size": 8
         },
         "mode": "markers",
         "name": "data",
         "showlegend": false,
         "type": "scatter",
         "x": [
          11,
          11,
          13,
          13
         ],
         "y": [
          3,
          5,
          5,
          3
         ]
        },
        {
         "fill": "toself",
         "fillcolor": "#7BB5EB",
         "hoverinfo": "none",
         "legendgroup": "S_Z",
         "line": {
          "color": "#207DD5",
          "width": 2
         },
         "name": "S_Z",
         "showlegend": false,
         "type": "scatter",
         "x": [
          15,
          17,
          17,
          15,
          15
         ],
         "y": [
          3,
          3,
          5,
          5,
          3
         ]
        },
        {
         "marker": {
          "color": "#474645",
          "size": 8
         },
         "mode": "markers",
         "name": "data",
         "showlegend": false,
         "type": "scatter",
         "x": [
          15,
          17,
          15,
          17
         ],
         "y": [
          5,
          5,
          3,
          3
         ]
        },
        {
         "fill": "toself",
         "fillcolor": "#B3BFD0",
         "hoverinfo": "none",
         "legendgroup": "S_Z",
         "line": {
          "color": "#5D7598",
          "width": 2
         },
         "name": "S_Z",
         "showlegend": false,
         "type": "scatter",
         "x": [
          15,
          17,
          17,
          15,
          15
         ],
         "y": [
          7,
          7,
          9,
          9,
          7
         ]
        },
        {
         "marker": {
          "color": "#474645",
          "size": 8
         },
         "mode": "markers",
         "name": "data",
         "showlegend": false,
         "type": "scatter",
         "x": [
          15,
          17,
          15,
          17
         ],
         "y": [
          9,
          9,
          7,
          7
         ]
        },
        {
         "fill": "toself",
         "fillcolor": "#D2AAF0",
         "hoverinfo": "none",
         "legendgroup": "S_Z",
         "line": {
          "color": "#A352E0",
          "width": 2
         },
         "name": "S_Z",
         "showlegend": false,
         "type": "scatter",
         "x": [
          11,
          13,
          13,
          11,
          11
         ],
         "y": [
          11,
          11,
          13,
          13,
          11
         ]
        },
        {
         "marker": {
          "color": "#474645",
          "size": 8
         },
         "mode": "markers",
         "name": "data",
         "showlegend": false,
         "type": "scatter",
         "x": [
          11,
          13,
          11,
          13
         ],
         "y": [
          13,
          13,
          11,
          11
         ]
        },
        {
         "fill": "toself",
         "fillcolor": "#9C97FB",
         "hoverinfo": "none",
         "legendgroup": "S_Z",
         "line": {
          "color": "#564EF9",
          "width": 2
         },
         "name": "S_Z",
         "showlegend": false,
         "type": "scatter",
         "x": [
          13,
          15,
          15,
          13,
          13
         ],
         "y": [
          13,
          13,
          15,
          15,
          13
         ]
        },
        {
         "marker": {
          "color": "#474645",
          "size": 8
         },
         "mode": "markers",
         "name": "data",
         "showlegend": false,
         "type": "scatter",
         "x": [
          13,
          13,
          15,
          15
         ],
         "y": [
          13,
          15,
          15,
          13
         ]
        },
        {
         "fill": "toself",
         "fillcolor": "#9C97FB",
         "hoverinfo": "none",
         "legendgroup": "S_Z",
         "line": {
          "color": "#564EF9",
          "width": 2
         },
         "name": "S_Z",
         "showlegend": false,
         "type": "scatter",
         "x": [
          13,
          15,
          15,
          13,
          13
         ],
         "y": [
          9,
          9,
          11,
          11,
          9
         ]
        },
        {
         "marker": {
          "color": "#474645",
          "size": 8
         },
         "mode": "markers",
         "name": "data",
         "showlegend": false,
         "type": "scatter",
         "x": [
          13,
          13,
          15,
          15
         ],
         "y": [
          9,
          11,
          11,
          9
         ]
        },
        {
         "fill": "toself",
         "fillcolor": "#7BB5EB",
         "hoverinfo": "none",
         "legendgroup": "S_Z",
         "line": {
          "color": "#207DD5",
          "width": 2
         },
         "name": "S_Z",
         "showlegend": false,
         "type": "scatter",
         "x": [
          15,
          17,
          17,
          15,
          15
         ],
         "y": [
          11,
          11,
          13,
          13,
          11
         ]
        },
        {
         "marker": {
          "color": "#474645",
          "size": 8
         },
         "mode": "markers",
         "name": "data",
         "showlegend": false,
         "type": "scatter",
         "x": [
          15,
          17,
          15,
          17
         ],
         "y": [
          13,
          13,
          11,
          11
         ]
        },
        {
         "fill": "toself",
         "fillcolor": "#78DAF0",
         "hoverinfo": "none",
         "legendgroup": "S_Z",
         "line": {
          "color": "#128AA5",
          "width": 2
         },
         "name": "S_Z",
         "showlegend": false,
         "type": "scatter",
         "x": [
          11,
          11,
          13,
          11
         ],
         "y": [
          17,
          15,
          15,
          17
         ]
        },
        {
         "marker": {
          "color": "#474645",
          "size": 8
         },
         "mode": "markers",
         "name": "data",
         "showlegend": false,
         "type": "scatter",
         "x": [
          11,
          11,
          13
         ],
         "y": [
          17,
          15,
          15
         ]
        },
        {
         "fill": "toself",
         "fillcolor": "#78DAF0",
         "hoverinfo": "none",
         "legendgroup": "S_Z",
         "line": {
          "color": "#128AA5",
          "width": 2
         },
         "name": "S_Z",
         "showlegend": false,
         "type": "scatter",
         "x": [
          17,
          15,
          17,
          17
         ],
         "y": [
          17,
          15,
          15,
          17
         ]
        },
        {
         "marker": {
          "color": "#474645",
          "size": 8
         },
         "mode": "markers",
         "name": "data",
         "showlegend": false,
         "type": "scatter",
         "x": [
          17,
          15,
          17
         ],
         "y": [
          17,
          15,
          15
         ]
        },
        {
         "fill": "toself",
         "fillcolor": "#C9A769",
         "hoverinfo": "none",
         "legendgroup": "S_X",
         "line": {
          "color": "#A5803B",
          "width": 2
         },
         "name": "S_X",
         "showlegend": false,
         "type": "scatter",
         "x": [
          5,
          5,
          7,
          5
         ],
         "y": [
          7,
          9,
          9,
          7
         ]
        },
        {
         "marker": {
          "color": "#474645",
          "size": 8
         },
         "mode": "markers",
         "name": "data",
         "showlegend": false,
         "type": "scatter",
         "x": [
          5,
          5,
          7
         ],
         "y": [
          7,
          9,
          9
         ]
        },
        {
         "fill": "toself",
         "fillcolor": "#C9A769",
         "hoverinfo": "none",
         "legendgroup": "S_X",
         "line": {
          "color": "#A5803B",
          "width": 2
         },
         "name": "S_X",
         "showlegend": false,
         "type": "scatter",
         "x": [
          5,
          5,
          7,
          5
         ],
         "y": [
          3,
          5,
          3,
          3
         ]
        },
        {
         "marker": {
          "color": "#474645",
          "size": 8
         },
         "mode": "markers",
         "name": "data",
         "showlegend": false,
         "type": "scatter",
         "x": [
          5,
          5,
          7
         ],
         "y": [
          3,
          5,
          3
         ]
        },
        {
         "fill": "toself",
         "fillcolor": "#D2AAF0",
         "hoverinfo": "none",
         "legendgroup": "S_Z",
         "line": {
          "color": "#A352E0",
          "width": 2
         },
         "name": "S_Z",
         "showlegend": false,
         "type": "scatter",
         "x": [
          1,
          3,
          1,
          1
         ],
         "y": [
          5,
          5,
          7,
          5
         ]
        },
        {
         "marker": {
          "color": "#474645",
          "size": 8
         },
         "mode": "markers",
         "name": "data",
         "showlegend": false,
         "type": "scatter",
         "x": [
          1,
          3,
          1
         ],
         "y": [
          5,
          5,
          7
         ]
        },
        {
         "fill": "toself",
         "fillcolor": "#D2AAF0",
         "hoverinfo": "none",
         "legendgroup": "S_Z",
         "line": {
          "color": "#A352E0",
          "width": 2
         },
         "name": "S_Z",
         "showlegend": false,
         "type": "scatter",
         "x": [
          5,
          3,
          5,
          5
         ],
         "y": [
          7,
          9,
          9,
          7
         ]
        },
        {
         "marker": {
          "color": "#474645",
          "size": 8
         },
         "mode": "markers",
         "name": "data",
         "showlegend": false,
         "type": "scatter",
         "x": [
          5,
          3,
          5
         ],
         "y": [
          7,
          9,
          9
         ]
        },
        {
         "fill": "toself",
         "fillcolor": "#EE8F6D",
         "hoverinfo": "none",
         "legendgroup": "S_X",
         "line": {
          "color": "#E55724",
          "width": 2
         },
         "name": "S_X",
         "showlegend": false,
         "type": "scatter",
         "x": [
          3,
          5,
          5,
          3
         ],
         "y": [
          5,
          5,
          7,
          5
         ]
        },
        {
         "marker": {
          "color": "#474645",
          "size": 8
         },
         "mode": "markers",
         "name": "data",
         "showlegend": false,
         "type": "scatter",
         "x": [
          3,
          5,
          5
         ],
         "y": [
          5,
          5,
          7
         ]
        },
        {
         "fill": "toself",
         "fillcolor": "#EE8F6D",
         "hoverinfo": "none",
         "legendgroup": "S_X",
         "line": {
          "color": "#E55724",
          "width": 2
         },
         "name": "S_X",
         "showlegend": false,
         "type": "scatter",
         "x": [
          1,
          1,
          3,
          1
         ],
         "y": [
          7,
          9,
          9,
          7
         ]
        },
        {
         "marker": {
          "color": "#474645",
          "size": 8
         },
         "mode": "markers",
         "name": "data",
         "showlegend": false,
         "type": "scatter",
         "x": [
          1,
          1,
          3
         ],
         "y": [
          7,
          9,
          9
         ]
        },
        {
         "fill": "toself",
         "fillcolor": "#B3BFD0",
         "hoverinfo": "none",
         "legendgroup": "S_Z",
         "line": {
          "color": "#5D7598",
          "width": 2
         },
         "name": "S_Z",
         "showlegend": false,
         "type": "scatter",
         "x": [
          7,
          9,
          9,
          7
         ],
         "y": [
          3,
          5,
          3,
          3
         ]
        },
        {
         "marker": {
          "color": "#474645",
          "size": 8
         },
         "mode": "markers",
         "name": "data",
         "showlegend": false,
         "type": "scatter",
         "x": [
          7,
          9,
          9
         ],
         "y": [
          3,
          5,
          3
         ]
        },
        {
         "fill": "toself",
         "fillcolor": "#B3BFD0",
         "hoverinfo": "none",
         "legendgroup": "S_Z",
         "line": {
          "color": "#5D7598",
          "width": 2
         },
         "name": "S_Z",
         "showlegend": false,
         "type": "scatter",
         "x": [
          7,
          9,
          9,
          7
         ],
         "y": [
          9,
          9,
          7,
          9
         ]
        },
        {
         "marker": {
          "color": "#474645",
          "size": 8
         },
         "mode": "markers",
         "name": "data",
         "showlegend": false,
         "type": "scatter",
         "x": [
          7,
          9,
          9
         ],
         "y": [
          9,
          9,
          7
         ]
        },
        {
         "fill": "toself",
         "fillcolor": "#D2AAF0",
         "hoverinfo": "none",
         "legendgroup": "S_Z",
         "line": {
          "color": "#A352E0",
          "width": 2
         },
         "name": "S_Z",
         "showlegend": false,
         "type": "scatter",
         "x": [
          5,
          5,
          7,
          5
         ],
         "y": [
          11,
          9,
          9,
          11
         ]
        },
        {
         "marker": {
          "color": "#474645",
          "size": 8
         },
         "mode": "markers",
         "name": "data",
         "showlegend": false,
         "type": "scatter",
         "x": [
          5,
          5,
          7
         ],
         "y": [
          11,
          9,
          9
         ]
        },
        {
         "fill": "toself",
         "fillcolor": "#D2AAF0",
         "hoverinfo": "none",
         "legendgroup": "S_Z",
         "line": {
          "color": "#A352E0",
          "width": 2
         },
         "name": "S_Z",
         "showlegend": false,
         "type": "scatter",
         "x": [
          9,
          7,
          9,
          9
         ],
         "y": [
          11,
          13,
          13,
          11
         ]
        },
        {
         "marker": {
          "color": "#474645",
          "size": 8
         },
         "mode": "markers",
         "name": "data",
         "showlegend": false,
         "type": "scatter",
         "x": [
          9,
          7,
          9
         ],
         "y": [
          11,
          13,
          13
         ]
        },
        {
         "fill": "toself",
         "fillcolor": "#D49587",
         "hoverinfo": "none",
         "legendgroup": "S_X",
         "line": {
          "color": "#BD5E49",
          "width": 2
         },
         "name": "S_X",
         "showlegend": false,
         "type": "scatter",
         "x": [
          9,
          9,
          7,
          9
         ],
         "y": [
          11,
          9,
          9,
          11
         ]
        },
        {
         "marker": {
          "color": "#474645",
          "size": 8
         },
         "mode": "markers",
         "name": "data",
         "showlegend": false,
         "type": "scatter",
         "x": [
          9,
          9,
          7
         ],
         "y": [
          11,
          9,
          9
         ]
        },
        {
         "fill": "toself",
         "fillcolor": "#D49587",
         "hoverinfo": "none",
         "legendgroup": "S_X",
         "line": {
          "color": "#BD5E49",
          "width": 2
         },
         "name": "S_X",
         "showlegend": false,
         "type": "scatter",
         "x": [
          5,
          7,
          5,
          5
         ],
         "y": [
          13,
          13,
          11,
          13
         ]
        },
        {
         "marker": {
          "color": "#474645",
          "size": 8
         },
         "mode": "markers",
         "name": "data",
         "showlegend": false,
         "type": "scatter",
         "x": [
          5,
          7,
          5
         ],
         "y": [
          13,
          13,
          11
         ]
        },
        {
         "fill": "toself",
         "fillcolor": "#E27985",
         "hoverinfo": "none",
         "legendgroup": "S_X",
         "line": {
          "color": "#CE2D40",
          "width": 2
         },
         "name": "S_X",
         "showlegend": false,
         "type": "scatter",
         "x": [
          0,
          1,
          1,
          0
         ],
         "y": [
          2,
          3,
          1,
          2
         ]
        },
        {
         "marker": {
          "color": "#474645",
          "size": 8
         },
         "mode": "markers",
         "name": "data",
         "showlegend": false,
         "type": "scatter",
         "x": [
          1,
          1
         ],
         "y": [
          3,
          1
         ]
        },
        {
         "fill": "toself",
         "fillcolor": "#78DAF0",
         "hoverinfo": "none",
         "legendgroup": "S_Z",
         "line": {
          "color": "#128AA5",
          "width": 2
         },
         "name": "S_Z",
         "showlegend": false,
         "type": "scatter",
         "x": [
          4,
          3,
          5,
          4
         ],
         "y": [
          0,
          1,
          1,
          0
         ]
        },
        {
         "marker": {
          "color": "#474645",
          "size": 8
         },
         "mode": "markers",
         "name": "data",
         "showlegend": false,
         "type": "scatter",
         "x": [
          3,
          5
         ],
         "y": [
          1,
          1
         ]
        },
        {
         "fill": "toself",
         "fillcolor": "#E27985",
         "hoverinfo": "none",
         "legendgroup": "S_X",
         "line": {
          "color": "#CE2D40",
          "width": 2
         },
         "name": "S_X",
         "showlegend": false,
         "type": "scatter",
         "x": [
          0,
          1,
          1,
          0
         ],
         "y": [
          6,
          7,
          5,
          6
         ]
        },
        {
         "marker": {
          "color": "#474645",
          "size": 8
         },
         "mode": "markers",
         "name": "data",
         "showlegend": false,
         "type": "scatter",
         "x": [
          1,
          1
         ],
         "y": [
          7,
          5
         ]
        },
        {
         "fill": "toself",
         "fillcolor": "#78DAF0",
         "hoverinfo": "none",
         "legendgroup": "S_Z",
         "line": {
          "color": "#128AA5",
          "width": 2
         },
         "name": "S_Z",
         "showlegend": false,
         "type": "scatter",
         "x": [
          8,
          7,
          9,
          8
         ],
         "y": [
          0,
          1,
          1,
          0
         ]
        },
        {
         "marker": {
          "color": "#474645",
          "size": 8
         },
         "mode": "markers",
         "name": "data",
         "showlegend": false,
         "type": "scatter",
         "x": [
          7,
          9
         ],
         "y": [
          1,
          1
         ]
        },
        {
         "fill": "toself",
         "fillcolor": "#E27985",
         "hoverinfo": "none",
         "legendgroup": "S_X",
         "line": {
          "color": "#CE2D40",
          "width": 2
         },
         "name": "S_X",
         "showlegend": false,
         "type": "scatter",
         "x": [
          0,
          1,
          1,
          0
         ],
         "y": [
          10,
          11,
          9,
          10
         ]
        },
        {
         "marker": {
          "color": "#474645",
          "size": 8
         },
         "mode": "markers",
         "name": "data",
         "showlegend": false,
         "type": "scatter",
         "x": [
          1,
          1
         ],
         "y": [
          11,
          9
         ]
        },
        {
         "fill": "toself",
         "fillcolor": "#78DAF0",
         "hoverinfo": "none",
         "legendgroup": "S_Z",
         "line": {
          "color": "#128AA5",
          "width": 2
         },
         "name": "S_Z",
         "showlegend": false,
         "type": "scatter",
         "x": [
          12,
          11,
          13,
          12
         ],
         "y": [
          0,
          1,
          1,
          0
         ]
        },
        {
         "marker": {
          "color": "#474645",
          "size": 8
         },
         "mode": "markers",
         "name": "data",
         "showlegend": false,
         "type": "scatter",
         "x": [
          11,
          13
         ],
         "y": [
          1,
          1
         ]
        },
        {
         "fill": "toself",
         "fillcolor": "#E27985",
         "hoverinfo": "none",
         "legendgroup": "S_X",
         "line": {
          "color": "#CE2D40",
          "width": 2
         },
         "name": "S_X",
         "showlegend": false,
         "type": "scatter",
         "x": [
          0,
          1,
          1,
          0
         ],
         "y": [
          14,
          15,
          13,
          14
         ]
        },
        {
         "marker": {
          "color": "#474645",
          "size": 8
         },
         "mode": "markers",
         "name": "data",
         "showlegend": false,
         "type": "scatter",
         "x": [
          1,
          1
         ],
         "y": [
          15,
          13
         ]
        },
        {
         "fill": "toself",
         "fillcolor": "#78DAF0",
         "hoverinfo": "none",
         "legendgroup": "S_Z",
         "line": {
          "color": "#128AA5",
          "width": 2
         },
         "name": "S_Z",
         "showlegend": false,
         "type": "scatter",
         "x": [
          16,
          15,
          17,
          16
         ],
         "y": [
          0,
          1,
          1,
          0
         ]
        },
        {
         "marker": {
          "color": "#474645",
          "size": 8
         },
         "mode": "markers",
         "name": "data",
         "showlegend": false,
         "type": "scatter",
         "x": [
          15,
          17
         ],
         "y": [
          1,
          1
         ]
        },
        {
         "fill": "toself",
         "fillcolor": "#78DAF0",
         "hoverinfo": "none",
         "legendgroup": "S_Z",
         "line": {
          "color": "#128AA5",
          "width": 2
         },
         "name": "S_Z",
         "showlegend": false,
         "type": "scatter",
         "x": [
          2,
          1,
          3,
          2
         ],
         "y": [
          18,
          17,
          17,
          18
         ]
        },
        {
         "marker": {
          "color": "#474645",
          "size": 8
         },
         "mode": "markers",
         "name": "data",
         "showlegend": false,
         "type": "scatter",
         "x": [
          1,
          3
         ],
         "y": [
          17,
          17
         ]
        },
        {
         "fill": "toself",
         "fillcolor": "#78DAF0",
         "hoverinfo": "none",
         "legendgroup": "S_Z",
         "line": {
          "color": "#128AA5",
          "width": 2
         },
         "name": "S_Z",
         "showlegend": false,
         "type": "scatter",
         "x": [
          10,
          9,
          11,
          10
         ],
         "y": [
          18,
          17,
          17,
          18
         ]
        },
        {
         "marker": {
          "color": "#474645",
          "size": 8
         },
         "mode": "markers",
         "name": "data",
         "showlegend": false,
         "type": "scatter",
         "x": [
          9,
          11
         ],
         "y": [
          17,
          17
         ]
        },
        {
         "fill": "toself",
         "fillcolor": "#E27985",
         "hoverinfo": "none",
         "legendgroup": "S_X",
         "line": {
          "color": "#CE2D40",
          "width": 2
         },
         "name": "S_X",
         "showlegend": false,
         "type": "scatter",
         "x": [
          18,
          17,
          17,
          18
         ],
         "y": [
          4,
          5,
          3,
          4
         ]
        },
        {
         "marker": {
          "color": "#474645",
          "size": 8
         },
         "mode": "markers",
         "name": "data",
         "showlegend": false,
         "type": "scatter",
         "x": [
          17,
          17
         ],
         "y": [
          5,
          3
         ]
        },
        {
         "fill": "toself",
         "fillcolor": "#E27985",
         "hoverinfo": "none",
         "legendgroup": "S_X",
         "line": {
          "color": "#CE2D40",
          "width": 2
         },
         "name": "S_X",
         "showlegend": false,
         "type": "scatter",
         "x": [
          18,
          17,
          17,
          18
         ],
         "y": [
          8,
          9,
          7,
          8
         ]
        },
        {
         "marker": {
          "color": "#474645",
          "size": 8
         },
         "mode": "markers",
         "name": "data",
         "showlegend": false,
         "type": "scatter",
         "x": [
          17,
          17
         ],
         "y": [
          9,
          7
         ]
        },
        {
         "fill": "toself",
         "fillcolor": "#E27985",
         "hoverinfo": "none",
         "legendgroup": "S_X",
         "line": {
          "color": "#CE2D40",
          "width": 2
         },
         "name": "S_X",
         "showlegend": false,
         "type": "scatter",
         "x": [
          18,
          17,
          17,
          18
         ],
         "y": [
          12,
          13,
          11,
          12
         ]
        },
        {
         "marker": {
          "color": "#474645",
          "size": 8
         },
         "mode": "markers",
         "name": "data",
         "showlegend": false,
         "type": "scatter",
         "x": [
          17,
          17
         ],
         "y": [
          13,
          11
         ]
        },
        {
         "fill": "toself",
         "fillcolor": "#E27985",
         "hoverinfo": "none",
         "legendgroup": "S_X",
         "line": {
          "color": "#CE2D40",
          "width": 2
         },
         "name": "S_X",
         "showlegend": false,
         "type": "scatter",
         "x": [
          18,
          17,
          17,
          18
         ],
         "y": [
          16,
          17,
          15,
          16
         ]
        },
        {
         "marker": {
          "color": "#474645",
          "size": 8
         },
         "mode": "markers",
         "name": "data",
         "showlegend": false,
         "type": "scatter",
         "x": [
          17,
          17
         ],
         "y": [
          17,
          15
         ]
        },
        {
         "fill": "toself",
         "fillcolor": "#C9A769",
         "hoverinfo": "none",
         "legendgroup": "S_X",
         "line": {
          "color": "#A5803B",
          "width": 2
         },
         "name": "S_X",
         "showlegend": false,
         "type": "scatter",
         "x": [
          8,
          9,
          9,
          8
         ],
         "y": [
          6,
          7,
          5,
          6
         ]
        },
        {
         "marker": {
          "color": "#474645",
          "size": 8
         },
         "mode": "markers",
         "name": "data",
         "showlegend": false,
         "type": "scatter",
         "x": [
          9,
          9
         ],
         "y": [
          7,
          5
         ]
        },
        {
         "fill": "toself",
         "fillcolor": "#7BB5EB",
         "hoverinfo": "none",
         "legendgroup": "S_Z",
         "line": {
          "color": "#207DD5",
          "width": 2
         },
         "name": "S_Z",
         "showlegend": false,
         "type": "scatter",
         "x": [
          4,
          5,
          3,
          4
         ],
         "y": [
          6,
          5,
          5,
          6
         ]
        },
        {
         "marker": {
          "color": "#474645",
          "size": 8
         },
         "mode": "markers",
         "name": "data",
         "showlegend": false,
         "type": "scatter",
         "x": [
          5,
          3
         ],
         "y": [
          5,
          5
         ]
        },
        {
         "fill": "toself",
         "fillcolor": "#7BB5EB",
         "hoverinfo": "none",
         "legendgroup": "S_Z",
         "line": {
          "color": "#207DD5",
          "width": 2
         },
         "name": "S_Z",
         "showlegend": false,
         "type": "scatter",
         "x": [
          4,
          5,
          3,
          4
         ],
         "y": [
          2,
          3,
          3,
          2
         ]
        },
        {
         "marker": {
          "color": "#474645",
          "size": 8
         },
         "mode": "markers",
         "name": "data",
         "showlegend": false,
         "type": "scatter",
         "x": [
          5,
          3
         ],
         "y": [
          3,
          3
         ]
        },
        {
         "fill": "toself",
         "fillcolor": "#B3BFD0",
         "hoverinfo": "none",
         "legendgroup": "S_Z",
         "line": {
          "color": "#5D7598",
          "width": 2
         },
         "name": "S_Z",
         "showlegend": false,
         "type": "scatter",
         "x": [
          6,
          5,
          5,
          6
         ],
         "y": [
          6,
          7,
          5,
          6
         ]
        },
        {
         "marker": {
          "color": "#474645",
          "size": 8
         },
         "mode": "markers",
         "name": "data",
         "showlegend": false,
         "type": "scatter",
         "x": [
          5,
          5
         ],
         "y": [
          7,
          5
         ]
        },
        {
         "fill": "toself",
         "fillcolor": "#7BB5EB",
         "hoverinfo": "none",
         "legendgroup": "S_Z",
         "line": {
          "color": "#207DD5",
          "width": 2
         },
         "name": "S_Z",
         "showlegend": false,
         "type": "scatter",
         "x": [
          6,
          7,
          5,
          6
         ],
         "y": [
          16,
          17,
          17,
          16
         ]
        },
        {
         "marker": {
          "color": "#474645",
          "size": 8
         },
         "mode": "markers",
         "name": "data",
         "showlegend": false,
         "type": "scatter",
         "x": [
          7,
          5
         ],
         "y": [
          17,
          17
         ]
        },
        {
         "fill": "toself",
         "fillcolor": "#C9A769",
         "hoverinfo": "none",
         "legendgroup": "S_X",
         "line": {
          "color": "#A5803B",
          "width": 2
         },
         "name": "S_X",
         "showlegend": false,
         "type": "scatter",
         "x": [
          14,
          15,
          13,
          14
         ],
         "y": [
          6,
          5,
          5,
          6
         ]
        },
        {
         "marker": {
          "color": "#474645",
          "size": 8
         },
         "mode": "markers",
         "name": "data",
         "showlegend": false,
         "type": "scatter",
         "x": [
          15,
          13
         ],
         "y": [
          5,
          5
         ]
        },
        {
         "fill": "toself",
         "fillcolor": "#C9A769",
         "hoverinfo": "none",
         "legendgroup": "S_X",
         "line": {
          "color": "#A5803B",
          "width": 2
         },
         "name": "S_X",
         "showlegend": false,
         "type": "scatter",
         "x": [
          14,
          15,
          13,
          14
         ],
         "y": [
          4,
          3,
          3,
          4
         ]
        },
        {
         "marker": {
          "color": "#474645",
          "size": 8
         },
         "mode": "markers",
         "name": "data",
         "showlegend": false,
         "type": "scatter",
         "x": [
          15,
          13
         ],
         "y": [
          3,
          3
         ]
        },
        {
         "fill": "toself",
         "fillcolor": "#F1BB7E",
         "hoverinfo": "none",
         "legendgroup": "S_X",
         "line": {
          "color": "#DC8118",
          "width": 2
         },
         "name": "S_X",
         "showlegend": false,
         "type": "scatter",
         "x": [
          16,
          17,
          15,
          16
         ],
         "y": [
          4,
          5,
          5,
          4
         ]
        },
        {
         "marker": {
          "color": "#474645",
          "size": 8
         },
         "mode": "markers",
         "name": "data",
         "showlegend": false,
         "type": "scatter",
         "x": [
          17,
          15
         ],
         "y": [
          5,
          5
         ]
        },
        {
         "fill": "toself",
         "fillcolor": "#EE8F6D",
         "hoverinfo": "none",
         "legendgroup": "S_X",
         "line": {
          "color": "#E55724",
          "width": 2
         },
         "name": "S_X",
         "showlegend": false,
         "type": "scatter",
         "x": [
          16,
          17,
          15,
          16
         ],
         "y": [
          8,
          7,
          7,
          8
         ]
        },
        {
         "marker": {
          "color": "#474645",
          "size": 8
         },
         "mode": "markers",
         "name": "data",
         "showlegend": false,
         "type": "scatter",
         "x": [
          17,
          15
         ],
         "y": [
          7,
          7
         ]
        },
        {
         "fill": "toself",
         "fillcolor": "#C9A769",
         "hoverinfo": "none",
         "legendgroup": "S_X",
         "line": {
          "color": "#A5803B",
          "width": 2
         },
         "name": "S_X",
         "showlegend": false,
         "type": "scatter",
         "x": [
          12,
          13,
          13,
          12
         ],
         "y": [
          12,
          13,
          11,
          12
         ]
        },
        {
         "marker": {
          "color": "#474645",
          "size": 8
         },
         "mode": "markers",
         "name": "data",
         "showlegend": false,
         "type": "scatter",
         "x": [
          13,
          13
         ],
         "y": [
          13,
          11
         ]
        },
        {
         "fill": "toself",
         "fillcolor": "#C9A769",
         "hoverinfo": "none",
         "legendgroup": "S_X",
         "line": {
          "color": "#A5803B",
          "width": 2
         },
         "name": "S_X",
         "showlegend": false,
         "type": "scatter",
         "x": [
          16,
          15,
          15,
          16
         ],
         "y": [
          12,
          13,
          11,
          12
         ]
        },
        {
         "marker": {
          "color": "#474645",
          "size": 8
         },
         "mode": "markers",
         "name": "data",
         "showlegend": false,
         "type": "scatter",
         "x": [
          15,
          15
         ],
         "y": [
          13,
          11
         ]
        },
        {
         "hoverlabel": {
          "namelength": -1
         },
         "marker": {
          "color": "#787776",
          "size": 10
         },
         "mode": "markers",
         "name": "Ancilla XX",
         "showlegend": false,
         "type": "scatter",
         "x": [
          0
         ],
         "y": [
          2
         ]
        },
        {
         "hoverlabel": {
          "namelength": -1
         },
         "marker": {
          "color": "#787776",
          "size": 10
         },
         "mode": "markers",
         "name": "Ancilla ZZZZ",
         "showlegend": false,
         "type": "scatter",
         "x": [
          2
         ],
         "y": [
          2
         ]
        },
        {
         "hoverlabel": {
          "namelength": -1
         },
         "marker": {
          "color": "#787776",
          "size": 10
         },
         "mode": "markers",
         "name": "Ancilla ZZ",
         "showlegend": false,
         "type": "scatter",
         "x": [
          4
         ],
         "y": [
          0
         ]
        },
        {
         "hoverlabel": {
          "namelength": -1
         },
         "marker": {
          "color": "#787776",
          "size": 10
         },
         "mode": "markers",
         "name": "Ancilla XX",
         "showlegend": false,
         "type": "scatter",
         "x": [
          0
         ],
         "y": [
          6
         ]
        },
        {
         "hoverlabel": {
          "namelength": -1
         },
         "marker": {
          "color": "#787776",
          "size": 10
         },
         "mode": "markers",
         "name": "Ancilla ZZZZ",
         "showlegend": false,
         "type": "scatter",
         "x": [
          6
         ],
         "y": [
          2
         ]
        },
        {
         "hoverlabel": {
          "namelength": -1
         },
         "marker": {
          "color": "#787776",
          "size": 10
         },
         "mode": "markers",
         "name": "Ancilla ZZ",
         "showlegend": false,
         "type": "scatter",
         "x": [
          8
         ],
         "y": [
          0
         ]
        },
        {
         "hoverlabel": {
          "namelength": -1
         },
         "marker": {
          "color": "#787776",
          "size": 10
         },
         "mode": "markers",
         "name": "Ancilla XXXX",
         "showlegend": false,
         "type": "scatter",
         "x": [
          8
         ],
         "y": [
          2
         ]
        },
        {
         "hoverlabel": {
          "namelength": -1
         },
         "marker": {
          "color": "#787776",
          "size": 10
         },
         "mode": "markers",
         "name": "Ancilla XX",
         "showlegend": false,
         "type": "scatter",
         "x": [
          0
         ],
         "y": [
          10
         ]
        },
        {
         "hoverlabel": {
          "namelength": -1
         },
         "marker": {
          "color": "#787776",
          "size": 10
         },
         "mode": "markers",
         "name": "Ancilla ZZZZ",
         "showlegend": false,
         "type": "scatter",
         "x": [
          2
         ],
         "y": [
          10
         ]
        },
        {
         "hoverlabel": {
          "namelength": -1
         },
         "marker": {
          "color": "#787776",
          "size": 10
         },
         "mode": "markers",
         "name": "Ancilla XXXX",
         "showlegend": false,
         "type": "scatter",
         "x": [
          4
         ],
         "y": [
          10
         ]
        },
        {
         "hoverlabel": {
          "namelength": -1
         },
         "marker": {
          "color": "#787776",
          "size": 10
         },
         "mode": "markers",
         "name": "Ancilla ZZZZ",
         "showlegend": false,
         "type": "scatter",
         "x": [
          10
         ],
         "y": [
          2
         ]
        },
        {
         "hoverlabel": {
          "namelength": -1
         },
         "marker": {
          "color": "#787776",
          "size": 10
         },
         "mode": "markers",
         "name": "Ancilla XXXX",
         "showlegend": false,
         "type": "scatter",
         "x": [
          10
         ],
         "y": [
          4
         ]
        },
        {
         "hoverlabel": {
          "namelength": -1
         },
         "marker": {
          "color": "#787776",
          "size": 10
         },
         "mode": "markers",
         "name": "Ancilla ZZZZ",
         "showlegend": false,
         "type": "scatter",
         "x": [
          10
         ],
         "y": [
          6
         ]
        },
        {
         "hoverlabel": {
          "namelength": -1
         },
         "marker": {
          "color": "#787776",
          "size": 10
         },
         "mode": "markers",
         "name": "Ancilla XXXX",
         "showlegend": false,
         "type": "scatter",
         "x": [
          10
         ],
         "y": [
          8
         ]
        },
        {
         "hoverlabel": {
          "namelength": -1
         },
         "marker": {
          "color": "#787776",
          "size": 10
         },
         "mode": "markers",
         "name": "Ancilla ZZZZ",
         "showlegend": false,
         "type": "scatter",
         "x": [
          10
         ],
         "y": [
          10
         ]
        },
        {
         "hoverlabel": {
          "namelength": -1
         },
         "marker": {
          "color": "#787776",
          "size": 10
         },
         "mode": "markers",
         "name": "Ancilla XXXX",
         "showlegend": false,
         "type": "scatter",
         "x": [
          2
         ],
         "y": [
          12
         ]
        },
        {
         "hoverlabel": {
          "namelength": -1
         },
         "marker": {
          "color": "#787776",
          "size": 10
         },
         "mode": "markers",
         "name": "Ancilla ZZZZ",
         "showlegend": false,
         "type": "scatter",
         "x": [
          4
         ],
         "y": [
          12
         ]
        },
        {
         "hoverlabel": {
          "namelength": -1
         },
         "marker": {
          "color": "#787776",
          "size": 10
         },
         "mode": "markers",
         "name": "Ancilla XXXX",
         "showlegend": false,
         "type": "scatter",
         "x": [
          10
         ],
         "y": [
          12
         ]
        },
        {
         "hoverlabel": {
          "namelength": -1
         },
         "marker": {
          "color": "#787776",
          "size": 10
         },
         "mode": "markers",
         "name": "Ancilla ZZ",
         "showlegend": false,
         "type": "scatter",
         "x": [
          12
         ],
         "y": [
          0
         ]
        },
        {
         "hoverlabel": {
          "namelength": -1
         },
         "marker": {
          "color": "#787776",
          "size": 10
         },
         "mode": "markers",
         "name": "Ancilla XXXX",
         "showlegend": false,
         "type": "scatter",
         "x": [
          12
         ],
         "y": [
          2
         ]
        },
        {
         "hoverlabel": {
          "namelength": -1
         },
         "marker": {
          "color": "#787776",
          "size": 10
         },
         "mode": "markers",
         "name": "Ancilla XXXX",
         "showlegend": false,
         "type": "scatter",
         "x": [
          12
         ],
         "y": [
          6
         ]
        },
        {
         "hoverlabel": {
          "namelength": -1
         },
         "marker": {
          "color": "#787776",
          "size": 10
         },
         "mode": "markers",
         "name": "Ancilla ZZZZ",
         "showlegend": false,
         "type": "scatter",
         "x": [
          12
         ],
         "y": [
          8
         ]
        },
        {
         "hoverlabel": {
          "namelength": -1
         },
         "marker": {
          "color": "#787776",
          "size": 10
         },
         "mode": "markers",
         "name": "Ancilla XXXX",
         "showlegend": false,
         "type": "scatter",
         "x": [
          12
         ],
         "y": [
          10
         ]
        },
        {
         "hoverlabel": {
          "namelength": -1
         },
         "marker": {
          "color": "#787776",
          "size": 10
         },
         "mode": "markers",
         "name": "Ancilla XX",
         "showlegend": false,
         "type": "scatter",
         "x": [
          0
         ],
         "y": [
          14
         ]
        },
        {
         "hoverlabel": {
          "namelength": -1
         },
         "marker": {
          "color": "#787776",
          "size": 10
         },
         "mode": "markers",
         "name": "Ancilla ZZZZ",
         "showlegend": false,
         "type": "scatter",
         "x": [
          2
         ],
         "y": [
          14
         ]
        },
        {
         "hoverlabel": {
          "namelength": -1
         },
         "marker": {
          "color": "#787776",
          "size": 10
         },
         "mode": "markers",
         "name": "Ancilla XXXX",
         "showlegend": false,
         "type": "scatter",
         "x": [
          4
         ],
         "y": [
          14
         ]
        },
        {
         "hoverlabel": {
          "namelength": -1
         },
         "marker": {
          "color": "#787776",
          "size": 10
         },
         "mode": "markers",
         "name": "Ancilla ZZZZ",
         "showlegend": false,
         "type": "scatter",
         "x": [
          6
         ],
         "y": [
          14
         ]
        },
        {
         "hoverlabel": {
          "namelength": -1
         },
         "marker": {
          "color": "#787776",
          "size": 10
         },
         "mode": "markers",
         "name": "Ancilla XXXX",
         "showlegend": false,
         "type": "scatter",
         "x": [
          8
         ],
         "y": [
          14
         ]
        },
        {
         "hoverlabel": {
          "namelength": -1
         },
         "marker": {
          "color": "#787776",
          "size": 10
         },
         "mode": "markers",
         "name": "Ancilla ZZZZ",
         "showlegend": false,
         "type": "scatter",
         "x": [
          10
         ],
         "y": [
          14
         ]
        },
        {
         "hoverlabel": {
          "namelength": -1
         },
         "marker": {
          "color": "#787776",
          "size": 10
         },
         "mode": "markers",
         "name": "Ancilla XXXX",
         "showlegend": false,
         "type": "scatter",
         "x": [
          12
         ],
         "y": [
          14
         ]
        },
        {
         "hoverlabel": {
          "namelength": -1
         },
         "marker": {
          "color": "#787776",
          "size": 10
         },
         "mode": "markers",
         "name": "Ancilla ZZZZ",
         "showlegend": false,
         "type": "scatter",
         "x": [
          14
         ],
         "y": [
          2
         ]
        },
        {
         "hoverlabel": {
          "namelength": -1
         },
         "marker": {
          "color": "#787776",
          "size": 10
         },
         "mode": "markers",
         "name": "Ancilla XXXX",
         "showlegend": false,
         "type": "scatter",
         "x": [
          14
         ],
         "y": [
          8
         ]
        },
        {
         "hoverlabel": {
          "namelength": -1
         },
         "marker": {
          "color": "#787776",
          "size": 10
         },
         "mode": "markers",
         "name": "Ancilla XXXX",
         "showlegend": false,
         "type": "scatter",
         "x": [
          2
         ],
         "y": [
          16
         ]
        },
        {
         "hoverlabel": {
          "namelength": -1
         },
         "marker": {
          "color": "#787776",
          "size": 10
         },
         "mode": "markers",
         "name": "Ancilla ZZZZ",
         "showlegend": false,
         "type": "scatter",
         "x": [
          4
         ],
         "y": [
          16
         ]
        },
        {
         "hoverlabel": {
          "namelength": -1
         },
         "marker": {
          "color": "#787776",
          "size": 10
         },
         "mode": "markers",
         "name": "Ancilla ZZZZ",
         "showlegend": false,
         "type": "scatter",
         "x": [
          8
         ],
         "y": [
          16
         ]
        },
        {
         "hoverlabel": {
          "namelength": -1
         },
         "marker": {
          "color": "#787776",
          "size": 10
         },
         "mode": "markers",
         "name": "Ancilla XXXX",
         "showlegend": false,
         "type": "scatter",
         "x": [
          10
         ],
         "y": [
          16
         ]
        },
        {
         "hoverlabel": {
          "namelength": -1
         },
         "marker": {
          "color": "#787776",
          "size": 10
         },
         "mode": "markers",
         "name": "Ancilla ZZZ",
         "showlegend": false,
         "type": "scatter",
         "x": [
          12
         ],
         "y": [
          16
         ]
        },
        {
         "hoverlabel": {
          "namelength": -1
         },
         "marker": {
          "color": "#787776",
          "size": 10
         },
         "mode": "markers",
         "name": "Ancilla ZZ",
         "showlegend": false,
         "type": "scatter",
         "x": [
          16
         ],
         "y": [
          0
         ]
        },
        {
         "hoverlabel": {
          "namelength": -1
         },
         "marker": {
          "color": "#787776",
          "size": 10
         },
         "mode": "markers",
         "name": "Ancilla XXXX",
         "showlegend": false,
         "type": "scatter",
         "x": [
          16
         ],
         "y": [
          2
         ]
        },
        {
         "hoverlabel": {
          "namelength": -1
         },
         "marker": {
          "color": "#787776",
          "size": 10
         },
         "mode": "markers",
         "name": "Ancilla XXXX",
         "showlegend": false,
         "type": "scatter",
         "x": [
          16
         ],
         "y": [
          10
         ]
        },
        {
         "hoverlabel": {
          "namelength": -1
         },
         "marker": {
          "color": "#787776",
          "size": 10
         },
         "mode": "markers",
         "name": "Ancilla XXXX",
         "showlegend": false,
         "type": "scatter",
         "x": [
          16
         ],
         "y": [
          14
         ]
        },
        {
         "hoverlabel": {
          "namelength": -1
         },
         "marker": {
          "color": "#787776",
          "size": 10
         },
         "mode": "markers",
         "name": "Ancilla ZZZ",
         "showlegend": false,
         "type": "scatter",
         "x": [
          16
         ],
         "y": [
          16
         ]
        },
        {
         "hoverlabel": {
          "namelength": -1
         },
         "marker": {
          "color": "#787776",
          "size": 10
         },
         "mode": "markers",
         "name": "Ancilla ZZ",
         "showlegend": false,
         "type": "scatter",
         "x": [
          2
         ],
         "y": [
          18
         ]
        },
        {
         "hoverlabel": {
          "namelength": -1
         },
         "marker": {
          "color": "#787776",
          "size": 10
         },
         "mode": "markers",
         "name": "Ancilla ZZ",
         "showlegend": false,
         "type": "scatter",
         "x": [
          10
         ],
         "y": [
          18
         ]
        },
        {
         "hoverlabel": {
          "namelength": -1
         },
         "marker": {
          "color": "#787776",
          "size": 10
         },
         "mode": "markers",
         "name": "Ancilla XX",
         "showlegend": false,
         "type": "scatter",
         "x": [
          18
         ],
         "y": [
          4
         ]
        },
        {
         "hoverlabel": {
          "namelength": -1
         },
         "marker": {
          "color": "#787776",
          "size": 10
         },
         "mode": "markers",
         "name": "Ancilla XX",
         "showlegend": false,
         "type": "scatter",
         "x": [
          18
         ],
         "y": [
          8
         ]
        },
        {
         "hoverlabel": {
          "namelength": -1
         },
         "marker": {
          "color": "#787776",
          "size": 10
         },
         "mode": "markers",
         "name": "Ancilla XX",
         "showlegend": false,
         "type": "scatter",
         "x": [
          18
         ],
         "y": [
          12
         ]
        },
        {
         "hoverlabel": {
          "namelength": -1
         },
         "marker": {
          "color": "#787776",
          "size": 10
         },
         "mode": "markers",
         "name": "Ancilla XX",
         "showlegend": false,
         "type": "scatter",
         "x": [
          18
         ],
         "y": [
          16
         ]
        },
        {
         "hoverlabel": {
          "namelength": -1
         },
         "marker": {
          "color": "#787776",
          "size": 10
         },
         "mode": "markers",
         "name": "Ancilla XXX",
         "showlegend": false,
         "type": "scatter",
         "x": [
          6
         ],
         "y": [
          8
         ]
        },
        {
         "hoverlabel": {
          "namelength": -1
         },
         "marker": {
          "color": "#787776",
          "size": 10
         },
         "mode": "markers",
         "name": "Ancilla XX",
         "showlegend": false,
         "type": "scatter",
         "x": [
          8
         ],
         "y": [
          6
         ]
        },
        {
         "hoverlabel": {
          "namelength": -1
         },
         "marker": {
          "color": "#787776",
          "size": 10
         },
         "mode": "markers",
         "name": "Ancilla XXX",
         "showlegend": false,
         "type": "scatter",
         "x": [
          6
         ],
         "y": [
          4
         ]
        },
        {
         "hoverlabel": {
          "namelength": -1
         },
         "marker": {
          "color": "#787776",
          "size": 10
         },
         "mode": "markers",
         "name": "Ancilla XXXX",
         "showlegend": false,
         "type": "scatter",
         "x": [
          2
         ],
         "y": [
          4
         ]
        },
        {
         "hoverlabel": {
          "namelength": -1
         },
         "marker": {
          "color": "#787776",
          "size": 10
         },
         "mode": "markers",
         "name": "Ancilla ZZ,XXX",
         "showlegend": false,
         "type": "scatter",
         "x": [
          4
         ],
         "y": [
          6
         ]
        },
        {
         "hoverlabel": {
          "namelength": -1
         },
         "marker": {
          "color": "#787776",
          "size": 10
         },
         "mode": "markers",
         "name": "Ancilla ZZ,XXXX",
         "showlegend": false,
         "type": "scatter",
         "x": [
          4
         ],
         "y": [
          2
         ]
        },
        {
         "hoverlabel": {
          "namelength": -1
         },
         "marker": {
          "color": "#787776",
          "size": 10
         },
         "mode": "markers",
         "name": "Ancilla ZZZ",
         "showlegend": false,
         "type": "scatter",
         "x": [
          2
         ],
         "y": [
          6
         ]
        },
        {
         "hoverlabel": {
          "namelength": -1
         },
         "marker": {
          "color": "#787776",
          "size": 10
         },
         "mode": "markers",
         "name": "Ancilla ZZZ",
         "showlegend": false,
         "type": "scatter",
         "x": [
          4
         ],
         "y": [
          8
         ]
        },
        {
         "hoverlabel": {
          "namelength": -1
         },
         "marker": {
          "color": "#787776",
          "size": 10
         },
         "mode": "markers",
         "name": "Ancilla XXX",
         "showlegend": false,
         "type": "scatter",
         "x": [
          2
         ],
         "y": [
          8
         ]
        },
        {
         "hoverlabel": {
          "namelength": -1
         },
         "marker": {
          "color": "#787776",
          "size": 10
         },
         "mode": "markers",
         "name": "Ancilla ZZZ",
         "showlegend": false,
         "type": "scatter",
         "x": [
          8
         ],
         "y": [
          4
         ]
        },
        {
         "hoverlabel": {
          "namelength": -1
         },
         "marker": {
          "color": "#787776",
          "size": 10
         },
         "mode": "markers",
         "name": "Ancilla ZZ",
         "showlegend": false,
         "type": "scatter",
         "x": [
          6
         ],
         "y": [
          6
         ]
        },
        {
         "hoverlabel": {
          "namelength": -1
         },
         "marker": {
          "color": "#787776",
          "size": 10
         },
         "mode": "markers",
         "name": "Ancilla ZZZ",
         "showlegend": false,
         "type": "scatter",
         "x": [
          8
         ],
         "y": [
          8
         ]
        },
        {
         "hoverlabel": {
          "namelength": -1
         },
         "marker": {
          "color": "#787776",
          "size": 10
         },
         "mode": "markers",
         "name": "Ancilla ZZZ",
         "showlegend": false,
         "type": "scatter",
         "x": [
          6
         ],
         "y": [
          10
         ]
        },
        {
         "hoverlabel": {
          "namelength": -1
         },
         "marker": {
          "color": "#787776",
          "size": 10
         },
         "mode": "markers",
         "name": "Ancilla ZZZ",
         "showlegend": false,
         "type": "scatter",
         "x": [
          8
         ],
         "y": [
          12
         ]
        },
        {
         "hoverlabel": {
          "namelength": -1
         },
         "marker": {
          "color": "#787776",
          "size": 10
         },
         "mode": "markers",
         "name": "Ancilla XXX",
         "showlegend": false,
         "type": "scatter",
         "x": [
          8
         ],
         "y": [
          10
         ]
        },
        {
         "hoverlabel": {
          "namelength": -1
         },
         "marker": {
          "color": "#787776",
          "size": 10
         },
         "mode": "markers",
         "name": "Ancilla XXX",
         "showlegend": false,
         "type": "scatter",
         "x": [
          6
         ],
         "y": [
          12
         ]
        },
        {
         "hoverlabel": {
          "namelength": -1
         },
         "marker": {
          "color": "#787776",
          "size": 10
         },
         "mode": "markers",
         "name": "Ancilla ZZ,XXXX",
         "showlegend": false,
         "type": "scatter",
         "x": [
          6
         ],
         "y": [
          16
         ]
        },
        {
         "hoverlabel": {
          "namelength": -1
         },
         "marker": {
          "color": "#787776",
          "size": 10
         },
         "mode": "markers",
         "name": "Ancilla ZZZZ",
         "showlegend": false,
         "type": "scatter",
         "x": [
          12
         ],
         "y": [
          4
         ]
        },
        {
         "hoverlabel": {
          "namelength": -1
         },
         "marker": {
          "color": "#787776",
          "size": 10
         },
         "mode": "markers",
         "name": "Ancilla ZZZZ,XX",
         "showlegend": false,
         "type": "scatter",
         "x": [
          16
         ],
         "y": [
          4
         ]
        },
        {
         "hoverlabel": {
          "namelength": -1
         },
         "marker": {
          "color": "#787776",
          "size": 10
         },
         "mode": "markers",
         "name": "Ancilla XX",
         "showlegend": false,
         "type": "scatter",
         "x": [
          14
         ],
         "y": [
          6
         ]
        },
        {
         "hoverlabel": {
          "namelength": -1
         },
         "marker": {
          "color": "#787776",
          "size": 10
         },
         "mode": "markers",
         "name": "Ancilla XX",
         "showlegend": false,
         "type": "scatter",
         "x": [
          14
         ],
         "y": [
          4
         ]
        },
        {
         "hoverlabel": {
          "namelength": -1
         },
         "marker": {
          "color": "#787776",
          "size": 10
         },
         "mode": "markers",
         "name": "Ancilla XX,ZZZZ",
         "showlegend": false,
         "type": "scatter",
         "x": [
          16
         ],
         "y": [
          8
         ]
        },
        {
         "hoverlabel": {
          "namelength": -1
         },
         "marker": {
          "color": "#787776",
          "size": 10
         },
         "mode": "markers",
         "name": "Ancilla XX,ZZZZ",
         "showlegend": false,
         "type": "scatter",
         "x": [
          12
         ],
         "y": [
          12
         ]
        },
        {
         "hoverlabel": {
          "namelength": -1
         },
         "marker": {
          "color": "#787776",
          "size": 10
         },
         "mode": "markers",
         "name": "Ancilla XX,ZZZZ",
         "showlegend": false,
         "type": "scatter",
         "x": [
          16
         ],
         "y": [
          12
         ]
        },
        {
         "hoverlabel": {
          "namelength": -1
         },
         "marker": {
          "color": "#787776",
          "size": 10
         },
         "mode": "markers",
         "name": "Ancilla ZZZZ",
         "showlegend": false,
         "type": "scatter",
         "x": [
          14
         ],
         "y": [
          14
         ]
        },
        {
         "hoverlabel": {
          "namelength": -1
         },
         "marker": {
          "color": "#787776",
          "size": 10
         },
         "mode": "markers",
         "name": "Ancilla ZZZZ",
         "showlegend": false,
         "type": "scatter",
         "x": [
          14
         ],
         "y": [
          10
         ]
        },
        {
         "legendgroup": "Z_L",
         "line": {
          "color": "#128AA5",
          "width": 4
         },
         "name": "Z_L",
         "showlegend": false,
         "type": "scatter",
         "x": [
          1,
          1,
          1,
          1,
          1,
          1,
          1,
          1,
          1
         ],
         "y": [
          17,
          15,
          13,
          11,
          9,
          7,
          5,
          3,
          1
         ]
        },
        {
         "legendgroup": "X_L",
         "line": {
          "color": "#CE2D40",
          "width": 4
         },
         "name": "X_L",
         "showlegend": false,
         "type": "scatter",
         "x": [
          1,
          3,
          5,
          7,
          9,
          11,
          13,
          15,
          17
         ],
         "y": [
          1,
          1,
          1,
          1,
          1,
          1,
          1,
          1,
          1
         ]
        },
        {
         "legendgroup": "Z_L",
         "line": {
          "color": "#128AA5",
          "width": 4
         },
         "name": "Z_L",
         "showlegend": true,
         "type": "scatter",
         "x": [
          17,
          17,
          17,
          15,
          13,
          13,
          15,
          17,
          17,
          17,
          17,
          17,
          17
         ],
         "y": [
          1,
          3,
          5,
          5,
          5,
          7,
          7,
          7,
          9,
          11,
          13,
          15,
          17
         ]
        },
        {
         "legendgroup": "X_L",
         "line": {
          "color": "#CE2D40",
          "width": 4
         },
         "name": "X_L",
         "showlegend": true,
         "type": "scatter",
         "x": [
          17,
          15,
          13,
          11,
          9,
          7,
          5,
          3,
          1
         ],
         "y": [
          17,
          15,
          15,
          17,
          17,
          17,
          17,
          17,
          17
         ]
        },
        {
         "marker": {
          "color": "red",
          "size": 12,
          "symbol": "x"
         },
         "mode": "markers",
         "name": "qubit defect",
         "showlegend": false,
         "type": "scatter",
         "x": [
          7,
          6,
          15,
          3,
          16,
          4,
          7,
          14
         ],
         "y": [
          11,
          18,
          17,
          7,
          6,
          4,
          5,
          12
         ]
        },
        {
         "line": {
          "color": "red",
          "dash": "dot",
          "width": 2
         },
         "mode": "lines",
         "name": "link defect",
         "showlegend": false,
         "type": "scatter",
         "x": [
          14,
          14.5,
          15
         ],
         "y": [
          6,
          6.5,
          7
         ]
        },
        {
         "line": {
          "color": "red",
          "dash": "dot",
          "width": 2
         },
         "mode": "lines",
         "name": "link defect",
         "showlegend": false,
         "type": "scatter",
         "x": [
          6,
          6.5,
          7
         ],
         "y": [
          6,
          6.5,
          7
         ]
        },
        {
         "line": {
          "color": "red",
          "dash": "dot",
          "width": 2
         },
         "mode": "lines",
         "name": "link defect",
         "showlegend": false,
         "type": "scatter",
         "x": [
          14,
          13.5,
          13
         ],
         "y": [
          4,
          4.5,
          5
         ]
        }
       ],
       "layout": {
        "autosize": false,
        "template": {
         "data": {
          "bar": [
           {
            "error_x": {
             "color": "#2a3f5f"
            },
            "error_y": {
             "color": "#2a3f5f"
            },
            "marker": {
             "line": {
              "color": "#E5ECF6",
              "width": 0.5
             },
             "pattern": {
              "fillmode": "overlay",
              "size": 10,
              "solidity": 0.2
             }
            },
            "type": "bar"
           }
          ],
          "barpolar": [
           {
            "marker": {
             "line": {
              "color": "#E5ECF6",
              "width": 0.5
             },
             "pattern": {
              "fillmode": "overlay",
              "size": 10,
              "solidity": 0.2
             }
            },
            "type": "barpolar"
           }
          ],
          "carpet": [
           {
            "aaxis": {
             "endlinecolor": "#2a3f5f",
             "gridcolor": "white",
             "linecolor": "white",
             "minorgridcolor": "white",
             "startlinecolor": "#2a3f5f"
            },
            "baxis": {
             "endlinecolor": "#2a3f5f",
             "gridcolor": "white",
             "linecolor": "white",
             "minorgridcolor": "white",
             "startlinecolor": "#2a3f5f"
            },
            "type": "carpet"
           }
          ],
          "choropleth": [
           {
            "colorbar": {
             "outlinewidth": 0,
             "ticks": ""
            },
            "type": "choropleth"
           }
          ],
          "contour": [
           {
            "colorbar": {
             "outlinewidth": 0,
             "ticks": ""
            },
            "colorscale": [
             [
              0,
              "#0d0887"
             ],
             [
              0.1111111111111111,
              "#46039f"
             ],
             [
              0.2222222222222222,
              "#7201a8"
             ],
             [
              0.3333333333333333,
              "#9c179e"
             ],
             [
              0.4444444444444444,
              "#bd3786"
             ],
             [
              0.5555555555555556,
              "#d8576b"
             ],
             [
              0.6666666666666666,
              "#ed7953"
             ],
             [
              0.7777777777777778,
              "#fb9f3a"
             ],
             [
              0.8888888888888888,
              "#fdca26"
             ],
             [
              1,
              "#f0f921"
             ]
            ],
            "type": "contour"
           }
          ],
          "contourcarpet": [
           {
            "colorbar": {
             "outlinewidth": 0,
             "ticks": ""
            },
            "type": "contourcarpet"
           }
          ],
          "heatmap": [
           {
            "colorbar": {
             "outlinewidth": 0,
             "ticks": ""
            },
            "colorscale": [
             [
              0,
              "#0d0887"
             ],
             [
              0.1111111111111111,
              "#46039f"
             ],
             [
              0.2222222222222222,
              "#7201a8"
             ],
             [
              0.3333333333333333,
              "#9c179e"
             ],
             [
              0.4444444444444444,
              "#bd3786"
             ],
             [
              0.5555555555555556,
              "#d8576b"
             ],
             [
              0.6666666666666666,
              "#ed7953"
             ],
             [
              0.7777777777777778,
              "#fb9f3a"
             ],
             [
              0.8888888888888888,
              "#fdca26"
             ],
             [
              1,
              "#f0f921"
             ]
            ],
            "type": "heatmap"
           }
          ],
          "heatmapgl": [
           {
            "colorbar": {
             "outlinewidth": 0,
             "ticks": ""
            },
            "colorscale": [
             [
              0,
              "#0d0887"
             ],
             [
              0.1111111111111111,
              "#46039f"
             ],
             [
              0.2222222222222222,
              "#7201a8"
             ],
             [
              0.3333333333333333,
              "#9c179e"
             ],
             [
              0.4444444444444444,
              "#bd3786"
             ],
             [
              0.5555555555555556,
              "#d8576b"
             ],
             [
              0.6666666666666666,
              "#ed7953"
             ],
             [
              0.7777777777777778,
              "#fb9f3a"
             ],
             [
              0.8888888888888888,
              "#fdca26"
             ],
             [
              1,
              "#f0f921"
             ]
            ],
            "type": "heatmapgl"
           }
          ],
          "histogram": [
           {
            "marker": {
             "pattern": {
              "fillmode": "overlay",
              "size": 10,
              "solidity": 0.2
             }
            },
            "type": "histogram"
           }
          ],
          "histogram2d": [
           {
            "colorbar": {
             "outlinewidth": 0,
             "ticks": ""
            },
            "colorscale": [
             [
              0,
              "#0d0887"
             ],
             [
              0.1111111111111111,
              "#46039f"
             ],
             [
              0.2222222222222222,
              "#7201a8"
             ],
             [
              0.3333333333333333,
              "#9c179e"
             ],
             [
              0.4444444444444444,
              "#bd3786"
             ],
             [
              0.5555555555555556,
              "#d8576b"
             ],
             [
              0.6666666666666666,
              "#ed7953"
             ],
             [
              0.7777777777777778,
              "#fb9f3a"
             ],
             [
              0.8888888888888888,
              "#fdca26"
             ],
             [
              1,
              "#f0f921"
             ]
            ],
            "type": "histogram2d"
           }
          ],
          "histogram2dcontour": [
           {
            "colorbar": {
             "outlinewidth": 0,
             "ticks": ""
            },
            "colorscale": [
             [
              0,
              "#0d0887"
             ],
             [
              0.1111111111111111,
              "#46039f"
             ],
             [
              0.2222222222222222,
              "#7201a8"
             ],
             [
              0.3333333333333333,
              "#9c179e"
             ],
             [
              0.4444444444444444,
              "#bd3786"
             ],
             [
              0.5555555555555556,
              "#d8576b"
             ],
             [
              0.6666666666666666,
              "#ed7953"
             ],
             [
              0.7777777777777778,
              "#fb9f3a"
             ],
             [
              0.8888888888888888,
              "#fdca26"
             ],
             [
              1,
              "#f0f921"
             ]
            ],
            "type": "histogram2dcontour"
           }
          ],
          "mesh3d": [
           {
            "colorbar": {
             "outlinewidth": 0,
             "ticks": ""
            },
            "type": "mesh3d"
           }
          ],
          "parcoords": [
           {
            "line": {
             "colorbar": {
              "outlinewidth": 0,
              "ticks": ""
             }
            },
            "type": "parcoords"
           }
          ],
          "pie": [
           {
            "automargin": true,
            "type": "pie"
           }
          ],
          "scatter": [
           {
            "fillpattern": {
             "fillmode": "overlay",
             "size": 10,
             "solidity": 0.2
            },
            "type": "scatter"
           }
          ],
          "scatter3d": [
           {
            "line": {
             "colorbar": {
              "outlinewidth": 0,
              "ticks": ""
             }
            },
            "marker": {
             "colorbar": {
              "outlinewidth": 0,
              "ticks": ""
             }
            },
            "type": "scatter3d"
           }
          ],
          "scattercarpet": [
           {
            "marker": {
             "colorbar": {
              "outlinewidth": 0,
              "ticks": ""
             }
            },
            "type": "scattercarpet"
           }
          ],
          "scattergeo": [
           {
            "marker": {
             "colorbar": {
              "outlinewidth": 0,
              "ticks": ""
             }
            },
            "type": "scattergeo"
           }
          ],
          "scattergl": [
           {
            "marker": {
             "colorbar": {
              "outlinewidth": 0,
              "ticks": ""
             }
            },
            "type": "scattergl"
           }
          ],
          "scattermapbox": [
           {
            "marker": {
             "colorbar": {
              "outlinewidth": 0,
              "ticks": ""
             }
            },
            "type": "scattermapbox"
           }
          ],
          "scatterpolar": [
           {
            "marker": {
             "colorbar": {
              "outlinewidth": 0,
              "ticks": ""
             }
            },
            "type": "scatterpolar"
           }
          ],
          "scatterpolargl": [
           {
            "marker": {
             "colorbar": {
              "outlinewidth": 0,
              "ticks": ""
             }
            },
            "type": "scatterpolargl"
           }
          ],
          "scatterternary": [
           {
            "marker": {
             "colorbar": {
              "outlinewidth": 0,
              "ticks": ""
             }
            },
            "type": "scatterternary"
           }
          ],
          "surface": [
           {
            "colorbar": {
             "outlinewidth": 0,
             "ticks": ""
            },
            "colorscale": [
             [
              0,
              "#0d0887"
             ],
             [
              0.1111111111111111,
              "#46039f"
             ],
             [
              0.2222222222222222,
              "#7201a8"
             ],
             [
              0.3333333333333333,
              "#9c179e"
             ],
             [
              0.4444444444444444,
              "#bd3786"
             ],
             [
              0.5555555555555556,
              "#d8576b"
             ],
             [
              0.6666666666666666,
              "#ed7953"
             ],
             [
              0.7777777777777778,
              "#fb9f3a"
             ],
             [
              0.8888888888888888,
              "#fdca26"
             ],
             [
              1,
              "#f0f921"
             ]
            ],
            "type": "surface"
           }
          ],
          "table": [
           {
            "cells": {
             "fill": {
              "color": "#EBF0F8"
             },
             "line": {
              "color": "white"
             }
            },
            "header": {
             "fill": {
              "color": "#C8D4E3"
             },
             "line": {
              "color": "white"
             }
            },
            "type": "table"
           }
          ]
         },
         "layout": {
          "annotationdefaults": {
           "arrowcolor": "#2a3f5f",
           "arrowhead": 0,
           "arrowwidth": 1
          },
          "autotypenumbers": "strict",
          "coloraxis": {
           "colorbar": {
            "outlinewidth": 0,
            "ticks": ""
           }
          },
          "colorscale": {
           "diverging": [
            [
             0,
             "#8e0152"
            ],
            [
             0.1,
             "#c51b7d"
            ],
            [
             0.2,
             "#de77ae"
            ],
            [
             0.3,
             "#f1b6da"
            ],
            [
             0.4,
             "#fde0ef"
            ],
            [
             0.5,
             "#f7f7f7"
            ],
            [
             0.6,
             "#e6f5d0"
            ],
            [
             0.7,
             "#b8e186"
            ],
            [
             0.8,
             "#7fbc41"
            ],
            [
             0.9,
             "#4d9221"
            ],
            [
             1,
             "#276419"
            ]
           ],
           "sequential": [
            [
             0,
             "#0d0887"
            ],
            [
             0.1111111111111111,
             "#46039f"
            ],
            [
             0.2222222222222222,
             "#7201a8"
            ],
            [
             0.3333333333333333,
             "#9c179e"
            ],
            [
             0.4444444444444444,
             "#bd3786"
            ],
            [
             0.5555555555555556,
             "#d8576b"
            ],
            [
             0.6666666666666666,
             "#ed7953"
            ],
            [
             0.7777777777777778,
             "#fb9f3a"
            ],
            [
             0.8888888888888888,
             "#fdca26"
            ],
            [
             1,
             "#f0f921"
            ]
           ],
           "sequentialminus": [
            [
             0,
             "#0d0887"
            ],
            [
             0.1111111111111111,
             "#46039f"
            ],
            [
             0.2222222222222222,
             "#7201a8"
            ],
            [
             0.3333333333333333,
             "#9c179e"
            ],
            [
             0.4444444444444444,
             "#bd3786"
            ],
            [
             0.5555555555555556,
             "#d8576b"
            ],
            [
             0.6666666666666666,
             "#ed7953"
            ],
            [
             0.7777777777777778,
             "#fb9f3a"
            ],
            [
             0.8888888888888888,
             "#fdca26"
            ],
            [
             1,
             "#f0f921"
            ]
           ]
          },
          "colorway": [
           "#636efa",
           "#EF553B",
           "#00cc96",
           "#ab63fa",
           "#FFA15A",
           "#19d3f3",
           "#FF6692",
           "#B6E880",
           "#FF97FF",
           "#FECB52"
          ],
          "font": {
           "color": "#2a3f5f"
          },
          "geo": {
           "bgcolor": "white",
           "lakecolor": "white",
           "landcolor": "#E5ECF6",
           "showlakes": true,
           "showland": true,
           "subunitcolor": "white"
          },
          "hoverlabel": {
           "align": "left"
          },
          "hovermode": "closest",
          "mapbox": {
           "style": "light"
          },
          "paper_bgcolor": "white",
          "plot_bgcolor": "#E5ECF6",
          "polar": {
           "angularaxis": {
            "gridcolor": "white",
            "linecolor": "white",
            "ticks": ""
           },
           "bgcolor": "#E5ECF6",
           "radialaxis": {
            "gridcolor": "white",
            "linecolor": "white",
            "ticks": ""
           }
          },
          "scene": {
           "xaxis": {
            "backgroundcolor": "#E5ECF6",
            "gridcolor": "white",
            "gridwidth": 2,
            "linecolor": "white",
            "showbackground": true,
            "ticks": "",
            "zerolinecolor": "white"
           },
           "yaxis": {
            "backgroundcolor": "#E5ECF6",
            "gridcolor": "white",
            "gridwidth": 2,
            "linecolor": "white",
            "showbackground": true,
            "ticks": "",
            "zerolinecolor": "white"
           },
           "zaxis": {
            "backgroundcolor": "#E5ECF6",
            "gridcolor": "white",
            "gridwidth": 2,
            "linecolor": "white",
            "showbackground": true,
            "ticks": "",
            "zerolinecolor": "white"
           }
          },
          "shapedefaults": {
           "line": {
            "color": "#2a3f5f"
           }
          },
          "ternary": {
           "aaxis": {
            "gridcolor": "white",
            "linecolor": "white",
            "ticks": ""
           },
           "baxis": {
            "gridcolor": "white",
            "linecolor": "white",
            "ticks": ""
           },
           "bgcolor": "#E5ECF6",
           "caxis": {
            "gridcolor": "white",
            "linecolor": "white",
            "ticks": ""
           }
          },
          "title": {
           "x": 0.05
          },
          "xaxis": {
           "automargin": true,
           "gridcolor": "white",
           "linecolor": "white",
           "ticks": "",
           "title": {
            "standoff": 15
           },
           "zerolinecolor": "white",
           "zerolinewidth": 2
          },
          "yaxis": {
           "automargin": true,
           "gridcolor": "white",
           "linecolor": "white",
           "ticks": "",
           "title": {
            "standoff": 15
           },
           "zerolinecolor": "white",
           "zerolinewidth": 2
          }
         }
        },
        "width": 800,
        "xaxis": {
         "showgrid": false
        },
        "yaxis": {
         "scaleanchor": "x",
         "showgrid": false
        }
       }
      }
     },
     "metadata": {},
     "output_type": "display_data"
    }
   ],
   "source": [
    "plot(damaged_patch)"
   ]
  },
  {
   "cell_type": "code",
   "execution_count": 10,
   "id": "b67e5f03",
   "metadata": {},
   "outputs": [
    {
     "name": "stdout",
     "output_type": "stream",
     "text": [
      "Found 6 defect clusters.\n",
      "(horizontal, vertical distance) = (d_X, d_Z) = (5, 6)\n",
      "CPU times: user 13.1 s, sys: 90.8 ms, total: 13.2 s\n",
      "Wall time: 13.2 s\n"
     ]
    }
   ],
   "source": [
    "%%time \n",
    "# Now we employ a weak heuristic. We are still doing a significant amount of global optimization\n",
    "weak_heuristic = Heuristics(n_sol_max_per_cluster=10, n_sol_max=100)\n",
    "\n",
    "undamaged_patch = RotatedSurfaceCode(9, vertical_logical=PauliT.Z)\n",
    "ancilla_defects = {Pos(4, 4), Pos(6, 18), Pos(14, 12), Pos(16, 6)}\n",
    "data_defects = {Pos(3, 7), Pos(7, 11), Pos(7, 5), Pos(15, 17)}\n",
    "link_defects = {(Pos(6, 6), Pos(7, 7)), (Pos(14, 4), Pos(13, 5)), (Pos(14, 6), Pos(15, 7))}\n",
    "\n",
    "_, damaged_patches = DefectiveSurfaceCode.make_defective_patches(\n",
    "    undamaged_patch,\n",
    "    ancilla_defects,\n",
    "    data_defects,\n",
    "    link_defects,\n",
    "    repurpose_ancillas=True,\n",
    "    add_padding=True,\n",
    "    first_super_type=PauliT.X,\n",
    "    use_heuristics=weak_heuristic\n",
    ")\n",
    "damaged_patch = damaged_patches[0]\n",
    "print(f\"(horizontal, vertical distance) = (d_X, d_Z) = {damaged_patch.effective_distance}\")"
   ]
  },
  {
   "cell_type": "code",
   "execution_count": 11,
   "id": "ce6b3226",
   "metadata": {},
   "outputs": [
    {
     "data": {
      "application/vnd.plotly.v1+json": {
       "config": {
        "plotlyServerURL": "https://plot.ly"
       },
       "data": [
        {
         "marker": {
          "color": "#474645",
          "size": 8
         },
         "mode": "markers",
         "name": "qubit",
         "showlegend": false,
         "type": "scatter",
         "x": [
          1,
          1,
          1,
          1,
          1,
          1,
          1,
          1,
          1,
          3,
          3,
          3,
          3,
          3,
          3,
          3,
          3,
          3,
          5,
          5,
          5,
          5,
          5,
          5,
          5,
          5,
          5,
          7,
          7,
          7,
          7,
          7,
          7,
          7,
          7,
          7,
          9,
          9,
          9,
          9,
          9,
          9,
          9,
          9,
          9,
          11,
          11,
          11,
          11,
          11,
          11,
          11,
          11,
          11,
          13,
          13,
          13,
          13,
          13,
          13,
          13,
          13,
          13,
          15,
          15,
          15,
          15,
          15,
          15,
          15,
          15,
          15,
          17,
          17,
          17,
          17,
          17,
          17,
          17,
          17,
          17
         ],
         "y": [
          1,
          3,
          5,
          7,
          9,
          11,
          13,
          15,
          17,
          1,
          3,
          5,
          7,
          9,
          11,
          13,
          15,
          17,
          1,
          3,
          5,
          7,
          9,
          11,
          13,
          15,
          17,
          1,
          3,
          5,
          7,
          9,
          11,
          13,
          15,
          17,
          1,
          3,
          5,
          7,
          9,
          11,
          13,
          15,
          17,
          1,
          3,
          5,
          7,
          9,
          11,
          13,
          15,
          17,
          1,
          3,
          5,
          7,
          9,
          11,
          13,
          15,
          17,
          1,
          3,
          5,
          7,
          9,
          11,
          13,
          15,
          17,
          1,
          3,
          5,
          7,
          9,
          11,
          13,
          15,
          17
         ]
        },
        {
         "marker": {
          "color": "#787776",
          "size": 10
         },
         "mode": "markers",
         "name": "qubit",
         "showlegend": false,
         "type": "scatter",
         "x": [
          0,
          0,
          0,
          0,
          0,
          0,
          0,
          0,
          0,
          0,
          2,
          2,
          2,
          2,
          2,
          2,
          2,
          2,
          2,
          2,
          4,
          4,
          4,
          4,
          4,
          4,
          4,
          4,
          4,
          4,
          6,
          6,
          6,
          6,
          6,
          6,
          6,
          6,
          6,
          6,
          8,
          8,
          8,
          8,
          8,
          8,
          8,
          8,
          8,
          8,
          10,
          10,
          10,
          10,
          10,
          10,
          10,
          10,
          10,
          10,
          12,
          12,
          12,
          12,
          12,
          12,
          12,
          12,
          12,
          12,
          14,
          14,
          14,
          14,
          14,
          14,
          14,
          14,
          14,
          14,
          16,
          16,
          16,
          16,
          16,
          16,
          16,
          16,
          16,
          16,
          18,
          18,
          18,
          18,
          18,
          18,
          18,
          18,
          18,
          18
         ],
         "y": [
          0,
          2,
          4,
          6,
          8,
          10,
          12,
          14,
          16,
          18,
          0,
          2,
          4,
          6,
          8,
          10,
          12,
          14,
          16,
          18,
          0,
          2,
          4,
          6,
          8,
          10,
          12,
          14,
          16,
          18,
          0,
          2,
          4,
          6,
          8,
          10,
          12,
          14,
          16,
          18,
          0,
          2,
          4,
          6,
          8,
          10,
          12,
          14,
          16,
          18,
          0,
          2,
          4,
          6,
          8,
          10,
          12,
          14,
          16,
          18,
          0,
          2,
          4,
          6,
          8,
          10,
          12,
          14,
          16,
          18,
          0,
          2,
          4,
          6,
          8,
          10,
          12,
          14,
          16,
          18,
          0,
          2,
          4,
          6,
          8,
          10,
          12,
          14,
          16,
          18,
          0,
          2,
          4,
          6,
          8,
          10,
          12,
          14,
          16,
          18
         ]
        },
        {
         "fill": "toself",
         "fillcolor": "#78DAF0",
         "hoverinfo": "none",
         "legendgroup": "S_Z",
         "line": {
          "color": "#128AA5",
          "width": 2
         },
         "name": "S_Z",
         "showlegend": true,
         "type": "scatter",
         "x": [
          1,
          3,
          3,
          1,
          1
         ],
         "y": [
          1,
          1,
          3,
          3,
          1
         ]
        },
        {
         "marker": {
          "color": "#474645",
          "size": 8
         },
         "mode": "markers",
         "name": "data",
         "showlegend": false,
         "type": "scatter",
         "x": [
          1,
          3,
          1,
          3
         ],
         "y": [
          3,
          3,
          1,
          1
         ]
        },
        {
         "fill": "toself",
         "fillcolor": "#78DAF0",
         "hoverinfo": "none",
         "legendgroup": "S_Z",
         "line": {
          "color": "#128AA5",
          "width": 2
         },
         "name": "S_Z",
         "showlegend": false,
         "type": "scatter",
         "x": [
          5,
          7,
          7,
          5,
          5
         ],
         "y": [
          1,
          1,
          3,
          3,
          1
         ]
        },
        {
         "marker": {
          "color": "#474645",
          "size": 8
         },
         "mode": "markers",
         "name": "data",
         "showlegend": false,
         "type": "scatter",
         "x": [
          5,
          7,
          5,
          7
         ],
         "y": [
          3,
          3,
          1,
          1
         ]
        },
        {
         "fill": "toself",
         "fillcolor": "#E27985",
         "hoverinfo": "none",
         "legendgroup": "S_X",
         "line": {
          "color": "#CE2D40",
          "width": 2
         },
         "name": "S_X",
         "showlegend": true,
         "type": "scatter",
         "x": [
          7,
          9,
          9,
          7,
          7
         ],
         "y": [
          1,
          1,
          3,
          3,
          1
         ]
        },
        {
         "marker": {
          "color": "#474645",
          "size": 8
         },
         "mode": "markers",
         "name": "data",
         "showlegend": false,
         "type": "scatter",
         "x": [
          7,
          9,
          7,
          9
         ],
         "y": [
          3,
          3,
          1,
          1
         ]
        },
        {
         "fill": "toself",
         "fillcolor": "#78DAF0",
         "hoverinfo": "none",
         "legendgroup": "S_Z",
         "line": {
          "color": "#128AA5",
          "width": 2
         },
         "name": "S_Z",
         "showlegend": false,
         "type": "scatter",
         "x": [
          1,
          3,
          3,
          1,
          1
         ],
         "y": [
          9,
          9,
          11,
          11,
          9
         ]
        },
        {
         "marker": {
          "color": "#474645",
          "size": 8
         },
         "mode": "markers",
         "name": "data",
         "showlegend": false,
         "type": "scatter",
         "x": [
          1,
          3,
          1,
          3
         ],
         "y": [
          11,
          11,
          9,
          9
         ]
        },
        {
         "fill": "toself",
         "fillcolor": "#E27985",
         "hoverinfo": "none",
         "legendgroup": "S_X",
         "line": {
          "color": "#CE2D40",
          "width": 2
         },
         "name": "S_X",
         "showlegend": false,
         "type": "scatter",
         "x": [
          3,
          5,
          5,
          3,
          3
         ],
         "y": [
          9,
          9,
          11,
          11,
          9
         ]
        },
        {
         "marker": {
          "color": "#474645",
          "size": 8
         },
         "mode": "markers",
         "name": "data",
         "showlegend": false,
         "type": "scatter",
         "x": [
          3,
          5,
          3,
          5
         ],
         "y": [
          11,
          11,
          9,
          9
         ]
        },
        {
         "fill": "toself",
         "fillcolor": "#78DAF0",
         "hoverinfo": "none",
         "legendgroup": "S_Z",
         "line": {
          "color": "#128AA5",
          "width": 2
         },
         "name": "S_Z",
         "showlegend": false,
         "type": "scatter",
         "x": [
          9,
          11,
          11,
          9,
          9
         ],
         "y": [
          1,
          1,
          3,
          3,
          1
         ]
        },
        {
         "marker": {
          "color": "#474645",
          "size": 8
         },
         "mode": "markers",
         "name": "data",
         "showlegend": false,
         "type": "scatter",
         "x": [
          9,
          11,
          9,
          11
         ],
         "y": [
          3,
          3,
          1,
          1
         ]
        },
        {
         "fill": "toself",
         "fillcolor": "#E27985",
         "hoverinfo": "none",
         "legendgroup": "S_X",
         "line": {
          "color": "#CE2D40",
          "width": 2
         },
         "name": "S_X",
         "showlegend": false,
         "type": "scatter",
         "x": [
          9,
          11,
          11,
          9,
          9
         ],
         "y": [
          3,
          3,
          5,
          5,
          3
         ]
        },
        {
         "marker": {
          "color": "#474645",
          "size": 8
         },
         "mode": "markers",
         "name": "data",
         "showlegend": false,
         "type": "scatter",
         "x": [
          9,
          11,
          9,
          11
         ],
         "y": [
          5,
          5,
          3,
          3
         ]
        },
        {
         "fill": "toself",
         "fillcolor": "#78DAF0",
         "hoverinfo": "none",
         "legendgroup": "S_Z",
         "line": {
          "color": "#128AA5",
          "width": 2
         },
         "name": "S_Z",
         "showlegend": false,
         "type": "scatter",
         "x": [
          9,
          11,
          11,
          9,
          9
         ],
         "y": [
          5,
          5,
          7,
          7,
          5
         ]
        },
        {
         "marker": {
          "color": "#474645",
          "size": 8
         },
         "mode": "markers",
         "name": "data",
         "showlegend": false,
         "type": "scatter",
         "x": [
          9,
          11,
          9,
          11
         ],
         "y": [
          7,
          7,
          5,
          5
         ]
        },
        {
         "fill": "toself",
         "fillcolor": "#E27985",
         "hoverinfo": "none",
         "legendgroup": "S_X",
         "line": {
          "color": "#CE2D40",
          "width": 2
         },
         "name": "S_X",
         "showlegend": false,
         "type": "scatter",
         "x": [
          9,
          11,
          11,
          9,
          9
         ],
         "y": [
          7,
          7,
          9,
          9,
          7
         ]
        },
        {
         "marker": {
          "color": "#474645",
          "size": 8
         },
         "mode": "markers",
         "name": "data",
         "showlegend": false,
         "type": "scatter",
         "x": [
          9,
          11,
          9,
          11
         ],
         "y": [
          9,
          9,
          7,
          7
         ]
        },
        {
         "fill": "toself",
         "fillcolor": "#78DAF0",
         "hoverinfo": "none",
         "legendgroup": "S_Z",
         "line": {
          "color": "#128AA5",
          "width": 2
         },
         "name": "S_Z",
         "showlegend": false,
         "type": "scatter",
         "x": [
          9,
          11,
          11,
          9,
          9
         ],
         "y": [
          9,
          9,
          11,
          11,
          9
         ]
        },
        {
         "marker": {
          "color": "#474645",
          "size": 8
         },
         "mode": "markers",
         "name": "data",
         "showlegend": false,
         "type": "scatter",
         "x": [
          9,
          11,
          9,
          11
         ],
         "y": [
          11,
          11,
          9,
          9
         ]
        },
        {
         "fill": "toself",
         "fillcolor": "#E27985",
         "hoverinfo": "none",
         "legendgroup": "S_X",
         "line": {
          "color": "#CE2D40",
          "width": 2
         },
         "name": "S_X",
         "showlegend": false,
         "type": "scatter",
         "x": [
          1,
          3,
          3,
          1,
          1
         ],
         "y": [
          11,
          11,
          13,
          13,
          11
         ]
        },
        {
         "marker": {
          "color": "#474645",
          "size": 8
         },
         "mode": "markers",
         "name": "data",
         "showlegend": false,
         "type": "scatter",
         "x": [
          1,
          3,
          1,
          3
         ],
         "y": [
          13,
          13,
          11,
          11
         ]
        },
        {
         "fill": "toself",
         "fillcolor": "#78DAF0",
         "hoverinfo": "none",
         "legendgroup": "S_Z",
         "line": {
          "color": "#128AA5",
          "width": 2
         },
         "name": "S_Z",
         "showlegend": false,
         "type": "scatter",
         "x": [
          3,
          5,
          5,
          3,
          3
         ],
         "y": [
          11,
          11,
          13,
          13,
          11
         ]
        },
        {
         "marker": {
          "color": "#474645",
          "size": 8
         },
         "mode": "markers",
         "name": "data",
         "showlegend": false,
         "type": "scatter",
         "x": [
          3,
          5,
          3,
          5
         ],
         "y": [
          13,
          13,
          11,
          11
         ]
        },
        {
         "fill": "toself",
         "fillcolor": "#E27985",
         "hoverinfo": "none",
         "legendgroup": "S_X",
         "line": {
          "color": "#CE2D40",
          "width": 2
         },
         "name": "S_X",
         "showlegend": false,
         "type": "scatter",
         "x": [
          9,
          11,
          11,
          9,
          9
         ],
         "y": [
          11,
          11,
          13,
          13,
          11
         ]
        },
        {
         "marker": {
          "color": "#474645",
          "size": 8
         },
         "mode": "markers",
         "name": "data",
         "showlegend": false,
         "type": "scatter",
         "x": [
          9,
          11,
          9,
          11
         ],
         "y": [
          13,
          13,
          11,
          11
         ]
        },
        {
         "fill": "toself",
         "fillcolor": "#E27985",
         "hoverinfo": "none",
         "legendgroup": "S_X",
         "line": {
          "color": "#CE2D40",
          "width": 2
         },
         "name": "S_X",
         "showlegend": false,
         "type": "scatter",
         "x": [
          11,
          13,
          13,
          11,
          11
         ],
         "y": [
          1,
          1,
          3,
          3,
          1
         ]
        },
        {
         "marker": {
          "color": "#474645",
          "size": 8
         },
         "mode": "markers",
         "name": "data",
         "showlegend": false,
         "type": "scatter",
         "x": [
          11,
          13,
          11,
          13
         ],
         "y": [
          3,
          3,
          1,
          1
         ]
        },
        {
         "fill": "toself",
         "fillcolor": "#E27985",
         "hoverinfo": "none",
         "legendgroup": "S_X",
         "line": {
          "color": "#CE2D40",
          "width": 2
         },
         "name": "S_X",
         "showlegend": false,
         "type": "scatter",
         "x": [
          11,
          13,
          13,
          11,
          11
         ],
         "y": [
          5,
          5,
          7,
          7,
          5
         ]
        },
        {
         "marker": {
          "color": "#474645",
          "size": 8
         },
         "mode": "markers",
         "name": "data",
         "showlegend": false,
         "type": "scatter",
         "x": [
          11,
          11,
          13,
          13
         ],
         "y": [
          5,
          7,
          7,
          5
         ]
        },
        {
         "fill": "toself",
         "fillcolor": "#78DAF0",
         "hoverinfo": "none",
         "legendgroup": "S_Z",
         "line": {
          "color": "#128AA5",
          "width": 2
         },
         "name": "S_Z",
         "showlegend": false,
         "type": "scatter",
         "x": [
          11,
          13,
          13,
          11,
          11
         ],
         "y": [
          7,
          7,
          9,
          9,
          7
         ]
        },
        {
         "marker": {
          "color": "#474645",
          "size": 8
         },
         "mode": "markers",
         "name": "data",
         "showlegend": false,
         "type": "scatter",
         "x": [
          11,
          13,
          11,
          13
         ],
         "y": [
          9,
          9,
          7,
          7
         ]
        },
        {
         "fill": "toself",
         "fillcolor": "#E27985",
         "hoverinfo": "none",
         "legendgroup": "S_X",
         "line": {
          "color": "#CE2D40",
          "width": 2
         },
         "name": "S_X",
         "showlegend": false,
         "type": "scatter",
         "x": [
          11,
          13,
          13,
          11,
          11
         ],
         "y": [
          9,
          9,
          11,
          11,
          9
         ]
        },
        {
         "marker": {
          "color": "#474645",
          "size": 8
         },
         "mode": "markers",
         "name": "data",
         "showlegend": false,
         "type": "scatter",
         "x": [
          11,
          13,
          11,
          13
         ],
         "y": [
          11,
          11,
          9,
          9
         ]
        },
        {
         "fill": "toself",
         "fillcolor": "#78DAF0",
         "hoverinfo": "none",
         "legendgroup": "S_Z",
         "line": {
          "color": "#128AA5",
          "width": 2
         },
         "name": "S_Z",
         "showlegend": false,
         "type": "scatter",
         "x": [
          1,
          3,
          3,
          1,
          1
         ],
         "y": [
          13,
          13,
          15,
          15,
          13
         ]
        },
        {
         "marker": {
          "color": "#474645",
          "size": 8
         },
         "mode": "markers",
         "name": "data",
         "showlegend": false,
         "type": "scatter",
         "x": [
          1,
          3,
          1,
          3
         ],
         "y": [
          15,
          15,
          13,
          13
         ]
        },
        {
         "fill": "toself",
         "fillcolor": "#E27985",
         "hoverinfo": "none",
         "legendgroup": "S_X",
         "line": {
          "color": "#CE2D40",
          "width": 2
         },
         "name": "S_X",
         "showlegend": false,
         "type": "scatter",
         "x": [
          3,
          5,
          5,
          3,
          3
         ],
         "y": [
          13,
          13,
          15,
          15,
          13
         ]
        },
        {
         "marker": {
          "color": "#474645",
          "size": 8
         },
         "mode": "markers",
         "name": "data",
         "showlegend": false,
         "type": "scatter",
         "x": [
          3,
          5,
          3,
          5
         ],
         "y": [
          15,
          15,
          13,
          13
         ]
        },
        {
         "fill": "toself",
         "fillcolor": "#78DAF0",
         "hoverinfo": "none",
         "legendgroup": "S_Z",
         "line": {
          "color": "#128AA5",
          "width": 2
         },
         "name": "S_Z",
         "showlegend": false,
         "type": "scatter",
         "x": [
          5,
          7,
          7,
          5,
          5
         ],
         "y": [
          13,
          13,
          15,
          15,
          13
         ]
        },
        {
         "marker": {
          "color": "#474645",
          "size": 8
         },
         "mode": "markers",
         "name": "data",
         "showlegend": false,
         "type": "scatter",
         "x": [
          5,
          7,
          5,
          7
         ],
         "y": [
          15,
          15,
          13,
          13
         ]
        },
        {
         "fill": "toself",
         "fillcolor": "#E27985",
         "hoverinfo": "none",
         "legendgroup": "S_X",
         "line": {
          "color": "#CE2D40",
          "width": 2
         },
         "name": "S_X",
         "showlegend": false,
         "type": "scatter",
         "x": [
          7,
          9,
          9,
          7,
          7
         ],
         "y": [
          13,
          13,
          15,
          15,
          13
         ]
        },
        {
         "marker": {
          "color": "#474645",
          "size": 8
         },
         "mode": "markers",
         "name": "data",
         "showlegend": false,
         "type": "scatter",
         "x": [
          7,
          9,
          7,
          9
         ],
         "y": [
          15,
          15,
          13,
          13
         ]
        },
        {
         "fill": "toself",
         "fillcolor": "#78DAF0",
         "hoverinfo": "none",
         "legendgroup": "S_Z",
         "line": {
          "color": "#128AA5",
          "width": 2
         },
         "name": "S_Z",
         "showlegend": false,
         "type": "scatter",
         "x": [
          9,
          11,
          11,
          9,
          9
         ],
         "y": [
          13,
          13,
          15,
          15,
          13
         ]
        },
        {
         "marker": {
          "color": "#474645",
          "size": 8
         },
         "mode": "markers",
         "name": "data",
         "showlegend": false,
         "type": "scatter",
         "x": [
          9,
          11,
          9,
          11
         ],
         "y": [
          15,
          15,
          13,
          13
         ]
        },
        {
         "fill": "toself",
         "fillcolor": "#E27985",
         "hoverinfo": "none",
         "legendgroup": "S_X",
         "line": {
          "color": "#CE2D40",
          "width": 2
         },
         "name": "S_X",
         "showlegend": false,
         "type": "scatter",
         "x": [
          11,
          13,
          13,
          11,
          11
         ],
         "y": [
          13,
          13,
          15,
          15,
          13
         ]
        },
        {
         "marker": {
          "color": "#474645",
          "size": 8
         },
         "mode": "markers",
         "name": "data",
         "showlegend": false,
         "type": "scatter",
         "x": [
          11,
          13,
          11,
          13
         ],
         "y": [
          15,
          15,
          13,
          13
         ]
        },
        {
         "fill": "toself",
         "fillcolor": "#78DAF0",
         "hoverinfo": "none",
         "legendgroup": "S_Z",
         "line": {
          "color": "#128AA5",
          "width": 2
         },
         "name": "S_Z",
         "showlegend": false,
         "type": "scatter",
         "x": [
          13,
          15,
          15,
          13,
          13
         ],
         "y": [
          1,
          1,
          3,
          3,
          1
         ]
        },
        {
         "marker": {
          "color": "#474645",
          "size": 8
         },
         "mode": "markers",
         "name": "data",
         "showlegend": false,
         "type": "scatter",
         "x": [
          13,
          15,
          13,
          15
         ],
         "y": [
          3,
          3,
          1,
          1
         ]
        },
        {
         "fill": "toself",
         "fillcolor": "#E27985",
         "hoverinfo": "none",
         "legendgroup": "S_X",
         "line": {
          "color": "#CE2D40",
          "width": 2
         },
         "name": "S_X",
         "showlegend": false,
         "type": "scatter",
         "x": [
          13,
          15,
          15,
          13,
          13
         ],
         "y": [
          7,
          7,
          9,
          9,
          7
         ]
        },
        {
         "marker": {
          "color": "#474645",
          "size": 8
         },
         "mode": "markers",
         "name": "data",
         "showlegend": false,
         "type": "scatter",
         "x": [
          13,
          15,
          13,
          15
         ],
         "y": [
          9,
          9,
          7,
          7
         ]
        },
        {
         "fill": "toself",
         "fillcolor": "#E27985",
         "hoverinfo": "none",
         "legendgroup": "S_X",
         "line": {
          "color": "#CE2D40",
          "width": 2
         },
         "name": "S_X",
         "showlegend": false,
         "type": "scatter",
         "x": [
          1,
          3,
          3,
          1,
          1
         ],
         "y": [
          15,
          15,
          17,
          17,
          15
         ]
        },
        {
         "marker": {
          "color": "#474645",
          "size": 8
         },
         "mode": "markers",
         "name": "data",
         "showlegend": false,
         "type": "scatter",
         "x": [
          1,
          3,
          1,
          3
         ],
         "y": [
          17,
          17,
          15,
          15
         ]
        },
        {
         "fill": "toself",
         "fillcolor": "#78DAF0",
         "hoverinfo": "none",
         "legendgroup": "S_Z",
         "line": {
          "color": "#128AA5",
          "width": 2
         },
         "name": "S_Z",
         "showlegend": false,
         "type": "scatter",
         "x": [
          3,
          5,
          5,
          3,
          3
         ],
         "y": [
          15,
          15,
          17,
          17,
          15
         ]
        },
        {
         "marker": {
          "color": "#474645",
          "size": 8
         },
         "mode": "markers",
         "name": "data",
         "showlegend": false,
         "type": "scatter",
         "x": [
          3,
          5,
          3,
          5
         ],
         "y": [
          17,
          17,
          15,
          15
         ]
        },
        {
         "fill": "toself",
         "fillcolor": "#78DAF0",
         "hoverinfo": "none",
         "legendgroup": "S_Z",
         "line": {
          "color": "#128AA5",
          "width": 2
         },
         "name": "S_Z",
         "showlegend": false,
         "type": "scatter",
         "x": [
          7,
          9,
          9,
          7,
          7
         ],
         "y": [
          15,
          15,
          17,
          17,
          15
         ]
        },
        {
         "marker": {
          "color": "#474645",
          "size": 8
         },
         "mode": "markers",
         "name": "data",
         "showlegend": false,
         "type": "scatter",
         "x": [
          7,
          9,
          7,
          9
         ],
         "y": [
          17,
          17,
          15,
          15
         ]
        },
        {
         "fill": "toself",
         "fillcolor": "#E27985",
         "hoverinfo": "none",
         "legendgroup": "S_X",
         "line": {
          "color": "#CE2D40",
          "width": 2
         },
         "name": "S_X",
         "showlegend": false,
         "type": "scatter",
         "x": [
          9,
          11,
          11,
          9,
          9
         ],
         "y": [
          15,
          15,
          17,
          17,
          15
         ]
        },
        {
         "marker": {
          "color": "#474645",
          "size": 8
         },
         "mode": "markers",
         "name": "data",
         "showlegend": false,
         "type": "scatter",
         "x": [
          9,
          11,
          9,
          11
         ],
         "y": [
          17,
          17,
          15,
          15
         ]
        },
        {
         "fill": "toself",
         "fillcolor": "#E27985",
         "hoverinfo": "none",
         "legendgroup": "S_X",
         "line": {
          "color": "#CE2D40",
          "width": 2
         },
         "name": "S_X",
         "showlegend": false,
         "type": "scatter",
         "x": [
          15,
          17,
          17,
          15,
          15
         ],
         "y": [
          1,
          1,
          3,
          3,
          1
         ]
        },
        {
         "marker": {
          "color": "#474645",
          "size": 8
         },
         "mode": "markers",
         "name": "data",
         "showlegend": false,
         "type": "scatter",
         "x": [
          15,
          17,
          15,
          17
         ],
         "y": [
          3,
          3,
          1,
          1
         ]
        },
        {
         "fill": "toself",
         "fillcolor": "#E27985",
         "hoverinfo": "none",
         "legendgroup": "S_X",
         "line": {
          "color": "#CE2D40",
          "width": 2
         },
         "name": "S_X",
         "showlegend": false,
         "type": "scatter",
         "x": [
          15,
          17,
          17,
          15,
          15
         ],
         "y": [
          9,
          9,
          11,
          11,
          9
         ]
        },
        {
         "marker": {
          "color": "#474645",
          "size": 8
         },
         "mode": "markers",
         "name": "data",
         "showlegend": false,
         "type": "scatter",
         "x": [
          15,
          17,
          15,
          17
         ],
         "y": [
          11,
          11,
          9,
          9
         ]
        },
        {
         "fill": "toself",
         "fillcolor": "#E27985",
         "hoverinfo": "none",
         "legendgroup": "S_X",
         "line": {
          "color": "#CE2D40",
          "width": 2
         },
         "name": "S_X",
         "showlegend": false,
         "type": "scatter",
         "x": [
          15,
          17,
          17,
          15,
          15
         ],
         "y": [
          13,
          13,
          15,
          15,
          13
         ]
        },
        {
         "marker": {
          "color": "#474645",
          "size": 8
         },
         "mode": "markers",
         "name": "data",
         "showlegend": false,
         "type": "scatter",
         "x": [
          15,
          17,
          15,
          17
         ],
         "y": [
          15,
          15,
          13,
          13
         ]
        },
        {
         "fill": "toself",
         "fillcolor": "#C9A769",
         "hoverinfo": "none",
         "legendgroup": "S_X",
         "line": {
          "color": "#A5803B",
          "width": 2
         },
         "name": "S_X",
         "showlegend": false,
         "type": "scatter",
         "x": [
          1,
          3,
          3,
          1,
          1
         ],
         "y": [
          3,
          3,
          5,
          5,
          3
         ]
        },
        {
         "marker": {
          "color": "#474645",
          "size": 8
         },
         "mode": "markers",
         "name": "data",
         "showlegend": false,
         "type": "scatter",
         "x": [
          1,
          3,
          1,
          3
         ],
         "y": [
          3,
          3,
          5,
          5
         ]
        },
        {
         "fill": "toself",
         "fillcolor": "#F1BB7E",
         "hoverinfo": "none",
         "legendgroup": "S_X",
         "line": {
          "color": "#DC8118",
          "width": 2
         },
         "name": "S_X",
         "showlegend": false,
         "type": "scatter",
         "x": [
          3,
          5,
          5,
          3,
          3
         ],
         "y": [
          1,
          1,
          3,
          3,
          1
         ]
        },
        {
         "marker": {
          "color": "#474645",
          "size": 8
         },
         "mode": "markers",
         "name": "data",
         "showlegend": false,
         "type": "scatter",
         "x": [
          3,
          5,
          3,
          5
         ],
         "y": [
          3,
          3,
          1,
          1
         ]
        },
        {
         "fill": "toself",
         "fillcolor": "#C9A769",
         "hoverinfo": "none",
         "legendgroup": "S_X",
         "line": {
          "color": "#A5803B",
          "width": 2
         },
         "name": "S_X",
         "showlegend": false,
         "type": "scatter",
         "x": [
          5,
          7,
          7,
          5,
          5
         ],
         "y": [
          15,
          15,
          17,
          17,
          15
         ]
        },
        {
         "marker": {
          "color": "#474645",
          "size": 8
         },
         "mode": "markers",
         "name": "data",
         "showlegend": false,
         "type": "scatter",
         "x": [
          5,
          7,
          5,
          7
         ],
         "y": [
          17,
          17,
          15,
          15
         ]
        },
        {
         "fill": "toself",
         "fillcolor": "#B3BFD0",
         "hoverinfo": "none",
         "legendgroup": "S_Z",
         "line": {
          "color": "#5D7598",
          "width": 2
         },
         "name": "S_Z",
         "showlegend": false,
         "type": "scatter",
         "x": [
          11,
          13,
          13,
          11,
          11
         ],
         "y": [
          3,
          3,
          5,
          5,
          3
         ]
        },
        {
         "marker": {
          "color": "#474645",
          "size": 8
         },
         "mode": "markers",
         "name": "data",
         "showlegend": false,
         "type": "scatter",
         "x": [
          11,
          11,
          13,
          13
         ],
         "y": [
          3,
          5,
          5,
          3
         ]
        },
        {
         "fill": "toself",
         "fillcolor": "#B3BFD0",
         "hoverinfo": "none",
         "legendgroup": "S_Z",
         "line": {
          "color": "#5D7598",
          "width": 2
         },
         "name": "S_Z",
         "showlegend": false,
         "type": "scatter",
         "x": [
          15,
          17,
          17,
          15,
          15
         ],
         "y": [
          3,
          3,
          5,
          5,
          3
         ]
        },
        {
         "marker": {
          "color": "#474645",
          "size": 8
         },
         "mode": "markers",
         "name": "data",
         "showlegend": false,
         "type": "scatter",
         "x": [
          15,
          17,
          15,
          17
         ],
         "y": [
          5,
          5,
          3,
          3
         ]
        },
        {
         "fill": "toself",
         "fillcolor": "#7BB5EB",
         "hoverinfo": "none",
         "legendgroup": "S_Z",
         "line": {
          "color": "#207DD5",
          "width": 2
         },
         "name": "S_Z",
         "showlegend": false,
         "type": "scatter",
         "x": [
          15,
          17,
          17,
          15,
          15
         ],
         "y": [
          7,
          7,
          9,
          9,
          7
         ]
        },
        {
         "marker": {
          "color": "#474645",
          "size": 8
         },
         "mode": "markers",
         "name": "data",
         "showlegend": false,
         "type": "scatter",
         "x": [
          15,
          17,
          15,
          17
         ],
         "y": [
          9,
          9,
          7,
          7
         ]
        },
        {
         "fill": "toself",
         "fillcolor": "#9C97FB",
         "hoverinfo": "none",
         "legendgroup": "S_Z",
         "line": {
          "color": "#564EF9",
          "width": 2
         },
         "name": "S_Z",
         "showlegend": false,
         "type": "scatter",
         "x": [
          11,
          13,
          13,
          11,
          11
         ],
         "y": [
          11,
          11,
          13,
          13,
          11
         ]
        },
        {
         "marker": {
          "color": "#474645",
          "size": 8
         },
         "mode": "markers",
         "name": "data",
         "showlegend": false,
         "type": "scatter",
         "x": [
          11,
          13,
          11,
          13
         ],
         "y": [
          13,
          13,
          11,
          11
         ]
        },
        {
         "fill": "toself",
         "fillcolor": "#7BB5EB",
         "hoverinfo": "none",
         "legendgroup": "S_Z",
         "line": {
          "color": "#207DD5",
          "width": 2
         },
         "name": "S_Z",
         "showlegend": false,
         "type": "scatter",
         "x": [
          13,
          15,
          15,
          13,
          13
         ],
         "y": [
          13,
          13,
          15,
          15,
          13
         ]
        },
        {
         "marker": {
          "color": "#474645",
          "size": 8
         },
         "mode": "markers",
         "name": "data",
         "showlegend": false,
         "type": "scatter",
         "x": [
          13,
          13,
          15,
          15
         ],
         "y": [
          13,
          15,
          15,
          13
         ]
        },
        {
         "fill": "toself",
         "fillcolor": "#7BB5EB",
         "hoverinfo": "none",
         "legendgroup": "S_Z",
         "line": {
          "color": "#207DD5",
          "width": 2
         },
         "name": "S_Z",
         "showlegend": false,
         "type": "scatter",
         "x": [
          13,
          15,
          15,
          13,
          13
         ],
         "y": [
          9,
          9,
          11,
          11,
          9
         ]
        },
        {
         "marker": {
          "color": "#474645",
          "size": 8
         },
         "mode": "markers",
         "name": "data",
         "showlegend": false,
         "type": "scatter",
         "x": [
          13,
          13,
          15,
          15
         ],
         "y": [
          9,
          11,
          11,
          9
         ]
        },
        {
         "fill": "toself",
         "fillcolor": "#D2AAF0",
         "hoverinfo": "none",
         "legendgroup": "S_Z",
         "line": {
          "color": "#A352E0",
          "width": 2
         },
         "name": "S_Z",
         "showlegend": false,
         "type": "scatter",
         "x": [
          15,
          17,
          17,
          15,
          15
         ],
         "y": [
          11,
          11,
          13,
          13,
          11
         ]
        },
        {
         "marker": {
          "color": "#474645",
          "size": 8
         },
         "mode": "markers",
         "name": "data",
         "showlegend": false,
         "type": "scatter",
         "x": [
          15,
          17,
          15,
          17
         ],
         "y": [
          13,
          13,
          11,
          11
         ]
        },
        {
         "fill": "toself",
         "fillcolor": "#78DAF0",
         "hoverinfo": "none",
         "legendgroup": "S_Z",
         "line": {
          "color": "#128AA5",
          "width": 2
         },
         "name": "S_Z",
         "showlegend": false,
         "type": "scatter",
         "x": [
          11,
          11,
          13,
          11
         ],
         "y": [
          17,
          15,
          15,
          17
         ]
        },
        {
         "marker": {
          "color": "#474645",
          "size": 8
         },
         "mode": "markers",
         "name": "data",
         "showlegend": false,
         "type": "scatter",
         "x": [
          11,
          11,
          13
         ],
         "y": [
          17,
          15,
          15
         ]
        },
        {
         "fill": "toself",
         "fillcolor": "#78DAF0",
         "hoverinfo": "none",
         "legendgroup": "S_Z",
         "line": {
          "color": "#128AA5",
          "width": 2
         },
         "name": "S_Z",
         "showlegend": false,
         "type": "scatter",
         "x": [
          17,
          15,
          17,
          17
         ],
         "y": [
          17,
          15,
          15,
          17
         ]
        },
        {
         "marker": {
          "color": "#474645",
          "size": 8
         },
         "mode": "markers",
         "name": "data",
         "showlegend": false,
         "type": "scatter",
         "x": [
          17,
          15,
          17
         ],
         "y": [
          17,
          15,
          15
         ]
        },
        {
         "fill": "toself",
         "fillcolor": "#C9A769",
         "hoverinfo": "none",
         "legendgroup": "S_X",
         "line": {
          "color": "#A5803B",
          "width": 2
         },
         "name": "S_X",
         "showlegend": false,
         "type": "scatter",
         "x": [
          5,
          5,
          7,
          5
         ],
         "y": [
          7,
          9,
          9,
          7
         ]
        },
        {
         "marker": {
          "color": "#474645",
          "size": 8
         },
         "mode": "markers",
         "name": "data",
         "showlegend": false,
         "type": "scatter",
         "x": [
          5,
          5,
          7
         ],
         "y": [
          7,
          9,
          9
         ]
        },
        {
         "fill": "toself",
         "fillcolor": "#C9A769",
         "hoverinfo": "none",
         "legendgroup": "S_X",
         "line": {
          "color": "#A5803B",
          "width": 2
         },
         "name": "S_X",
         "showlegend": false,
         "type": "scatter",
         "x": [
          5,
          5,
          7,
          5
         ],
         "y": [
          3,
          5,
          3,
          3
         ]
        },
        {
         "marker": {
          "color": "#474645",
          "size": 8
         },
         "mode": "markers",
         "name": "data",
         "showlegend": false,
         "type": "scatter",
         "x": [
          5,
          5,
          7
         ],
         "y": [
          3,
          5,
          3
         ]
        },
        {
         "fill": "toself",
         "fillcolor": "#7BB5EB",
         "hoverinfo": "none",
         "legendgroup": "S_Z",
         "line": {
          "color": "#207DD5",
          "width": 2
         },
         "name": "S_Z",
         "showlegend": false,
         "type": "scatter",
         "x": [
          1,
          3,
          1,
          1
         ],
         "y": [
          5,
          5,
          7,
          5
         ]
        },
        {
         "marker": {
          "color": "#474645",
          "size": 8
         },
         "mode": "markers",
         "name": "data",
         "showlegend": false,
         "type": "scatter",
         "x": [
          1,
          3,
          1
         ],
         "y": [
          5,
          5,
          7
         ]
        },
        {
         "fill": "toself",
         "fillcolor": "#7BB5EB",
         "hoverinfo": "none",
         "legendgroup": "S_Z",
         "line": {
          "color": "#207DD5",
          "width": 2
         },
         "name": "S_Z",
         "showlegend": false,
         "type": "scatter",
         "x": [
          5,
          3,
          5,
          5
         ],
         "y": [
          7,
          9,
          9,
          7
         ]
        },
        {
         "marker": {
          "color": "#474645",
          "size": 8
         },
         "mode": "markers",
         "name": "data",
         "showlegend": false,
         "type": "scatter",
         "x": [
          5,
          3,
          5
         ],
         "y": [
          7,
          9,
          9
         ]
        },
        {
         "fill": "toself",
         "fillcolor": "#D49587",
         "hoverinfo": "none",
         "legendgroup": "S_X",
         "line": {
          "color": "#BD5E49",
          "width": 2
         },
         "name": "S_X",
         "showlegend": false,
         "type": "scatter",
         "x": [
          3,
          5,
          5,
          3
         ],
         "y": [
          5,
          5,
          7,
          5
         ]
        },
        {
         "marker": {
          "color": "#474645",
          "size": 8
         },
         "mode": "markers",
         "name": "data",
         "showlegend": false,
         "type": "scatter",
         "x": [
          3,
          5,
          5
         ],
         "y": [
          5,
          5,
          7
         ]
        },
        {
         "fill": "toself",
         "fillcolor": "#D49587",
         "hoverinfo": "none",
         "legendgroup": "S_X",
         "line": {
          "color": "#BD5E49",
          "width": 2
         },
         "name": "S_X",
         "showlegend": false,
         "type": "scatter",
         "x": [
          1,
          1,
          3,
          1
         ],
         "y": [
          7,
          9,
          9,
          7
         ]
        },
        {
         "marker": {
          "color": "#474645",
          "size": 8
         },
         "mode": "markers",
         "name": "data",
         "showlegend": false,
         "type": "scatter",
         "x": [
          1,
          1,
          3
         ],
         "y": [
          7,
          9,
          9
         ]
        },
        {
         "fill": "toself",
         "fillcolor": "#9C97FB",
         "hoverinfo": "none",
         "legendgroup": "S_Z",
         "line": {
          "color": "#564EF9",
          "width": 2
         },
         "name": "S_Z",
         "showlegend": false,
         "type": "scatter",
         "x": [
          7,
          9,
          9,
          7
         ],
         "y": [
          3,
          5,
          3,
          3
         ]
        },
        {
         "marker": {
          "color": "#474645",
          "size": 8
         },
         "mode": "markers",
         "name": "data",
         "showlegend": false,
         "type": "scatter",
         "x": [
          7,
          9,
          9
         ],
         "y": [
          3,
          5,
          3
         ]
        },
        {
         "fill": "toself",
         "fillcolor": "#9C97FB",
         "hoverinfo": "none",
         "legendgroup": "S_Z",
         "line": {
          "color": "#564EF9",
          "width": 2
         },
         "name": "S_Z",
         "showlegend": false,
         "type": "scatter",
         "x": [
          7,
          9,
          9,
          7
         ],
         "y": [
          9,
          9,
          7,
          9
         ]
        },
        {
         "marker": {
          "color": "#474645",
          "size": 8
         },
         "mode": "markers",
         "name": "data",
         "showlegend": false,
         "type": "scatter",
         "x": [
          7,
          9,
          9
         ],
         "y": [
          9,
          9,
          7
         ]
        },
        {
         "fill": "toself",
         "fillcolor": "#7BB5EB",
         "hoverinfo": "none",
         "legendgroup": "S_Z",
         "line": {
          "color": "#207DD5",
          "width": 2
         },
         "name": "S_Z",
         "showlegend": false,
         "type": "scatter",
         "x": [
          5,
          5,
          7,
          5
         ],
         "y": [
          11,
          9,
          9,
          11
         ]
        },
        {
         "marker": {
          "color": "#474645",
          "size": 8
         },
         "mode": "markers",
         "name": "data",
         "showlegend": false,
         "type": "scatter",
         "x": [
          5,
          5,
          7
         ],
         "y": [
          11,
          9,
          9
         ]
        },
        {
         "fill": "toself",
         "fillcolor": "#7BB5EB",
         "hoverinfo": "none",
         "legendgroup": "S_Z",
         "line": {
          "color": "#207DD5",
          "width": 2
         },
         "name": "S_Z",
         "showlegend": false,
         "type": "scatter",
         "x": [
          9,
          7,
          9,
          9
         ],
         "y": [
          11,
          13,
          13,
          11
         ]
        },
        {
         "marker": {
          "color": "#474645",
          "size": 8
         },
         "mode": "markers",
         "name": "data",
         "showlegend": false,
         "type": "scatter",
         "x": [
          9,
          7,
          9
         ],
         "y": [
          11,
          13,
          13
         ]
        },
        {
         "fill": "toself",
         "fillcolor": "#D49587",
         "hoverinfo": "none",
         "legendgroup": "S_X",
         "line": {
          "color": "#BD5E49",
          "width": 2
         },
         "name": "S_X",
         "showlegend": false,
         "type": "scatter",
         "x": [
          9,
          9,
          7,
          9
         ],
         "y": [
          11,
          9,
          9,
          11
         ]
        },
        {
         "marker": {
          "color": "#474645",
          "size": 8
         },
         "mode": "markers",
         "name": "data",
         "showlegend": false,
         "type": "scatter",
         "x": [
          9,
          9,
          7
         ],
         "y": [
          11,
          9,
          9
         ]
        },
        {
         "fill": "toself",
         "fillcolor": "#D49587",
         "hoverinfo": "none",
         "legendgroup": "S_X",
         "line": {
          "color": "#BD5E49",
          "width": 2
         },
         "name": "S_X",
         "showlegend": false,
         "type": "scatter",
         "x": [
          5,
          7,
          5,
          5
         ],
         "y": [
          13,
          13,
          11,
          13
         ]
        },
        {
         "marker": {
          "color": "#474645",
          "size": 8
         },
         "mode": "markers",
         "name": "data",
         "showlegend": false,
         "type": "scatter",
         "x": [
          5,
          7,
          5
         ],
         "y": [
          13,
          13,
          11
         ]
        },
        {
         "fill": "toself",
         "fillcolor": "#E27985",
         "hoverinfo": "none",
         "legendgroup": "S_X",
         "line": {
          "color": "#CE2D40",
          "width": 2
         },
         "name": "S_X",
         "showlegend": false,
         "type": "scatter",
         "x": [
          0,
          1,
          1,
          0
         ],
         "y": [
          2,
          3,
          1,
          2
         ]
        },
        {
         "marker": {
          "color": "#474645",
          "size": 8
         },
         "mode": "markers",
         "name": "data",
         "showlegend": false,
         "type": "scatter",
         "x": [
          1,
          1
         ],
         "y": [
          3,
          1
         ]
        },
        {
         "fill": "toself",
         "fillcolor": "#78DAF0",
         "hoverinfo": "none",
         "legendgroup": "S_Z",
         "line": {
          "color": "#128AA5",
          "width": 2
         },
         "name": "S_Z",
         "showlegend": false,
         "type": "scatter",
         "x": [
          4,
          3,
          5,
          4
         ],
         "y": [
          0,
          1,
          1,
          0
         ]
        },
        {
         "marker": {
          "color": "#474645",
          "size": 8
         },
         "mode": "markers",
         "name": "data",
         "showlegend": false,
         "type": "scatter",
         "x": [
          3,
          5
         ],
         "y": [
          1,
          1
         ]
        },
        {
         "fill": "toself",
         "fillcolor": "#E27985",
         "hoverinfo": "none",
         "legendgroup": "S_X",
         "line": {
          "color": "#CE2D40",
          "width": 2
         },
         "name": "S_X",
         "showlegend": false,
         "type": "scatter",
         "x": [
          0,
          1,
          1,
          0
         ],
         "y": [
          6,
          7,
          5,
          6
         ]
        },
        {
         "marker": {
          "color": "#474645",
          "size": 8
         },
         "mode": "markers",
         "name": "data",
         "showlegend": false,
         "type": "scatter",
         "x": [
          1,
          1
         ],
         "y": [
          7,
          5
         ]
        },
        {
         "fill": "toself",
         "fillcolor": "#78DAF0",
         "hoverinfo": "none",
         "legendgroup": "S_Z",
         "line": {
          "color": "#128AA5",
          "width": 2
         },
         "name": "S_Z",
         "showlegend": false,
         "type": "scatter",
         "x": [
          8,
          7,
          9,
          8
         ],
         "y": [
          0,
          1,
          1,
          0
         ]
        },
        {
         "marker": {
          "color": "#474645",
          "size": 8
         },
         "mode": "markers",
         "name": "data",
         "showlegend": false,
         "type": "scatter",
         "x": [
          7,
          9
         ],
         "y": [
          1,
          1
         ]
        },
        {
         "fill": "toself",
         "fillcolor": "#E27985",
         "hoverinfo": "none",
         "legendgroup": "S_X",
         "line": {
          "color": "#CE2D40",
          "width": 2
         },
         "name": "S_X",
         "showlegend": false,
         "type": "scatter",
         "x": [
          0,
          1,
          1,
          0
         ],
         "y": [
          10,
          11,
          9,
          10
         ]
        },
        {
         "marker": {
          "color": "#474645",
          "size": 8
         },
         "mode": "markers",
         "name": "data",
         "showlegend": false,
         "type": "scatter",
         "x": [
          1,
          1
         ],
         "y": [
          11,
          9
         ]
        },
        {
         "fill": "toself",
         "fillcolor": "#78DAF0",
         "hoverinfo": "none",
         "legendgroup": "S_Z",
         "line": {
          "color": "#128AA5",
          "width": 2
         },
         "name": "S_Z",
         "showlegend": false,
         "type": "scatter",
         "x": [
          12,
          11,
          13,
          12
         ],
         "y": [
          0,
          1,
          1,
          0
         ]
        },
        {
         "marker": {
          "color": "#474645",
          "size": 8
         },
         "mode": "markers",
         "name": "data",
         "showlegend": false,
         "type": "scatter",
         "x": [
          11,
          13
         ],
         "y": [
          1,
          1
         ]
        },
        {
         "fill": "toself",
         "fillcolor": "#E27985",
         "hoverinfo": "none",
         "legendgroup": "S_X",
         "line": {
          "color": "#CE2D40",
          "width": 2
         },
         "name": "S_X",
         "showlegend": false,
         "type": "scatter",
         "x": [
          0,
          1,
          1,
          0
         ],
         "y": [
          14,
          15,
          13,
          14
         ]
        },
        {
         "marker": {
          "color": "#474645",
          "size": 8
         },
         "mode": "markers",
         "name": "data",
         "showlegend": false,
         "type": "scatter",
         "x": [
          1,
          1
         ],
         "y": [
          15,
          13
         ]
        },
        {
         "fill": "toself",
         "fillcolor": "#78DAF0",
         "hoverinfo": "none",
         "legendgroup": "S_Z",
         "line": {
          "color": "#128AA5",
          "width": 2
         },
         "name": "S_Z",
         "showlegend": false,
         "type": "scatter",
         "x": [
          16,
          15,
          17,
          16
         ],
         "y": [
          0,
          1,
          1,
          0
         ]
        },
        {
         "marker": {
          "color": "#474645",
          "size": 8
         },
         "mode": "markers",
         "name": "data",
         "showlegend": false,
         "type": "scatter",
         "x": [
          15,
          17
         ],
         "y": [
          1,
          1
         ]
        },
        {
         "fill": "toself",
         "fillcolor": "#78DAF0",
         "hoverinfo": "none",
         "legendgroup": "S_Z",
         "line": {
          "color": "#128AA5",
          "width": 2
         },
         "name": "S_Z",
         "showlegend": false,
         "type": "scatter",
         "x": [
          2,
          1,
          3,
          2
         ],
         "y": [
          18,
          17,
          17,
          18
         ]
        },
        {
         "marker": {
          "color": "#474645",
          "size": 8
         },
         "mode": "markers",
         "name": "data",
         "showlegend": false,
         "type": "scatter",
         "x": [
          1,
          3
         ],
         "y": [
          17,
          17
         ]
        },
        {
         "fill": "toself",
         "fillcolor": "#78DAF0",
         "hoverinfo": "none",
         "legendgroup": "S_Z",
         "line": {
          "color": "#128AA5",
          "width": 2
         },
         "name": "S_Z",
         "showlegend": false,
         "type": "scatter",
         "x": [
          10,
          9,
          11,
          10
         ],
         "y": [
          18,
          17,
          17,
          18
         ]
        },
        {
         "marker": {
          "color": "#474645",
          "size": 8
         },
         "mode": "markers",
         "name": "data",
         "showlegend": false,
         "type": "scatter",
         "x": [
          9,
          11
         ],
         "y": [
          17,
          17
         ]
        },
        {
         "fill": "toself",
         "fillcolor": "#E27985",
         "hoverinfo": "none",
         "legendgroup": "S_X",
         "line": {
          "color": "#CE2D40",
          "width": 2
         },
         "name": "S_X",
         "showlegend": false,
         "type": "scatter",
         "x": [
          18,
          17,
          17,
          18
         ],
         "y": [
          4,
          5,
          3,
          4
         ]
        },
        {
         "marker": {
          "color": "#474645",
          "size": 8
         },
         "mode": "markers",
         "name": "data",
         "showlegend": false,
         "type": "scatter",
         "x": [
          17,
          17
         ],
         "y": [
          5,
          3
         ]
        },
        {
         "fill": "toself",
         "fillcolor": "#E27985",
         "hoverinfo": "none",
         "legendgroup": "S_X",
         "line": {
          "color": "#CE2D40",
          "width": 2
         },
         "name": "S_X",
         "showlegend": false,
         "type": "scatter",
         "x": [
          18,
          17,
          17,
          18
         ],
         "y": [
          8,
          9,
          7,
          8
         ]
        },
        {
         "marker": {
          "color": "#474645",
          "size": 8
         },
         "mode": "markers",
         "name": "data",
         "showlegend": false,
         "type": "scatter",
         "x": [
          17,
          17
         ],
         "y": [
          9,
          7
         ]
        },
        {
         "fill": "toself",
         "fillcolor": "#E27985",
         "hoverinfo": "none",
         "legendgroup": "S_X",
         "line": {
          "color": "#CE2D40",
          "width": 2
         },
         "name": "S_X",
         "showlegend": false,
         "type": "scatter",
         "x": [
          18,
          17,
          17,
          18
         ],
         "y": [
          12,
          13,
          11,
          12
         ]
        },
        {
         "marker": {
          "color": "#474645",
          "size": 8
         },
         "mode": "markers",
         "name": "data",
         "showlegend": false,
         "type": "scatter",
         "x": [
          17,
          17
         ],
         "y": [
          13,
          11
         ]
        },
        {
         "fill": "toself",
         "fillcolor": "#E27985",
         "hoverinfo": "none",
         "legendgroup": "S_X",
         "line": {
          "color": "#CE2D40",
          "width": 2
         },
         "name": "S_X",
         "showlegend": false,
         "type": "scatter",
         "x": [
          18,
          17,
          17,
          18
         ],
         "y": [
          16,
          17,
          15,
          16
         ]
        },
        {
         "marker": {
          "color": "#474645",
          "size": 8
         },
         "mode": "markers",
         "name": "data",
         "showlegend": false,
         "type": "scatter",
         "x": [
          17,
          17
         ],
         "y": [
          17,
          15
         ]
        },
        {
         "fill": "toself",
         "fillcolor": "#C9A769",
         "hoverinfo": "none",
         "legendgroup": "S_X",
         "line": {
          "color": "#A5803B",
          "width": 2
         },
         "name": "S_X",
         "showlegend": false,
         "type": "scatter",
         "x": [
          8,
          9,
          9,
          8
         ],
         "y": [
          6,
          7,
          5,
          6
         ]
        },
        {
         "marker": {
          "color": "#474645",
          "size": 8
         },
         "mode": "markers",
         "name": "data",
         "showlegend": false,
         "type": "scatter",
         "x": [
          9,
          9
         ],
         "y": [
          7,
          5
         ]
        },
        {
         "fill": "toself",
         "fillcolor": "#B3BFD0",
         "hoverinfo": "none",
         "legendgroup": "S_Z",
         "line": {
          "color": "#5D7598",
          "width": 2
         },
         "name": "S_Z",
         "showlegend": false,
         "type": "scatter",
         "x": [
          4,
          5,
          3,
          4
         ],
         "y": [
          6,
          5,
          5,
          6
         ]
        },
        {
         "marker": {
          "color": "#474645",
          "size": 8
         },
         "mode": "markers",
         "name": "data",
         "showlegend": false,
         "type": "scatter",
         "x": [
          5,
          3
         ],
         "y": [
          5,
          5
         ]
        },
        {
         "fill": "toself",
         "fillcolor": "#B3BFD0",
         "hoverinfo": "none",
         "legendgroup": "S_Z",
         "line": {
          "color": "#5D7598",
          "width": 2
         },
         "name": "S_Z",
         "showlegend": false,
         "type": "scatter",
         "x": [
          4,
          5,
          3,
          4
         ],
         "y": [
          2,
          3,
          3,
          2
         ]
        },
        {
         "marker": {
          "color": "#474645",
          "size": 8
         },
         "mode": "markers",
         "name": "data",
         "showlegend": false,
         "type": "scatter",
         "x": [
          5,
          3
         ],
         "y": [
          3,
          3
         ]
        },
        {
         "fill": "toself",
         "fillcolor": "#9C97FB",
         "hoverinfo": "none",
         "legendgroup": "S_Z",
         "line": {
          "color": "#564EF9",
          "width": 2
         },
         "name": "S_Z",
         "showlegend": false,
         "type": "scatter",
         "x": [
          6,
          5,
          5,
          6
         ],
         "y": [
          6,
          7,
          5,
          6
         ]
        },
        {
         "marker": {
          "color": "#474645",
          "size": 8
         },
         "mode": "markers",
         "name": "data",
         "showlegend": false,
         "type": "scatter",
         "x": [
          5,
          5
         ],
         "y": [
          7,
          5
         ]
        },
        {
         "fill": "toself",
         "fillcolor": "#9C97FB",
         "hoverinfo": "none",
         "legendgroup": "S_Z",
         "line": {
          "color": "#564EF9",
          "width": 2
         },
         "name": "S_Z",
         "showlegend": false,
         "type": "scatter",
         "x": [
          6,
          7,
          5,
          6
         ],
         "y": [
          16,
          17,
          17,
          16
         ]
        },
        {
         "marker": {
          "color": "#474645",
          "size": 8
         },
         "mode": "markers",
         "name": "data",
         "showlegend": false,
         "type": "scatter",
         "x": [
          7,
          5
         ],
         "y": [
          17,
          17
         ]
        },
        {
         "fill": "toself",
         "fillcolor": "#F1BB7E",
         "hoverinfo": "none",
         "legendgroup": "S_X",
         "line": {
          "color": "#DC8118",
          "width": 2
         },
         "name": "S_X",
         "showlegend": false,
         "type": "scatter",
         "x": [
          14,
          15,
          13,
          14
         ],
         "y": [
          6,
          5,
          5,
          6
         ]
        },
        {
         "marker": {
          "color": "#474645",
          "size": 8
         },
         "mode": "markers",
         "name": "data",
         "showlegend": false,
         "type": "scatter",
         "x": [
          15,
          13
         ],
         "y": [
          5,
          5
         ]
        },
        {
         "fill": "toself",
         "fillcolor": "#F1BB7E",
         "hoverinfo": "none",
         "legendgroup": "S_X",
         "line": {
          "color": "#DC8118",
          "width": 2
         },
         "name": "S_X",
         "showlegend": false,
         "type": "scatter",
         "x": [
          14,
          15,
          13,
          14
         ],
         "y": [
          4,
          3,
          3,
          4
         ]
        },
        {
         "marker": {
          "color": "#474645",
          "size": 8
         },
         "mode": "markers",
         "name": "data",
         "showlegend": false,
         "type": "scatter",
         "x": [
          15,
          13
         ],
         "y": [
          3,
          3
         ]
        },
        {
         "fill": "toself",
         "fillcolor": "#EE8F6D",
         "hoverinfo": "none",
         "legendgroup": "S_X",
         "line": {
          "color": "#E55724",
          "width": 2
         },
         "name": "S_X",
         "showlegend": false,
         "type": "scatter",
         "x": [
          16,
          17,
          15,
          16
         ],
         "y": [
          4,
          5,
          5,
          4
         ]
        },
        {
         "marker": {
          "color": "#474645",
          "size": 8
         },
         "mode": "markers",
         "name": "data",
         "showlegend": false,
         "type": "scatter",
         "x": [
          17,
          15
         ],
         "y": [
          5,
          5
         ]
        },
        {
         "fill": "toself",
         "fillcolor": "#D49587",
         "hoverinfo": "none",
         "legendgroup": "S_X",
         "line": {
          "color": "#BD5E49",
          "width": 2
         },
         "name": "S_X",
         "showlegend": false,
         "type": "scatter",
         "x": [
          16,
          17,
          15,
          16
         ],
         "y": [
          8,
          7,
          7,
          8
         ]
        },
        {
         "marker": {
          "color": "#474645",
          "size": 8
         },
         "mode": "markers",
         "name": "data",
         "showlegend": false,
         "type": "scatter",
         "x": [
          17,
          15
         ],
         "y": [
          7,
          7
         ]
        },
        {
         "fill": "toself",
         "fillcolor": "#EE8F6D",
         "hoverinfo": "none",
         "legendgroup": "S_X",
         "line": {
          "color": "#E55724",
          "width": 2
         },
         "name": "S_X",
         "showlegend": false,
         "type": "scatter",
         "x": [
          12,
          13,
          13,
          12
         ],
         "y": [
          12,
          13,
          11,
          12
         ]
        },
        {
         "marker": {
          "color": "#474645",
          "size": 8
         },
         "mode": "markers",
         "name": "data",
         "showlegend": false,
         "type": "scatter",
         "x": [
          13,
          13
         ],
         "y": [
          13,
          11
         ]
        },
        {
         "fill": "toself",
         "fillcolor": "#EE8F6D",
         "hoverinfo": "none",
         "legendgroup": "S_X",
         "line": {
          "color": "#E55724",
          "width": 2
         },
         "name": "S_X",
         "showlegend": false,
         "type": "scatter",
         "x": [
          16,
          15,
          15,
          16
         ],
         "y": [
          12,
          13,
          11,
          12
         ]
        },
        {
         "marker": {
          "color": "#474645",
          "size": 8
         },
         "mode": "markers",
         "name": "data",
         "showlegend": false,
         "type": "scatter",
         "x": [
          15,
          15
         ],
         "y": [
          13,
          11
         ]
        },
        {
         "hoverlabel": {
          "namelength": -1
         },
         "marker": {
          "color": "#787776",
          "size": 10
         },
         "mode": "markers",
         "name": "Ancilla XX",
         "showlegend": false,
         "type": "scatter",
         "x": [
          0
         ],
         "y": [
          2
         ]
        },
        {
         "hoverlabel": {
          "namelength": -1
         },
         "marker": {
          "color": "#787776",
          "size": 10
         },
         "mode": "markers",
         "name": "Ancilla ZZZZ",
         "showlegend": false,
         "type": "scatter",
         "x": [
          2
         ],
         "y": [
          2
         ]
        },
        {
         "hoverlabel": {
          "namelength": -1
         },
         "marker": {
          "color": "#787776",
          "size": 10
         },
         "mode": "markers",
         "name": "Ancilla ZZ",
         "showlegend": false,
         "type": "scatter",
         "x": [
          4
         ],
         "y": [
          0
         ]
        },
        {
         "hoverlabel": {
          "namelength": -1
         },
         "marker": {
          "color": "#787776",
          "size": 10
         },
         "mode": "markers",
         "name": "Ancilla XX",
         "showlegend": false,
         "type": "scatter",
         "x": [
          0
         ],
         "y": [
          6
         ]
        },
        {
         "hoverlabel": {
          "namelength": -1
         },
         "marker": {
          "color": "#787776",
          "size": 10
         },
         "mode": "markers",
         "name": "Ancilla ZZZZ",
         "showlegend": false,
         "type": "scatter",
         "x": [
          6
         ],
         "y": [
          2
         ]
        },
        {
         "hoverlabel": {
          "namelength": -1
         },
         "marker": {
          "color": "#787776",
          "size": 10
         },
         "mode": "markers",
         "name": "Ancilla ZZ",
         "showlegend": false,
         "type": "scatter",
         "x": [
          8
         ],
         "y": [
          0
         ]
        },
        {
         "hoverlabel": {
          "namelength": -1
         },
         "marker": {
          "color": "#787776",
          "size": 10
         },
         "mode": "markers",
         "name": "Ancilla XXXX",
         "showlegend": false,
         "type": "scatter",
         "x": [
          8
         ],
         "y": [
          2
         ]
        },
        {
         "hoverlabel": {
          "namelength": -1
         },
         "marker": {
          "color": "#787776",
          "size": 10
         },
         "mode": "markers",
         "name": "Ancilla XX",
         "showlegend": false,
         "type": "scatter",
         "x": [
          0
         ],
         "y": [
          10
         ]
        },
        {
         "hoverlabel": {
          "namelength": -1
         },
         "marker": {
          "color": "#787776",
          "size": 10
         },
         "mode": "markers",
         "name": "Ancilla ZZZZ",
         "showlegend": false,
         "type": "scatter",
         "x": [
          2
         ],
         "y": [
          10
         ]
        },
        {
         "hoverlabel": {
          "namelength": -1
         },
         "marker": {
          "color": "#787776",
          "size": 10
         },
         "mode": "markers",
         "name": "Ancilla XXXX",
         "showlegend": false,
         "type": "scatter",
         "x": [
          4
         ],
         "y": [
          10
         ]
        },
        {
         "hoverlabel": {
          "namelength": -1
         },
         "marker": {
          "color": "#787776",
          "size": 10
         },
         "mode": "markers",
         "name": "Ancilla ZZZZ",
         "showlegend": false,
         "type": "scatter",
         "x": [
          10
         ],
         "y": [
          2
         ]
        },
        {
         "hoverlabel": {
          "namelength": -1
         },
         "marker": {
          "color": "#787776",
          "size": 10
         },
         "mode": "markers",
         "name": "Ancilla XXXX",
         "showlegend": false,
         "type": "scatter",
         "x": [
          10
         ],
         "y": [
          4
         ]
        },
        {
         "hoverlabel": {
          "namelength": -1
         },
         "marker": {
          "color": "#787776",
          "size": 10
         },
         "mode": "markers",
         "name": "Ancilla ZZZZ",
         "showlegend": false,
         "type": "scatter",
         "x": [
          10
         ],
         "y": [
          6
         ]
        },
        {
         "hoverlabel": {
          "namelength": -1
         },
         "marker": {
          "color": "#787776",
          "size": 10
         },
         "mode": "markers",
         "name": "Ancilla XXXX",
         "showlegend": false,
         "type": "scatter",
         "x": [
          10
         ],
         "y": [
          8
         ]
        },
        {
         "hoverlabel": {
          "namelength": -1
         },
         "marker": {
          "color": "#787776",
          "size": 10
         },
         "mode": "markers",
         "name": "Ancilla ZZZZ",
         "showlegend": false,
         "type": "scatter",
         "x": [
          10
         ],
         "y": [
          10
         ]
        },
        {
         "hoverlabel": {
          "namelength": -1
         },
         "marker": {
          "color": "#787776",
          "size": 10
         },
         "mode": "markers",
         "name": "Ancilla XXXX",
         "showlegend": false,
         "type": "scatter",
         "x": [
          2
         ],
         "y": [
          12
         ]
        },
        {
         "hoverlabel": {
          "namelength": -1
         },
         "marker": {
          "color": "#787776",
          "size": 10
         },
         "mode": "markers",
         "name": "Ancilla ZZZZ",
         "showlegend": false,
         "type": "scatter",
         "x": [
          4
         ],
         "y": [
          12
         ]
        },
        {
         "hoverlabel": {
          "namelength": -1
         },
         "marker": {
          "color": "#787776",
          "size": 10
         },
         "mode": "markers",
         "name": "Ancilla XXXX",
         "showlegend": false,
         "type": "scatter",
         "x": [
          10
         ],
         "y": [
          12
         ]
        },
        {
         "hoverlabel": {
          "namelength": -1
         },
         "marker": {
          "color": "#787776",
          "size": 10
         },
         "mode": "markers",
         "name": "Ancilla ZZ",
         "showlegend": false,
         "type": "scatter",
         "x": [
          12
         ],
         "y": [
          0
         ]
        },
        {
         "hoverlabel": {
          "namelength": -1
         },
         "marker": {
          "color": "#787776",
          "size": 10
         },
         "mode": "markers",
         "name": "Ancilla XXXX",
         "showlegend": false,
         "type": "scatter",
         "x": [
          12
         ],
         "y": [
          2
         ]
        },
        {
         "hoverlabel": {
          "namelength": -1
         },
         "marker": {
          "color": "#787776",
          "size": 10
         },
         "mode": "markers",
         "name": "Ancilla XXXX",
         "showlegend": false,
         "type": "scatter",
         "x": [
          12
         ],
         "y": [
          6
         ]
        },
        {
         "hoverlabel": {
          "namelength": -1
         },
         "marker": {
          "color": "#787776",
          "size": 10
         },
         "mode": "markers",
         "name": "Ancilla ZZZZ",
         "showlegend": false,
         "type": "scatter",
         "x": [
          12
         ],
         "y": [
          8
         ]
        },
        {
         "hoverlabel": {
          "namelength": -1
         },
         "marker": {
          "color": "#787776",
          "size": 10
         },
         "mode": "markers",
         "name": "Ancilla XXXX",
         "showlegend": false,
         "type": "scatter",
         "x": [
          12
         ],
         "y": [
          10
         ]
        },
        {
         "hoverlabel": {
          "namelength": -1
         },
         "marker": {
          "color": "#787776",
          "size": 10
         },
         "mode": "markers",
         "name": "Ancilla XX",
         "showlegend": false,
         "type": "scatter",
         "x": [
          0
         ],
         "y": [
          14
         ]
        },
        {
         "hoverlabel": {
          "namelength": -1
         },
         "marker": {
          "color": "#787776",
          "size": 10
         },
         "mode": "markers",
         "name": "Ancilla ZZZZ",
         "showlegend": false,
         "type": "scatter",
         "x": [
          2
         ],
         "y": [
          14
         ]
        },
        {
         "hoverlabel": {
          "namelength": -1
         },
         "marker": {
          "color": "#787776",
          "size": 10
         },
         "mode": "markers",
         "name": "Ancilla XXXX",
         "showlegend": false,
         "type": "scatter",
         "x": [
          4
         ],
         "y": [
          14
         ]
        },
        {
         "hoverlabel": {
          "namelength": -1
         },
         "marker": {
          "color": "#787776",
          "size": 10
         },
         "mode": "markers",
         "name": "Ancilla ZZZZ",
         "showlegend": false,
         "type": "scatter",
         "x": [
          6
         ],
         "y": [
          14
         ]
        },
        {
         "hoverlabel": {
          "namelength": -1
         },
         "marker": {
          "color": "#787776",
          "size": 10
         },
         "mode": "markers",
         "name": "Ancilla XXXX",
         "showlegend": false,
         "type": "scatter",
         "x": [
          8
         ],
         "y": [
          14
         ]
        },
        {
         "hoverlabel": {
          "namelength": -1
         },
         "marker": {
          "color": "#787776",
          "size": 10
         },
         "mode": "markers",
         "name": "Ancilla ZZZZ",
         "showlegend": false,
         "type": "scatter",
         "x": [
          10
         ],
         "y": [
          14
         ]
        },
        {
         "hoverlabel": {
          "namelength": -1
         },
         "marker": {
          "color": "#787776",
          "size": 10
         },
         "mode": "markers",
         "name": "Ancilla XXXX",
         "showlegend": false,
         "type": "scatter",
         "x": [
          12
         ],
         "y": [
          14
         ]
        },
        {
         "hoverlabel": {
          "namelength": -1
         },
         "marker": {
          "color": "#787776",
          "size": 10
         },
         "mode": "markers",
         "name": "Ancilla ZZZZ",
         "showlegend": false,
         "type": "scatter",
         "x": [
          14
         ],
         "y": [
          2
         ]
        },
        {
         "hoverlabel": {
          "namelength": -1
         },
         "marker": {
          "color": "#787776",
          "size": 10
         },
         "mode": "markers",
         "name": "Ancilla XXXX",
         "showlegend": false,
         "type": "scatter",
         "x": [
          14
         ],
         "y": [
          8
         ]
        },
        {
         "hoverlabel": {
          "namelength": -1
         },
         "marker": {
          "color": "#787776",
          "size": 10
         },
         "mode": "markers",
         "name": "Ancilla XXXX",
         "showlegend": false,
         "type": "scatter",
         "x": [
          2
         ],
         "y": [
          16
         ]
        },
        {
         "hoverlabel": {
          "namelength": -1
         },
         "marker": {
          "color": "#787776",
          "size": 10
         },
         "mode": "markers",
         "name": "Ancilla ZZZZ",
         "showlegend": false,
         "type": "scatter",
         "x": [
          4
         ],
         "y": [
          16
         ]
        },
        {
         "hoverlabel": {
          "namelength": -1
         },
         "marker": {
          "color": "#787776",
          "size": 10
         },
         "mode": "markers",
         "name": "Ancilla ZZZZ",
         "showlegend": false,
         "type": "scatter",
         "x": [
          8
         ],
         "y": [
          16
         ]
        },
        {
         "hoverlabel": {
          "namelength": -1
         },
         "marker": {
          "color": "#787776",
          "size": 10
         },
         "mode": "markers",
         "name": "Ancilla XXXX",
         "showlegend": false,
         "type": "scatter",
         "x": [
          10
         ],
         "y": [
          16
         ]
        },
        {
         "hoverlabel": {
          "namelength": -1
         },
         "marker": {
          "color": "#787776",
          "size": 10
         },
         "mode": "markers",
         "name": "Ancilla ZZZ",
         "showlegend": false,
         "type": "scatter",
         "x": [
          12
         ],
         "y": [
          16
         ]
        },
        {
         "hoverlabel": {
          "namelength": -1
         },
         "marker": {
          "color": "#787776",
          "size": 10
         },
         "mode": "markers",
         "name": "Ancilla ZZ",
         "showlegend": false,
         "type": "scatter",
         "x": [
          16
         ],
         "y": [
          0
         ]
        },
        {
         "hoverlabel": {
          "namelength": -1
         },
         "marker": {
          "color": "#787776",
          "size": 10
         },
         "mode": "markers",
         "name": "Ancilla XXXX",
         "showlegend": false,
         "type": "scatter",
         "x": [
          16
         ],
         "y": [
          2
         ]
        },
        {
         "hoverlabel": {
          "namelength": -1
         },
         "marker": {
          "color": "#787776",
          "size": 10
         },
         "mode": "markers",
         "name": "Ancilla XXXX",
         "showlegend": false,
         "type": "scatter",
         "x": [
          16
         ],
         "y": [
          10
         ]
        },
        {
         "hoverlabel": {
          "namelength": -1
         },
         "marker": {
          "color": "#787776",
          "size": 10
         },
         "mode": "markers",
         "name": "Ancilla XXXX",
         "showlegend": false,
         "type": "scatter",
         "x": [
          16
         ],
         "y": [
          14
         ]
        },
        {
         "hoverlabel": {
          "namelength": -1
         },
         "marker": {
          "color": "#787776",
          "size": 10
         },
         "mode": "markers",
         "name": "Ancilla ZZZ",
         "showlegend": false,
         "type": "scatter",
         "x": [
          16
         ],
         "y": [
          16
         ]
        },
        {
         "hoverlabel": {
          "namelength": -1
         },
         "marker": {
          "color": "#787776",
          "size": 10
         },
         "mode": "markers",
         "name": "Ancilla ZZ",
         "showlegend": false,
         "type": "scatter",
         "x": [
          2
         ],
         "y": [
          18
         ]
        },
        {
         "hoverlabel": {
          "namelength": -1
         },
         "marker": {
          "color": "#787776",
          "size": 10
         },
         "mode": "markers",
         "name": "Ancilla ZZ",
         "showlegend": false,
         "type": "scatter",
         "x": [
          10
         ],
         "y": [
          18
         ]
        },
        {
         "hoverlabel": {
          "namelength": -1
         },
         "marker": {
          "color": "#787776",
          "size": 10
         },
         "mode": "markers",
         "name": "Ancilla XX",
         "showlegend": false,
         "type": "scatter",
         "x": [
          18
         ],
         "y": [
          4
         ]
        },
        {
         "hoverlabel": {
          "namelength": -1
         },
         "marker": {
          "color": "#787776",
          "size": 10
         },
         "mode": "markers",
         "name": "Ancilla XX",
         "showlegend": false,
         "type": "scatter",
         "x": [
          18
         ],
         "y": [
          8
         ]
        },
        {
         "hoverlabel": {
          "namelength": -1
         },
         "marker": {
          "color": "#787776",
          "size": 10
         },
         "mode": "markers",
         "name": "Ancilla XX",
         "showlegend": false,
         "type": "scatter",
         "x": [
          18
         ],
         "y": [
          12
         ]
        },
        {
         "hoverlabel": {
          "namelength": -1
         },
         "marker": {
          "color": "#787776",
          "size": 10
         },
         "mode": "markers",
         "name": "Ancilla XX",
         "showlegend": false,
         "type": "scatter",
         "x": [
          18
         ],
         "y": [
          16
         ]
        },
        {
         "hoverlabel": {
          "namelength": -1
         },
         "marker": {
          "color": "#787776",
          "size": 10
         },
         "mode": "markers",
         "name": "Ancilla XXX",
         "showlegend": false,
         "type": "scatter",
         "x": [
          6
         ],
         "y": [
          8
         ]
        },
        {
         "hoverlabel": {
          "namelength": -1
         },
         "marker": {
          "color": "#787776",
          "size": 10
         },
         "mode": "markers",
         "name": "Ancilla XX",
         "showlegend": false,
         "type": "scatter",
         "x": [
          8
         ],
         "y": [
          6
         ]
        },
        {
         "hoverlabel": {
          "namelength": -1
         },
         "marker": {
          "color": "#787776",
          "size": 10
         },
         "mode": "markers",
         "name": "Ancilla XXX",
         "showlegend": false,
         "type": "scatter",
         "x": [
          6
         ],
         "y": [
          4
         ]
        },
        {
         "hoverlabel": {
          "namelength": -1
         },
         "marker": {
          "color": "#787776",
          "size": 10
         },
         "mode": "markers",
         "name": "Ancilla XXXX",
         "showlegend": false,
         "type": "scatter",
         "x": [
          2
         ],
         "y": [
          4
         ]
        },
        {
         "hoverlabel": {
          "namelength": -1
         },
         "marker": {
          "color": "#787776",
          "size": 10
         },
         "mode": "markers",
         "name": "Ancilla ZZ,XXX",
         "showlegend": false,
         "type": "scatter",
         "x": [
          4
         ],
         "y": [
          6
         ]
        },
        {
         "hoverlabel": {
          "namelength": -1
         },
         "marker": {
          "color": "#787776",
          "size": 10
         },
         "mode": "markers",
         "name": "Ancilla ZZ,XXXX",
         "showlegend": false,
         "type": "scatter",
         "x": [
          4
         ],
         "y": [
          2
         ]
        },
        {
         "hoverlabel": {
          "namelength": -1
         },
         "marker": {
          "color": "#787776",
          "size": 10
         },
         "mode": "markers",
         "name": "Ancilla ZZZ",
         "showlegend": false,
         "type": "scatter",
         "x": [
          2
         ],
         "y": [
          6
         ]
        },
        {
         "hoverlabel": {
          "namelength": -1
         },
         "marker": {
          "color": "#787776",
          "size": 10
         },
         "mode": "markers",
         "name": "Ancilla ZZZ",
         "showlegend": false,
         "type": "scatter",
         "x": [
          4
         ],
         "y": [
          8
         ]
        },
        {
         "hoverlabel": {
          "namelength": -1
         },
         "marker": {
          "color": "#787776",
          "size": 10
         },
         "mode": "markers",
         "name": "Ancilla XXX",
         "showlegend": false,
         "type": "scatter",
         "x": [
          2
         ],
         "y": [
          8
         ]
        },
        {
         "hoverlabel": {
          "namelength": -1
         },
         "marker": {
          "color": "#787776",
          "size": 10
         },
         "mode": "markers",
         "name": "Ancilla ZZZ",
         "showlegend": false,
         "type": "scatter",
         "x": [
          8
         ],
         "y": [
          4
         ]
        },
        {
         "hoverlabel": {
          "namelength": -1
         },
         "marker": {
          "color": "#787776",
          "size": 10
         },
         "mode": "markers",
         "name": "Ancilla ZZ",
         "showlegend": false,
         "type": "scatter",
         "x": [
          6
         ],
         "y": [
          6
         ]
        },
        {
         "hoverlabel": {
          "namelength": -1
         },
         "marker": {
          "color": "#787776",
          "size": 10
         },
         "mode": "markers",
         "name": "Ancilla ZZZ",
         "showlegend": false,
         "type": "scatter",
         "x": [
          8
         ],
         "y": [
          8
         ]
        },
        {
         "hoverlabel": {
          "namelength": -1
         },
         "marker": {
          "color": "#787776",
          "size": 10
         },
         "mode": "markers",
         "name": "Ancilla ZZZ",
         "showlegend": false,
         "type": "scatter",
         "x": [
          6
         ],
         "y": [
          10
         ]
        },
        {
         "hoverlabel": {
          "namelength": -1
         },
         "marker": {
          "color": "#787776",
          "size": 10
         },
         "mode": "markers",
         "name": "Ancilla ZZZ",
         "showlegend": false,
         "type": "scatter",
         "x": [
          8
         ],
         "y": [
          12
         ]
        },
        {
         "hoverlabel": {
          "namelength": -1
         },
         "marker": {
          "color": "#787776",
          "size": 10
         },
         "mode": "markers",
         "name": "Ancilla XXX",
         "showlegend": false,
         "type": "scatter",
         "x": [
          8
         ],
         "y": [
          10
         ]
        },
        {
         "hoverlabel": {
          "namelength": -1
         },
         "marker": {
          "color": "#787776",
          "size": 10
         },
         "mode": "markers",
         "name": "Ancilla XXX",
         "showlegend": false,
         "type": "scatter",
         "x": [
          6
         ],
         "y": [
          12
         ]
        },
        {
         "hoverlabel": {
          "namelength": -1
         },
         "marker": {
          "color": "#787776",
          "size": 10
         },
         "mode": "markers",
         "name": "Ancilla ZZ,XXXX",
         "showlegend": false,
         "type": "scatter",
         "x": [
          6
         ],
         "y": [
          16
         ]
        },
        {
         "hoverlabel": {
          "namelength": -1
         },
         "marker": {
          "color": "#787776",
          "size": 10
         },
         "mode": "markers",
         "name": "Ancilla ZZZZ",
         "showlegend": false,
         "type": "scatter",
         "x": [
          12
         ],
         "y": [
          4
         ]
        },
        {
         "hoverlabel": {
          "namelength": -1
         },
         "marker": {
          "color": "#787776",
          "size": 10
         },
         "mode": "markers",
         "name": "Ancilla ZZZZ,XX",
         "showlegend": false,
         "type": "scatter",
         "x": [
          16
         ],
         "y": [
          4
         ]
        },
        {
         "hoverlabel": {
          "namelength": -1
         },
         "marker": {
          "color": "#787776",
          "size": 10
         },
         "mode": "markers",
         "name": "Ancilla XX",
         "showlegend": false,
         "type": "scatter",
         "x": [
          14
         ],
         "y": [
          6
         ]
        },
        {
         "hoverlabel": {
          "namelength": -1
         },
         "marker": {
          "color": "#787776",
          "size": 10
         },
         "mode": "markers",
         "name": "Ancilla XX",
         "showlegend": false,
         "type": "scatter",
         "x": [
          14
         ],
         "y": [
          4
         ]
        },
        {
         "hoverlabel": {
          "namelength": -1
         },
         "marker": {
          "color": "#787776",
          "size": 10
         },
         "mode": "markers",
         "name": "Ancilla XX,ZZZZ",
         "showlegend": false,
         "type": "scatter",
         "x": [
          16
         ],
         "y": [
          8
         ]
        },
        {
         "hoverlabel": {
          "namelength": -1
         },
         "marker": {
          "color": "#787776",
          "size": 10
         },
         "mode": "markers",
         "name": "Ancilla XX,ZZZZ",
         "showlegend": false,
         "type": "scatter",
         "x": [
          12
         ],
         "y": [
          12
         ]
        },
        {
         "hoverlabel": {
          "namelength": -1
         },
         "marker": {
          "color": "#787776",
          "size": 10
         },
         "mode": "markers",
         "name": "Ancilla XX,ZZZZ",
         "showlegend": false,
         "type": "scatter",
         "x": [
          16
         ],
         "y": [
          12
         ]
        },
        {
         "hoverlabel": {
          "namelength": -1
         },
         "marker": {
          "color": "#787776",
          "size": 10
         },
         "mode": "markers",
         "name": "Ancilla ZZZZ",
         "showlegend": false,
         "type": "scatter",
         "x": [
          14
         ],
         "y": [
          14
         ]
        },
        {
         "hoverlabel": {
          "namelength": -1
         },
         "marker": {
          "color": "#787776",
          "size": 10
         },
         "mode": "markers",
         "name": "Ancilla ZZZZ",
         "showlegend": false,
         "type": "scatter",
         "x": [
          14
         ],
         "y": [
          10
         ]
        },
        {
         "legendgroup": "Z_L",
         "line": {
          "color": "#128AA5",
          "width": 4
         },
         "name": "Z_L",
         "showlegend": false,
         "type": "scatter",
         "x": [
          1,
          1,
          1,
          1,
          1,
          1,
          1,
          1,
          1
         ],
         "y": [
          17,
          15,
          13,
          11,
          9,
          7,
          5,
          3,
          1
         ]
        },
        {
         "legendgroup": "X_L",
         "line": {
          "color": "#CE2D40",
          "width": 4
         },
         "name": "X_L",
         "showlegend": false,
         "type": "scatter",
         "x": [
          1,
          3,
          5,
          7,
          9,
          11,
          13,
          15,
          17
         ],
         "y": [
          1,
          1,
          1,
          1,
          1,
          1,
          1,
          1,
          1
         ]
        },
        {
         "legendgroup": "Z_L",
         "line": {
          "color": "#128AA5",
          "width": 4
         },
         "name": "Z_L",
         "showlegend": true,
         "type": "scatter",
         "x": [
          17,
          17,
          17,
          15,
          13,
          13,
          15,
          17,
          17,
          17,
          17,
          17,
          17
         ],
         "y": [
          1,
          3,
          5,
          5,
          5,
          7,
          7,
          7,
          9,
          11,
          13,
          15,
          17
         ]
        },
        {
         "legendgroup": "X_L",
         "line": {
          "color": "#CE2D40",
          "width": 4
         },
         "name": "X_L",
         "showlegend": true,
         "type": "scatter",
         "x": [
          17,
          15,
          13,
          11,
          9,
          7,
          5,
          3,
          1
         ],
         "y": [
          17,
          15,
          15,
          17,
          17,
          17,
          17,
          17,
          17
         ]
        },
        {
         "marker": {
          "color": "red",
          "size": 12,
          "symbol": "x"
         },
         "mode": "markers",
         "name": "qubit defect",
         "showlegend": false,
         "type": "scatter",
         "x": [
          7,
          6,
          15,
          3,
          16,
          4,
          7,
          14
         ],
         "y": [
          11,
          18,
          17,
          7,
          6,
          4,
          5,
          12
         ]
        },
        {
         "line": {
          "color": "red",
          "dash": "dot",
          "width": 2
         },
         "mode": "lines",
         "name": "link defect",
         "showlegend": false,
         "type": "scatter",
         "x": [
          14,
          14.5,
          15
         ],
         "y": [
          6,
          6.5,
          7
         ]
        },
        {
         "line": {
          "color": "red",
          "dash": "dot",
          "width": 2
         },
         "mode": "lines",
         "name": "link defect",
         "showlegend": false,
         "type": "scatter",
         "x": [
          6,
          6.5,
          7
         ],
         "y": [
          6,
          6.5,
          7
         ]
        },
        {
         "line": {
          "color": "red",
          "dash": "dot",
          "width": 2
         },
         "mode": "lines",
         "name": "link defect",
         "showlegend": false,
         "type": "scatter",
         "x": [
          14,
          13.5,
          13
         ],
         "y": [
          4,
          4.5,
          5
         ]
        }
       ],
       "layout": {
        "autosize": false,
        "template": {
         "data": {
          "bar": [
           {
            "error_x": {
             "color": "#2a3f5f"
            },
            "error_y": {
             "color": "#2a3f5f"
            },
            "marker": {
             "line": {
              "color": "#E5ECF6",
              "width": 0.5
             },
             "pattern": {
              "fillmode": "overlay",
              "size": 10,
              "solidity": 0.2
             }
            },
            "type": "bar"
           }
          ],
          "barpolar": [
           {
            "marker": {
             "line": {
              "color": "#E5ECF6",
              "width": 0.5
             },
             "pattern": {
              "fillmode": "overlay",
              "size": 10,
              "solidity": 0.2
             }
            },
            "type": "barpolar"
           }
          ],
          "carpet": [
           {
            "aaxis": {
             "endlinecolor": "#2a3f5f",
             "gridcolor": "white",
             "linecolor": "white",
             "minorgridcolor": "white",
             "startlinecolor": "#2a3f5f"
            },
            "baxis": {
             "endlinecolor": "#2a3f5f",
             "gridcolor": "white",
             "linecolor": "white",
             "minorgridcolor": "white",
             "startlinecolor": "#2a3f5f"
            },
            "type": "carpet"
           }
          ],
          "choropleth": [
           {
            "colorbar": {
             "outlinewidth": 0,
             "ticks": ""
            },
            "type": "choropleth"
           }
          ],
          "contour": [
           {
            "colorbar": {
             "outlinewidth": 0,
             "ticks": ""
            },
            "colorscale": [
             [
              0,
              "#0d0887"
             ],
             [
              0.1111111111111111,
              "#46039f"
             ],
             [
              0.2222222222222222,
              "#7201a8"
             ],
             [
              0.3333333333333333,
              "#9c179e"
             ],
             [
              0.4444444444444444,
              "#bd3786"
             ],
             [
              0.5555555555555556,
              "#d8576b"
             ],
             [
              0.6666666666666666,
              "#ed7953"
             ],
             [
              0.7777777777777778,
              "#fb9f3a"
             ],
             [
              0.8888888888888888,
              "#fdca26"
             ],
             [
              1,
              "#f0f921"
             ]
            ],
            "type": "contour"
           }
          ],
          "contourcarpet": [
           {
            "colorbar": {
             "outlinewidth": 0,
             "ticks": ""
            },
            "type": "contourcarpet"
           }
          ],
          "heatmap": [
           {
            "colorbar": {
             "outlinewidth": 0,
             "ticks": ""
            },
            "colorscale": [
             [
              0,
              "#0d0887"
             ],
             [
              0.1111111111111111,
              "#46039f"
             ],
             [
              0.2222222222222222,
              "#7201a8"
             ],
             [
              0.3333333333333333,
              "#9c179e"
             ],
             [
              0.4444444444444444,
              "#bd3786"
             ],
             [
              0.5555555555555556,
              "#d8576b"
             ],
             [
              0.6666666666666666,
              "#ed7953"
             ],
             [
              0.7777777777777778,
              "#fb9f3a"
             ],
             [
              0.8888888888888888,
              "#fdca26"
             ],
             [
              1,
              "#f0f921"
             ]
            ],
            "type": "heatmap"
           }
          ],
          "heatmapgl": [
           {
            "colorbar": {
             "outlinewidth": 0,
             "ticks": ""
            },
            "colorscale": [
             [
              0,
              "#0d0887"
             ],
             [
              0.1111111111111111,
              "#46039f"
             ],
             [
              0.2222222222222222,
              "#7201a8"
             ],
             [
              0.3333333333333333,
              "#9c179e"
             ],
             [
              0.4444444444444444,
              "#bd3786"
             ],
             [
              0.5555555555555556,
              "#d8576b"
             ],
             [
              0.6666666666666666,
              "#ed7953"
             ],
             [
              0.7777777777777778,
              "#fb9f3a"
             ],
             [
              0.8888888888888888,
              "#fdca26"
             ],
             [
              1,
              "#f0f921"
             ]
            ],
            "type": "heatmapgl"
           }
          ],
          "histogram": [
           {
            "marker": {
             "pattern": {
              "fillmode": "overlay",
              "size": 10,
              "solidity": 0.2
             }
            },
            "type": "histogram"
           }
          ],
          "histogram2d": [
           {
            "colorbar": {
             "outlinewidth": 0,
             "ticks": ""
            },
            "colorscale": [
             [
              0,
              "#0d0887"
             ],
             [
              0.1111111111111111,
              "#46039f"
             ],
             [
              0.2222222222222222,
              "#7201a8"
             ],
             [
              0.3333333333333333,
              "#9c179e"
             ],
             [
              0.4444444444444444,
              "#bd3786"
             ],
             [
              0.5555555555555556,
              "#d8576b"
             ],
             [
              0.6666666666666666,
              "#ed7953"
             ],
             [
              0.7777777777777778,
              "#fb9f3a"
             ],
             [
              0.8888888888888888,
              "#fdca26"
             ],
             [
              1,
              "#f0f921"
             ]
            ],
            "type": "histogram2d"
           }
          ],
          "histogram2dcontour": [
           {
            "colorbar": {
             "outlinewidth": 0,
             "ticks": ""
            },
            "colorscale": [
             [
              0,
              "#0d0887"
             ],
             [
              0.1111111111111111,
              "#46039f"
             ],
             [
              0.2222222222222222,
              "#7201a8"
             ],
             [
              0.3333333333333333,
              "#9c179e"
             ],
             [
              0.4444444444444444,
              "#bd3786"
             ],
             [
              0.5555555555555556,
              "#d8576b"
             ],
             [
              0.6666666666666666,
              "#ed7953"
             ],
             [
              0.7777777777777778,
              "#fb9f3a"
             ],
             [
              0.8888888888888888,
              "#fdca26"
             ],
             [
              1,
              "#f0f921"
             ]
            ],
            "type": "histogram2dcontour"
           }
          ],
          "mesh3d": [
           {
            "colorbar": {
             "outlinewidth": 0,
             "ticks": ""
            },
            "type": "mesh3d"
           }
          ],
          "parcoords": [
           {
            "line": {
             "colorbar": {
              "outlinewidth": 0,
              "ticks": ""
             }
            },
            "type": "parcoords"
           }
          ],
          "pie": [
           {
            "automargin": true,
            "type": "pie"
           }
          ],
          "scatter": [
           {
            "fillpattern": {
             "fillmode": "overlay",
             "size": 10,
             "solidity": 0.2
            },
            "type": "scatter"
           }
          ],
          "scatter3d": [
           {
            "line": {
             "colorbar": {
              "outlinewidth": 0,
              "ticks": ""
             }
            },
            "marker": {
             "colorbar": {
              "outlinewidth": 0,
              "ticks": ""
             }
            },
            "type": "scatter3d"
           }
          ],
          "scattercarpet": [
           {
            "marker": {
             "colorbar": {
              "outlinewidth": 0,
              "ticks": ""
             }
            },
            "type": "scattercarpet"
           }
          ],
          "scattergeo": [
           {
            "marker": {
             "colorbar": {
              "outlinewidth": 0,
              "ticks": ""
             }
            },
            "type": "scattergeo"
           }
          ],
          "scattergl": [
           {
            "marker": {
             "colorbar": {
              "outlinewidth": 0,
              "ticks": ""
             }
            },
            "type": "scattergl"
           }
          ],
          "scattermapbox": [
           {
            "marker": {
             "colorbar": {
              "outlinewidth": 0,
              "ticks": ""
             }
            },
            "type": "scattermapbox"
           }
          ],
          "scatterpolar": [
           {
            "marker": {
             "colorbar": {
              "outlinewidth": 0,
              "ticks": ""
             }
            },
            "type": "scatterpolar"
           }
          ],
          "scatterpolargl": [
           {
            "marker": {
             "colorbar": {
              "outlinewidth": 0,
              "ticks": ""
             }
            },
            "type": "scatterpolargl"
           }
          ],
          "scatterternary": [
           {
            "marker": {
             "colorbar": {
              "outlinewidth": 0,
              "ticks": ""
             }
            },
            "type": "scatterternary"
           }
          ],
          "surface": [
           {
            "colorbar": {
             "outlinewidth": 0,
             "ticks": ""
            },
            "colorscale": [
             [
              0,
              "#0d0887"
             ],
             [
              0.1111111111111111,
              "#46039f"
             ],
             [
              0.2222222222222222,
              "#7201a8"
             ],
             [
              0.3333333333333333,
              "#9c179e"
             ],
             [
              0.4444444444444444,
              "#bd3786"
             ],
             [
              0.5555555555555556,
              "#d8576b"
             ],
             [
              0.6666666666666666,
              "#ed7953"
             ],
             [
              0.7777777777777778,
              "#fb9f3a"
             ],
             [
              0.8888888888888888,
              "#fdca26"
             ],
             [
              1,
              "#f0f921"
             ]
            ],
            "type": "surface"
           }
          ],
          "table": [
           {
            "cells": {
             "fill": {
              "color": "#EBF0F8"
             },
             "line": {
              "color": "white"
             }
            },
            "header": {
             "fill": {
              "color": "#C8D4E3"
             },
             "line": {
              "color": "white"
             }
            },
            "type": "table"
           }
          ]
         },
         "layout": {
          "annotationdefaults": {
           "arrowcolor": "#2a3f5f",
           "arrowhead": 0,
           "arrowwidth": 1
          },
          "autotypenumbers": "strict",
          "coloraxis": {
           "colorbar": {
            "outlinewidth": 0,
            "ticks": ""
           }
          },
          "colorscale": {
           "diverging": [
            [
             0,
             "#8e0152"
            ],
            [
             0.1,
             "#c51b7d"
            ],
            [
             0.2,
             "#de77ae"
            ],
            [
             0.3,
             "#f1b6da"
            ],
            [
             0.4,
             "#fde0ef"
            ],
            [
             0.5,
             "#f7f7f7"
            ],
            [
             0.6,
             "#e6f5d0"
            ],
            [
             0.7,
             "#b8e186"
            ],
            [
             0.8,
             "#7fbc41"
            ],
            [
             0.9,
             "#4d9221"
            ],
            [
             1,
             "#276419"
            ]
           ],
           "sequential": [
            [
             0,
             "#0d0887"
            ],
            [
             0.1111111111111111,
             "#46039f"
            ],
            [
             0.2222222222222222,
             "#7201a8"
            ],
            [
             0.3333333333333333,
             "#9c179e"
            ],
            [
             0.4444444444444444,
             "#bd3786"
            ],
            [
             0.5555555555555556,
             "#d8576b"
            ],
            [
             0.6666666666666666,
             "#ed7953"
            ],
            [
             0.7777777777777778,
             "#fb9f3a"
            ],
            [
             0.8888888888888888,
             "#fdca26"
            ],
            [
             1,
             "#f0f921"
            ]
           ],
           "sequentialminus": [
            [
             0,
             "#0d0887"
            ],
            [
             0.1111111111111111,
             "#46039f"
            ],
            [
             0.2222222222222222,
             "#7201a8"
            ],
            [
             0.3333333333333333,
             "#9c179e"
            ],
            [
             0.4444444444444444,
             "#bd3786"
            ],
            [
             0.5555555555555556,
             "#d8576b"
            ],
            [
             0.6666666666666666,
             "#ed7953"
            ],
            [
             0.7777777777777778,
             "#fb9f3a"
            ],
            [
             0.8888888888888888,
             "#fdca26"
            ],
            [
             1,
             "#f0f921"
            ]
           ]
          },
          "colorway": [
           "#636efa",
           "#EF553B",
           "#00cc96",
           "#ab63fa",
           "#FFA15A",
           "#19d3f3",
           "#FF6692",
           "#B6E880",
           "#FF97FF",
           "#FECB52"
          ],
          "font": {
           "color": "#2a3f5f"
          },
          "geo": {
           "bgcolor": "white",
           "lakecolor": "white",
           "landcolor": "#E5ECF6",
           "showlakes": true,
           "showland": true,
           "subunitcolor": "white"
          },
          "hoverlabel": {
           "align": "left"
          },
          "hovermode": "closest",
          "mapbox": {
           "style": "light"
          },
          "paper_bgcolor": "white",
          "plot_bgcolor": "#E5ECF6",
          "polar": {
           "angularaxis": {
            "gridcolor": "white",
            "linecolor": "white",
            "ticks": ""
           },
           "bgcolor": "#E5ECF6",
           "radialaxis": {
            "gridcolor": "white",
            "linecolor": "white",
            "ticks": ""
           }
          },
          "scene": {
           "xaxis": {
            "backgroundcolor": "#E5ECF6",
            "gridcolor": "white",
            "gridwidth": 2,
            "linecolor": "white",
            "showbackground": true,
            "ticks": "",
            "zerolinecolor": "white"
           },
           "yaxis": {
            "backgroundcolor": "#E5ECF6",
            "gridcolor": "white",
            "gridwidth": 2,
            "linecolor": "white",
            "showbackground": true,
            "ticks": "",
            "zerolinecolor": "white"
           },
           "zaxis": {
            "backgroundcolor": "#E5ECF6",
            "gridcolor": "white",
            "gridwidth": 2,
            "linecolor": "white",
            "showbackground": true,
            "ticks": "",
            "zerolinecolor": "white"
           }
          },
          "shapedefaults": {
           "line": {
            "color": "#2a3f5f"
           }
          },
          "ternary": {
           "aaxis": {
            "gridcolor": "white",
            "linecolor": "white",
            "ticks": ""
           },
           "baxis": {
            "gridcolor": "white",
            "linecolor": "white",
            "ticks": ""
           },
           "bgcolor": "#E5ECF6",
           "caxis": {
            "gridcolor": "white",
            "linecolor": "white",
            "ticks": ""
           }
          },
          "title": {
           "x": 0.05
          },
          "xaxis": {
           "automargin": true,
           "gridcolor": "white",
           "linecolor": "white",
           "ticks": "",
           "title": {
            "standoff": 15
           },
           "zerolinecolor": "white",
           "zerolinewidth": 2
          },
          "yaxis": {
           "automargin": true,
           "gridcolor": "white",
           "linecolor": "white",
           "ticks": "",
           "title": {
            "standoff": 15
           },
           "zerolinecolor": "white",
           "zerolinewidth": 2
          }
         }
        },
        "width": 800,
        "xaxis": {
         "showgrid": false
        },
        "yaxis": {
         "scaleanchor": "x",
         "showgrid": false
        }
       }
      }
     },
     "metadata": {},
     "output_type": "display_data"
    }
   ],
   "source": [
    "plot(damaged_patch)"
   ]
  },
  {
   "cell_type": "code",
   "execution_count": 12,
   "id": "6203a3a1",
   "metadata": {},
   "outputs": [
    {
     "name": "stdout",
     "output_type": "stream",
     "text": [
      "Found 6 defect clusters.\n",
      "(horizontal, vertical distance) = (d_X, d_Z) = (5, 6)\n",
      "CPU times: user 286 ms, sys: 3.14 ms, total: 290 ms\n",
      "Wall time: 289 ms\n"
     ]
    }
   ],
   "source": [
    "%%time \n",
    "# Now we employ a moderate heuristic, we are considering a max of 10 strategies for global optimization\n",
    "moderate_heuristic = Heuristics(n_sol_max_per_cluster=3, n_sol_max=10, n_skip=10)\n",
    "\n",
    "undamaged_patch = RotatedSurfaceCode(9, vertical_logical=PauliT.Z)\n",
    "ancilla_defects = {Pos(4, 4), Pos(12, 2), Pos(6, 18), Pos(14, 12), Pos(16, 6)}\n",
    "data_defects = {Pos(3, 7), Pos(7, 11), Pos(7, 5), Pos(15, 17)}\n",
    "link_defects = {(Pos(6, 6), Pos(7, 7)), (Pos(14, 4), Pos(13, 5)), (Pos(14, 6), Pos(15, 7))}\n",
    "\n",
    "_, damaged_patches = DefectiveSurfaceCode.make_defective_patches(\n",
    "    undamaged_patch,\n",
    "    ancilla_defects,\n",
    "    data_defects,\n",
    "    link_defects,\n",
    "    repurpose_ancillas=True,\n",
    "    add_padding=True,\n",
    "    first_super_type=PauliT.X,\n",
    "    use_heuristics=moderate_heuristic\n",
    ")\n",
    "damaged_patch = damaged_patches[0]\n",
    "print(f\"(horizontal, vertical distance) = (d_X, d_Z) = {damaged_patch.effective_distance}\")"
   ]
  },
  {
   "cell_type": "code",
   "execution_count": 13,
   "id": "6635a4ed",
   "metadata": {},
   "outputs": [
    {
     "data": {
      "application/vnd.plotly.v1+json": {
       "config": {
        "plotlyServerURL": "https://plot.ly"
       },
       "data": [
        {
         "marker": {
          "color": "#474645",
          "size": 8
         },
         "mode": "markers",
         "name": "qubit",
         "showlegend": false,
         "type": "scatter",
         "x": [
          1,
          1,
          1,
          1,
          1,
          1,
          1,
          1,
          1,
          3,
          3,
          3,
          3,
          3,
          3,
          3,
          3,
          3,
          5,
          5,
          5,
          5,
          5,
          5,
          5,
          5,
          5,
          7,
          7,
          7,
          7,
          7,
          7,
          7,
          7,
          7,
          9,
          9,
          9,
          9,
          9,
          9,
          9,
          9,
          9,
          11,
          11,
          11,
          11,
          11,
          11,
          11,
          11,
          11,
          13,
          13,
          13,
          13,
          13,
          13,
          13,
          13,
          13,
          15,
          15,
          15,
          15,
          15,
          15,
          15,
          15,
          15,
          17,
          17,
          17,
          17,
          17,
          17,
          17,
          17,
          17
         ],
         "y": [
          1,
          3,
          5,
          7,
          9,
          11,
          13,
          15,
          17,
          1,
          3,
          5,
          7,
          9,
          11,
          13,
          15,
          17,
          1,
          3,
          5,
          7,
          9,
          11,
          13,
          15,
          17,
          1,
          3,
          5,
          7,
          9,
          11,
          13,
          15,
          17,
          1,
          3,
          5,
          7,
          9,
          11,
          13,
          15,
          17,
          1,
          3,
          5,
          7,
          9,
          11,
          13,
          15,
          17,
          1,
          3,
          5,
          7,
          9,
          11,
          13,
          15,
          17,
          1,
          3,
          5,
          7,
          9,
          11,
          13,
          15,
          17,
          1,
          3,
          5,
          7,
          9,
          11,
          13,
          15,
          17
         ]
        },
        {
         "marker": {
          "color": "#787776",
          "size": 10
         },
         "mode": "markers",
         "name": "qubit",
         "showlegend": false,
         "type": "scatter",
         "x": [
          0,
          0,
          0,
          0,
          0,
          0,
          0,
          0,
          0,
          0,
          2,
          2,
          2,
          2,
          2,
          2,
          2,
          2,
          2,
          2,
          4,
          4,
          4,
          4,
          4,
          4,
          4,
          4,
          4,
          4,
          6,
          6,
          6,
          6,
          6,
          6,
          6,
          6,
          6,
          6,
          8,
          8,
          8,
          8,
          8,
          8,
          8,
          8,
          8,
          8,
          10,
          10,
          10,
          10,
          10,
          10,
          10,
          10,
          10,
          10,
          12,
          12,
          12,
          12,
          12,
          12,
          12,
          12,
          12,
          12,
          14,
          14,
          14,
          14,
          14,
          14,
          14,
          14,
          14,
          14,
          16,
          16,
          16,
          16,
          16,
          16,
          16,
          16,
          16,
          16,
          18,
          18,
          18,
          18,
          18,
          18,
          18,
          18,
          18,
          18
         ],
         "y": [
          0,
          2,
          4,
          6,
          8,
          10,
          12,
          14,
          16,
          18,
          0,
          2,
          4,
          6,
          8,
          10,
          12,
          14,
          16,
          18,
          0,
          2,
          4,
          6,
          8,
          10,
          12,
          14,
          16,
          18,
          0,
          2,
          4,
          6,
          8,
          10,
          12,
          14,
          16,
          18,
          0,
          2,
          4,
          6,
          8,
          10,
          12,
          14,
          16,
          18,
          0,
          2,
          4,
          6,
          8,
          10,
          12,
          14,
          16,
          18,
          0,
          2,
          4,
          6,
          8,
          10,
          12,
          14,
          16,
          18,
          0,
          2,
          4,
          6,
          8,
          10,
          12,
          14,
          16,
          18,
          0,
          2,
          4,
          6,
          8,
          10,
          12,
          14,
          16,
          18,
          0,
          2,
          4,
          6,
          8,
          10,
          12,
          14,
          16,
          18
         ]
        },
        {
         "fill": "toself",
         "fillcolor": "#78DAF0",
         "hoverinfo": "none",
         "legendgroup": "S_Z",
         "line": {
          "color": "#128AA5",
          "width": 2
         },
         "name": "S_Z",
         "showlegend": true,
         "type": "scatter",
         "x": [
          1,
          3,
          3,
          1,
          1
         ],
         "y": [
          1,
          1,
          3,
          3,
          1
         ]
        },
        {
         "marker": {
          "color": "#474645",
          "size": 8
         },
         "mode": "markers",
         "name": "data",
         "showlegend": false,
         "type": "scatter",
         "x": [
          1,
          3,
          1,
          3
         ],
         "y": [
          3,
          3,
          1,
          1
         ]
        },
        {
         "fill": "toself",
         "fillcolor": "#78DAF0",
         "hoverinfo": "none",
         "legendgroup": "S_Z",
         "line": {
          "color": "#128AA5",
          "width": 2
         },
         "name": "S_Z",
         "showlegend": false,
         "type": "scatter",
         "x": [
          5,
          7,
          7,
          5,
          5
         ],
         "y": [
          1,
          1,
          3,
          3,
          1
         ]
        },
        {
         "marker": {
          "color": "#474645",
          "size": 8
         },
         "mode": "markers",
         "name": "data",
         "showlegend": false,
         "type": "scatter",
         "x": [
          5,
          7,
          5,
          7
         ],
         "y": [
          3,
          3,
          1,
          1
         ]
        },
        {
         "fill": "toself",
         "fillcolor": "#E27985",
         "hoverinfo": "none",
         "legendgroup": "S_X",
         "line": {
          "color": "#CE2D40",
          "width": 2
         },
         "name": "S_X",
         "showlegend": true,
         "type": "scatter",
         "x": [
          7,
          9,
          9,
          7,
          7
         ],
         "y": [
          1,
          1,
          3,
          3,
          1
         ]
        },
        {
         "marker": {
          "color": "#474645",
          "size": 8
         },
         "mode": "markers",
         "name": "data",
         "showlegend": false,
         "type": "scatter",
         "x": [
          7,
          9,
          7,
          9
         ],
         "y": [
          3,
          3,
          1,
          1
         ]
        },
        {
         "fill": "toself",
         "fillcolor": "#78DAF0",
         "hoverinfo": "none",
         "legendgroup": "S_Z",
         "line": {
          "color": "#128AA5",
          "width": 2
         },
         "name": "S_Z",
         "showlegend": false,
         "type": "scatter",
         "x": [
          1,
          3,
          3,
          1,
          1
         ],
         "y": [
          9,
          9,
          11,
          11,
          9
         ]
        },
        {
         "marker": {
          "color": "#474645",
          "size": 8
         },
         "mode": "markers",
         "name": "data",
         "showlegend": false,
         "type": "scatter",
         "x": [
          1,
          3,
          1,
          3
         ],
         "y": [
          11,
          11,
          9,
          9
         ]
        },
        {
         "fill": "toself",
         "fillcolor": "#E27985",
         "hoverinfo": "none",
         "legendgroup": "S_X",
         "line": {
          "color": "#CE2D40",
          "width": 2
         },
         "name": "S_X",
         "showlegend": false,
         "type": "scatter",
         "x": [
          3,
          5,
          5,
          3,
          3
         ],
         "y": [
          9,
          9,
          11,
          11,
          9
         ]
        },
        {
         "marker": {
          "color": "#474645",
          "size": 8
         },
         "mode": "markers",
         "name": "data",
         "showlegend": false,
         "type": "scatter",
         "x": [
          3,
          5,
          3,
          5
         ],
         "y": [
          11,
          11,
          9,
          9
         ]
        },
        {
         "fill": "toself",
         "fillcolor": "#E27985",
         "hoverinfo": "none",
         "legendgroup": "S_X",
         "line": {
          "color": "#CE2D40",
          "width": 2
         },
         "name": "S_X",
         "showlegend": false,
         "type": "scatter",
         "x": [
          9,
          11,
          11,
          9,
          9
         ],
         "y": [
          3,
          3,
          5,
          5,
          3
         ]
        },
        {
         "marker": {
          "color": "#474645",
          "size": 8
         },
         "mode": "markers",
         "name": "data",
         "showlegend": false,
         "type": "scatter",
         "x": [
          9,
          11,
          9,
          11
         ],
         "y": [
          5,
          5,
          3,
          3
         ]
        },
        {
         "fill": "toself",
         "fillcolor": "#78DAF0",
         "hoverinfo": "none",
         "legendgroup": "S_Z",
         "line": {
          "color": "#128AA5",
          "width": 2
         },
         "name": "S_Z",
         "showlegend": false,
         "type": "scatter",
         "x": [
          9,
          11,
          11,
          9,
          9
         ],
         "y": [
          5,
          5,
          7,
          7,
          5
         ]
        },
        {
         "marker": {
          "color": "#474645",
          "size": 8
         },
         "mode": "markers",
         "name": "data",
         "showlegend": false,
         "type": "scatter",
         "x": [
          9,
          11,
          9,
          11
         ],
         "y": [
          7,
          7,
          5,
          5
         ]
        },
        {
         "fill": "toself",
         "fillcolor": "#E27985",
         "hoverinfo": "none",
         "legendgroup": "S_X",
         "line": {
          "color": "#CE2D40",
          "width": 2
         },
         "name": "S_X",
         "showlegend": false,
         "type": "scatter",
         "x": [
          9,
          11,
          11,
          9,
          9
         ],
         "y": [
          7,
          7,
          9,
          9,
          7
         ]
        },
        {
         "marker": {
          "color": "#474645",
          "size": 8
         },
         "mode": "markers",
         "name": "data",
         "showlegend": false,
         "type": "scatter",
         "x": [
          9,
          11,
          9,
          11
         ],
         "y": [
          9,
          9,
          7,
          7
         ]
        },
        {
         "fill": "toself",
         "fillcolor": "#78DAF0",
         "hoverinfo": "none",
         "legendgroup": "S_Z",
         "line": {
          "color": "#128AA5",
          "width": 2
         },
         "name": "S_Z",
         "showlegend": false,
         "type": "scatter",
         "x": [
          9,
          11,
          11,
          9,
          9
         ],
         "y": [
          9,
          9,
          11,
          11,
          9
         ]
        },
        {
         "marker": {
          "color": "#474645",
          "size": 8
         },
         "mode": "markers",
         "name": "data",
         "showlegend": false,
         "type": "scatter",
         "x": [
          9,
          11,
          9,
          11
         ],
         "y": [
          11,
          11,
          9,
          9
         ]
        },
        {
         "fill": "toself",
         "fillcolor": "#E27985",
         "hoverinfo": "none",
         "legendgroup": "S_X",
         "line": {
          "color": "#CE2D40",
          "width": 2
         },
         "name": "S_X",
         "showlegend": false,
         "type": "scatter",
         "x": [
          1,
          3,
          3,
          1,
          1
         ],
         "y": [
          11,
          11,
          13,
          13,
          11
         ]
        },
        {
         "marker": {
          "color": "#474645",
          "size": 8
         },
         "mode": "markers",
         "name": "data",
         "showlegend": false,
         "type": "scatter",
         "x": [
          1,
          3,
          1,
          3
         ],
         "y": [
          13,
          13,
          11,
          11
         ]
        },
        {
         "fill": "toself",
         "fillcolor": "#78DAF0",
         "hoverinfo": "none",
         "legendgroup": "S_Z",
         "line": {
          "color": "#128AA5",
          "width": 2
         },
         "name": "S_Z",
         "showlegend": false,
         "type": "scatter",
         "x": [
          3,
          5,
          5,
          3,
          3
         ],
         "y": [
          11,
          11,
          13,
          13,
          11
         ]
        },
        {
         "marker": {
          "color": "#474645",
          "size": 8
         },
         "mode": "markers",
         "name": "data",
         "showlegend": false,
         "type": "scatter",
         "x": [
          3,
          5,
          3,
          5
         ],
         "y": [
          13,
          13,
          11,
          11
         ]
        },
        {
         "fill": "toself",
         "fillcolor": "#E27985",
         "hoverinfo": "none",
         "legendgroup": "S_X",
         "line": {
          "color": "#CE2D40",
          "width": 2
         },
         "name": "S_X",
         "showlegend": false,
         "type": "scatter",
         "x": [
          9,
          11,
          11,
          9,
          9
         ],
         "y": [
          11,
          11,
          13,
          13,
          11
         ]
        },
        {
         "marker": {
          "color": "#474645",
          "size": 8
         },
         "mode": "markers",
         "name": "data",
         "showlegend": false,
         "type": "scatter",
         "x": [
          9,
          11,
          9,
          11
         ],
         "y": [
          13,
          13,
          11,
          11
         ]
        },
        {
         "fill": "toself",
         "fillcolor": "#E27985",
         "hoverinfo": "none",
         "legendgroup": "S_X",
         "line": {
          "color": "#CE2D40",
          "width": 2
         },
         "name": "S_X",
         "showlegend": false,
         "type": "scatter",
         "x": [
          11,
          13,
          13,
          11,
          11
         ],
         "y": [
          9,
          9,
          11,
          11,
          9
         ]
        },
        {
         "marker": {
          "color": "#474645",
          "size": 8
         },
         "mode": "markers",
         "name": "data",
         "showlegend": false,
         "type": "scatter",
         "x": [
          11,
          13,
          11,
          13
         ],
         "y": [
          11,
          11,
          9,
          9
         ]
        },
        {
         "fill": "toself",
         "fillcolor": "#78DAF0",
         "hoverinfo": "none",
         "legendgroup": "S_Z",
         "line": {
          "color": "#128AA5",
          "width": 2
         },
         "name": "S_Z",
         "showlegend": false,
         "type": "scatter",
         "x": [
          1,
          3,
          3,
          1,
          1
         ],
         "y": [
          13,
          13,
          15,
          15,
          13
         ]
        },
        {
         "marker": {
          "color": "#474645",
          "size": 8
         },
         "mode": "markers",
         "name": "data",
         "showlegend": false,
         "type": "scatter",
         "x": [
          1,
          3,
          1,
          3
         ],
         "y": [
          15,
          15,
          13,
          13
         ]
        },
        {
         "fill": "toself",
         "fillcolor": "#E27985",
         "hoverinfo": "none",
         "legendgroup": "S_X",
         "line": {
          "color": "#CE2D40",
          "width": 2
         },
         "name": "S_X",
         "showlegend": false,
         "type": "scatter",
         "x": [
          3,
          5,
          5,
          3,
          3
         ],
         "y": [
          13,
          13,
          15,
          15,
          13
         ]
        },
        {
         "marker": {
          "color": "#474645",
          "size": 8
         },
         "mode": "markers",
         "name": "data",
         "showlegend": false,
         "type": "scatter",
         "x": [
          3,
          5,
          3,
          5
         ],
         "y": [
          15,
          15,
          13,
          13
         ]
        },
        {
         "fill": "toself",
         "fillcolor": "#78DAF0",
         "hoverinfo": "none",
         "legendgroup": "S_Z",
         "line": {
          "color": "#128AA5",
          "width": 2
         },
         "name": "S_Z",
         "showlegend": false,
         "type": "scatter",
         "x": [
          5,
          7,
          7,
          5,
          5
         ],
         "y": [
          13,
          13,
          15,
          15,
          13
         ]
        },
        {
         "marker": {
          "color": "#474645",
          "size": 8
         },
         "mode": "markers",
         "name": "data",
         "showlegend": false,
         "type": "scatter",
         "x": [
          5,
          7,
          5,
          7
         ],
         "y": [
          15,
          15,
          13,
          13
         ]
        },
        {
         "fill": "toself",
         "fillcolor": "#E27985",
         "hoverinfo": "none",
         "legendgroup": "S_X",
         "line": {
          "color": "#CE2D40",
          "width": 2
         },
         "name": "S_X",
         "showlegend": false,
         "type": "scatter",
         "x": [
          7,
          9,
          9,
          7,
          7
         ],
         "y": [
          13,
          13,
          15,
          15,
          13
         ]
        },
        {
         "marker": {
          "color": "#474645",
          "size": 8
         },
         "mode": "markers",
         "name": "data",
         "showlegend": false,
         "type": "scatter",
         "x": [
          7,
          9,
          7,
          9
         ],
         "y": [
          15,
          15,
          13,
          13
         ]
        },
        {
         "fill": "toself",
         "fillcolor": "#78DAF0",
         "hoverinfo": "none",
         "legendgroup": "S_Z",
         "line": {
          "color": "#128AA5",
          "width": 2
         },
         "name": "S_Z",
         "showlegend": false,
         "type": "scatter",
         "x": [
          9,
          11,
          11,
          9,
          9
         ],
         "y": [
          13,
          13,
          15,
          15,
          13
         ]
        },
        {
         "marker": {
          "color": "#474645",
          "size": 8
         },
         "mode": "markers",
         "name": "data",
         "showlegend": false,
         "type": "scatter",
         "x": [
          9,
          11,
          9,
          11
         ],
         "y": [
          15,
          15,
          13,
          13
         ]
        },
        {
         "fill": "toself",
         "fillcolor": "#E27985",
         "hoverinfo": "none",
         "legendgroup": "S_X",
         "line": {
          "color": "#CE2D40",
          "width": 2
         },
         "name": "S_X",
         "showlegend": false,
         "type": "scatter",
         "x": [
          11,
          13,
          13,
          11,
          11
         ],
         "y": [
          13,
          13,
          15,
          15,
          13
         ]
        },
        {
         "marker": {
          "color": "#474645",
          "size": 8
         },
         "mode": "markers",
         "name": "data",
         "showlegend": false,
         "type": "scatter",
         "x": [
          11,
          13,
          11,
          13
         ],
         "y": [
          15,
          15,
          13,
          13
         ]
        },
        {
         "fill": "toself",
         "fillcolor": "#E27985",
         "hoverinfo": "none",
         "legendgroup": "S_X",
         "line": {
          "color": "#CE2D40",
          "width": 2
         },
         "name": "S_X",
         "showlegend": false,
         "type": "scatter",
         "x": [
          1,
          3,
          3,
          1,
          1
         ],
         "y": [
          15,
          15,
          17,
          17,
          15
         ]
        },
        {
         "marker": {
          "color": "#474645",
          "size": 8
         },
         "mode": "markers",
         "name": "data",
         "showlegend": false,
         "type": "scatter",
         "x": [
          1,
          3,
          1,
          3
         ],
         "y": [
          17,
          17,
          15,
          15
         ]
        },
        {
         "fill": "toself",
         "fillcolor": "#78DAF0",
         "hoverinfo": "none",
         "legendgroup": "S_Z",
         "line": {
          "color": "#128AA5",
          "width": 2
         },
         "name": "S_Z",
         "showlegend": false,
         "type": "scatter",
         "x": [
          3,
          5,
          5,
          3,
          3
         ],
         "y": [
          15,
          15,
          17,
          17,
          15
         ]
        },
        {
         "marker": {
          "color": "#474645",
          "size": 8
         },
         "mode": "markers",
         "name": "data",
         "showlegend": false,
         "type": "scatter",
         "x": [
          3,
          5,
          3,
          5
         ],
         "y": [
          17,
          17,
          15,
          15
         ]
        },
        {
         "fill": "toself",
         "fillcolor": "#78DAF0",
         "hoverinfo": "none",
         "legendgroup": "S_Z",
         "line": {
          "color": "#128AA5",
          "width": 2
         },
         "name": "S_Z",
         "showlegend": false,
         "type": "scatter",
         "x": [
          7,
          9,
          9,
          7,
          7
         ],
         "y": [
          15,
          15,
          17,
          17,
          15
         ]
        },
        {
         "marker": {
          "color": "#474645",
          "size": 8
         },
         "mode": "markers",
         "name": "data",
         "showlegend": false,
         "type": "scatter",
         "x": [
          7,
          9,
          7,
          9
         ],
         "y": [
          17,
          17,
          15,
          15
         ]
        },
        {
         "fill": "toself",
         "fillcolor": "#E27985",
         "hoverinfo": "none",
         "legendgroup": "S_X",
         "line": {
          "color": "#CE2D40",
          "width": 2
         },
         "name": "S_X",
         "showlegend": false,
         "type": "scatter",
         "x": [
          9,
          11,
          11,
          9,
          9
         ],
         "y": [
          15,
          15,
          17,
          17,
          15
         ]
        },
        {
         "marker": {
          "color": "#474645",
          "size": 8
         },
         "mode": "markers",
         "name": "data",
         "showlegend": false,
         "type": "scatter",
         "x": [
          9,
          11,
          9,
          11
         ],
         "y": [
          17,
          17,
          15,
          15
         ]
        },
        {
         "fill": "toself",
         "fillcolor": "#E27985",
         "hoverinfo": "none",
         "legendgroup": "S_X",
         "line": {
          "color": "#CE2D40",
          "width": 2
         },
         "name": "S_X",
         "showlegend": false,
         "type": "scatter",
         "x": [
          15,
          17,
          17,
          15,
          15
         ],
         "y": [
          1,
          1,
          3,
          3,
          1
         ]
        },
        {
         "marker": {
          "color": "#474645",
          "size": 8
         },
         "mode": "markers",
         "name": "data",
         "showlegend": false,
         "type": "scatter",
         "x": [
          15,
          17,
          15,
          17
         ],
         "y": [
          3,
          3,
          1,
          1
         ]
        },
        {
         "fill": "toself",
         "fillcolor": "#E27985",
         "hoverinfo": "none",
         "legendgroup": "S_X",
         "line": {
          "color": "#CE2D40",
          "width": 2
         },
         "name": "S_X",
         "showlegend": false,
         "type": "scatter",
         "x": [
          15,
          17,
          17,
          15,
          15
         ],
         "y": [
          9,
          9,
          11,
          11,
          9
         ]
        },
        {
         "marker": {
          "color": "#474645",
          "size": 8
         },
         "mode": "markers",
         "name": "data",
         "showlegend": false,
         "type": "scatter",
         "x": [
          15,
          17,
          15,
          17
         ],
         "y": [
          11,
          11,
          9,
          9
         ]
        },
        {
         "fill": "toself",
         "fillcolor": "#E27985",
         "hoverinfo": "none",
         "legendgroup": "S_X",
         "line": {
          "color": "#CE2D40",
          "width": 2
         },
         "name": "S_X",
         "showlegend": false,
         "type": "scatter",
         "x": [
          15,
          17,
          17,
          15,
          15
         ],
         "y": [
          13,
          13,
          15,
          15,
          13
         ]
        },
        {
         "marker": {
          "color": "#474645",
          "size": 8
         },
         "mode": "markers",
         "name": "data",
         "showlegend": false,
         "type": "scatter",
         "x": [
          15,
          17,
          15,
          17
         ],
         "y": [
          15,
          15,
          13,
          13
         ]
        },
        {
         "fill": "toself",
         "fillcolor": "#C9A769",
         "hoverinfo": "none",
         "legendgroup": "S_X",
         "line": {
          "color": "#A5803B",
          "width": 2
         },
         "name": "S_X",
         "showlegend": false,
         "type": "scatter",
         "x": [
          1,
          3,
          3,
          1,
          1
         ],
         "y": [
          3,
          3,
          5,
          5,
          3
         ]
        },
        {
         "marker": {
          "color": "#474645",
          "size": 8
         },
         "mode": "markers",
         "name": "data",
         "showlegend": false,
         "type": "scatter",
         "x": [
          1,
          3,
          1,
          3
         ],
         "y": [
          3,
          3,
          5,
          5
         ]
        },
        {
         "fill": "toself",
         "fillcolor": "#EE8F6D",
         "hoverinfo": "none",
         "legendgroup": "S_X",
         "line": {
          "color": "#E55724",
          "width": 2
         },
         "name": "S_X",
         "showlegend": false,
         "type": "scatter",
         "x": [
          3,
          5,
          5,
          3,
          3
         ],
         "y": [
          1,
          1,
          3,
          3,
          1
         ]
        },
        {
         "marker": {
          "color": "#474645",
          "size": 8
         },
         "mode": "markers",
         "name": "data",
         "showlegend": false,
         "type": "scatter",
         "x": [
          3,
          5,
          3,
          5
         ],
         "y": [
          3,
          3,
          1,
          1
         ]
        },
        {
         "fill": "toself",
         "fillcolor": "#F1BB7E",
         "hoverinfo": "none",
         "legendgroup": "S_X",
         "line": {
          "color": "#DC8118",
          "width": 2
         },
         "name": "S_X",
         "showlegend": false,
         "type": "scatter",
         "x": [
          5,
          7,
          7,
          5,
          5
         ],
         "y": [
          15,
          15,
          17,
          17,
          15
         ]
        },
        {
         "marker": {
          "color": "#474645",
          "size": 8
         },
         "mode": "markers",
         "name": "data",
         "showlegend": false,
         "type": "scatter",
         "x": [
          5,
          7,
          5,
          7
         ],
         "y": [
          17,
          17,
          15,
          15
         ]
        },
        {
         "fill": "toself",
         "fillcolor": "#D2AAF0",
         "hoverinfo": "none",
         "legendgroup": "S_Z",
         "line": {
          "color": "#A352E0",
          "width": 2
         },
         "name": "S_Z",
         "showlegend": false,
         "type": "scatter",
         "x": [
          9,
          11,
          11,
          9,
          9
         ],
         "y": [
          1,
          1,
          3,
          3,
          1
         ]
        },
        {
         "marker": {
          "color": "#474645",
          "size": 8
         },
         "mode": "markers",
         "name": "data",
         "showlegend": false,
         "type": "scatter",
         "x": [
          9,
          11,
          9,
          11
         ],
         "y": [
          3,
          3,
          1,
          1
         ]
        },
        {
         "fill": "toself",
         "fillcolor": "#B3BFD0",
         "hoverinfo": "none",
         "legendgroup": "S_Z",
         "line": {
          "color": "#5D7598",
          "width": 2
         },
         "name": "S_Z",
         "showlegend": false,
         "type": "scatter",
         "x": [
          13,
          15,
          15,
          13,
          13
         ],
         "y": [
          1,
          1,
          3,
          3,
          1
         ]
        },
        {
         "marker": {
          "color": "#474645",
          "size": 8
         },
         "mode": "markers",
         "name": "data",
         "showlegend": false,
         "type": "scatter",
         "x": [
          13,
          15,
          13,
          15
         ],
         "y": [
          3,
          3,
          1,
          1
         ]
        },
        {
         "fill": "toself",
         "fillcolor": "#D2AAF0",
         "hoverinfo": "none",
         "legendgroup": "S_Z",
         "line": {
          "color": "#A352E0",
          "width": 2
         },
         "name": "S_Z",
         "showlegend": false,
         "type": "scatter",
         "x": [
          11,
          13,
          13,
          11,
          11
         ],
         "y": [
          11,
          11,
          13,
          13,
          11
         ]
        },
        {
         "marker": {
          "color": "#474645",
          "size": 8
         },
         "mode": "markers",
         "name": "data",
         "showlegend": false,
         "type": "scatter",
         "x": [
          11,
          13,
          11,
          13
         ],
         "y": [
          13,
          13,
          11,
          11
         ]
        },
        {
         "fill": "toself",
         "fillcolor": "#B3BFD0",
         "hoverinfo": "none",
         "legendgroup": "S_Z",
         "line": {
          "color": "#5D7598",
          "width": 2
         },
         "name": "S_Z",
         "showlegend": false,
         "type": "scatter",
         "x": [
          13,
          15,
          15,
          13,
          13
         ],
         "y": [
          13,
          13,
          15,
          15,
          13
         ]
        },
        {
         "marker": {
          "color": "#474645",
          "size": 8
         },
         "mode": "markers",
         "name": "data",
         "showlegend": false,
         "type": "scatter",
         "x": [
          13,
          13,
          15,
          15
         ],
         "y": [
          13,
          15,
          15,
          13
         ]
        },
        {
         "fill": "toself",
         "fillcolor": "#B3BFD0",
         "hoverinfo": "none",
         "legendgroup": "S_Z",
         "line": {
          "color": "#5D7598",
          "width": 2
         },
         "name": "S_Z",
         "showlegend": false,
         "type": "scatter",
         "x": [
          13,
          15,
          15,
          13,
          13
         ],
         "y": [
          9,
          9,
          11,
          11,
          9
         ]
        },
        {
         "marker": {
          "color": "#474645",
          "size": 8
         },
         "mode": "markers",
         "name": "data",
         "showlegend": false,
         "type": "scatter",
         "x": [
          13,
          13,
          15,
          15
         ],
         "y": [
          9,
          11,
          11,
          9
         ]
        },
        {
         "fill": "toself",
         "fillcolor": "#9C97FB",
         "hoverinfo": "none",
         "legendgroup": "S_Z",
         "line": {
          "color": "#564EF9",
          "width": 2
         },
         "name": "S_Z",
         "showlegend": false,
         "type": "scatter",
         "x": [
          15,
          17,
          17,
          15,
          15
         ],
         "y": [
          11,
          11,
          13,
          13,
          11
         ]
        },
        {
         "marker": {
          "color": "#474645",
          "size": 8
         },
         "mode": "markers",
         "name": "data",
         "showlegend": false,
         "type": "scatter",
         "x": [
          15,
          17,
          15,
          17
         ],
         "y": [
          13,
          13,
          11,
          11
         ]
        },
        {
         "fill": "toself",
         "fillcolor": "#78DAF0",
         "hoverinfo": "none",
         "legendgroup": "S_Z",
         "line": {
          "color": "#128AA5",
          "width": 2
         },
         "name": "S_Z",
         "showlegend": false,
         "type": "scatter",
         "x": [
          11,
          11,
          13,
          11
         ],
         "y": [
          17,
          15,
          15,
          17
         ]
        },
        {
         "marker": {
          "color": "#474645",
          "size": 8
         },
         "mode": "markers",
         "name": "data",
         "showlegend": false,
         "type": "scatter",
         "x": [
          11,
          11,
          13
         ],
         "y": [
          17,
          15,
          15
         ]
        },
        {
         "fill": "toself",
         "fillcolor": "#78DAF0",
         "hoverinfo": "none",
         "legendgroup": "S_Z",
         "line": {
          "color": "#128AA5",
          "width": 2
         },
         "name": "S_Z",
         "showlegend": false,
         "type": "scatter",
         "x": [
          17,
          15,
          17,
          17
         ],
         "y": [
          17,
          15,
          15,
          17
         ]
        },
        {
         "marker": {
          "color": "#474645",
          "size": 8
         },
         "mode": "markers",
         "name": "data",
         "showlegend": false,
         "type": "scatter",
         "x": [
          17,
          15,
          17
         ],
         "y": [
          17,
          15,
          15
         ]
        },
        {
         "fill": "toself",
         "fillcolor": "#C9A769",
         "hoverinfo": "none",
         "legendgroup": "S_X",
         "line": {
          "color": "#A5803B",
          "width": 2
         },
         "name": "S_X",
         "showlegend": false,
         "type": "scatter",
         "x": [
          5,
          5,
          7,
          5
         ],
         "y": [
          7,
          9,
          9,
          7
         ]
        },
        {
         "marker": {
          "color": "#474645",
          "size": 8
         },
         "mode": "markers",
         "name": "data",
         "showlegend": false,
         "type": "scatter",
         "x": [
          5,
          5,
          7
         ],
         "y": [
          7,
          9,
          9
         ]
        },
        {
         "fill": "toself",
         "fillcolor": "#C9A769",
         "hoverinfo": "none",
         "legendgroup": "S_X",
         "line": {
          "color": "#A5803B",
          "width": 2
         },
         "name": "S_X",
         "showlegend": false,
         "type": "scatter",
         "x": [
          5,
          5,
          7,
          5
         ],
         "y": [
          3,
          5,
          3,
          3
         ]
        },
        {
         "marker": {
          "color": "#474645",
          "size": 8
         },
         "mode": "markers",
         "name": "data",
         "showlegend": false,
         "type": "scatter",
         "x": [
          5,
          5,
          7
         ],
         "y": [
          3,
          5,
          3
         ]
        },
        {
         "fill": "toself",
         "fillcolor": "#9C97FB",
         "hoverinfo": "none",
         "legendgroup": "S_Z",
         "line": {
          "color": "#564EF9",
          "width": 2
         },
         "name": "S_Z",
         "showlegend": false,
         "type": "scatter",
         "x": [
          1,
          3,
          1,
          1
         ],
         "y": [
          5,
          5,
          7,
          5
         ]
        },
        {
         "marker": {
          "color": "#474645",
          "size": 8
         },
         "mode": "markers",
         "name": "data",
         "showlegend": false,
         "type": "scatter",
         "x": [
          1,
          3,
          1
         ],
         "y": [
          5,
          5,
          7
         ]
        },
        {
         "fill": "toself",
         "fillcolor": "#9C97FB",
         "hoverinfo": "none",
         "legendgroup": "S_Z",
         "line": {
          "color": "#564EF9",
          "width": 2
         },
         "name": "S_Z",
         "showlegend": false,
         "type": "scatter",
         "x": [
          5,
          3,
          5,
          5
         ],
         "y": [
          7,
          9,
          9,
          7
         ]
        },
        {
         "marker": {
          "color": "#474645",
          "size": 8
         },
         "mode": "markers",
         "name": "data",
         "showlegend": false,
         "type": "scatter",
         "x": [
          5,
          3,
          5
         ],
         "y": [
          7,
          9,
          9
         ]
        },
        {
         "fill": "toself",
         "fillcolor": "#D49587",
         "hoverinfo": "none",
         "legendgroup": "S_X",
         "line": {
          "color": "#BD5E49",
          "width": 2
         },
         "name": "S_X",
         "showlegend": false,
         "type": "scatter",
         "x": [
          3,
          5,
          5,
          3
         ],
         "y": [
          5,
          5,
          7,
          5
         ]
        },
        {
         "marker": {
          "color": "#474645",
          "size": 8
         },
         "mode": "markers",
         "name": "data",
         "showlegend": false,
         "type": "scatter",
         "x": [
          3,
          5,
          5
         ],
         "y": [
          5,
          5,
          7
         ]
        },
        {
         "fill": "toself",
         "fillcolor": "#D49587",
         "hoverinfo": "none",
         "legendgroup": "S_X",
         "line": {
          "color": "#BD5E49",
          "width": 2
         },
         "name": "S_X",
         "showlegend": false,
         "type": "scatter",
         "x": [
          1,
          1,
          3,
          1
         ],
         "y": [
          7,
          9,
          9,
          7
         ]
        },
        {
         "marker": {
          "color": "#474645",
          "size": 8
         },
         "mode": "markers",
         "name": "data",
         "showlegend": false,
         "type": "scatter",
         "x": [
          1,
          1,
          3
         ],
         "y": [
          7,
          9,
          9
         ]
        },
        {
         "fill": "toself",
         "fillcolor": "#D2AAF0",
         "hoverinfo": "none",
         "legendgroup": "S_Z",
         "line": {
          "color": "#A352E0",
          "width": 2
         },
         "name": "S_Z",
         "showlegend": false,
         "type": "scatter",
         "x": [
          7,
          9,
          9,
          7
         ],
         "y": [
          3,
          5,
          3,
          3
         ]
        },
        {
         "marker": {
          "color": "#474645",
          "size": 8
         },
         "mode": "markers",
         "name": "data",
         "showlegend": false,
         "type": "scatter",
         "x": [
          7,
          9,
          9
         ],
         "y": [
          3,
          5,
          3
         ]
        },
        {
         "fill": "toself",
         "fillcolor": "#D2AAF0",
         "hoverinfo": "none",
         "legendgroup": "S_Z",
         "line": {
          "color": "#A352E0",
          "width": 2
         },
         "name": "S_Z",
         "showlegend": false,
         "type": "scatter",
         "x": [
          7,
          9,
          9,
          7
         ],
         "y": [
          9,
          9,
          7,
          9
         ]
        },
        {
         "marker": {
          "color": "#474645",
          "size": 8
         },
         "mode": "markers",
         "name": "data",
         "showlegend": false,
         "type": "scatter",
         "x": [
          7,
          9,
          9
         ],
         "y": [
          9,
          9,
          7
         ]
        },
        {
         "fill": "toself",
         "fillcolor": "#B3BFD0",
         "hoverinfo": "none",
         "legendgroup": "S_Z",
         "line": {
          "color": "#5D7598",
          "width": 2
         },
         "name": "S_Z",
         "showlegend": false,
         "type": "scatter",
         "x": [
          5,
          5,
          7,
          5
         ],
         "y": [
          11,
          9,
          9,
          11
         ]
        },
        {
         "marker": {
          "color": "#474645",
          "size": 8
         },
         "mode": "markers",
         "name": "data",
         "showlegend": false,
         "type": "scatter",
         "x": [
          5,
          5,
          7
         ],
         "y": [
          11,
          9,
          9
         ]
        },
        {
         "fill": "toself",
         "fillcolor": "#B3BFD0",
         "hoverinfo": "none",
         "legendgroup": "S_Z",
         "line": {
          "color": "#5D7598",
          "width": 2
         },
         "name": "S_Z",
         "showlegend": false,
         "type": "scatter",
         "x": [
          9,
          7,
          9,
          9
         ],
         "y": [
          11,
          13,
          13,
          11
         ]
        },
        {
         "marker": {
          "color": "#474645",
          "size": 8
         },
         "mode": "markers",
         "name": "data",
         "showlegend": false,
         "type": "scatter",
         "x": [
          9,
          7,
          9
         ],
         "y": [
          11,
          13,
          13
         ]
        },
        {
         "fill": "toself",
         "fillcolor": "#D49587",
         "hoverinfo": "none",
         "legendgroup": "S_X",
         "line": {
          "color": "#BD5E49",
          "width": 2
         },
         "name": "S_X",
         "showlegend": false,
         "type": "scatter",
         "x": [
          9,
          9,
          7,
          9
         ],
         "y": [
          11,
          9,
          9,
          11
         ]
        },
        {
         "marker": {
          "color": "#474645",
          "size": 8
         },
         "mode": "markers",
         "name": "data",
         "showlegend": false,
         "type": "scatter",
         "x": [
          9,
          9,
          7
         ],
         "y": [
          11,
          9,
          9
         ]
        },
        {
         "fill": "toself",
         "fillcolor": "#D49587",
         "hoverinfo": "none",
         "legendgroup": "S_X",
         "line": {
          "color": "#BD5E49",
          "width": 2
         },
         "name": "S_X",
         "showlegend": false,
         "type": "scatter",
         "x": [
          5,
          7,
          5,
          5
         ],
         "y": [
          13,
          13,
          11,
          13
         ]
        },
        {
         "marker": {
          "color": "#474645",
          "size": 8
         },
         "mode": "markers",
         "name": "data",
         "showlegend": false,
         "type": "scatter",
         "x": [
          5,
          7,
          5
         ],
         "y": [
          13,
          13,
          11
         ]
        },
        {
         "fill": "toself",
         "fillcolor": "#9C97FB",
         "hoverinfo": "none",
         "legendgroup": "S_Z",
         "line": {
          "color": "#564EF9",
          "width": 2
         },
         "name": "S_Z",
         "showlegend": false,
         "type": "scatter",
         "x": [
          11,
          11,
          13,
          11
         ],
         "y": [
          3,
          5,
          3,
          3
         ]
        },
        {
         "marker": {
          "color": "#474645",
          "size": 8
         },
         "mode": "markers",
         "name": "data",
         "showlegend": false,
         "type": "scatter",
         "x": [
          11,
          11,
          13
         ],
         "y": [
          3,
          5,
          3
         ]
        },
        {
         "fill": "toself",
         "fillcolor": "#9C97FB",
         "hoverinfo": "none",
         "legendgroup": "S_Z",
         "line": {
          "color": "#564EF9",
          "width": 2
         },
         "name": "S_Z",
         "showlegend": false,
         "type": "scatter",
         "x": [
          15,
          17,
          17,
          15
         ],
         "y": [
          9,
          9,
          7,
          9
         ]
        },
        {
         "marker": {
          "color": "#474645",
          "size": 8
         },
         "mode": "markers",
         "name": "data",
         "showlegend": false,
         "type": "scatter",
         "x": [
          15,
          17,
          17
         ],
         "y": [
          9,
          9,
          7
         ]
        },
        {
         "fill": "toself",
         "fillcolor": "#9C97FB",
         "hoverinfo": "none",
         "legendgroup": "S_Z",
         "line": {
          "color": "#564EF9",
          "width": 2
         },
         "name": "S_Z",
         "showlegend": false,
         "type": "scatter",
         "x": [
          11,
          11,
          13,
          11
         ],
         "y": [
          7,
          9,
          9,
          7
         ]
        },
        {
         "marker": {
          "color": "#474645",
          "size": 8
         },
         "mode": "markers",
         "name": "data",
         "showlegend": false,
         "type": "scatter",
         "x": [
          11,
          11,
          13
         ],
         "y": [
          7,
          9,
          9
         ]
        },
        {
         "fill": "toself",
         "fillcolor": "#9C97FB",
         "hoverinfo": "none",
         "legendgroup": "S_Z",
         "line": {
          "color": "#564EF9",
          "width": 2
         },
         "name": "S_Z",
         "showlegend": false,
         "type": "scatter",
         "x": [
          17,
          15,
          17,
          17
         ],
         "y": [
          5,
          3,
          3,
          5
         ]
        },
        {
         "marker": {
          "color": "#474645",
          "size": 8
         },
         "mode": "markers",
         "name": "data",
         "showlegend": false,
         "type": "scatter",
         "x": [
          17,
          15,
          17
         ],
         "y": [
          5,
          3,
          3
         ]
        },
        {
         "fill": "toself",
         "fillcolor": "#E27985",
         "hoverinfo": "none",
         "legendgroup": "S_X",
         "line": {
          "color": "#CE2D40",
          "width": 2
         },
         "name": "S_X",
         "showlegend": false,
         "type": "scatter",
         "x": [
          0,
          1,
          1,
          0
         ],
         "y": [
          2,
          3,
          1,
          2
         ]
        },
        {
         "marker": {
          "color": "#474645",
          "size": 8
         },
         "mode": "markers",
         "name": "data",
         "showlegend": false,
         "type": "scatter",
         "x": [
          1,
          1
         ],
         "y": [
          3,
          1
         ]
        },
        {
         "fill": "toself",
         "fillcolor": "#78DAF0",
         "hoverinfo": "none",
         "legendgroup": "S_Z",
         "line": {
          "color": "#128AA5",
          "width": 2
         },
         "name": "S_Z",
         "showlegend": false,
         "type": "scatter",
         "x": [
          4,
          3,
          5,
          4
         ],
         "y": [
          0,
          1,
          1,
          0
         ]
        },
        {
         "marker": {
          "color": "#474645",
          "size": 8
         },
         "mode": "markers",
         "name": "data",
         "showlegend": false,
         "type": "scatter",
         "x": [
          3,
          5
         ],
         "y": [
          1,
          1
         ]
        },
        {
         "fill": "toself",
         "fillcolor": "#E27985",
         "hoverinfo": "none",
         "legendgroup": "S_X",
         "line": {
          "color": "#CE2D40",
          "width": 2
         },
         "name": "S_X",
         "showlegend": false,
         "type": "scatter",
         "x": [
          0,
          1,
          1,
          0
         ],
         "y": [
          6,
          7,
          5,
          6
         ]
        },
        {
         "marker": {
          "color": "#474645",
          "size": 8
         },
         "mode": "markers",
         "name": "data",
         "showlegend": false,
         "type": "scatter",
         "x": [
          1,
          1
         ],
         "y": [
          7,
          5
         ]
        },
        {
         "fill": "toself",
         "fillcolor": "#78DAF0",
         "hoverinfo": "none",
         "legendgroup": "S_Z",
         "line": {
          "color": "#128AA5",
          "width": 2
         },
         "name": "S_Z",
         "showlegend": false,
         "type": "scatter",
         "x": [
          8,
          7,
          9,
          8
         ],
         "y": [
          0,
          1,
          1,
          0
         ]
        },
        {
         "marker": {
          "color": "#474645",
          "size": 8
         },
         "mode": "markers",
         "name": "data",
         "showlegend": false,
         "type": "scatter",
         "x": [
          7,
          9
         ],
         "y": [
          1,
          1
         ]
        },
        {
         "fill": "toself",
         "fillcolor": "#E27985",
         "hoverinfo": "none",
         "legendgroup": "S_X",
         "line": {
          "color": "#CE2D40",
          "width": 2
         },
         "name": "S_X",
         "showlegend": false,
         "type": "scatter",
         "x": [
          0,
          1,
          1,
          0
         ],
         "y": [
          10,
          11,
          9,
          10
         ]
        },
        {
         "marker": {
          "color": "#474645",
          "size": 8
         },
         "mode": "markers",
         "name": "data",
         "showlegend": false,
         "type": "scatter",
         "x": [
          1,
          1
         ],
         "y": [
          11,
          9
         ]
        },
        {
         "fill": "toself",
         "fillcolor": "#E27985",
         "hoverinfo": "none",
         "legendgroup": "S_X",
         "line": {
          "color": "#CE2D40",
          "width": 2
         },
         "name": "S_X",
         "showlegend": false,
         "type": "scatter",
         "x": [
          0,
          1,
          1,
          0
         ],
         "y": [
          14,
          15,
          13,
          14
         ]
        },
        {
         "marker": {
          "color": "#474645",
          "size": 8
         },
         "mode": "markers",
         "name": "data",
         "showlegend": false,
         "type": "scatter",
         "x": [
          1,
          1
         ],
         "y": [
          15,
          13
         ]
        },
        {
         "fill": "toself",
         "fillcolor": "#78DAF0",
         "hoverinfo": "none",
         "legendgroup": "S_Z",
         "line": {
          "color": "#128AA5",
          "width": 2
         },
         "name": "S_Z",
         "showlegend": false,
         "type": "scatter",
         "x": [
          16,
          15,
          17,
          16
         ],
         "y": [
          0,
          1,
          1,
          0
         ]
        },
        {
         "marker": {
          "color": "#474645",
          "size": 8
         },
         "mode": "markers",
         "name": "data",
         "showlegend": false,
         "type": "scatter",
         "x": [
          15,
          17
         ],
         "y": [
          1,
          1
         ]
        },
        {
         "fill": "toself",
         "fillcolor": "#78DAF0",
         "hoverinfo": "none",
         "legendgroup": "S_Z",
         "line": {
          "color": "#128AA5",
          "width": 2
         },
         "name": "S_Z",
         "showlegend": false,
         "type": "scatter",
         "x": [
          2,
          1,
          3,
          2
         ],
         "y": [
          18,
          17,
          17,
          18
         ]
        },
        {
         "marker": {
          "color": "#474645",
          "size": 8
         },
         "mode": "markers",
         "name": "data",
         "showlegend": false,
         "type": "scatter",
         "x": [
          1,
          3
         ],
         "y": [
          17,
          17
         ]
        },
        {
         "fill": "toself",
         "fillcolor": "#78DAF0",
         "hoverinfo": "none",
         "legendgroup": "S_Z",
         "line": {
          "color": "#128AA5",
          "width": 2
         },
         "name": "S_Z",
         "showlegend": false,
         "type": "scatter",
         "x": [
          10,
          9,
          11,
          10
         ],
         "y": [
          18,
          17,
          17,
          18
         ]
        },
        {
         "marker": {
          "color": "#474645",
          "size": 8
         },
         "mode": "markers",
         "name": "data",
         "showlegend": false,
         "type": "scatter",
         "x": [
          9,
          11
         ],
         "y": [
          17,
          17
         ]
        },
        {
         "fill": "toself",
         "fillcolor": "#E27985",
         "hoverinfo": "none",
         "legendgroup": "S_X",
         "line": {
          "color": "#CE2D40",
          "width": 2
         },
         "name": "S_X",
         "showlegend": false,
         "type": "scatter",
         "x": [
          18,
          17,
          17,
          18
         ],
         "y": [
          4,
          5,
          3,
          4
         ]
        },
        {
         "marker": {
          "color": "#474645",
          "size": 8
         },
         "mode": "markers",
         "name": "data",
         "showlegend": false,
         "type": "scatter",
         "x": [
          17,
          17
         ],
         "y": [
          5,
          3
         ]
        },
        {
         "fill": "toself",
         "fillcolor": "#E27985",
         "hoverinfo": "none",
         "legendgroup": "S_X",
         "line": {
          "color": "#CE2D40",
          "width": 2
         },
         "name": "S_X",
         "showlegend": false,
         "type": "scatter",
         "x": [
          18,
          17,
          17,
          18
         ],
         "y": [
          8,
          9,
          7,
          8
         ]
        },
        {
         "marker": {
          "color": "#474645",
          "size": 8
         },
         "mode": "markers",
         "name": "data",
         "showlegend": false,
         "type": "scatter",
         "x": [
          17,
          17
         ],
         "y": [
          9,
          7
         ]
        },
        {
         "fill": "toself",
         "fillcolor": "#E27985",
         "hoverinfo": "none",
         "legendgroup": "S_X",
         "line": {
          "color": "#CE2D40",
          "width": 2
         },
         "name": "S_X",
         "showlegend": false,
         "type": "scatter",
         "x": [
          18,
          17,
          17,
          18
         ],
         "y": [
          12,
          13,
          11,
          12
         ]
        },
        {
         "marker": {
          "color": "#474645",
          "size": 8
         },
         "mode": "markers",
         "name": "data",
         "showlegend": false,
         "type": "scatter",
         "x": [
          17,
          17
         ],
         "y": [
          13,
          11
         ]
        },
        {
         "fill": "toself",
         "fillcolor": "#E27985",
         "hoverinfo": "none",
         "legendgroup": "S_X",
         "line": {
          "color": "#CE2D40",
          "width": 2
         },
         "name": "S_X",
         "showlegend": false,
         "type": "scatter",
         "x": [
          18,
          17,
          17,
          18
         ],
         "y": [
          16,
          17,
          15,
          16
         ]
        },
        {
         "marker": {
          "color": "#474645",
          "size": 8
         },
         "mode": "markers",
         "name": "data",
         "showlegend": false,
         "type": "scatter",
         "x": [
          17,
          17
         ],
         "y": [
          17,
          15
         ]
        },
        {
         "fill": "toself",
         "fillcolor": "#C9A769",
         "hoverinfo": "none",
         "legendgroup": "S_X",
         "line": {
          "color": "#A5803B",
          "width": 2
         },
         "name": "S_X",
         "showlegend": false,
         "type": "scatter",
         "x": [
          8,
          9,
          9,
          8
         ],
         "y": [
          6,
          7,
          5,
          6
         ]
        },
        {
         "marker": {
          "color": "#474645",
          "size": 8
         },
         "mode": "markers",
         "name": "data",
         "showlegend": false,
         "type": "scatter",
         "x": [
          9,
          9
         ],
         "y": [
          7,
          5
         ]
        },
        {
         "fill": "toself",
         "fillcolor": "#B3BFD0",
         "hoverinfo": "none",
         "legendgroup": "S_Z",
         "line": {
          "color": "#5D7598",
          "width": 2
         },
         "name": "S_Z",
         "showlegend": false,
         "type": "scatter",
         "x": [
          4,
          5,
          3,
          4
         ],
         "y": [
          6,
          5,
          5,
          6
         ]
        },
        {
         "marker": {
          "color": "#474645",
          "size": 8
         },
         "mode": "markers",
         "name": "data",
         "showlegend": false,
         "type": "scatter",
         "x": [
          5,
          3
         ],
         "y": [
          5,
          5
         ]
        },
        {
         "fill": "toself",
         "fillcolor": "#B3BFD0",
         "hoverinfo": "none",
         "legendgroup": "S_Z",
         "line": {
          "color": "#5D7598",
          "width": 2
         },
         "name": "S_Z",
         "showlegend": false,
         "type": "scatter",
         "x": [
          4,
          5,
          3,
          4
         ],
         "y": [
          2,
          3,
          3,
          2
         ]
        },
        {
         "marker": {
          "color": "#474645",
          "size": 8
         },
         "mode": "markers",
         "name": "data",
         "showlegend": false,
         "type": "scatter",
         "x": [
          5,
          3
         ],
         "y": [
          3,
          3
         ]
        },
        {
         "fill": "toself",
         "fillcolor": "#D2AAF0",
         "hoverinfo": "none",
         "legendgroup": "S_Z",
         "line": {
          "color": "#A352E0",
          "width": 2
         },
         "name": "S_Z",
         "showlegend": false,
         "type": "scatter",
         "x": [
          6,
          5,
          5,
          6
         ],
         "y": [
          6,
          7,
          5,
          6
         ]
        },
        {
         "marker": {
          "color": "#474645",
          "size": 8
         },
         "mode": "markers",
         "name": "data",
         "showlegend": false,
         "type": "scatter",
         "x": [
          5,
          5
         ],
         "y": [
          7,
          5
         ]
        },
        {
         "fill": "toself",
         "fillcolor": "#9C97FB",
         "hoverinfo": "none",
         "legendgroup": "S_Z",
         "line": {
          "color": "#564EF9",
          "width": 2
         },
         "name": "S_Z",
         "showlegend": false,
         "type": "scatter",
         "x": [
          6,
          7,
          5,
          6
         ],
         "y": [
          16,
          17,
          17,
          16
         ]
        },
        {
         "marker": {
          "color": "#474645",
          "size": 8
         },
         "mode": "markers",
         "name": "data",
         "showlegend": false,
         "type": "scatter",
         "x": [
          7,
          5
         ],
         "y": [
          17,
          17
         ]
        },
        {
         "fill": "toself",
         "fillcolor": "#C9A769",
         "hoverinfo": "none",
         "legendgroup": "S_X",
         "line": {
          "color": "#A5803B",
          "width": 2
         },
         "name": "S_X",
         "showlegend": false,
         "type": "scatter",
         "x": [
          10,
          11,
          11,
          10
         ],
         "y": [
          2,
          3,
          1,
          2
         ]
        },
        {
         "marker": {
          "color": "#474645",
          "size": 8
         },
         "mode": "markers",
         "name": "data",
         "showlegend": false,
         "type": "scatter",
         "x": [
          11,
          11
         ],
         "y": [
          3,
          1
         ]
        },
        {
         "fill": "toself",
         "fillcolor": "#C9A769",
         "hoverinfo": "none",
         "legendgroup": "S_X",
         "line": {
          "color": "#A5803B",
          "width": 2
         },
         "name": "S_X",
         "showlegend": false,
         "type": "scatter",
         "x": [
          14,
          13,
          13,
          14
         ],
         "y": [
          2,
          3,
          1,
          2
         ]
        },
        {
         "marker": {
          "color": "#474645",
          "size": 8
         },
         "mode": "markers",
         "name": "data",
         "showlegend": false,
         "type": "scatter",
         "x": [
          13,
          13
         ],
         "y": [
          3,
          1
         ]
        },
        {
         "fill": "toself",
         "fillcolor": "#9C97FB",
         "hoverinfo": "none",
         "legendgroup": "S_Z",
         "line": {
          "color": "#564EF9",
          "width": 2
         },
         "name": "S_Z",
         "showlegend": false,
         "type": "scatter",
         "x": [
          12,
          11,
          13,
          12
         ],
         "y": [
          0,
          1,
          1,
          0
         ]
        },
        {
         "marker": {
          "color": "#474645",
          "size": 8
         },
         "mode": "markers",
         "name": "data",
         "showlegend": false,
         "type": "scatter",
         "x": [
          11,
          13
         ],
         "y": [
          1,
          1
         ]
        },
        {
         "fill": "toself",
         "fillcolor": "#EE8F6D",
         "hoverinfo": "none",
         "legendgroup": "S_X",
         "line": {
          "color": "#E55724",
          "width": 2
         },
         "name": "S_X",
         "showlegend": false,
         "type": "scatter",
         "x": [
          12,
          11,
          11,
          12
         ],
         "y": [
          6,
          5,
          7,
          6
         ]
        },
        {
         "marker": {
          "color": "#474645",
          "size": 8
         },
         "mode": "markers",
         "name": "data",
         "showlegend": false,
         "type": "scatter",
         "x": [
          11,
          11
         ],
         "y": [
          5,
          7
         ]
        },
        {
         "fill": "toself",
         "fillcolor": "#EE8F6D",
         "hoverinfo": "none",
         "legendgroup": "S_X",
         "line": {
          "color": "#E55724",
          "width": 2
         },
         "name": "S_X",
         "showlegend": false,
         "type": "scatter",
         "x": [
          14,
          13,
          15,
          14
         ],
         "y": [
          4,
          3,
          3,
          4
         ]
        },
        {
         "marker": {
          "color": "#474645",
          "size": 8
         },
         "mode": "markers",
         "name": "data",
         "showlegend": false,
         "type": "scatter",
         "x": [
          13,
          15
         ],
         "y": [
          3,
          3
         ]
        },
        {
         "fill": "toself",
         "fillcolor": "#EE8F6D",
         "hoverinfo": "none",
         "legendgroup": "S_X",
         "line": {
          "color": "#E55724",
          "width": 2
         },
         "name": "S_X",
         "showlegend": false,
         "type": "scatter",
         "x": [
          14,
          13,
          15,
          14
         ],
         "y": [
          8,
          9,
          9,
          8
         ]
        },
        {
         "marker": {
          "color": "#474645",
          "size": 8
         },
         "mode": "markers",
         "name": "data",
         "showlegend": false,
         "type": "scatter",
         "x": [
          13,
          15
         ],
         "y": [
          9,
          9
         ]
        },
        {
         "fill": "toself",
         "fillcolor": "#EE8F6D",
         "hoverinfo": "none",
         "legendgroup": "S_X",
         "line": {
          "color": "#E55724",
          "width": 2
         },
         "name": "S_X",
         "showlegend": false,
         "type": "scatter",
         "x": [
          18,
          17,
          17,
          18
         ],
         "y": [
          6,
          7,
          5,
          6
         ]
        },
        {
         "marker": {
          "color": "#474645",
          "size": 8
         },
         "mode": "markers",
         "name": "data",
         "showlegend": false,
         "type": "scatter",
         "x": [
          17,
          17
         ],
         "y": [
          7,
          5
         ]
        },
        {
         "fill": "toself",
         "fillcolor": "#F1BB7E",
         "hoverinfo": "none",
         "legendgroup": "S_X",
         "line": {
          "color": "#DC8118",
          "width": 2
         },
         "name": "S_X",
         "showlegend": false,
         "type": "scatter",
         "x": [
          12,
          13,
          13,
          12
         ],
         "y": [
          12,
          13,
          11,
          12
         ]
        },
        {
         "marker": {
          "color": "#474645",
          "size": 8
         },
         "mode": "markers",
         "name": "data",
         "showlegend": false,
         "type": "scatter",
         "x": [
          13,
          13
         ],
         "y": [
          13,
          11
         ]
        },
        {
         "fill": "toself",
         "fillcolor": "#F1BB7E",
         "hoverinfo": "none",
         "legendgroup": "S_X",
         "line": {
          "color": "#DC8118",
          "width": 2
         },
         "name": "S_X",
         "showlegend": false,
         "type": "scatter",
         "x": [
          16,
          15,
          15,
          16
         ],
         "y": [
          12,
          13,
          11,
          12
         ]
        },
        {
         "marker": {
          "color": "#474645",
          "size": 8
         },
         "mode": "markers",
         "name": "data",
         "showlegend": false,
         "type": "scatter",
         "x": [
          15,
          15
         ],
         "y": [
          13,
          11
         ]
        },
        {
         "hoverlabel": {
          "namelength": -1
         },
         "marker": {
          "color": "#787776",
          "size": 10
         },
         "mode": "markers",
         "name": "Ancilla XX",
         "showlegend": false,
         "type": "scatter",
         "x": [
          0
         ],
         "y": [
          2
         ]
        },
        {
         "hoverlabel": {
          "namelength": -1
         },
         "marker": {
          "color": "#787776",
          "size": 10
         },
         "mode": "markers",
         "name": "Ancilla ZZZZ",
         "showlegend": false,
         "type": "scatter",
         "x": [
          2
         ],
         "y": [
          2
         ]
        },
        {
         "hoverlabel": {
          "namelength": -1
         },
         "marker": {
          "color": "#787776",
          "size": 10
         },
         "mode": "markers",
         "name": "Ancilla ZZ",
         "showlegend": false,
         "type": "scatter",
         "x": [
          4
         ],
         "y": [
          0
         ]
        },
        {
         "hoverlabel": {
          "namelength": -1
         },
         "marker": {
          "color": "#787776",
          "size": 10
         },
         "mode": "markers",
         "name": "Ancilla XX",
         "showlegend": false,
         "type": "scatter",
         "x": [
          0
         ],
         "y": [
          6
         ]
        },
        {
         "hoverlabel": {
          "namelength": -1
         },
         "marker": {
          "color": "#787776",
          "size": 10
         },
         "mode": "markers",
         "name": "Ancilla ZZZZ",
         "showlegend": false,
         "type": "scatter",
         "x": [
          6
         ],
         "y": [
          2
         ]
        },
        {
         "hoverlabel": {
          "namelength": -1
         },
         "marker": {
          "color": "#787776",
          "size": 10
         },
         "mode": "markers",
         "name": "Ancilla ZZ",
         "showlegend": false,
         "type": "scatter",
         "x": [
          8
         ],
         "y": [
          0
         ]
        },
        {
         "hoverlabel": {
          "namelength": -1
         },
         "marker": {
          "color": "#787776",
          "size": 10
         },
         "mode": "markers",
         "name": "Ancilla XXXX",
         "showlegend": false,
         "type": "scatter",
         "x": [
          8
         ],
         "y": [
          2
         ]
        },
        {
         "hoverlabel": {
          "namelength": -1
         },
         "marker": {
          "color": "#787776",
          "size": 10
         },
         "mode": "markers",
         "name": "Ancilla XX",
         "showlegend": false,
         "type": "scatter",
         "x": [
          0
         ],
         "y": [
          10
         ]
        },
        {
         "hoverlabel": {
          "namelength": -1
         },
         "marker": {
          "color": "#787776",
          "size": 10
         },
         "mode": "markers",
         "name": "Ancilla ZZZZ",
         "showlegend": false,
         "type": "scatter",
         "x": [
          2
         ],
         "y": [
          10
         ]
        },
        {
         "hoverlabel": {
          "namelength": -1
         },
         "marker": {
          "color": "#787776",
          "size": 10
         },
         "mode": "markers",
         "name": "Ancilla XXXX",
         "showlegend": false,
         "type": "scatter",
         "x": [
          4
         ],
         "y": [
          10
         ]
        },
        {
         "hoverlabel": {
          "namelength": -1
         },
         "marker": {
          "color": "#787776",
          "size": 10
         },
         "mode": "markers",
         "name": "Ancilla XXXX",
         "showlegend": false,
         "type": "scatter",
         "x": [
          10
         ],
         "y": [
          4
         ]
        },
        {
         "hoverlabel": {
          "namelength": -1
         },
         "marker": {
          "color": "#787776",
          "size": 10
         },
         "mode": "markers",
         "name": "Ancilla ZZZZ",
         "showlegend": false,
         "type": "scatter",
         "x": [
          10
         ],
         "y": [
          6
         ]
        },
        {
         "hoverlabel": {
          "namelength": -1
         },
         "marker": {
          "color": "#787776",
          "size": 10
         },
         "mode": "markers",
         "name": "Ancilla XXXX",
         "showlegend": false,
         "type": "scatter",
         "x": [
          10
         ],
         "y": [
          8
         ]
        },
        {
         "hoverlabel": {
          "namelength": -1
         },
         "marker": {
          "color": "#787776",
          "size": 10
         },
         "mode": "markers",
         "name": "Ancilla ZZZZ",
         "showlegend": false,
         "type": "scatter",
         "x": [
          10
         ],
         "y": [
          10
         ]
        },
        {
         "hoverlabel": {
          "namelength": -1
         },
         "marker": {
          "color": "#787776",
          "size": 10
         },
         "mode": "markers",
         "name": "Ancilla XXXX",
         "showlegend": false,
         "type": "scatter",
         "x": [
          2
         ],
         "y": [
          12
         ]
        },
        {
         "hoverlabel": {
          "namelength": -1
         },
         "marker": {
          "color": "#787776",
          "size": 10
         },
         "mode": "markers",
         "name": "Ancilla ZZZZ",
         "showlegend": false,
         "type": "scatter",
         "x": [
          4
         ],
         "y": [
          12
         ]
        },
        {
         "hoverlabel": {
          "namelength": -1
         },
         "marker": {
          "color": "#787776",
          "size": 10
         },
         "mode": "markers",
         "name": "Ancilla XXXX",
         "showlegend": false,
         "type": "scatter",
         "x": [
          10
         ],
         "y": [
          12
         ]
        },
        {
         "hoverlabel": {
          "namelength": -1
         },
         "marker": {
          "color": "#787776",
          "size": 10
         },
         "mode": "markers",
         "name": "Ancilla XXXX",
         "showlegend": false,
         "type": "scatter",
         "x": [
          12
         ],
         "y": [
          10
         ]
        },
        {
         "hoverlabel": {
          "namelength": -1
         },
         "marker": {
          "color": "#787776",
          "size": 10
         },
         "mode": "markers",
         "name": "Ancilla XX",
         "showlegend": false,
         "type": "scatter",
         "x": [
          0
         ],
         "y": [
          14
         ]
        },
        {
         "hoverlabel": {
          "namelength": -1
         },
         "marker": {
          "color": "#787776",
          "size": 10
         },
         "mode": "markers",
         "name": "Ancilla ZZZZ",
         "showlegend": false,
         "type": "scatter",
         "x": [
          2
         ],
         "y": [
          14
         ]
        },
        {
         "hoverlabel": {
          "namelength": -1
         },
         "marker": {
          "color": "#787776",
          "size": 10
         },
         "mode": "markers",
         "name": "Ancilla XXXX",
         "showlegend": false,
         "type": "scatter",
         "x": [
          4
         ],
         "y": [
          14
         ]
        },
        {
         "hoverlabel": {
          "namelength": -1
         },
         "marker": {
          "color": "#787776",
          "size": 10
         },
         "mode": "markers",
         "name": "Ancilla ZZZZ",
         "showlegend": false,
         "type": "scatter",
         "x": [
          6
         ],
         "y": [
          14
         ]
        },
        {
         "hoverlabel": {
          "namelength": -1
         },
         "marker": {
          "color": "#787776",
          "size": 10
         },
         "mode": "markers",
         "name": "Ancilla XXXX",
         "showlegend": false,
         "type": "scatter",
         "x": [
          8
         ],
         "y": [
          14
         ]
        },
        {
         "hoverlabel": {
          "namelength": -1
         },
         "marker": {
          "color": "#787776",
          "size": 10
         },
         "mode": "markers",
         "name": "Ancilla ZZZZ",
         "showlegend": false,
         "type": "scatter",
         "x": [
          10
         ],
         "y": [
          14
         ]
        },
        {
         "hoverlabel": {
          "namelength": -1
         },
         "marker": {
          "color": "#787776",
          "size": 10
         },
         "mode": "markers",
         "name": "Ancilla XXXX",
         "showlegend": false,
         "type": "scatter",
         "x": [
          12
         ],
         "y": [
          14
         ]
        },
        {
         "hoverlabel": {
          "namelength": -1
         },
         "marker": {
          "color": "#787776",
          "size": 10
         },
         "mode": "markers",
         "name": "Ancilla XXXX",
         "showlegend": false,
         "type": "scatter",
         "x": [
          2
         ],
         "y": [
          16
         ]
        },
        {
         "hoverlabel": {
          "namelength": -1
         },
         "marker": {
          "color": "#787776",
          "size": 10
         },
         "mode": "markers",
         "name": "Ancilla ZZZZ",
         "showlegend": false,
         "type": "scatter",
         "x": [
          4
         ],
         "y": [
          16
         ]
        },
        {
         "hoverlabel": {
          "namelength": -1
         },
         "marker": {
          "color": "#787776",
          "size": 10
         },
         "mode": "markers",
         "name": "Ancilla ZZZZ",
         "showlegend": false,
         "type": "scatter",
         "x": [
          8
         ],
         "y": [
          16
         ]
        },
        {
         "hoverlabel": {
          "namelength": -1
         },
         "marker": {
          "color": "#787776",
          "size": 10
         },
         "mode": "markers",
         "name": "Ancilla XXXX",
         "showlegend": false,
         "type": "scatter",
         "x": [
          10
         ],
         "y": [
          16
         ]
        },
        {
         "hoverlabel": {
          "namelength": -1
         },
         "marker": {
          "color": "#787776",
          "size": 10
         },
         "mode": "markers",
         "name": "Ancilla ZZZ",
         "showlegend": false,
         "type": "scatter",
         "x": [
          12
         ],
         "y": [
          16
         ]
        },
        {
         "hoverlabel": {
          "namelength": -1
         },
         "marker": {
          "color": "#787776",
          "size": 10
         },
         "mode": "markers",
         "name": "Ancilla ZZ",
         "showlegend": false,
         "type": "scatter",
         "x": [
          16
         ],
         "y": [
          0
         ]
        },
        {
         "hoverlabel": {
          "namelength": -1
         },
         "marker": {
          "color": "#787776",
          "size": 10
         },
         "mode": "markers",
         "name": "Ancilla XXXX",
         "showlegend": false,
         "type": "scatter",
         "x": [
          16
         ],
         "y": [
          2
         ]
        },
        {
         "hoverlabel": {
          "namelength": -1
         },
         "marker": {
          "color": "#787776",
          "size": 10
         },
         "mode": "markers",
         "name": "Ancilla XXXX",
         "showlegend": false,
         "type": "scatter",
         "x": [
          16
         ],
         "y": [
          10
         ]
        },
        {
         "hoverlabel": {
          "namelength": -1
         },
         "marker": {
          "color": "#787776",
          "size": 10
         },
         "mode": "markers",
         "name": "Ancilla XXXX",
         "showlegend": false,
         "type": "scatter",
         "x": [
          16
         ],
         "y": [
          14
         ]
        },
        {
         "hoverlabel": {
          "namelength": -1
         },
         "marker": {
          "color": "#787776",
          "size": 10
         },
         "mode": "markers",
         "name": "Ancilla ZZZ",
         "showlegend": false,
         "type": "scatter",
         "x": [
          16
         ],
         "y": [
          16
         ]
        },
        {
         "hoverlabel": {
          "namelength": -1
         },
         "marker": {
          "color": "#787776",
          "size": 10
         },
         "mode": "markers",
         "name": "Ancilla ZZ",
         "showlegend": false,
         "type": "scatter",
         "x": [
          2
         ],
         "y": [
          18
         ]
        },
        {
         "hoverlabel": {
          "namelength": -1
         },
         "marker": {
          "color": "#787776",
          "size": 10
         },
         "mode": "markers",
         "name": "Ancilla ZZ",
         "showlegend": false,
         "type": "scatter",
         "x": [
          10
         ],
         "y": [
          18
         ]
        },
        {
         "hoverlabel": {
          "namelength": -1
         },
         "marker": {
          "color": "#787776",
          "size": 10
         },
         "mode": "markers",
         "name": "Ancilla XX",
         "showlegend": false,
         "type": "scatter",
         "x": [
          18
         ],
         "y": [
          4
         ]
        },
        {
         "hoverlabel": {
          "namelength": -1
         },
         "marker": {
          "color": "#787776",
          "size": 10
         },
         "mode": "markers",
         "name": "Ancilla XX",
         "showlegend": false,
         "type": "scatter",
         "x": [
          18
         ],
         "y": [
          8
         ]
        },
        {
         "hoverlabel": {
          "namelength": -1
         },
         "marker": {
          "color": "#787776",
          "size": 10
         },
         "mode": "markers",
         "name": "Ancilla XX",
         "showlegend": false,
         "type": "scatter",
         "x": [
          18
         ],
         "y": [
          12
         ]
        },
        {
         "hoverlabel": {
          "namelength": -1
         },
         "marker": {
          "color": "#787776",
          "size": 10
         },
         "mode": "markers",
         "name": "Ancilla XX",
         "showlegend": false,
         "type": "scatter",
         "x": [
          18
         ],
         "y": [
          16
         ]
        },
        {
         "hoverlabel": {
          "namelength": -1
         },
         "marker": {
          "color": "#787776",
          "size": 10
         },
         "mode": "markers",
         "name": "Ancilla XXX",
         "showlegend": false,
         "type": "scatter",
         "x": [
          6
         ],
         "y": [
          8
         ]
        },
        {
         "hoverlabel": {
          "namelength": -1
         },
         "marker": {
          "color": "#787776",
          "size": 10
         },
         "mode": "markers",
         "name": "Ancilla XX",
         "showlegend": false,
         "type": "scatter",
         "x": [
          8
         ],
         "y": [
          6
         ]
        },
        {
         "hoverlabel": {
          "namelength": -1
         },
         "marker": {
          "color": "#787776",
          "size": 10
         },
         "mode": "markers",
         "name": "Ancilla XXX",
         "showlegend": false,
         "type": "scatter",
         "x": [
          6
         ],
         "y": [
          4
         ]
        },
        {
         "hoverlabel": {
          "namelength": -1
         },
         "marker": {
          "color": "#787776",
          "size": 10
         },
         "mode": "markers",
         "name": "Ancilla XXXX",
         "showlegend": false,
         "type": "scatter",
         "x": [
          2
         ],
         "y": [
          4
         ]
        },
        {
         "hoverlabel": {
          "namelength": -1
         },
         "marker": {
          "color": "#787776",
          "size": 10
         },
         "mode": "markers",
         "name": "Ancilla ZZ,XXX",
         "showlegend": false,
         "type": "scatter",
         "x": [
          4
         ],
         "y": [
          6
         ]
        },
        {
         "hoverlabel": {
          "namelength": -1
         },
         "marker": {
          "color": "#787776",
          "size": 10
         },
         "mode": "markers",
         "name": "Ancilla ZZ,XXXX",
         "showlegend": false,
         "type": "scatter",
         "x": [
          4
         ],
         "y": [
          2
         ]
        },
        {
         "hoverlabel": {
          "namelength": -1
         },
         "marker": {
          "color": "#787776",
          "size": 10
         },
         "mode": "markers",
         "name": "Ancilla ZZZ",
         "showlegend": false,
         "type": "scatter",
         "x": [
          2
         ],
         "y": [
          6
         ]
        },
        {
         "hoverlabel": {
          "namelength": -1
         },
         "marker": {
          "color": "#787776",
          "size": 10
         },
         "mode": "markers",
         "name": "Ancilla ZZZ",
         "showlegend": false,
         "type": "scatter",
         "x": [
          4
         ],
         "y": [
          8
         ]
        },
        {
         "hoverlabel": {
          "namelength": -1
         },
         "marker": {
          "color": "#787776",
          "size": 10
         },
         "mode": "markers",
         "name": "Ancilla XXX",
         "showlegend": false,
         "type": "scatter",
         "x": [
          2
         ],
         "y": [
          8
         ]
        },
        {
         "hoverlabel": {
          "namelength": -1
         },
         "marker": {
          "color": "#787776",
          "size": 10
         },
         "mode": "markers",
         "name": "Ancilla ZZZ",
         "showlegend": false,
         "type": "scatter",
         "x": [
          8
         ],
         "y": [
          4
         ]
        },
        {
         "hoverlabel": {
          "namelength": -1
         },
         "marker": {
          "color": "#787776",
          "size": 10
         },
         "mode": "markers",
         "name": "Ancilla ZZ",
         "showlegend": false,
         "type": "scatter",
         "x": [
          6
         ],
         "y": [
          6
         ]
        },
        {
         "hoverlabel": {
          "namelength": -1
         },
         "marker": {
          "color": "#787776",
          "size": 10
         },
         "mode": "markers",
         "name": "Ancilla ZZZ",
         "showlegend": false,
         "type": "scatter",
         "x": [
          8
         ],
         "y": [
          8
         ]
        },
        {
         "hoverlabel": {
          "namelength": -1
         },
         "marker": {
          "color": "#787776",
          "size": 10
         },
         "mode": "markers",
         "name": "Ancilla ZZZ",
         "showlegend": false,
         "type": "scatter",
         "x": [
          6
         ],
         "y": [
          10
         ]
        },
        {
         "hoverlabel": {
          "namelength": -1
         },
         "marker": {
          "color": "#787776",
          "size": 10
         },
         "mode": "markers",
         "name": "Ancilla ZZZ",
         "showlegend": false,
         "type": "scatter",
         "x": [
          8
         ],
         "y": [
          12
         ]
        },
        {
         "hoverlabel": {
          "namelength": -1
         },
         "marker": {
          "color": "#787776",
          "size": 10
         },
         "mode": "markers",
         "name": "Ancilla XXX",
         "showlegend": false,
         "type": "scatter",
         "x": [
          8
         ],
         "y": [
          10
         ]
        },
        {
         "hoverlabel": {
          "namelength": -1
         },
         "marker": {
          "color": "#787776",
          "size": 10
         },
         "mode": "markers",
         "name": "Ancilla XXX",
         "showlegend": false,
         "type": "scatter",
         "x": [
          6
         ],
         "y": [
          12
         ]
        },
        {
         "hoverlabel": {
          "namelength": -1
         },
         "marker": {
          "color": "#787776",
          "size": 10
         },
         "mode": "markers",
         "name": "Ancilla ZZ,XXXX",
         "showlegend": false,
         "type": "scatter",
         "x": [
          6
         ],
         "y": [
          16
         ]
        },
        {
         "hoverlabel": {
          "namelength": -1
         },
         "marker": {
          "color": "#787776",
          "size": 10
         },
         "mode": "markers",
         "name": "Ancilla ZZZZ,XX",
         "showlegend": false,
         "type": "scatter",
         "x": [
          10
         ],
         "y": [
          2
         ]
        },
        {
         "hoverlabel": {
          "namelength": -1
         },
         "marker": {
          "color": "#787776",
          "size": 10
         },
         "mode": "markers",
         "name": "Ancilla XX,ZZZZ",
         "showlegend": false,
         "type": "scatter",
         "x": [
          14
         ],
         "y": [
          2
         ]
        },
        {
         "hoverlabel": {
          "namelength": -1
         },
         "marker": {
          "color": "#787776",
          "size": 10
         },
         "mode": "markers",
         "name": "Ancilla ZZZ",
         "showlegend": false,
         "type": "scatter",
         "x": [
          12
         ],
         "y": [
          4
         ]
        },
        {
         "hoverlabel": {
          "namelength": -1
         },
         "marker": {
          "color": "#787776",
          "size": 10
         },
         "mode": "markers",
         "name": "Ancilla ZZZ",
         "showlegend": false,
         "type": "scatter",
         "x": [
          16
         ],
         "y": [
          8
         ]
        },
        {
         "hoverlabel": {
          "namelength": -1
         },
         "marker": {
          "color": "#787776",
          "size": 10
         },
         "mode": "markers",
         "name": "Ancilla ZZZ",
         "showlegend": false,
         "type": "scatter",
         "x": [
          12
         ],
         "y": [
          8
         ]
        },
        {
         "hoverlabel": {
          "namelength": -1
         },
         "marker": {
          "color": "#787776",
          "size": 10
         },
         "mode": "markers",
         "name": "Ancilla ZZZ",
         "showlegend": false,
         "type": "scatter",
         "x": [
          16
         ],
         "y": [
          4
         ]
        },
        {
         "hoverlabel": {
          "namelength": -1
         },
         "marker": {
          "color": "#787776",
          "size": 10
         },
         "mode": "markers",
         "name": "Ancilla ZZ",
         "showlegend": false,
         "type": "scatter",
         "x": [
          12
         ],
         "y": [
          0
         ]
        },
        {
         "hoverlabel": {
          "namelength": -1
         },
         "marker": {
          "color": "#787776",
          "size": 10
         },
         "mode": "markers",
         "name": "Ancilla XX",
         "showlegend": false,
         "type": "scatter",
         "x": [
          12
         ],
         "y": [
          6
         ]
        },
        {
         "hoverlabel": {
          "namelength": -1
         },
         "marker": {
          "color": "#787776",
          "size": 10
         },
         "mode": "markers",
         "name": "Ancilla XX",
         "showlegend": false,
         "type": "scatter",
         "x": [
          14
         ],
         "y": [
          4
         ]
        },
        {
         "hoverlabel": {
          "namelength": -1
         },
         "marker": {
          "color": "#787776",
          "size": 10
         },
         "mode": "markers",
         "name": "Ancilla XX",
         "showlegend": false,
         "type": "scatter",
         "x": [
          14
         ],
         "y": [
          8
         ]
        },
        {
         "hoverlabel": {
          "namelength": -1
         },
         "marker": {
          "color": "#787776",
          "size": 10
         },
         "mode": "markers",
         "name": "Ancilla XX",
         "showlegend": false,
         "type": "scatter",
         "x": [
          18
         ],
         "y": [
          6
         ]
        },
        {
         "hoverlabel": {
          "namelength": -1
         },
         "marker": {
          "color": "#787776",
          "size": 10
         },
         "mode": "markers",
         "name": "Ancilla XX,ZZZZ",
         "showlegend": false,
         "type": "scatter",
         "x": [
          12
         ],
         "y": [
          12
         ]
        },
        {
         "hoverlabel": {
          "namelength": -1
         },
         "marker": {
          "color": "#787776",
          "size": 10
         },
         "mode": "markers",
         "name": "Ancilla XX,ZZZZ",
         "showlegend": false,
         "type": "scatter",
         "x": [
          16
         ],
         "y": [
          12
         ]
        },
        {
         "hoverlabel": {
          "namelength": -1
         },
         "marker": {
          "color": "#787776",
          "size": 10
         },
         "mode": "markers",
         "name": "Ancilla ZZZZ",
         "showlegend": false,
         "type": "scatter",
         "x": [
          14
         ],
         "y": [
          14
         ]
        },
        {
         "hoverlabel": {
          "namelength": -1
         },
         "marker": {
          "color": "#787776",
          "size": 10
         },
         "mode": "markers",
         "name": "Ancilla ZZZZ",
         "showlegend": false,
         "type": "scatter",
         "x": [
          14
         ],
         "y": [
          10
         ]
        },
        {
         "legendgroup": "Z_L",
         "line": {
          "color": "#128AA5",
          "width": 4
         },
         "name": "Z_L",
         "showlegend": false,
         "type": "scatter",
         "x": [
          1,
          1,
          1,
          1,
          1,
          1,
          1,
          1,
          1
         ],
         "y": [
          17,
          15,
          13,
          11,
          9,
          7,
          5,
          3,
          1
         ]
        },
        {
         "legendgroup": "X_L",
         "line": {
          "color": "#CE2D40",
          "width": 4
         },
         "name": "X_L",
         "showlegend": false,
         "type": "scatter",
         "x": [
          1,
          3,
          5,
          7,
          9,
          11,
          13,
          15,
          17
         ],
         "y": [
          1,
          1,
          1,
          1,
          1,
          1,
          1,
          1,
          1
         ]
        },
        {
         "legendgroup": "Z_L",
         "line": {
          "color": "#128AA5",
          "width": 4
         },
         "name": "Z_L",
         "showlegend": true,
         "type": "scatter",
         "x": [
          17,
          17,
          17,
          17,
          17,
          17,
          17,
          17,
          17
         ],
         "y": [
          1,
          3,
          5,
          7,
          9,
          11,
          13,
          15,
          17
         ]
        },
        {
         "legendgroup": "X_L",
         "line": {
          "color": "#CE2D40",
          "width": 4
         },
         "name": "X_L",
         "showlegend": true,
         "type": "scatter",
         "x": [
          17,
          15,
          13,
          11,
          9,
          7,
          5,
          3,
          1
         ],
         "y": [
          17,
          15,
          15,
          17,
          17,
          17,
          17,
          17,
          17
         ]
        },
        {
         "marker": {
          "color": "red",
          "size": 12,
          "symbol": "x"
         },
         "mode": "markers",
         "name": "qubit defect",
         "showlegend": false,
         "type": "scatter",
         "x": [
          7,
          6,
          15,
          3,
          16,
          4,
          12,
          7,
          14
         ],
         "y": [
          11,
          18,
          17,
          7,
          6,
          4,
          2,
          5,
          12
         ]
        },
        {
         "line": {
          "color": "red",
          "dash": "dot",
          "width": 2
         },
         "mode": "lines",
         "name": "link defect",
         "showlegend": false,
         "type": "scatter",
         "x": [
          14,
          14.5,
          15
         ],
         "y": [
          6,
          6.5,
          7
         ]
        },
        {
         "line": {
          "color": "red",
          "dash": "dot",
          "width": 2
         },
         "mode": "lines",
         "name": "link defect",
         "showlegend": false,
         "type": "scatter",
         "x": [
          6,
          6.5,
          7
         ],
         "y": [
          6,
          6.5,
          7
         ]
        },
        {
         "line": {
          "color": "red",
          "dash": "dot",
          "width": 2
         },
         "mode": "lines",
         "name": "link defect",
         "showlegend": false,
         "type": "scatter",
         "x": [
          14,
          13.5,
          13
         ],
         "y": [
          4,
          4.5,
          5
         ]
        }
       ],
       "layout": {
        "autosize": false,
        "template": {
         "data": {
          "bar": [
           {
            "error_x": {
             "color": "#2a3f5f"
            },
            "error_y": {
             "color": "#2a3f5f"
            },
            "marker": {
             "line": {
              "color": "#E5ECF6",
              "width": 0.5
             },
             "pattern": {
              "fillmode": "overlay",
              "size": 10,
              "solidity": 0.2
             }
            },
            "type": "bar"
           }
          ],
          "barpolar": [
           {
            "marker": {
             "line": {
              "color": "#E5ECF6",
              "width": 0.5
             },
             "pattern": {
              "fillmode": "overlay",
              "size": 10,
              "solidity": 0.2
             }
            },
            "type": "barpolar"
           }
          ],
          "carpet": [
           {
            "aaxis": {
             "endlinecolor": "#2a3f5f",
             "gridcolor": "white",
             "linecolor": "white",
             "minorgridcolor": "white",
             "startlinecolor": "#2a3f5f"
            },
            "baxis": {
             "endlinecolor": "#2a3f5f",
             "gridcolor": "white",
             "linecolor": "white",
             "minorgridcolor": "white",
             "startlinecolor": "#2a3f5f"
            },
            "type": "carpet"
           }
          ],
          "choropleth": [
           {
            "colorbar": {
             "outlinewidth": 0,
             "ticks": ""
            },
            "type": "choropleth"
           }
          ],
          "contour": [
           {
            "colorbar": {
             "outlinewidth": 0,
             "ticks": ""
            },
            "colorscale": [
             [
              0,
              "#0d0887"
             ],
             [
              0.1111111111111111,
              "#46039f"
             ],
             [
              0.2222222222222222,
              "#7201a8"
             ],
             [
              0.3333333333333333,
              "#9c179e"
             ],
             [
              0.4444444444444444,
              "#bd3786"
             ],
             [
              0.5555555555555556,
              "#d8576b"
             ],
             [
              0.6666666666666666,
              "#ed7953"
             ],
             [
              0.7777777777777778,
              "#fb9f3a"
             ],
             [
              0.8888888888888888,
              "#fdca26"
             ],
             [
              1,
              "#f0f921"
             ]
            ],
            "type": "contour"
           }
          ],
          "contourcarpet": [
           {
            "colorbar": {
             "outlinewidth": 0,
             "ticks": ""
            },
            "type": "contourcarpet"
           }
          ],
          "heatmap": [
           {
            "colorbar": {
             "outlinewidth": 0,
             "ticks": ""
            },
            "colorscale": [
             [
              0,
              "#0d0887"
             ],
             [
              0.1111111111111111,
              "#46039f"
             ],
             [
              0.2222222222222222,
              "#7201a8"
             ],
             [
              0.3333333333333333,
              "#9c179e"
             ],
             [
              0.4444444444444444,
              "#bd3786"
             ],
             [
              0.5555555555555556,
              "#d8576b"
             ],
             [
              0.6666666666666666,
              "#ed7953"
             ],
             [
              0.7777777777777778,
              "#fb9f3a"
             ],
             [
              0.8888888888888888,
              "#fdca26"
             ],
             [
              1,
              "#f0f921"
             ]
            ],
            "type": "heatmap"
           }
          ],
          "heatmapgl": [
           {
            "colorbar": {
             "outlinewidth": 0,
             "ticks": ""
            },
            "colorscale": [
             [
              0,
              "#0d0887"
             ],
             [
              0.1111111111111111,
              "#46039f"
             ],
             [
              0.2222222222222222,
              "#7201a8"
             ],
             [
              0.3333333333333333,
              "#9c179e"
             ],
             [
              0.4444444444444444,
              "#bd3786"
             ],
             [
              0.5555555555555556,
              "#d8576b"
             ],
             [
              0.6666666666666666,
              "#ed7953"
             ],
             [
              0.7777777777777778,
              "#fb9f3a"
             ],
             [
              0.8888888888888888,
              "#fdca26"
             ],
             [
              1,
              "#f0f921"
             ]
            ],
            "type": "heatmapgl"
           }
          ],
          "histogram": [
           {
            "marker": {
             "pattern": {
              "fillmode": "overlay",
              "size": 10,
              "solidity": 0.2
             }
            },
            "type": "histogram"
           }
          ],
          "histogram2d": [
           {
            "colorbar": {
             "outlinewidth": 0,
             "ticks": ""
            },
            "colorscale": [
             [
              0,
              "#0d0887"
             ],
             [
              0.1111111111111111,
              "#46039f"
             ],
             [
              0.2222222222222222,
              "#7201a8"
             ],
             [
              0.3333333333333333,
              "#9c179e"
             ],
             [
              0.4444444444444444,
              "#bd3786"
             ],
             [
              0.5555555555555556,
              "#d8576b"
             ],
             [
              0.6666666666666666,
              "#ed7953"
             ],
             [
              0.7777777777777778,
              "#fb9f3a"
             ],
             [
              0.8888888888888888,
              "#fdca26"
             ],
             [
              1,
              "#f0f921"
             ]
            ],
            "type": "histogram2d"
           }
          ],
          "histogram2dcontour": [
           {
            "colorbar": {
             "outlinewidth": 0,
             "ticks": ""
            },
            "colorscale": [
             [
              0,
              "#0d0887"
             ],
             [
              0.1111111111111111,
              "#46039f"
             ],
             [
              0.2222222222222222,
              "#7201a8"
             ],
             [
              0.3333333333333333,
              "#9c179e"
             ],
             [
              0.4444444444444444,
              "#bd3786"
             ],
             [
              0.5555555555555556,
              "#d8576b"
             ],
             [
              0.6666666666666666,
              "#ed7953"
             ],
             [
              0.7777777777777778,
              "#fb9f3a"
             ],
             [
              0.8888888888888888,
              "#fdca26"
             ],
             [
              1,
              "#f0f921"
             ]
            ],
            "type": "histogram2dcontour"
           }
          ],
          "mesh3d": [
           {
            "colorbar": {
             "outlinewidth": 0,
             "ticks": ""
            },
            "type": "mesh3d"
           }
          ],
          "parcoords": [
           {
            "line": {
             "colorbar": {
              "outlinewidth": 0,
              "ticks": ""
             }
            },
            "type": "parcoords"
           }
          ],
          "pie": [
           {
            "automargin": true,
            "type": "pie"
           }
          ],
          "scatter": [
           {
            "fillpattern": {
             "fillmode": "overlay",
             "size": 10,
             "solidity": 0.2
            },
            "type": "scatter"
           }
          ],
          "scatter3d": [
           {
            "line": {
             "colorbar": {
              "outlinewidth": 0,
              "ticks": ""
             }
            },
            "marker": {
             "colorbar": {
              "outlinewidth": 0,
              "ticks": ""
             }
            },
            "type": "scatter3d"
           }
          ],
          "scattercarpet": [
           {
            "marker": {
             "colorbar": {
              "outlinewidth": 0,
              "ticks": ""
             }
            },
            "type": "scattercarpet"
           }
          ],
          "scattergeo": [
           {
            "marker": {
             "colorbar": {
              "outlinewidth": 0,
              "ticks": ""
             }
            },
            "type": "scattergeo"
           }
          ],
          "scattergl": [
           {
            "marker": {
             "colorbar": {
              "outlinewidth": 0,
              "ticks": ""
             }
            },
            "type": "scattergl"
           }
          ],
          "scattermapbox": [
           {
            "marker": {
             "colorbar": {
              "outlinewidth": 0,
              "ticks": ""
             }
            },
            "type": "scattermapbox"
           }
          ],
          "scatterpolar": [
           {
            "marker": {
             "colorbar": {
              "outlinewidth": 0,
              "ticks": ""
             }
            },
            "type": "scatterpolar"
           }
          ],
          "scatterpolargl": [
           {
            "marker": {
             "colorbar": {
              "outlinewidth": 0,
              "ticks": ""
             }
            },
            "type": "scatterpolargl"
           }
          ],
          "scatterternary": [
           {
            "marker": {
             "colorbar": {
              "outlinewidth": 0,
              "ticks": ""
             }
            },
            "type": "scatterternary"
           }
          ],
          "surface": [
           {
            "colorbar": {
             "outlinewidth": 0,
             "ticks": ""
            },
            "colorscale": [
             [
              0,
              "#0d0887"
             ],
             [
              0.1111111111111111,
              "#46039f"
             ],
             [
              0.2222222222222222,
              "#7201a8"
             ],
             [
              0.3333333333333333,
              "#9c179e"
             ],
             [
              0.4444444444444444,
              "#bd3786"
             ],
             [
              0.5555555555555556,
              "#d8576b"
             ],
             [
              0.6666666666666666,
              "#ed7953"
             ],
             [
              0.7777777777777778,
              "#fb9f3a"
             ],
             [
              0.8888888888888888,
              "#fdca26"
             ],
             [
              1,
              "#f0f921"
             ]
            ],
            "type": "surface"
           }
          ],
          "table": [
           {
            "cells": {
             "fill": {
              "color": "#EBF0F8"
             },
             "line": {
              "color": "white"
             }
            },
            "header": {
             "fill": {
              "color": "#C8D4E3"
             },
             "line": {
              "color": "white"
             }
            },
            "type": "table"
           }
          ]
         },
         "layout": {
          "annotationdefaults": {
           "arrowcolor": "#2a3f5f",
           "arrowhead": 0,
           "arrowwidth": 1
          },
          "autotypenumbers": "strict",
          "coloraxis": {
           "colorbar": {
            "outlinewidth": 0,
            "ticks": ""
           }
          },
          "colorscale": {
           "diverging": [
            [
             0,
             "#8e0152"
            ],
            [
             0.1,
             "#c51b7d"
            ],
            [
             0.2,
             "#de77ae"
            ],
            [
             0.3,
             "#f1b6da"
            ],
            [
             0.4,
             "#fde0ef"
            ],
            [
             0.5,
             "#f7f7f7"
            ],
            [
             0.6,
             "#e6f5d0"
            ],
            [
             0.7,
             "#b8e186"
            ],
            [
             0.8,
             "#7fbc41"
            ],
            [
             0.9,
             "#4d9221"
            ],
            [
             1,
             "#276419"
            ]
           ],
           "sequential": [
            [
             0,
             "#0d0887"
            ],
            [
             0.1111111111111111,
             "#46039f"
            ],
            [
             0.2222222222222222,
             "#7201a8"
            ],
            [
             0.3333333333333333,
             "#9c179e"
            ],
            [
             0.4444444444444444,
             "#bd3786"
            ],
            [
             0.5555555555555556,
             "#d8576b"
            ],
            [
             0.6666666666666666,
             "#ed7953"
            ],
            [
             0.7777777777777778,
             "#fb9f3a"
            ],
            [
             0.8888888888888888,
             "#fdca26"
            ],
            [
             1,
             "#f0f921"
            ]
           ],
           "sequentialminus": [
            [
             0,
             "#0d0887"
            ],
            [
             0.1111111111111111,
             "#46039f"
            ],
            [
             0.2222222222222222,
             "#7201a8"
            ],
            [
             0.3333333333333333,
             "#9c179e"
            ],
            [
             0.4444444444444444,
             "#bd3786"
            ],
            [
             0.5555555555555556,
             "#d8576b"
            ],
            [
             0.6666666666666666,
             "#ed7953"
            ],
            [
             0.7777777777777778,
             "#fb9f3a"
            ],
            [
             0.8888888888888888,
             "#fdca26"
            ],
            [
             1,
             "#f0f921"
            ]
           ]
          },
          "colorway": [
           "#636efa",
           "#EF553B",
           "#00cc96",
           "#ab63fa",
           "#FFA15A",
           "#19d3f3",
           "#FF6692",
           "#B6E880",
           "#FF97FF",
           "#FECB52"
          ],
          "font": {
           "color": "#2a3f5f"
          },
          "geo": {
           "bgcolor": "white",
           "lakecolor": "white",
           "landcolor": "#E5ECF6",
           "showlakes": true,
           "showland": true,
           "subunitcolor": "white"
          },
          "hoverlabel": {
           "align": "left"
          },
          "hovermode": "closest",
          "mapbox": {
           "style": "light"
          },
          "paper_bgcolor": "white",
          "plot_bgcolor": "#E5ECF6",
          "polar": {
           "angularaxis": {
            "gridcolor": "white",
            "linecolor": "white",
            "ticks": ""
           },
           "bgcolor": "#E5ECF6",
           "radialaxis": {
            "gridcolor": "white",
            "linecolor": "white",
            "ticks": ""
           }
          },
          "scene": {
           "xaxis": {
            "backgroundcolor": "#E5ECF6",
            "gridcolor": "white",
            "gridwidth": 2,
            "linecolor": "white",
            "showbackground": true,
            "ticks": "",
            "zerolinecolor": "white"
           },
           "yaxis": {
            "backgroundcolor": "#E5ECF6",
            "gridcolor": "white",
            "gridwidth": 2,
            "linecolor": "white",
            "showbackground": true,
            "ticks": "",
            "zerolinecolor": "white"
           },
           "zaxis": {
            "backgroundcolor": "#E5ECF6",
            "gridcolor": "white",
            "gridwidth": 2,
            "linecolor": "white",
            "showbackground": true,
            "ticks": "",
            "zerolinecolor": "white"
           }
          },
          "shapedefaults": {
           "line": {
            "color": "#2a3f5f"
           }
          },
          "ternary": {
           "aaxis": {
            "gridcolor": "white",
            "linecolor": "white",
            "ticks": ""
           },
           "baxis": {
            "gridcolor": "white",
            "linecolor": "white",
            "ticks": ""
           },
           "bgcolor": "#E5ECF6",
           "caxis": {
            "gridcolor": "white",
            "linecolor": "white",
            "ticks": ""
           }
          },
          "title": {
           "x": 0.05
          },
          "xaxis": {
           "automargin": true,
           "gridcolor": "white",
           "linecolor": "white",
           "ticks": "",
           "title": {
            "standoff": 15
           },
           "zerolinecolor": "white",
           "zerolinewidth": 2
          },
          "yaxis": {
           "automargin": true,
           "gridcolor": "white",
           "linecolor": "white",
           "ticks": "",
           "title": {
            "standoff": 15
           },
           "zerolinecolor": "white",
           "zerolinewidth": 2
          }
         }
        },
        "width": 800,
        "xaxis": {
         "showgrid": false
        },
        "yaxis": {
         "scaleanchor": "x",
         "showgrid": false
        }
       }
      }
     },
     "metadata": {},
     "output_type": "display_data"
    }
   ],
   "source": [
    "plot(damaged_patch)"
   ]
  },
  {
   "cell_type": "code",
   "execution_count": 14,
   "id": "a2eb1d95",
   "metadata": {},
   "outputs": [
    {
     "name": "stdout",
     "output_type": "stream",
     "text": [
      "Found 6 defect clusters.\n",
      "(horizontal, vertical distance) = (d_X, d_Z) = (5, 6)\n",
      "CPU times: user 183 ms, sys: 2.44 ms, total: 186 ms\n",
      "Wall time: 185 ms\n"
     ]
    }
   ],
   "source": [
    "%%time \n",
    "# Now we employ a strong heuristic, we are considering a max of 10 strategies for global optimization\n",
    "strong_heuristic = Heuristics(link_defect_to_ancilla=True, n_zombie=10, n_max=2, n_sum=2, n_sol_max_per_cluster=2, n_sol_max=2)\n",
    "\n",
    "undamaged_patch = RotatedSurfaceCode(9, vertical_logical=PauliT.Z)\n",
    "ancilla_defects = {Pos(4, 4), Pos(12, 2), Pos(6, 18), Pos(14, 12), Pos(16, 6)}\n",
    "data_defects = {Pos(3, 7), Pos(7, 11), Pos(7, 5), Pos(15, 17)}\n",
    "link_defects = {(Pos(6, 6), Pos(7, 7)), (Pos(14, 4), Pos(13, 5)), (Pos(14, 6), Pos(15, 7))}\n",
    "\n",
    "_, damaged_patches = DefectiveSurfaceCode.make_defective_patches(\n",
    "    undamaged_patch,\n",
    "    ancilla_defects,\n",
    "    data_defects,\n",
    "    link_defects,\n",
    "    repurpose_ancillas=True,\n",
    "    add_padding=True,\n",
    "    first_super_type=PauliT.X,\n",
    "    use_heuristics=strong_heuristic\n",
    ")\n",
    "damaged_patch = damaged_patches[0]\n",
    "print(f\"(horizontal, vertical distance) = (d_X, d_Z) = {damaged_patch.effective_distance}\")"
   ]
  },
  {
   "cell_type": "code",
   "execution_count": 15,
   "id": "c97540dc",
   "metadata": {},
   "outputs": [
    {
     "data": {
      "application/vnd.plotly.v1+json": {
       "config": {
        "plotlyServerURL": "https://plot.ly"
       },
       "data": [
        {
         "marker": {
          "color": "#474645",
          "size": 8
         },
         "mode": "markers",
         "name": "qubit",
         "showlegend": false,
         "type": "scatter",
         "x": [
          1,
          1,
          1,
          1,
          1,
          1,
          1,
          1,
          1,
          3,
          3,
          3,
          3,
          3,
          3,
          3,
          3,
          3,
          5,
          5,
          5,
          5,
          5,
          5,
          5,
          5,
          5,
          7,
          7,
          7,
          7,
          7,
          7,
          7,
          7,
          7,
          9,
          9,
          9,
          9,
          9,
          9,
          9,
          9,
          9,
          11,
          11,
          11,
          11,
          11,
          11,
          11,
          11,
          11,
          13,
          13,
          13,
          13,
          13,
          13,
          13,
          13,
          13,
          15,
          15,
          15,
          15,
          15,
          15,
          15,
          15,
          15,
          17,
          17,
          17,
          17,
          17,
          17,
          17,
          17,
          17
         ],
         "y": [
          1,
          3,
          5,
          7,
          9,
          11,
          13,
          15,
          17,
          1,
          3,
          5,
          7,
          9,
          11,
          13,
          15,
          17,
          1,
          3,
          5,
          7,
          9,
          11,
          13,
          15,
          17,
          1,
          3,
          5,
          7,
          9,
          11,
          13,
          15,
          17,
          1,
          3,
          5,
          7,
          9,
          11,
          13,
          15,
          17,
          1,
          3,
          5,
          7,
          9,
          11,
          13,
          15,
          17,
          1,
          3,
          5,
          7,
          9,
          11,
          13,
          15,
          17,
          1,
          3,
          5,
          7,
          9,
          11,
          13,
          15,
          17,
          1,
          3,
          5,
          7,
          9,
          11,
          13,
          15,
          17
         ]
        },
        {
         "marker": {
          "color": "#787776",
          "size": 10
         },
         "mode": "markers",
         "name": "qubit",
         "showlegend": false,
         "type": "scatter",
         "x": [
          0,
          0,
          0,
          0,
          0,
          0,
          0,
          0,
          0,
          0,
          2,
          2,
          2,
          2,
          2,
          2,
          2,
          2,
          2,
          2,
          4,
          4,
          4,
          4,
          4,
          4,
          4,
          4,
          4,
          4,
          6,
          6,
          6,
          6,
          6,
          6,
          6,
          6,
          6,
          6,
          8,
          8,
          8,
          8,
          8,
          8,
          8,
          8,
          8,
          8,
          10,
          10,
          10,
          10,
          10,
          10,
          10,
          10,
          10,
          10,
          12,
          12,
          12,
          12,
          12,
          12,
          12,
          12,
          12,
          12,
          14,
          14,
          14,
          14,
          14,
          14,
          14,
          14,
          14,
          14,
          16,
          16,
          16,
          16,
          16,
          16,
          16,
          16,
          16,
          16,
          18,
          18,
          18,
          18,
          18,
          18,
          18,
          18,
          18,
          18
         ],
         "y": [
          0,
          2,
          4,
          6,
          8,
          10,
          12,
          14,
          16,
          18,
          0,
          2,
          4,
          6,
          8,
          10,
          12,
          14,
          16,
          18,
          0,
          2,
          4,
          6,
          8,
          10,
          12,
          14,
          16,
          18,
          0,
          2,
          4,
          6,
          8,
          10,
          12,
          14,
          16,
          18,
          0,
          2,
          4,
          6,
          8,
          10,
          12,
          14,
          16,
          18,
          0,
          2,
          4,
          6,
          8,
          10,
          12,
          14,
          16,
          18,
          0,
          2,
          4,
          6,
          8,
          10,
          12,
          14,
          16,
          18,
          0,
          2,
          4,
          6,
          8,
          10,
          12,
          14,
          16,
          18,
          0,
          2,
          4,
          6,
          8,
          10,
          12,
          14,
          16,
          18,
          0,
          2,
          4,
          6,
          8,
          10,
          12,
          14,
          16,
          18
         ]
        },
        {
         "fill": "toself",
         "fillcolor": "#78DAF0",
         "hoverinfo": "none",
         "legendgroup": "S_Z",
         "line": {
          "color": "#128AA5",
          "width": 2
         },
         "name": "S_Z",
         "showlegend": true,
         "type": "scatter",
         "x": [
          1,
          3,
          3,
          1,
          1
         ],
         "y": [
          1,
          1,
          3,
          3,
          1
         ]
        },
        {
         "marker": {
          "color": "#474645",
          "size": 8
         },
         "mode": "markers",
         "name": "data",
         "showlegend": false,
         "type": "scatter",
         "x": [
          1,
          3,
          1,
          3
         ],
         "y": [
          3,
          3,
          1,
          1
         ]
        },
        {
         "fill": "toself",
         "fillcolor": "#78DAF0",
         "hoverinfo": "none",
         "legendgroup": "S_Z",
         "line": {
          "color": "#128AA5",
          "width": 2
         },
         "name": "S_Z",
         "showlegend": false,
         "type": "scatter",
         "x": [
          5,
          7,
          7,
          5,
          5
         ],
         "y": [
          1,
          1,
          3,
          3,
          1
         ]
        },
        {
         "marker": {
          "color": "#474645",
          "size": 8
         },
         "mode": "markers",
         "name": "data",
         "showlegend": false,
         "type": "scatter",
         "x": [
          5,
          7,
          5,
          7
         ],
         "y": [
          3,
          3,
          1,
          1
         ]
        },
        {
         "fill": "toself",
         "fillcolor": "#E27985",
         "hoverinfo": "none",
         "legendgroup": "S_X",
         "line": {
          "color": "#CE2D40",
          "width": 2
         },
         "name": "S_X",
         "showlegend": true,
         "type": "scatter",
         "x": [
          7,
          9,
          9,
          7,
          7
         ],
         "y": [
          1,
          1,
          3,
          3,
          1
         ]
        },
        {
         "marker": {
          "color": "#474645",
          "size": 8
         },
         "mode": "markers",
         "name": "data",
         "showlegend": false,
         "type": "scatter",
         "x": [
          7,
          9,
          7,
          9
         ],
         "y": [
          3,
          3,
          1,
          1
         ]
        },
        {
         "fill": "toself",
         "fillcolor": "#78DAF0",
         "hoverinfo": "none",
         "legendgroup": "S_Z",
         "line": {
          "color": "#128AA5",
          "width": 2
         },
         "name": "S_Z",
         "showlegend": false,
         "type": "scatter",
         "x": [
          1,
          3,
          3,
          1,
          1
         ],
         "y": [
          9,
          9,
          11,
          11,
          9
         ]
        },
        {
         "marker": {
          "color": "#474645",
          "size": 8
         },
         "mode": "markers",
         "name": "data",
         "showlegend": false,
         "type": "scatter",
         "x": [
          1,
          3,
          1,
          3
         ],
         "y": [
          11,
          11,
          9,
          9
         ]
        },
        {
         "fill": "toself",
         "fillcolor": "#E27985",
         "hoverinfo": "none",
         "legendgroup": "S_X",
         "line": {
          "color": "#CE2D40",
          "width": 2
         },
         "name": "S_X",
         "showlegend": false,
         "type": "scatter",
         "x": [
          3,
          5,
          5,
          3,
          3
         ],
         "y": [
          9,
          9,
          11,
          11,
          9
         ]
        },
        {
         "marker": {
          "color": "#474645",
          "size": 8
         },
         "mode": "markers",
         "name": "data",
         "showlegend": false,
         "type": "scatter",
         "x": [
          3,
          5,
          3,
          5
         ],
         "y": [
          11,
          11,
          9,
          9
         ]
        },
        {
         "fill": "toself",
         "fillcolor": "#E27985",
         "hoverinfo": "none",
         "legendgroup": "S_X",
         "line": {
          "color": "#CE2D40",
          "width": 2
         },
         "name": "S_X",
         "showlegend": false,
         "type": "scatter",
         "x": [
          9,
          11,
          11,
          9,
          9
         ],
         "y": [
          3,
          3,
          5,
          5,
          3
         ]
        },
        {
         "marker": {
          "color": "#474645",
          "size": 8
         },
         "mode": "markers",
         "name": "data",
         "showlegend": false,
         "type": "scatter",
         "x": [
          9,
          11,
          9,
          11
         ],
         "y": [
          5,
          5,
          3,
          3
         ]
        },
        {
         "fill": "toself",
         "fillcolor": "#78DAF0",
         "hoverinfo": "none",
         "legendgroup": "S_Z",
         "line": {
          "color": "#128AA5",
          "width": 2
         },
         "name": "S_Z",
         "showlegend": false,
         "type": "scatter",
         "x": [
          9,
          11,
          11,
          9,
          9
         ],
         "y": [
          5,
          5,
          7,
          7,
          5
         ]
        },
        {
         "marker": {
          "color": "#474645",
          "size": 8
         },
         "mode": "markers",
         "name": "data",
         "showlegend": false,
         "type": "scatter",
         "x": [
          9,
          11,
          9,
          11
         ],
         "y": [
          7,
          7,
          5,
          5
         ]
        },
        {
         "fill": "toself",
         "fillcolor": "#E27985",
         "hoverinfo": "none",
         "legendgroup": "S_X",
         "line": {
          "color": "#CE2D40",
          "width": 2
         },
         "name": "S_X",
         "showlegend": false,
         "type": "scatter",
         "x": [
          9,
          11,
          11,
          9,
          9
         ],
         "y": [
          7,
          7,
          9,
          9,
          7
         ]
        },
        {
         "marker": {
          "color": "#474645",
          "size": 8
         },
         "mode": "markers",
         "name": "data",
         "showlegend": false,
         "type": "scatter",
         "x": [
          9,
          11,
          9,
          11
         ],
         "y": [
          9,
          9,
          7,
          7
         ]
        },
        {
         "fill": "toself",
         "fillcolor": "#78DAF0",
         "hoverinfo": "none",
         "legendgroup": "S_Z",
         "line": {
          "color": "#128AA5",
          "width": 2
         },
         "name": "S_Z",
         "showlegend": false,
         "type": "scatter",
         "x": [
          9,
          11,
          11,
          9,
          9
         ],
         "y": [
          9,
          9,
          11,
          11,
          9
         ]
        },
        {
         "marker": {
          "color": "#474645",
          "size": 8
         },
         "mode": "markers",
         "name": "data",
         "showlegend": false,
         "type": "scatter",
         "x": [
          9,
          11,
          9,
          11
         ],
         "y": [
          11,
          11,
          9,
          9
         ]
        },
        {
         "fill": "toself",
         "fillcolor": "#E27985",
         "hoverinfo": "none",
         "legendgroup": "S_X",
         "line": {
          "color": "#CE2D40",
          "width": 2
         },
         "name": "S_X",
         "showlegend": false,
         "type": "scatter",
         "x": [
          1,
          3,
          3,
          1,
          1
         ],
         "y": [
          11,
          11,
          13,
          13,
          11
         ]
        },
        {
         "marker": {
          "color": "#474645",
          "size": 8
         },
         "mode": "markers",
         "name": "data",
         "showlegend": false,
         "type": "scatter",
         "x": [
          1,
          3,
          1,
          3
         ],
         "y": [
          13,
          13,
          11,
          11
         ]
        },
        {
         "fill": "toself",
         "fillcolor": "#78DAF0",
         "hoverinfo": "none",
         "legendgroup": "S_Z",
         "line": {
          "color": "#128AA5",
          "width": 2
         },
         "name": "S_Z",
         "showlegend": false,
         "type": "scatter",
         "x": [
          3,
          5,
          5,
          3,
          3
         ],
         "y": [
          11,
          11,
          13,
          13,
          11
         ]
        },
        {
         "marker": {
          "color": "#474645",
          "size": 8
         },
         "mode": "markers",
         "name": "data",
         "showlegend": false,
         "type": "scatter",
         "x": [
          3,
          5,
          3,
          5
         ],
         "y": [
          13,
          13,
          11,
          11
         ]
        },
        {
         "fill": "toself",
         "fillcolor": "#E27985",
         "hoverinfo": "none",
         "legendgroup": "S_X",
         "line": {
          "color": "#CE2D40",
          "width": 2
         },
         "name": "S_X",
         "showlegend": false,
         "type": "scatter",
         "x": [
          9,
          11,
          11,
          9,
          9
         ],
         "y": [
          11,
          11,
          13,
          13,
          11
         ]
        },
        {
         "marker": {
          "color": "#474645",
          "size": 8
         },
         "mode": "markers",
         "name": "data",
         "showlegend": false,
         "type": "scatter",
         "x": [
          9,
          11,
          9,
          11
         ],
         "y": [
          13,
          13,
          11,
          11
         ]
        },
        {
         "fill": "toself",
         "fillcolor": "#E27985",
         "hoverinfo": "none",
         "legendgroup": "S_X",
         "line": {
          "color": "#CE2D40",
          "width": 2
         },
         "name": "S_X",
         "showlegend": false,
         "type": "scatter",
         "x": [
          11,
          13,
          13,
          11,
          11
         ],
         "y": [
          5,
          5,
          7,
          7,
          5
         ]
        },
        {
         "marker": {
          "color": "#474645",
          "size": 8
         },
         "mode": "markers",
         "name": "data",
         "showlegend": false,
         "type": "scatter",
         "x": [
          11,
          11,
          13,
          13
         ],
         "y": [
          5,
          7,
          7,
          5
         ]
        },
        {
         "fill": "toself",
         "fillcolor": "#78DAF0",
         "hoverinfo": "none",
         "legendgroup": "S_Z",
         "line": {
          "color": "#128AA5",
          "width": 2
         },
         "name": "S_Z",
         "showlegend": false,
         "type": "scatter",
         "x": [
          11,
          13,
          13,
          11,
          11
         ],
         "y": [
          7,
          7,
          9,
          9,
          7
         ]
        },
        {
         "marker": {
          "color": "#474645",
          "size": 8
         },
         "mode": "markers",
         "name": "data",
         "showlegend": false,
         "type": "scatter",
         "x": [
          11,
          13,
          11,
          13
         ],
         "y": [
          9,
          9,
          7,
          7
         ]
        },
        {
         "fill": "toself",
         "fillcolor": "#E27985",
         "hoverinfo": "none",
         "legendgroup": "S_X",
         "line": {
          "color": "#CE2D40",
          "width": 2
         },
         "name": "S_X",
         "showlegend": false,
         "type": "scatter",
         "x": [
          11,
          13,
          13,
          11,
          11
         ],
         "y": [
          9,
          9,
          11,
          11,
          9
         ]
        },
        {
         "marker": {
          "color": "#474645",
          "size": 8
         },
         "mode": "markers",
         "name": "data",
         "showlegend": false,
         "type": "scatter",
         "x": [
          11,
          13,
          11,
          13
         ],
         "y": [
          11,
          11,
          9,
          9
         ]
        },
        {
         "fill": "toself",
         "fillcolor": "#78DAF0",
         "hoverinfo": "none",
         "legendgroup": "S_Z",
         "line": {
          "color": "#128AA5",
          "width": 2
         },
         "name": "S_Z",
         "showlegend": false,
         "type": "scatter",
         "x": [
          1,
          3,
          3,
          1,
          1
         ],
         "y": [
          13,
          13,
          15,
          15,
          13
         ]
        },
        {
         "marker": {
          "color": "#474645",
          "size": 8
         },
         "mode": "markers",
         "name": "data",
         "showlegend": false,
         "type": "scatter",
         "x": [
          1,
          3,
          1,
          3
         ],
         "y": [
          15,
          15,
          13,
          13
         ]
        },
        {
         "fill": "toself",
         "fillcolor": "#E27985",
         "hoverinfo": "none",
         "legendgroup": "S_X",
         "line": {
          "color": "#CE2D40",
          "width": 2
         },
         "name": "S_X",
         "showlegend": false,
         "type": "scatter",
         "x": [
          3,
          5,
          5,
          3,
          3
         ],
         "y": [
          13,
          13,
          15,
          15,
          13
         ]
        },
        {
         "marker": {
          "color": "#474645",
          "size": 8
         },
         "mode": "markers",
         "name": "data",
         "showlegend": false,
         "type": "scatter",
         "x": [
          3,
          5,
          3,
          5
         ],
         "y": [
          15,
          15,
          13,
          13
         ]
        },
        {
         "fill": "toself",
         "fillcolor": "#78DAF0",
         "hoverinfo": "none",
         "legendgroup": "S_Z",
         "line": {
          "color": "#128AA5",
          "width": 2
         },
         "name": "S_Z",
         "showlegend": false,
         "type": "scatter",
         "x": [
          5,
          7,
          7,
          5,
          5
         ],
         "y": [
          13,
          13,
          15,
          15,
          13
         ]
        },
        {
         "marker": {
          "color": "#474645",
          "size": 8
         },
         "mode": "markers",
         "name": "data",
         "showlegend": false,
         "type": "scatter",
         "x": [
          5,
          7,
          5,
          7
         ],
         "y": [
          15,
          15,
          13,
          13
         ]
        },
        {
         "fill": "toself",
         "fillcolor": "#E27985",
         "hoverinfo": "none",
         "legendgroup": "S_X",
         "line": {
          "color": "#CE2D40",
          "width": 2
         },
         "name": "S_X",
         "showlegend": false,
         "type": "scatter",
         "x": [
          7,
          9,
          9,
          7,
          7
         ],
         "y": [
          13,
          13,
          15,
          15,
          13
         ]
        },
        {
         "marker": {
          "color": "#474645",
          "size": 8
         },
         "mode": "markers",
         "name": "data",
         "showlegend": false,
         "type": "scatter",
         "x": [
          7,
          9,
          7,
          9
         ],
         "y": [
          15,
          15,
          13,
          13
         ]
        },
        {
         "fill": "toself",
         "fillcolor": "#78DAF0",
         "hoverinfo": "none",
         "legendgroup": "S_Z",
         "line": {
          "color": "#128AA5",
          "width": 2
         },
         "name": "S_Z",
         "showlegend": false,
         "type": "scatter",
         "x": [
          9,
          11,
          11,
          9,
          9
         ],
         "y": [
          13,
          13,
          15,
          15,
          13
         ]
        },
        {
         "marker": {
          "color": "#474645",
          "size": 8
         },
         "mode": "markers",
         "name": "data",
         "showlegend": false,
         "type": "scatter",
         "x": [
          9,
          11,
          9,
          11
         ],
         "y": [
          15,
          15,
          13,
          13
         ]
        },
        {
         "fill": "toself",
         "fillcolor": "#E27985",
         "hoverinfo": "none",
         "legendgroup": "S_X",
         "line": {
          "color": "#CE2D40",
          "width": 2
         },
         "name": "S_X",
         "showlegend": false,
         "type": "scatter",
         "x": [
          11,
          13,
          13,
          11,
          11
         ],
         "y": [
          13,
          13,
          15,
          15,
          13
         ]
        },
        {
         "marker": {
          "color": "#474645",
          "size": 8
         },
         "mode": "markers",
         "name": "data",
         "showlegend": false,
         "type": "scatter",
         "x": [
          11,
          13,
          11,
          13
         ],
         "y": [
          15,
          15,
          13,
          13
         ]
        },
        {
         "fill": "toself",
         "fillcolor": "#E27985",
         "hoverinfo": "none",
         "legendgroup": "S_X",
         "line": {
          "color": "#CE2D40",
          "width": 2
         },
         "name": "S_X",
         "showlegend": false,
         "type": "scatter",
         "x": [
          13,
          15,
          15,
          13,
          13
         ],
         "y": [
          7,
          7,
          9,
          9,
          7
         ]
        },
        {
         "marker": {
          "color": "#474645",
          "size": 8
         },
         "mode": "markers",
         "name": "data",
         "showlegend": false,
         "type": "scatter",
         "x": [
          13,
          15,
          13,
          15
         ],
         "y": [
          9,
          9,
          7,
          7
         ]
        },
        {
         "fill": "toself",
         "fillcolor": "#E27985",
         "hoverinfo": "none",
         "legendgroup": "S_X",
         "line": {
          "color": "#CE2D40",
          "width": 2
         },
         "name": "S_X",
         "showlegend": false,
         "type": "scatter",
         "x": [
          1,
          3,
          3,
          1,
          1
         ],
         "y": [
          15,
          15,
          17,
          17,
          15
         ]
        },
        {
         "marker": {
          "color": "#474645",
          "size": 8
         },
         "mode": "markers",
         "name": "data",
         "showlegend": false,
         "type": "scatter",
         "x": [
          1,
          3,
          1,
          3
         ],
         "y": [
          17,
          17,
          15,
          15
         ]
        },
        {
         "fill": "toself",
         "fillcolor": "#78DAF0",
         "hoverinfo": "none",
         "legendgroup": "S_Z",
         "line": {
          "color": "#128AA5",
          "width": 2
         },
         "name": "S_Z",
         "showlegend": false,
         "type": "scatter",
         "x": [
          3,
          5,
          5,
          3,
          3
         ],
         "y": [
          15,
          15,
          17,
          17,
          15
         ]
        },
        {
         "marker": {
          "color": "#474645",
          "size": 8
         },
         "mode": "markers",
         "name": "data",
         "showlegend": false,
         "type": "scatter",
         "x": [
          3,
          5,
          3,
          5
         ],
         "y": [
          17,
          17,
          15,
          15
         ]
        },
        {
         "fill": "toself",
         "fillcolor": "#78DAF0",
         "hoverinfo": "none",
         "legendgroup": "S_Z",
         "line": {
          "color": "#128AA5",
          "width": 2
         },
         "name": "S_Z",
         "showlegend": false,
         "type": "scatter",
         "x": [
          7,
          9,
          9,
          7,
          7
         ],
         "y": [
          15,
          15,
          17,
          17,
          15
         ]
        },
        {
         "marker": {
          "color": "#474645",
          "size": 8
         },
         "mode": "markers",
         "name": "data",
         "showlegend": false,
         "type": "scatter",
         "x": [
          7,
          9,
          7,
          9
         ],
         "y": [
          17,
          17,
          15,
          15
         ]
        },
        {
         "fill": "toself",
         "fillcolor": "#E27985",
         "hoverinfo": "none",
         "legendgroup": "S_X",
         "line": {
          "color": "#CE2D40",
          "width": 2
         },
         "name": "S_X",
         "showlegend": false,
         "type": "scatter",
         "x": [
          9,
          11,
          11,
          9,
          9
         ],
         "y": [
          15,
          15,
          17,
          17,
          15
         ]
        },
        {
         "marker": {
          "color": "#474645",
          "size": 8
         },
         "mode": "markers",
         "name": "data",
         "showlegend": false,
         "type": "scatter",
         "x": [
          9,
          11,
          9,
          11
         ],
         "y": [
          17,
          17,
          15,
          15
         ]
        },
        {
         "fill": "toself",
         "fillcolor": "#E27985",
         "hoverinfo": "none",
         "legendgroup": "S_X",
         "line": {
          "color": "#CE2D40",
          "width": 2
         },
         "name": "S_X",
         "showlegend": false,
         "type": "scatter",
         "x": [
          15,
          17,
          17,
          15,
          15
         ],
         "y": [
          1,
          1,
          3,
          3,
          1
         ]
        },
        {
         "marker": {
          "color": "#474645",
          "size": 8
         },
         "mode": "markers",
         "name": "data",
         "showlegend": false,
         "type": "scatter",
         "x": [
          15,
          17,
          15,
          17
         ],
         "y": [
          3,
          3,
          1,
          1
         ]
        },
        {
         "fill": "toself",
         "fillcolor": "#E27985",
         "hoverinfo": "none",
         "legendgroup": "S_X",
         "line": {
          "color": "#CE2D40",
          "width": 2
         },
         "name": "S_X",
         "showlegend": false,
         "type": "scatter",
         "x": [
          15,
          17,
          17,
          15,
          15
         ],
         "y": [
          9,
          9,
          11,
          11,
          9
         ]
        },
        {
         "marker": {
          "color": "#474645",
          "size": 8
         },
         "mode": "markers",
         "name": "data",
         "showlegend": false,
         "type": "scatter",
         "x": [
          15,
          17,
          15,
          17
         ],
         "y": [
          11,
          11,
          9,
          9
         ]
        },
        {
         "fill": "toself",
         "fillcolor": "#E27985",
         "hoverinfo": "none",
         "legendgroup": "S_X",
         "line": {
          "color": "#CE2D40",
          "width": 2
         },
         "name": "S_X",
         "showlegend": false,
         "type": "scatter",
         "x": [
          15,
          17,
          17,
          15,
          15
         ],
         "y": [
          13,
          13,
          15,
          15,
          13
         ]
        },
        {
         "marker": {
          "color": "#474645",
          "size": 8
         },
         "mode": "markers",
         "name": "data",
         "showlegend": false,
         "type": "scatter",
         "x": [
          15,
          17,
          15,
          17
         ],
         "y": [
          15,
          15,
          13,
          13
         ]
        },
        {
         "fill": "toself",
         "fillcolor": "#EE8F6D",
         "hoverinfo": "none",
         "legendgroup": "S_X",
         "line": {
          "color": "#E55724",
          "width": 2
         },
         "name": "S_X",
         "showlegend": false,
         "type": "scatter",
         "x": [
          1,
          3,
          3,
          1,
          1
         ],
         "y": [
          3,
          3,
          5,
          5,
          3
         ]
        },
        {
         "marker": {
          "color": "#474645",
          "size": 8
         },
         "mode": "markers",
         "name": "data",
         "showlegend": false,
         "type": "scatter",
         "x": [
          1,
          3,
          1,
          3
         ],
         "y": [
          3,
          3,
          5,
          5
         ]
        },
        {
         "fill": "toself",
         "fillcolor": "#F1BB7E",
         "hoverinfo": "none",
         "legendgroup": "S_X",
         "line": {
          "color": "#DC8118",
          "width": 2
         },
         "name": "S_X",
         "showlegend": false,
         "type": "scatter",
         "x": [
          3,
          5,
          5,
          3,
          3
         ],
         "y": [
          1,
          1,
          3,
          3,
          1
         ]
        },
        {
         "marker": {
          "color": "#474645",
          "size": 8
         },
         "mode": "markers",
         "name": "data",
         "showlegend": false,
         "type": "scatter",
         "x": [
          3,
          5,
          3,
          5
         ],
         "y": [
          3,
          3,
          1,
          1
         ]
        },
        {
         "fill": "toself",
         "fillcolor": "#D49587",
         "hoverinfo": "none",
         "legendgroup": "S_X",
         "line": {
          "color": "#BD5E49",
          "width": 2
         },
         "name": "S_X",
         "showlegend": false,
         "type": "scatter",
         "x": [
          5,
          7,
          7,
          5,
          5
         ],
         "y": [
          15,
          15,
          17,
          17,
          15
         ]
        },
        {
         "marker": {
          "color": "#474645",
          "size": 8
         },
         "mode": "markers",
         "name": "data",
         "showlegend": false,
         "type": "scatter",
         "x": [
          5,
          7,
          5,
          7
         ],
         "y": [
          17,
          17,
          15,
          15
         ]
        },
        {
         "fill": "toself",
         "fillcolor": "#9C97FB",
         "hoverinfo": "none",
         "legendgroup": "S_Z",
         "line": {
          "color": "#564EF9",
          "width": 2
         },
         "name": "S_Z",
         "showlegend": false,
         "type": "scatter",
         "x": [
          9,
          11,
          11,
          9,
          9
         ],
         "y": [
          1,
          1,
          3,
          3,
          1
         ]
        },
        {
         "marker": {
          "color": "#474645",
          "size": 8
         },
         "mode": "markers",
         "name": "data",
         "showlegend": false,
         "type": "scatter",
         "x": [
          9,
          11,
          9,
          11
         ],
         "y": [
          3,
          3,
          1,
          1
         ]
        },
        {
         "fill": "toself",
         "fillcolor": "#D2AAF0",
         "hoverinfo": "none",
         "legendgroup": "S_Z",
         "line": {
          "color": "#A352E0",
          "width": 2
         },
         "name": "S_Z",
         "showlegend": false,
         "type": "scatter",
         "x": [
          11,
          13,
          13,
          11,
          11
         ],
         "y": [
          3,
          3,
          5,
          5,
          3
         ]
        },
        {
         "marker": {
          "color": "#474645",
          "size": 8
         },
         "mode": "markers",
         "name": "data",
         "showlegend": false,
         "type": "scatter",
         "x": [
          11,
          11,
          13,
          13
         ],
         "y": [
          3,
          5,
          5,
          3
         ]
        },
        {
         "fill": "toself",
         "fillcolor": "#D2AAF0",
         "hoverinfo": "none",
         "legendgroup": "S_Z",
         "line": {
          "color": "#A352E0",
          "width": 2
         },
         "name": "S_Z",
         "showlegend": false,
         "type": "scatter",
         "x": [
          15,
          17,
          17,
          15,
          15
         ],
         "y": [
          3,
          3,
          5,
          5,
          3
         ]
        },
        {
         "marker": {
          "color": "#474645",
          "size": 8
         },
         "mode": "markers",
         "name": "data",
         "showlegend": false,
         "type": "scatter",
         "x": [
          15,
          17,
          15,
          17
         ],
         "y": [
          5,
          5,
          3,
          3
         ]
        },
        {
         "fill": "toself",
         "fillcolor": "#B3BFD0",
         "hoverinfo": "none",
         "legendgroup": "S_Z",
         "line": {
          "color": "#5D7598",
          "width": 2
         },
         "name": "S_Z",
         "showlegend": false,
         "type": "scatter",
         "x": [
          13,
          15,
          15,
          13,
          13
         ],
         "y": [
          1,
          1,
          3,
          3,
          1
         ]
        },
        {
         "marker": {
          "color": "#474645",
          "size": 8
         },
         "mode": "markers",
         "name": "data",
         "showlegend": false,
         "type": "scatter",
         "x": [
          13,
          15,
          13,
          15
         ],
         "y": [
          3,
          3,
          1,
          1
         ]
        },
        {
         "fill": "toself",
         "fillcolor": "#D2AAF0",
         "hoverinfo": "none",
         "legendgroup": "S_Z",
         "line": {
          "color": "#A352E0",
          "width": 2
         },
         "name": "S_Z",
         "showlegend": false,
         "type": "scatter",
         "x": [
          11,
          13,
          13,
          11,
          11
         ],
         "y": [
          11,
          11,
          13,
          13,
          11
         ]
        },
        {
         "marker": {
          "color": "#474645",
          "size": 8
         },
         "mode": "markers",
         "name": "data",
         "showlegend": false,
         "type": "scatter",
         "x": [
          11,
          13,
          11,
          13
         ],
         "y": [
          13,
          13,
          11,
          11
         ]
        },
        {
         "fill": "toself",
         "fillcolor": "#9C97FB",
         "hoverinfo": "none",
         "legendgroup": "S_Z",
         "line": {
          "color": "#564EF9",
          "width": 2
         },
         "name": "S_Z",
         "showlegend": false,
         "type": "scatter",
         "x": [
          13,
          15,
          15,
          13,
          13
         ],
         "y": [
          13,
          13,
          15,
          15,
          13
         ]
        },
        {
         "marker": {
          "color": "#474645",
          "size": 8
         },
         "mode": "markers",
         "name": "data",
         "showlegend": false,
         "type": "scatter",
         "x": [
          13,
          13,
          15,
          15
         ],
         "y": [
          13,
          15,
          15,
          13
         ]
        },
        {
         "fill": "toself",
         "fillcolor": "#9C97FB",
         "hoverinfo": "none",
         "legendgroup": "S_Z",
         "line": {
          "color": "#564EF9",
          "width": 2
         },
         "name": "S_Z",
         "showlegend": false,
         "type": "scatter",
         "x": [
          13,
          15,
          15,
          13,
          13
         ],
         "y": [
          9,
          9,
          11,
          11,
          9
         ]
        },
        {
         "marker": {
          "color": "#474645",
          "size": 8
         },
         "mode": "markers",
         "name": "data",
         "showlegend": false,
         "type": "scatter",
         "x": [
          13,
          13,
          15,
          15
         ],
         "y": [
          9,
          11,
          11,
          9
         ]
        },
        {
         "fill": "toself",
         "fillcolor": "#B3BFD0",
         "hoverinfo": "none",
         "legendgroup": "S_Z",
         "line": {
          "color": "#5D7598",
          "width": 2
         },
         "name": "S_Z",
         "showlegend": false,
         "type": "scatter",
         "x": [
          15,
          17,
          17,
          15,
          15
         ],
         "y": [
          11,
          11,
          13,
          13,
          11
         ]
        },
        {
         "marker": {
          "color": "#474645",
          "size": 8
         },
         "mode": "markers",
         "name": "data",
         "showlegend": false,
         "type": "scatter",
         "x": [
          15,
          17,
          15,
          17
         ],
         "y": [
          13,
          13,
          11,
          11
         ]
        },
        {
         "fill": "toself",
         "fillcolor": "#7BB5EB",
         "hoverinfo": "none",
         "legendgroup": "S_Z",
         "line": {
          "color": "#207DD5",
          "width": 2
         },
         "name": "S_Z",
         "showlegend": false,
         "type": "scatter",
         "x": [
          15,
          17,
          17,
          15,
          15
         ],
         "y": [
          7,
          7,
          9,
          9,
          7
         ]
        },
        {
         "marker": {
          "color": "#474645",
          "size": 8
         },
         "mode": "markers",
         "name": "data",
         "showlegend": false,
         "type": "scatter",
         "x": [
          15,
          17,
          15,
          17
         ],
         "y": [
          9,
          9,
          7,
          7
         ]
        },
        {
         "fill": "toself",
         "fillcolor": "#78DAF0",
         "hoverinfo": "none",
         "legendgroup": "S_Z",
         "line": {
          "color": "#128AA5",
          "width": 2
         },
         "name": "S_Z",
         "showlegend": false,
         "type": "scatter",
         "x": [
          11,
          11,
          13,
          11
         ],
         "y": [
          17,
          15,
          15,
          17
         ]
        },
        {
         "marker": {
          "color": "#474645",
          "size": 8
         },
         "mode": "markers",
         "name": "data",
         "showlegend": false,
         "type": "scatter",
         "x": [
          11,
          11,
          13
         ],
         "y": [
          17,
          15,
          15
         ]
        },
        {
         "fill": "toself",
         "fillcolor": "#78DAF0",
         "hoverinfo": "none",
         "legendgroup": "S_Z",
         "line": {
          "color": "#128AA5",
          "width": 2
         },
         "name": "S_Z",
         "showlegend": false,
         "type": "scatter",
         "x": [
          17,
          15,
          17,
          17
         ],
         "y": [
          17,
          15,
          15,
          17
         ]
        },
        {
         "marker": {
          "color": "#474645",
          "size": 8
         },
         "mode": "markers",
         "name": "data",
         "showlegend": false,
         "type": "scatter",
         "x": [
          17,
          15,
          17
         ],
         "y": [
          17,
          15,
          15
         ]
        },
        {
         "fill": "toself",
         "fillcolor": "#EE8F6D",
         "hoverinfo": "none",
         "legendgroup": "S_X",
         "line": {
          "color": "#E55724",
          "width": 2
         },
         "name": "S_X",
         "showlegend": false,
         "type": "scatter",
         "x": [
          5,
          5,
          7,
          5
         ],
         "y": [
          7,
          9,
          9,
          7
         ]
        },
        {
         "marker": {
          "color": "#474645",
          "size": 8
         },
         "mode": "markers",
         "name": "data",
         "showlegend": false,
         "type": "scatter",
         "x": [
          5,
          5,
          7
         ],
         "y": [
          7,
          9,
          9
         ]
        },
        {
         "fill": "toself",
         "fillcolor": "#EE8F6D",
         "hoverinfo": "none",
         "legendgroup": "S_X",
         "line": {
          "color": "#E55724",
          "width": 2
         },
         "name": "S_X",
         "showlegend": false,
         "type": "scatter",
         "x": [
          5,
          5,
          7,
          5
         ],
         "y": [
          3,
          5,
          3,
          3
         ]
        },
        {
         "marker": {
          "color": "#474645",
          "size": 8
         },
         "mode": "markers",
         "name": "data",
         "showlegend": false,
         "type": "scatter",
         "x": [
          5,
          5,
          7
         ],
         "y": [
          3,
          5,
          3
         ]
        },
        {
         "fill": "toself",
         "fillcolor": "#B3BFD0",
         "hoverinfo": "none",
         "legendgroup": "S_Z",
         "line": {
          "color": "#5D7598",
          "width": 2
         },
         "name": "S_Z",
         "showlegend": false,
         "type": "scatter",
         "x": [
          1,
          3,
          1,
          1
         ],
         "y": [
          5,
          5,
          7,
          5
         ]
        },
        {
         "marker": {
          "color": "#474645",
          "size": 8
         },
         "mode": "markers",
         "name": "data",
         "showlegend": false,
         "type": "scatter",
         "x": [
          1,
          3,
          1
         ],
         "y": [
          5,
          5,
          7
         ]
        },
        {
         "fill": "toself",
         "fillcolor": "#B3BFD0",
         "hoverinfo": "none",
         "legendgroup": "S_Z",
         "line": {
          "color": "#5D7598",
          "width": 2
         },
         "name": "S_Z",
         "showlegend": false,
         "type": "scatter",
         "x": [
          5,
          3,
          5,
          5
         ],
         "y": [
          7,
          9,
          9,
          7
         ]
        },
        {
         "marker": {
          "color": "#474645",
          "size": 8
         },
         "mode": "markers",
         "name": "data",
         "showlegend": false,
         "type": "scatter",
         "x": [
          5,
          3,
          5
         ],
         "y": [
          7,
          9,
          9
         ]
        },
        {
         "fill": "toself",
         "fillcolor": "#D49587",
         "hoverinfo": "none",
         "legendgroup": "S_X",
         "line": {
          "color": "#BD5E49",
          "width": 2
         },
         "name": "S_X",
         "showlegend": false,
         "type": "scatter",
         "x": [
          3,
          5,
          5,
          3
         ],
         "y": [
          5,
          5,
          7,
          5
         ]
        },
        {
         "marker": {
          "color": "#474645",
          "size": 8
         },
         "mode": "markers",
         "name": "data",
         "showlegend": false,
         "type": "scatter",
         "x": [
          3,
          5,
          5
         ],
         "y": [
          5,
          5,
          7
         ]
        },
        {
         "fill": "toself",
         "fillcolor": "#D49587",
         "hoverinfo": "none",
         "legendgroup": "S_X",
         "line": {
          "color": "#BD5E49",
          "width": 2
         },
         "name": "S_X",
         "showlegend": false,
         "type": "scatter",
         "x": [
          1,
          1,
          3,
          1
         ],
         "y": [
          7,
          9,
          9,
          7
         ]
        },
        {
         "marker": {
          "color": "#474645",
          "size": 8
         },
         "mode": "markers",
         "name": "data",
         "showlegend": false,
         "type": "scatter",
         "x": [
          1,
          1,
          3
         ],
         "y": [
          7,
          9,
          9
         ]
        },
        {
         "fill": "toself",
         "fillcolor": "#D2AAF0",
         "hoverinfo": "none",
         "legendgroup": "S_Z",
         "line": {
          "color": "#A352E0",
          "width": 2
         },
         "name": "S_Z",
         "showlegend": false,
         "type": "scatter",
         "x": [
          7,
          9,
          9,
          7
         ],
         "y": [
          3,
          5,
          3,
          3
         ]
        },
        {
         "marker": {
          "color": "#474645",
          "size": 8
         },
         "mode": "markers",
         "name": "data",
         "showlegend": false,
         "type": "scatter",
         "x": [
          7,
          9,
          9
         ],
         "y": [
          3,
          5,
          3
         ]
        },
        {
         "fill": "toself",
         "fillcolor": "#D2AAF0",
         "hoverinfo": "none",
         "legendgroup": "S_Z",
         "line": {
          "color": "#A352E0",
          "width": 2
         },
         "name": "S_Z",
         "showlegend": false,
         "type": "scatter",
         "x": [
          7,
          9,
          9,
          7
         ],
         "y": [
          9,
          9,
          7,
          9
         ]
        },
        {
         "marker": {
          "color": "#474645",
          "size": 8
         },
         "mode": "markers",
         "name": "data",
         "showlegend": false,
         "type": "scatter",
         "x": [
          7,
          9,
          9
         ],
         "y": [
          9,
          9,
          7
         ]
        },
        {
         "fill": "toself",
         "fillcolor": "#9C97FB",
         "hoverinfo": "none",
         "legendgroup": "S_Z",
         "line": {
          "color": "#564EF9",
          "width": 2
         },
         "name": "S_Z",
         "showlegend": false,
         "type": "scatter",
         "x": [
          5,
          5,
          7,
          5
         ],
         "y": [
          11,
          9,
          9,
          11
         ]
        },
        {
         "marker": {
          "color": "#474645",
          "size": 8
         },
         "mode": "markers",
         "name": "data",
         "showlegend": false,
         "type": "scatter",
         "x": [
          5,
          5,
          7
         ],
         "y": [
          11,
          9,
          9
         ]
        },
        {
         "fill": "toself",
         "fillcolor": "#9C97FB",
         "hoverinfo": "none",
         "legendgroup": "S_Z",
         "line": {
          "color": "#564EF9",
          "width": 2
         },
         "name": "S_Z",
         "showlegend": false,
         "type": "scatter",
         "x": [
          9,
          7,
          9,
          9
         ],
         "y": [
          11,
          13,
          13,
          11
         ]
        },
        {
         "marker": {
          "color": "#474645",
          "size": 8
         },
         "mode": "markers",
         "name": "data",
         "showlegend": false,
         "type": "scatter",
         "x": [
          9,
          7,
          9
         ],
         "y": [
          11,
          13,
          13
         ]
        },
        {
         "fill": "toself",
         "fillcolor": "#EE8F6D",
         "hoverinfo": "none",
         "legendgroup": "S_X",
         "line": {
          "color": "#E55724",
          "width": 2
         },
         "name": "S_X",
         "showlegend": false,
         "type": "scatter",
         "x": [
          9,
          9,
          7,
          9
         ],
         "y": [
          11,
          9,
          9,
          11
         ]
        },
        {
         "marker": {
          "color": "#474645",
          "size": 8
         },
         "mode": "markers",
         "name": "data",
         "showlegend": false,
         "type": "scatter",
         "x": [
          9,
          9,
          7
         ],
         "y": [
          11,
          9,
          9
         ]
        },
        {
         "fill": "toself",
         "fillcolor": "#EE8F6D",
         "hoverinfo": "none",
         "legendgroup": "S_X",
         "line": {
          "color": "#E55724",
          "width": 2
         },
         "name": "S_X",
         "showlegend": false,
         "type": "scatter",
         "x": [
          5,
          7,
          5,
          5
         ],
         "y": [
          13,
          13,
          11,
          13
         ]
        },
        {
         "marker": {
          "color": "#474645",
          "size": 8
         },
         "mode": "markers",
         "name": "data",
         "showlegend": false,
         "type": "scatter",
         "x": [
          5,
          7,
          5
         ],
         "y": [
          13,
          13,
          11
         ]
        },
        {
         "fill": "toself",
         "fillcolor": "#E27985",
         "hoverinfo": "none",
         "legendgroup": "S_X",
         "line": {
          "color": "#CE2D40",
          "width": 2
         },
         "name": "S_X",
         "showlegend": false,
         "type": "scatter",
         "x": [
          0,
          1,
          1,
          0
         ],
         "y": [
          2,
          3,
          1,
          2
         ]
        },
        {
         "marker": {
          "color": "#474645",
          "size": 8
         },
         "mode": "markers",
         "name": "data",
         "showlegend": false,
         "type": "scatter",
         "x": [
          1,
          1
         ],
         "y": [
          3,
          1
         ]
        },
        {
         "fill": "toself",
         "fillcolor": "#78DAF0",
         "hoverinfo": "none",
         "legendgroup": "S_Z",
         "line": {
          "color": "#128AA5",
          "width": 2
         },
         "name": "S_Z",
         "showlegend": false,
         "type": "scatter",
         "x": [
          4,
          3,
          5,
          4
         ],
         "y": [
          0,
          1,
          1,
          0
         ]
        },
        {
         "marker": {
          "color": "#474645",
          "size": 8
         },
         "mode": "markers",
         "name": "data",
         "showlegend": false,
         "type": "scatter",
         "x": [
          3,
          5
         ],
         "y": [
          1,
          1
         ]
        },
        {
         "fill": "toself",
         "fillcolor": "#E27985",
         "hoverinfo": "none",
         "legendgroup": "S_X",
         "line": {
          "color": "#CE2D40",
          "width": 2
         },
         "name": "S_X",
         "showlegend": false,
         "type": "scatter",
         "x": [
          0,
          1,
          1,
          0
         ],
         "y": [
          6,
          7,
          5,
          6
         ]
        },
        {
         "marker": {
          "color": "#474645",
          "size": 8
         },
         "mode": "markers",
         "name": "data",
         "showlegend": false,
         "type": "scatter",
         "x": [
          1,
          1
         ],
         "y": [
          7,
          5
         ]
        },
        {
         "fill": "toself",
         "fillcolor": "#78DAF0",
         "hoverinfo": "none",
         "legendgroup": "S_Z",
         "line": {
          "color": "#128AA5",
          "width": 2
         },
         "name": "S_Z",
         "showlegend": false,
         "type": "scatter",
         "x": [
          8,
          7,
          9,
          8
         ],
         "y": [
          0,
          1,
          1,
          0
         ]
        },
        {
         "marker": {
          "color": "#474645",
          "size": 8
         },
         "mode": "markers",
         "name": "data",
         "showlegend": false,
         "type": "scatter",
         "x": [
          7,
          9
         ],
         "y": [
          1,
          1
         ]
        },
        {
         "fill": "toself",
         "fillcolor": "#E27985",
         "hoverinfo": "none",
         "legendgroup": "S_X",
         "line": {
          "color": "#CE2D40",
          "width": 2
         },
         "name": "S_X",
         "showlegend": false,
         "type": "scatter",
         "x": [
          0,
          1,
          1,
          0
         ],
         "y": [
          10,
          11,
          9,
          10
         ]
        },
        {
         "marker": {
          "color": "#474645",
          "size": 8
         },
         "mode": "markers",
         "name": "data",
         "showlegend": false,
         "type": "scatter",
         "x": [
          1,
          1
         ],
         "y": [
          11,
          9
         ]
        },
        {
         "fill": "toself",
         "fillcolor": "#E27985",
         "hoverinfo": "none",
         "legendgroup": "S_X",
         "line": {
          "color": "#CE2D40",
          "width": 2
         },
         "name": "S_X",
         "showlegend": false,
         "type": "scatter",
         "x": [
          0,
          1,
          1,
          0
         ],
         "y": [
          14,
          15,
          13,
          14
         ]
        },
        {
         "marker": {
          "color": "#474645",
          "size": 8
         },
         "mode": "markers",
         "name": "data",
         "showlegend": false,
         "type": "scatter",
         "x": [
          1,
          1
         ],
         "y": [
          15,
          13
         ]
        },
        {
         "fill": "toself",
         "fillcolor": "#78DAF0",
         "hoverinfo": "none",
         "legendgroup": "S_Z",
         "line": {
          "color": "#128AA5",
          "width": 2
         },
         "name": "S_Z",
         "showlegend": false,
         "type": "scatter",
         "x": [
          16,
          15,
          17,
          16
         ],
         "y": [
          0,
          1,
          1,
          0
         ]
        },
        {
         "marker": {
          "color": "#474645",
          "size": 8
         },
         "mode": "markers",
         "name": "data",
         "showlegend": false,
         "type": "scatter",
         "x": [
          15,
          17
         ],
         "y": [
          1,
          1
         ]
        },
        {
         "fill": "toself",
         "fillcolor": "#78DAF0",
         "hoverinfo": "none",
         "legendgroup": "S_Z",
         "line": {
          "color": "#128AA5",
          "width": 2
         },
         "name": "S_Z",
         "showlegend": false,
         "type": "scatter",
         "x": [
          2,
          1,
          3,
          2
         ],
         "y": [
          18,
          17,
          17,
          18
         ]
        },
        {
         "marker": {
          "color": "#474645",
          "size": 8
         },
         "mode": "markers",
         "name": "data",
         "showlegend": false,
         "type": "scatter",
         "x": [
          1,
          3
         ],
         "y": [
          17,
          17
         ]
        },
        {
         "fill": "toself",
         "fillcolor": "#78DAF0",
         "hoverinfo": "none",
         "legendgroup": "S_Z",
         "line": {
          "color": "#128AA5",
          "width": 2
         },
         "name": "S_Z",
         "showlegend": false,
         "type": "scatter",
         "x": [
          10,
          9,
          11,
          10
         ],
         "y": [
          18,
          17,
          17,
          18
         ]
        },
        {
         "marker": {
          "color": "#474645",
          "size": 8
         },
         "mode": "markers",
         "name": "data",
         "showlegend": false,
         "type": "scatter",
         "x": [
          9,
          11
         ],
         "y": [
          17,
          17
         ]
        },
        {
         "fill": "toself",
         "fillcolor": "#E27985",
         "hoverinfo": "none",
         "legendgroup": "S_X",
         "line": {
          "color": "#CE2D40",
          "width": 2
         },
         "name": "S_X",
         "showlegend": false,
         "type": "scatter",
         "x": [
          18,
          17,
          17,
          18
         ],
         "y": [
          4,
          5,
          3,
          4
         ]
        },
        {
         "marker": {
          "color": "#474645",
          "size": 8
         },
         "mode": "markers",
         "name": "data",
         "showlegend": false,
         "type": "scatter",
         "x": [
          17,
          17
         ],
         "y": [
          5,
          3
         ]
        },
        {
         "fill": "toself",
         "fillcolor": "#E27985",
         "hoverinfo": "none",
         "legendgroup": "S_X",
         "line": {
          "color": "#CE2D40",
          "width": 2
         },
         "name": "S_X",
         "showlegend": false,
         "type": "scatter",
         "x": [
          18,
          17,
          17,
          18
         ],
         "y": [
          8,
          9,
          7,
          8
         ]
        },
        {
         "marker": {
          "color": "#474645",
          "size": 8
         },
         "mode": "markers",
         "name": "data",
         "showlegend": false,
         "type": "scatter",
         "x": [
          17,
          17
         ],
         "y": [
          9,
          7
         ]
        },
        {
         "fill": "toself",
         "fillcolor": "#E27985",
         "hoverinfo": "none",
         "legendgroup": "S_X",
         "line": {
          "color": "#CE2D40",
          "width": 2
         },
         "name": "S_X",
         "showlegend": false,
         "type": "scatter",
         "x": [
          18,
          17,
          17,
          18
         ],
         "y": [
          12,
          13,
          11,
          12
         ]
        },
        {
         "marker": {
          "color": "#474645",
          "size": 8
         },
         "mode": "markers",
         "name": "data",
         "showlegend": false,
         "type": "scatter",
         "x": [
          17,
          17
         ],
         "y": [
          13,
          11
         ]
        },
        {
         "fill": "toself",
         "fillcolor": "#E27985",
         "hoverinfo": "none",
         "legendgroup": "S_X",
         "line": {
          "color": "#CE2D40",
          "width": 2
         },
         "name": "S_X",
         "showlegend": false,
         "type": "scatter",
         "x": [
          18,
          17,
          17,
          18
         ],
         "y": [
          16,
          17,
          15,
          16
         ]
        },
        {
         "marker": {
          "color": "#474645",
          "size": 8
         },
         "mode": "markers",
         "name": "data",
         "showlegend": false,
         "type": "scatter",
         "x": [
          17,
          17
         ],
         "y": [
          17,
          15
         ]
        },
        {
         "fill": "toself",
         "fillcolor": "#EE8F6D",
         "hoverinfo": "none",
         "legendgroup": "S_X",
         "line": {
          "color": "#E55724",
          "width": 2
         },
         "name": "S_X",
         "showlegend": false,
         "type": "scatter",
         "x": [
          8,
          9,
          9,
          8
         ],
         "y": [
          6,
          7,
          5,
          6
         ]
        },
        {
         "marker": {
          "color": "#474645",
          "size": 8
         },
         "mode": "markers",
         "name": "data",
         "showlegend": false,
         "type": "scatter",
         "x": [
          9,
          9
         ],
         "y": [
          7,
          5
         ]
        },
        {
         "fill": "toself",
         "fillcolor": "#7BB5EB",
         "hoverinfo": "none",
         "legendgroup": "S_Z",
         "line": {
          "color": "#207DD5",
          "width": 2
         },
         "name": "S_Z",
         "showlegend": false,
         "type": "scatter",
         "x": [
          4,
          5,
          3,
          4
         ],
         "y": [
          6,
          5,
          5,
          6
         ]
        },
        {
         "marker": {
          "color": "#474645",
          "size": 8
         },
         "mode": "markers",
         "name": "data",
         "showlegend": false,
         "type": "scatter",
         "x": [
          5,
          3
         ],
         "y": [
          5,
          5
         ]
        },
        {
         "fill": "toself",
         "fillcolor": "#7BB5EB",
         "hoverinfo": "none",
         "legendgroup": "S_Z",
         "line": {
          "color": "#207DD5",
          "width": 2
         },
         "name": "S_Z",
         "showlegend": false,
         "type": "scatter",
         "x": [
          4,
          5,
          3,
          4
         ],
         "y": [
          2,
          3,
          3,
          2
         ]
        },
        {
         "marker": {
          "color": "#474645",
          "size": 8
         },
         "mode": "markers",
         "name": "data",
         "showlegend": false,
         "type": "scatter",
         "x": [
          5,
          3
         ],
         "y": [
          3,
          3
         ]
        },
        {
         "fill": "toself",
         "fillcolor": "#D2AAF0",
         "hoverinfo": "none",
         "legendgroup": "S_Z",
         "line": {
          "color": "#A352E0",
          "width": 2
         },
         "name": "S_Z",
         "showlegend": false,
         "type": "scatter",
         "x": [
          6,
          5,
          5,
          6
         ],
         "y": [
          6,
          7,
          5,
          6
         ]
        },
        {
         "marker": {
          "color": "#474645",
          "size": 8
         },
         "mode": "markers",
         "name": "data",
         "showlegend": false,
         "type": "scatter",
         "x": [
          5,
          5
         ],
         "y": [
          7,
          5
         ]
        },
        {
         "fill": "toself",
         "fillcolor": "#D2AAF0",
         "hoverinfo": "none",
         "legendgroup": "S_Z",
         "line": {
          "color": "#A352E0",
          "width": 2
         },
         "name": "S_Z",
         "showlegend": false,
         "type": "scatter",
         "x": [
          6,
          7,
          5,
          6
         ],
         "y": [
          16,
          17,
          17,
          16
         ]
        },
        {
         "marker": {
          "color": "#474645",
          "size": 8
         },
         "mode": "markers",
         "name": "data",
         "showlegend": false,
         "type": "scatter",
         "x": [
          7,
          5
         ],
         "y": [
          17,
          17
         ]
        },
        {
         "fill": "toself",
         "fillcolor": "#D49587",
         "hoverinfo": "none",
         "legendgroup": "S_X",
         "line": {
          "color": "#BD5E49",
          "width": 2
         },
         "name": "S_X",
         "showlegend": false,
         "type": "scatter",
         "x": [
          10,
          11,
          11,
          10
         ],
         "y": [
          2,
          3,
          1,
          2
         ]
        },
        {
         "marker": {
          "color": "#474645",
          "size": 8
         },
         "mode": "markers",
         "name": "data",
         "showlegend": false,
         "type": "scatter",
         "x": [
          11,
          11
         ],
         "y": [
          3,
          1
         ]
        },
        {
         "fill": "toself",
         "fillcolor": "#D49587",
         "hoverinfo": "none",
         "legendgroup": "S_X",
         "line": {
          "color": "#BD5E49",
          "width": 2
         },
         "name": "S_X",
         "showlegend": false,
         "type": "scatter",
         "x": [
          14,
          13,
          13,
          14
         ],
         "y": [
          2,
          3,
          1,
          2
         ]
        },
        {
         "marker": {
          "color": "#474645",
          "size": 8
         },
         "mode": "markers",
         "name": "data",
         "showlegend": false,
         "type": "scatter",
         "x": [
          13,
          13
         ],
         "y": [
          3,
          1
         ]
        },
        {
         "fill": "toself",
         "fillcolor": "#D2AAF0",
         "hoverinfo": "none",
         "legendgroup": "S_Z",
         "line": {
          "color": "#A352E0",
          "width": 2
         },
         "name": "S_Z",
         "showlegend": false,
         "type": "scatter",
         "x": [
          12,
          11,
          13,
          12
         ],
         "y": [
          0,
          1,
          1,
          0
         ]
        },
        {
         "marker": {
          "color": "#474645",
          "size": 8
         },
         "mode": "markers",
         "name": "data",
         "showlegend": false,
         "type": "scatter",
         "x": [
          11,
          13
         ],
         "y": [
          1,
          1
         ]
        },
        {
         "fill": "toself",
         "fillcolor": "#EE8F6D",
         "hoverinfo": "none",
         "legendgroup": "S_X",
         "line": {
          "color": "#E55724",
          "width": 2
         },
         "name": "S_X",
         "showlegend": false,
         "type": "scatter",
         "x": [
          12,
          13,
          13,
          12
         ],
         "y": [
          12,
          13,
          11,
          12
         ]
        },
        {
         "marker": {
          "color": "#474645",
          "size": 8
         },
         "mode": "markers",
         "name": "data",
         "showlegend": false,
         "type": "scatter",
         "x": [
          13,
          13
         ],
         "y": [
          13,
          11
         ]
        },
        {
         "fill": "toself",
         "fillcolor": "#EE8F6D",
         "hoverinfo": "none",
         "legendgroup": "S_X",
         "line": {
          "color": "#E55724",
          "width": 2
         },
         "name": "S_X",
         "showlegend": false,
         "type": "scatter",
         "x": [
          16,
          15,
          15,
          16
         ],
         "y": [
          12,
          13,
          11,
          12
         ]
        },
        {
         "marker": {
          "color": "#474645",
          "size": 8
         },
         "mode": "markers",
         "name": "data",
         "showlegend": false,
         "type": "scatter",
         "x": [
          15,
          15
         ],
         "y": [
          13,
          11
         ]
        },
        {
         "fill": "toself",
         "fillcolor": "#C9A769",
         "hoverinfo": "none",
         "legendgroup": "S_X",
         "line": {
          "color": "#A5803B",
          "width": 2
         },
         "name": "S_X",
         "showlegend": false,
         "type": "scatter",
         "x": [
          14,
          15,
          13,
          14
         ],
         "y": [
          6,
          5,
          5,
          6
         ]
        },
        {
         "marker": {
          "color": "#474645",
          "size": 8
         },
         "mode": "markers",
         "name": "data",
         "showlegend": false,
         "type": "scatter",
         "x": [
          15,
          13
         ],
         "y": [
          5,
          5
         ]
        },
        {
         "fill": "toself",
         "fillcolor": "#C9A769",
         "hoverinfo": "none",
         "legendgroup": "S_X",
         "line": {
          "color": "#A5803B",
          "width": 2
         },
         "name": "S_X",
         "showlegend": false,
         "type": "scatter",
         "x": [
          14,
          15,
          13,
          14
         ],
         "y": [
          4,
          3,
          3,
          4
         ]
        },
        {
         "marker": {
          "color": "#474645",
          "size": 8
         },
         "mode": "markers",
         "name": "data",
         "showlegend": false,
         "type": "scatter",
         "x": [
          15,
          13
         ],
         "y": [
          3,
          3
         ]
        },
        {
         "fill": "toself",
         "fillcolor": "#EE8F6D",
         "hoverinfo": "none",
         "legendgroup": "S_X",
         "line": {
          "color": "#E55724",
          "width": 2
         },
         "name": "S_X",
         "showlegend": false,
         "type": "scatter",
         "x": [
          16,
          17,
          15,
          16
         ],
         "y": [
          4,
          5,
          5,
          4
         ]
        },
        {
         "marker": {
          "color": "#474645",
          "size": 8
         },
         "mode": "markers",
         "name": "data",
         "showlegend": false,
         "type": "scatter",
         "x": [
          17,
          15
         ],
         "y": [
          5,
          5
         ]
        },
        {
         "fill": "toself",
         "fillcolor": "#F1BB7E",
         "hoverinfo": "none",
         "legendgroup": "S_X",
         "line": {
          "color": "#DC8118",
          "width": 2
         },
         "name": "S_X",
         "showlegend": false,
         "type": "scatter",
         "x": [
          16,
          17,
          15,
          16
         ],
         "y": [
          8,
          7,
          7,
          8
         ]
        },
        {
         "marker": {
          "color": "#474645",
          "size": 8
         },
         "mode": "markers",
         "name": "data",
         "showlegend": false,
         "type": "scatter",
         "x": [
          17,
          15
         ],
         "y": [
          7,
          7
         ]
        },
        {
         "hoverlabel": {
          "namelength": -1
         },
         "marker": {
          "color": "#787776",
          "size": 10
         },
         "mode": "markers",
         "name": "Ancilla XX",
         "showlegend": false,
         "type": "scatter",
         "x": [
          0
         ],
         "y": [
          2
         ]
        },
        {
         "hoverlabel": {
          "namelength": -1
         },
         "marker": {
          "color": "#787776",
          "size": 10
         },
         "mode": "markers",
         "name": "Ancilla ZZZZ",
         "showlegend": false,
         "type": "scatter",
         "x": [
          2
         ],
         "y": [
          2
         ]
        },
        {
         "hoverlabel": {
          "namelength": -1
         },
         "marker": {
          "color": "#787776",
          "size": 10
         },
         "mode": "markers",
         "name": "Ancilla ZZ",
         "showlegend": false,
         "type": "scatter",
         "x": [
          4
         ],
         "y": [
          0
         ]
        },
        {
         "hoverlabel": {
          "namelength": -1
         },
         "marker": {
          "color": "#787776",
          "size": 10
         },
         "mode": "markers",
         "name": "Ancilla XX",
         "showlegend": false,
         "type": "scatter",
         "x": [
          0
         ],
         "y": [
          6
         ]
        },
        {
         "hoverlabel": {
          "namelength": -1
         },
         "marker": {
          "color": "#787776",
          "size": 10
         },
         "mode": "markers",
         "name": "Ancilla ZZZZ",
         "showlegend": false,
         "type": "scatter",
         "x": [
          6
         ],
         "y": [
          2
         ]
        },
        {
         "hoverlabel": {
          "namelength": -1
         },
         "marker": {
          "color": "#787776",
          "size": 10
         },
         "mode": "markers",
         "name": "Ancilla ZZ",
         "showlegend": false,
         "type": "scatter",
         "x": [
          8
         ],
         "y": [
          0
         ]
        },
        {
         "hoverlabel": {
          "namelength": -1
         },
         "marker": {
          "color": "#787776",
          "size": 10
         },
         "mode": "markers",
         "name": "Ancilla XXXX",
         "showlegend": false,
         "type": "scatter",
         "x": [
          8
         ],
         "y": [
          2
         ]
        },
        {
         "hoverlabel": {
          "namelength": -1
         },
         "marker": {
          "color": "#787776",
          "size": 10
         },
         "mode": "markers",
         "name": "Ancilla XX",
         "showlegend": false,
         "type": "scatter",
         "x": [
          0
         ],
         "y": [
          10
         ]
        },
        {
         "hoverlabel": {
          "namelength": -1
         },
         "marker": {
          "color": "#787776",
          "size": 10
         },
         "mode": "markers",
         "name": "Ancilla ZZZZ",
         "showlegend": false,
         "type": "scatter",
         "x": [
          2
         ],
         "y": [
          10
         ]
        },
        {
         "hoverlabel": {
          "namelength": -1
         },
         "marker": {
          "color": "#787776",
          "size": 10
         },
         "mode": "markers",
         "name": "Ancilla XXXX",
         "showlegend": false,
         "type": "scatter",
         "x": [
          4
         ],
         "y": [
          10
         ]
        },
        {
         "hoverlabel": {
          "namelength": -1
         },
         "marker": {
          "color": "#787776",
          "size": 10
         },
         "mode": "markers",
         "name": "Ancilla XXXX",
         "showlegend": false,
         "type": "scatter",
         "x": [
          10
         ],
         "y": [
          4
         ]
        },
        {
         "hoverlabel": {
          "namelength": -1
         },
         "marker": {
          "color": "#787776",
          "size": 10
         },
         "mode": "markers",
         "name": "Ancilla ZZZZ",
         "showlegend": false,
         "type": "scatter",
         "x": [
          10
         ],
         "y": [
          6
         ]
        },
        {
         "hoverlabel": {
          "namelength": -1
         },
         "marker": {
          "color": "#787776",
          "size": 10
         },
         "mode": "markers",
         "name": "Ancilla XXXX",
         "showlegend": false,
         "type": "scatter",
         "x": [
          10
         ],
         "y": [
          8
         ]
        },
        {
         "hoverlabel": {
          "namelength": -1
         },
         "marker": {
          "color": "#787776",
          "size": 10
         },
         "mode": "markers",
         "name": "Ancilla ZZZZ",
         "showlegend": false,
         "type": "scatter",
         "x": [
          10
         ],
         "y": [
          10
         ]
        },
        {
         "hoverlabel": {
          "namelength": -1
         },
         "marker": {
          "color": "#787776",
          "size": 10
         },
         "mode": "markers",
         "name": "Ancilla XXXX",
         "showlegend": false,
         "type": "scatter",
         "x": [
          2
         ],
         "y": [
          12
         ]
        },
        {
         "hoverlabel": {
          "namelength": -1
         },
         "marker": {
          "color": "#787776",
          "size": 10
         },
         "mode": "markers",
         "name": "Ancilla ZZZZ",
         "showlegend": false,
         "type": "scatter",
         "x": [
          4
         ],
         "y": [
          12
         ]
        },
        {
         "hoverlabel": {
          "namelength": -1
         },
         "marker": {
          "color": "#787776",
          "size": 10
         },
         "mode": "markers",
         "name": "Ancilla XXXX",
         "showlegend": false,
         "type": "scatter",
         "x": [
          10
         ],
         "y": [
          12
         ]
        },
        {
         "hoverlabel": {
          "namelength": -1
         },
         "marker": {
          "color": "#787776",
          "size": 10
         },
         "mode": "markers",
         "name": "Ancilla XXXX",
         "showlegend": false,
         "type": "scatter",
         "x": [
          12
         ],
         "y": [
          6
         ]
        },
        {
         "hoverlabel": {
          "namelength": -1
         },
         "marker": {
          "color": "#787776",
          "size": 10
         },
         "mode": "markers",
         "name": "Ancilla ZZZZ",
         "showlegend": false,
         "type": "scatter",
         "x": [
          12
         ],
         "y": [
          8
         ]
        },
        {
         "hoverlabel": {
          "namelength": -1
         },
         "marker": {
          "color": "#787776",
          "size": 10
         },
         "mode": "markers",
         "name": "Ancilla XXXX",
         "showlegend": false,
         "type": "scatter",
         "x": [
          12
         ],
         "y": [
          10
         ]
        },
        {
         "hoverlabel": {
          "namelength": -1
         },
         "marker": {
          "color": "#787776",
          "size": 10
         },
         "mode": "markers",
         "name": "Ancilla XX",
         "showlegend": false,
         "type": "scatter",
         "x": [
          0
         ],
         "y": [
          14
         ]
        },
        {
         "hoverlabel": {
          "namelength": -1
         },
         "marker": {
          "color": "#787776",
          "size": 10
         },
         "mode": "markers",
         "name": "Ancilla ZZZZ",
         "showlegend": false,
         "type": "scatter",
         "x": [
          2
         ],
         "y": [
          14
         ]
        },
        {
         "hoverlabel": {
          "namelength": -1
         },
         "marker": {
          "color": "#787776",
          "size": 10
         },
         "mode": "markers",
         "name": "Ancilla XXXX",
         "showlegend": false,
         "type": "scatter",
         "x": [
          4
         ],
         "y": [
          14
         ]
        },
        {
         "hoverlabel": {
          "namelength": -1
         },
         "marker": {
          "color": "#787776",
          "size": 10
         },
         "mode": "markers",
         "name": "Ancilla ZZZZ",
         "showlegend": false,
         "type": "scatter",
         "x": [
          6
         ],
         "y": [
          14
         ]
        },
        {
         "hoverlabel": {
          "namelength": -1
         },
         "marker": {
          "color": "#787776",
          "size": 10
         },
         "mode": "markers",
         "name": "Ancilla XXXX",
         "showlegend": false,
         "type": "scatter",
         "x": [
          8
         ],
         "y": [
          14
         ]
        },
        {
         "hoverlabel": {
          "namelength": -1
         },
         "marker": {
          "color": "#787776",
          "size": 10
         },
         "mode": "markers",
         "name": "Ancilla ZZZZ",
         "showlegend": false,
         "type": "scatter",
         "x": [
          10
         ],
         "y": [
          14
         ]
        },
        {
         "hoverlabel": {
          "namelength": -1
         },
         "marker": {
          "color": "#787776",
          "size": 10
         },
         "mode": "markers",
         "name": "Ancilla XXXX",
         "showlegend": false,
         "type": "scatter",
         "x": [
          12
         ],
         "y": [
          14
         ]
        },
        {
         "hoverlabel": {
          "namelength": -1
         },
         "marker": {
          "color": "#787776",
          "size": 10
         },
         "mode": "markers",
         "name": "Ancilla XXXX",
         "showlegend": false,
         "type": "scatter",
         "x": [
          14
         ],
         "y": [
          8
         ]
        },
        {
         "hoverlabel": {
          "namelength": -1
         },
         "marker": {
          "color": "#787776",
          "size": 10
         },
         "mode": "markers",
         "name": "Ancilla XXXX",
         "showlegend": false,
         "type": "scatter",
         "x": [
          2
         ],
         "y": [
          16
         ]
        },
        {
         "hoverlabel": {
          "namelength": -1
         },
         "marker": {
          "color": "#787776",
          "size": 10
         },
         "mode": "markers",
         "name": "Ancilla ZZZZ",
         "showlegend": false,
         "type": "scatter",
         "x": [
          4
         ],
         "y": [
          16
         ]
        },
        {
         "hoverlabel": {
          "namelength": -1
         },
         "marker": {
          "color": "#787776",
          "size": 10
         },
         "mode": "markers",
         "name": "Ancilla ZZZZ",
         "showlegend": false,
         "type": "scatter",
         "x": [
          8
         ],
         "y": [
          16
         ]
        },
        {
         "hoverlabel": {
          "namelength": -1
         },
         "marker": {
          "color": "#787776",
          "size": 10
         },
         "mode": "markers",
         "name": "Ancilla XXXX",
         "showlegend": false,
         "type": "scatter",
         "x": [
          10
         ],
         "y": [
          16
         ]
        },
        {
         "hoverlabel": {
          "namelength": -1
         },
         "marker": {
          "color": "#787776",
          "size": 10
         },
         "mode": "markers",
         "name": "Ancilla ZZZ",
         "showlegend": false,
         "type": "scatter",
         "x": [
          12
         ],
         "y": [
          16
         ]
        },
        {
         "hoverlabel": {
          "namelength": -1
         },
         "marker": {
          "color": "#787776",
          "size": 10
         },
         "mode": "markers",
         "name": "Ancilla ZZ",
         "showlegend": false,
         "type": "scatter",
         "x": [
          16
         ],
         "y": [
          0
         ]
        },
        {
         "hoverlabel": {
          "namelength": -1
         },
         "marker": {
          "color": "#787776",
          "size": 10
         },
         "mode": "markers",
         "name": "Ancilla XXXX",
         "showlegend": false,
         "type": "scatter",
         "x": [
          16
         ],
         "y": [
          2
         ]
        },
        {
         "hoverlabel": {
          "namelength": -1
         },
         "marker": {
          "color": "#787776",
          "size": 10
         },
         "mode": "markers",
         "name": "Ancilla XXXX",
         "showlegend": false,
         "type": "scatter",
         "x": [
          16
         ],
         "y": [
          10
         ]
        },
        {
         "hoverlabel": {
          "namelength": -1
         },
         "marker": {
          "color": "#787776",
          "size": 10
         },
         "mode": "markers",
         "name": "Ancilla XXXX",
         "showlegend": false,
         "type": "scatter",
         "x": [
          16
         ],
         "y": [
          14
         ]
        },
        {
         "hoverlabel": {
          "namelength": -1
         },
         "marker": {
          "color": "#787776",
          "size": 10
         },
         "mode": "markers",
         "name": "Ancilla ZZZ",
         "showlegend": false,
         "type": "scatter",
         "x": [
          16
         ],
         "y": [
          16
         ]
        },
        {
         "hoverlabel": {
          "namelength": -1
         },
         "marker": {
          "color": "#787776",
          "size": 10
         },
         "mode": "markers",
         "name": "Ancilla ZZ",
         "showlegend": false,
         "type": "scatter",
         "x": [
          2
         ],
         "y": [
          18
         ]
        },
        {
         "hoverlabel": {
          "namelength": -1
         },
         "marker": {
          "color": "#787776",
          "size": 10
         },
         "mode": "markers",
         "name": "Ancilla ZZ",
         "showlegend": false,
         "type": "scatter",
         "x": [
          10
         ],
         "y": [
          18
         ]
        },
        {
         "hoverlabel": {
          "namelength": -1
         },
         "marker": {
          "color": "#787776",
          "size": 10
         },
         "mode": "markers",
         "name": "Ancilla XX",
         "showlegend": false,
         "type": "scatter",
         "x": [
          18
         ],
         "y": [
          4
         ]
        },
        {
         "hoverlabel": {
          "namelength": -1
         },
         "marker": {
          "color": "#787776",
          "size": 10
         },
         "mode": "markers",
         "name": "Ancilla XX",
         "showlegend": false,
         "type": "scatter",
         "x": [
          18
         ],
         "y": [
          8
         ]
        },
        {
         "hoverlabel": {
          "namelength": -1
         },
         "marker": {
          "color": "#787776",
          "size": 10
         },
         "mode": "markers",
         "name": "Ancilla XX",
         "showlegend": false,
         "type": "scatter",
         "x": [
          18
         ],
         "y": [
          12
         ]
        },
        {
         "hoverlabel": {
          "namelength": -1
         },
         "marker": {
          "color": "#787776",
          "size": 10
         },
         "mode": "markers",
         "name": "Ancilla XX",
         "showlegend": false,
         "type": "scatter",
         "x": [
          18
         ],
         "y": [
          16
         ]
        },
        {
         "hoverlabel": {
          "namelength": -1
         },
         "marker": {
          "color": "#787776",
          "size": 10
         },
         "mode": "markers",
         "name": "Ancilla XXX",
         "showlegend": false,
         "type": "scatter",
         "x": [
          6
         ],
         "y": [
          8
         ]
        },
        {
         "hoverlabel": {
          "namelength": -1
         },
         "marker": {
          "color": "#787776",
          "size": 10
         },
         "mode": "markers",
         "name": "Ancilla XX",
         "showlegend": false,
         "type": "scatter",
         "x": [
          8
         ],
         "y": [
          6
         ]
        },
        {
         "hoverlabel": {
          "namelength": -1
         },
         "marker": {
          "color": "#787776",
          "size": 10
         },
         "mode": "markers",
         "name": "Ancilla XXX",
         "showlegend": false,
         "type": "scatter",
         "x": [
          6
         ],
         "y": [
          4
         ]
        },
        {
         "hoverlabel": {
          "namelength": -1
         },
         "marker": {
          "color": "#787776",
          "size": 10
         },
         "mode": "markers",
         "name": "Ancilla XXXX",
         "showlegend": false,
         "type": "scatter",
         "x": [
          2
         ],
         "y": [
          4
         ]
        },
        {
         "hoverlabel": {
          "namelength": -1
         },
         "marker": {
          "color": "#787776",
          "size": 10
         },
         "mode": "markers",
         "name": "Ancilla ZZ,XXX",
         "showlegend": false,
         "type": "scatter",
         "x": [
          4
         ],
         "y": [
          6
         ]
        },
        {
         "hoverlabel": {
          "namelength": -1
         },
         "marker": {
          "color": "#787776",
          "size": 10
         },
         "mode": "markers",
         "name": "Ancilla ZZ,XXXX",
         "showlegend": false,
         "type": "scatter",
         "x": [
          4
         ],
         "y": [
          2
         ]
        },
        {
         "hoverlabel": {
          "namelength": -1
         },
         "marker": {
          "color": "#787776",
          "size": 10
         },
         "mode": "markers",
         "name": "Ancilla ZZZ",
         "showlegend": false,
         "type": "scatter",
         "x": [
          2
         ],
         "y": [
          6
         ]
        },
        {
         "hoverlabel": {
          "namelength": -1
         },
         "marker": {
          "color": "#787776",
          "size": 10
         },
         "mode": "markers",
         "name": "Ancilla ZZZ",
         "showlegend": false,
         "type": "scatter",
         "x": [
          4
         ],
         "y": [
          8
         ]
        },
        {
         "hoverlabel": {
          "namelength": -1
         },
         "marker": {
          "color": "#787776",
          "size": 10
         },
         "mode": "markers",
         "name": "Ancilla XXX",
         "showlegend": false,
         "type": "scatter",
         "x": [
          2
         ],
         "y": [
          8
         ]
        },
        {
         "hoverlabel": {
          "namelength": -1
         },
         "marker": {
          "color": "#787776",
          "size": 10
         },
         "mode": "markers",
         "name": "Ancilla ZZZ",
         "showlegend": false,
         "type": "scatter",
         "x": [
          8
         ],
         "y": [
          4
         ]
        },
        {
         "hoverlabel": {
          "namelength": -1
         },
         "marker": {
          "color": "#787776",
          "size": 10
         },
         "mode": "markers",
         "name": "Ancilla ZZ",
         "showlegend": false,
         "type": "scatter",
         "x": [
          6
         ],
         "y": [
          6
         ]
        },
        {
         "hoverlabel": {
          "namelength": -1
         },
         "marker": {
          "color": "#787776",
          "size": 10
         },
         "mode": "markers",
         "name": "Ancilla ZZZ",
         "showlegend": false,
         "type": "scatter",
         "x": [
          8
         ],
         "y": [
          8
         ]
        },
        {
         "hoverlabel": {
          "namelength": -1
         },
         "marker": {
          "color": "#787776",
          "size": 10
         },
         "mode": "markers",
         "name": "Ancilla ZZZ",
         "showlegend": false,
         "type": "scatter",
         "x": [
          6
         ],
         "y": [
          10
         ]
        },
        {
         "hoverlabel": {
          "namelength": -1
         },
         "marker": {
          "color": "#787776",
          "size": 10
         },
         "mode": "markers",
         "name": "Ancilla ZZZ",
         "showlegend": false,
         "type": "scatter",
         "x": [
          8
         ],
         "y": [
          12
         ]
        },
        {
         "hoverlabel": {
          "namelength": -1
         },
         "marker": {
          "color": "#787776",
          "size": 10
         },
         "mode": "markers",
         "name": "Ancilla XXX",
         "showlegend": false,
         "type": "scatter",
         "x": [
          8
         ],
         "y": [
          10
         ]
        },
        {
         "hoverlabel": {
          "namelength": -1
         },
         "marker": {
          "color": "#787776",
          "size": 10
         },
         "mode": "markers",
         "name": "Ancilla XXX",
         "showlegend": false,
         "type": "scatter",
         "x": [
          6
         ],
         "y": [
          12
         ]
        },
        {
         "hoverlabel": {
          "namelength": -1
         },
         "marker": {
          "color": "#787776",
          "size": 10
         },
         "mode": "markers",
         "name": "Ancilla ZZ,XXXX",
         "showlegend": false,
         "type": "scatter",
         "x": [
          6
         ],
         "y": [
          16
         ]
        },
        {
         "hoverlabel": {
          "namelength": -1
         },
         "marker": {
          "color": "#787776",
          "size": 10
         },
         "mode": "markers",
         "name": "Ancilla ZZZZ,XX",
         "showlegend": false,
         "type": "scatter",
         "x": [
          10
         ],
         "y": [
          2
         ]
        },
        {
         "hoverlabel": {
          "namelength": -1
         },
         "marker": {
          "color": "#787776",
          "size": 10
         },
         "mode": "markers",
         "name": "Ancilla XX,ZZZZ",
         "showlegend": false,
         "type": "scatter",
         "x": [
          14
         ],
         "y": [
          2
         ]
        },
        {
         "hoverlabel": {
          "namelength": -1
         },
         "marker": {
          "color": "#787776",
          "size": 10
         },
         "mode": "markers",
         "name": "Ancilla ZZZZ",
         "showlegend": false,
         "type": "scatter",
         "x": [
          12
         ],
         "y": [
          4
         ]
        },
        {
         "hoverlabel": {
          "namelength": -1
         },
         "marker": {
          "color": "#787776",
          "size": 10
         },
         "mode": "markers",
         "name": "Ancilla ZZ",
         "showlegend": false,
         "type": "scatter",
         "x": [
          12
         ],
         "y": [
          0
         ]
        },
        {
         "hoverlabel": {
          "namelength": -1
         },
         "marker": {
          "color": "#787776",
          "size": 10
         },
         "mode": "markers",
         "name": "Ancilla ZZZZ,XX",
         "showlegend": false,
         "type": "scatter",
         "x": [
          16
         ],
         "y": [
          4
         ]
        },
        {
         "hoverlabel": {
          "namelength": -1
         },
         "marker": {
          "color": "#787776",
          "size": 10
         },
         "mode": "markers",
         "name": "Ancilla XX,ZZZZ",
         "showlegend": false,
         "type": "scatter",
         "x": [
          12
         ],
         "y": [
          12
         ]
        },
        {
         "hoverlabel": {
          "namelength": -1
         },
         "marker": {
          "color": "#787776",
          "size": 10
         },
         "mode": "markers",
         "name": "Ancilla XX,ZZZZ",
         "showlegend": false,
         "type": "scatter",
         "x": [
          16
         ],
         "y": [
          12
         ]
        },
        {
         "hoverlabel": {
          "namelength": -1
         },
         "marker": {
          "color": "#787776",
          "size": 10
         },
         "mode": "markers",
         "name": "Ancilla ZZZZ",
         "showlegend": false,
         "type": "scatter",
         "x": [
          14
         ],
         "y": [
          14
         ]
        },
        {
         "hoverlabel": {
          "namelength": -1
         },
         "marker": {
          "color": "#787776",
          "size": 10
         },
         "mode": "markers",
         "name": "Ancilla ZZZZ",
         "showlegend": false,
         "type": "scatter",
         "x": [
          14
         ],
         "y": [
          10
         ]
        },
        {
         "hoverlabel": {
          "namelength": -1
         },
         "marker": {
          "color": "#787776",
          "size": 10
         },
         "mode": "markers",
         "name": "Ancilla XX",
         "showlegend": false,
         "type": "scatter",
         "x": [
          14
         ],
         "y": [
          6
         ]
        },
        {
         "hoverlabel": {
          "namelength": -1
         },
         "marker": {
          "color": "#787776",
          "size": 10
         },
         "mode": "markers",
         "name": "Ancilla XX",
         "showlegend": false,
         "type": "scatter",
         "x": [
          14
         ],
         "y": [
          4
         ]
        },
        {
         "hoverlabel": {
          "namelength": -1
         },
         "marker": {
          "color": "#787776",
          "size": 10
         },
         "mode": "markers",
         "name": "Ancilla XX,ZZZZ",
         "showlegend": false,
         "type": "scatter",
         "x": [
          16
         ],
         "y": [
          8
         ]
        },
        {
         "legendgroup": "Z_L",
         "line": {
          "color": "#128AA5",
          "width": 4
         },
         "name": "Z_L",
         "showlegend": false,
         "type": "scatter",
         "x": [
          1,
          1,
          1,
          1,
          1,
          1,
          1,
          1,
          1
         ],
         "y": [
          17,
          15,
          13,
          11,
          9,
          7,
          5,
          3,
          1
         ]
        },
        {
         "legendgroup": "X_L",
         "line": {
          "color": "#CE2D40",
          "width": 4
         },
         "name": "X_L",
         "showlegend": false,
         "type": "scatter",
         "x": [
          1,
          3,
          5,
          7,
          9,
          11,
          13,
          15,
          17
         ],
         "y": [
          1,
          1,
          1,
          1,
          1,
          1,
          1,
          1,
          1
         ]
        },
        {
         "legendgroup": "Z_L",
         "line": {
          "color": "#128AA5",
          "width": 4
         },
         "name": "Z_L",
         "showlegend": true,
         "type": "scatter",
         "x": [
          17,
          17,
          17,
          15,
          13,
          13,
          15,
          17,
          17,
          17,
          17,
          17,
          17
         ],
         "y": [
          1,
          3,
          5,
          5,
          5,
          7,
          7,
          7,
          9,
          11,
          13,
          15,
          17
         ]
        },
        {
         "legendgroup": "X_L",
         "line": {
          "color": "#CE2D40",
          "width": 4
         },
         "name": "X_L",
         "showlegend": true,
         "type": "scatter",
         "x": [
          17,
          15,
          13,
          11,
          9,
          7,
          5,
          3,
          1
         ],
         "y": [
          17,
          15,
          15,
          17,
          17,
          17,
          17,
          17,
          17
         ]
        },
        {
         "marker": {
          "color": "red",
          "size": 12,
          "symbol": "x"
         },
         "mode": "markers",
         "name": "qubit defect",
         "showlegend": false,
         "type": "scatter",
         "x": [
          7,
          6,
          15,
          3,
          16,
          4,
          12,
          7,
          14
         ],
         "y": [
          11,
          18,
          17,
          7,
          6,
          4,
          2,
          5,
          12
         ]
        },
        {
         "line": {
          "color": "red",
          "dash": "dot",
          "width": 2
         },
         "mode": "lines",
         "name": "link defect",
         "showlegend": false,
         "type": "scatter",
         "x": [
          14,
          14.5,
          15
         ],
         "y": [
          6,
          6.5,
          7
         ]
        },
        {
         "line": {
          "color": "red",
          "dash": "dot",
          "width": 2
         },
         "mode": "lines",
         "name": "link defect",
         "showlegend": false,
         "type": "scatter",
         "x": [
          6,
          6.5,
          7
         ],
         "y": [
          6,
          6.5,
          7
         ]
        },
        {
         "line": {
          "color": "red",
          "dash": "dot",
          "width": 2
         },
         "mode": "lines",
         "name": "link defect",
         "showlegend": false,
         "type": "scatter",
         "x": [
          14,
          13.5,
          13
         ],
         "y": [
          4,
          4.5,
          5
         ]
        }
       ],
       "layout": {
        "autosize": false,
        "template": {
         "data": {
          "bar": [
           {
            "error_x": {
             "color": "#2a3f5f"
            },
            "error_y": {
             "color": "#2a3f5f"
            },
            "marker": {
             "line": {
              "color": "#E5ECF6",
              "width": 0.5
             },
             "pattern": {
              "fillmode": "overlay",
              "size": 10,
              "solidity": 0.2
             }
            },
            "type": "bar"
           }
          ],
          "barpolar": [
           {
            "marker": {
             "line": {
              "color": "#E5ECF6",
              "width": 0.5
             },
             "pattern": {
              "fillmode": "overlay",
              "size": 10,
              "solidity": 0.2
             }
            },
            "type": "barpolar"
           }
          ],
          "carpet": [
           {
            "aaxis": {
             "endlinecolor": "#2a3f5f",
             "gridcolor": "white",
             "linecolor": "white",
             "minorgridcolor": "white",
             "startlinecolor": "#2a3f5f"
            },
            "baxis": {
             "endlinecolor": "#2a3f5f",
             "gridcolor": "white",
             "linecolor": "white",
             "minorgridcolor": "white",
             "startlinecolor": "#2a3f5f"
            },
            "type": "carpet"
           }
          ],
          "choropleth": [
           {
            "colorbar": {
             "outlinewidth": 0,
             "ticks": ""
            },
            "type": "choropleth"
           }
          ],
          "contour": [
           {
            "colorbar": {
             "outlinewidth": 0,
             "ticks": ""
            },
            "colorscale": [
             [
              0,
              "#0d0887"
             ],
             [
              0.1111111111111111,
              "#46039f"
             ],
             [
              0.2222222222222222,
              "#7201a8"
             ],
             [
              0.3333333333333333,
              "#9c179e"
             ],
             [
              0.4444444444444444,
              "#bd3786"
             ],
             [
              0.5555555555555556,
              "#d8576b"
             ],
             [
              0.6666666666666666,
              "#ed7953"
             ],
             [
              0.7777777777777778,
              "#fb9f3a"
             ],
             [
              0.8888888888888888,
              "#fdca26"
             ],
             [
              1,
              "#f0f921"
             ]
            ],
            "type": "contour"
           }
          ],
          "contourcarpet": [
           {
            "colorbar": {
             "outlinewidth": 0,
             "ticks": ""
            },
            "type": "contourcarpet"
           }
          ],
          "heatmap": [
           {
            "colorbar": {
             "outlinewidth": 0,
             "ticks": ""
            },
            "colorscale": [
             [
              0,
              "#0d0887"
             ],
             [
              0.1111111111111111,
              "#46039f"
             ],
             [
              0.2222222222222222,
              "#7201a8"
             ],
             [
              0.3333333333333333,
              "#9c179e"
             ],
             [
              0.4444444444444444,
              "#bd3786"
             ],
             [
              0.5555555555555556,
              "#d8576b"
             ],
             [
              0.6666666666666666,
              "#ed7953"
             ],
             [
              0.7777777777777778,
              "#fb9f3a"
             ],
             [
              0.8888888888888888,
              "#fdca26"
             ],
             [
              1,
              "#f0f921"
             ]
            ],
            "type": "heatmap"
           }
          ],
          "heatmapgl": [
           {
            "colorbar": {
             "outlinewidth": 0,
             "ticks": ""
            },
            "colorscale": [
             [
              0,
              "#0d0887"
             ],
             [
              0.1111111111111111,
              "#46039f"
             ],
             [
              0.2222222222222222,
              "#7201a8"
             ],
             [
              0.3333333333333333,
              "#9c179e"
             ],
             [
              0.4444444444444444,
              "#bd3786"
             ],
             [
              0.5555555555555556,
              "#d8576b"
             ],
             [
              0.6666666666666666,
              "#ed7953"
             ],
             [
              0.7777777777777778,
              "#fb9f3a"
             ],
             [
              0.8888888888888888,
              "#fdca26"
             ],
             [
              1,
              "#f0f921"
             ]
            ],
            "type": "heatmapgl"
           }
          ],
          "histogram": [
           {
            "marker": {
             "pattern": {
              "fillmode": "overlay",
              "size": 10,
              "solidity": 0.2
             }
            },
            "type": "histogram"
           }
          ],
          "histogram2d": [
           {
            "colorbar": {
             "outlinewidth": 0,
             "ticks": ""
            },
            "colorscale": [
             [
              0,
              "#0d0887"
             ],
             [
              0.1111111111111111,
              "#46039f"
             ],
             [
              0.2222222222222222,
              "#7201a8"
             ],
             [
              0.3333333333333333,
              "#9c179e"
             ],
             [
              0.4444444444444444,
              "#bd3786"
             ],
             [
              0.5555555555555556,
              "#d8576b"
             ],
             [
              0.6666666666666666,
              "#ed7953"
             ],
             [
              0.7777777777777778,
              "#fb9f3a"
             ],
             [
              0.8888888888888888,
              "#fdca26"
             ],
             [
              1,
              "#f0f921"
             ]
            ],
            "type": "histogram2d"
           }
          ],
          "histogram2dcontour": [
           {
            "colorbar": {
             "outlinewidth": 0,
             "ticks": ""
            },
            "colorscale": [
             [
              0,
              "#0d0887"
             ],
             [
              0.1111111111111111,
              "#46039f"
             ],
             [
              0.2222222222222222,
              "#7201a8"
             ],
             [
              0.3333333333333333,
              "#9c179e"
             ],
             [
              0.4444444444444444,
              "#bd3786"
             ],
             [
              0.5555555555555556,
              "#d8576b"
             ],
             [
              0.6666666666666666,
              "#ed7953"
             ],
             [
              0.7777777777777778,
              "#fb9f3a"
             ],
             [
              0.8888888888888888,
              "#fdca26"
             ],
             [
              1,
              "#f0f921"
             ]
            ],
            "type": "histogram2dcontour"
           }
          ],
          "mesh3d": [
           {
            "colorbar": {
             "outlinewidth": 0,
             "ticks": ""
            },
            "type": "mesh3d"
           }
          ],
          "parcoords": [
           {
            "line": {
             "colorbar": {
              "outlinewidth": 0,
              "ticks": ""
             }
            },
            "type": "parcoords"
           }
          ],
          "pie": [
           {
            "automargin": true,
            "type": "pie"
           }
          ],
          "scatter": [
           {
            "fillpattern": {
             "fillmode": "overlay",
             "size": 10,
             "solidity": 0.2
            },
            "type": "scatter"
           }
          ],
          "scatter3d": [
           {
            "line": {
             "colorbar": {
              "outlinewidth": 0,
              "ticks": ""
             }
            },
            "marker": {
             "colorbar": {
              "outlinewidth": 0,
              "ticks": ""
             }
            },
            "type": "scatter3d"
           }
          ],
          "scattercarpet": [
           {
            "marker": {
             "colorbar": {
              "outlinewidth": 0,
              "ticks": ""
             }
            },
            "type": "scattercarpet"
           }
          ],
          "scattergeo": [
           {
            "marker": {
             "colorbar": {
              "outlinewidth": 0,
              "ticks": ""
             }
            },
            "type": "scattergeo"
           }
          ],
          "scattergl": [
           {
            "marker": {
             "colorbar": {
              "outlinewidth": 0,
              "ticks": ""
             }
            },
            "type": "scattergl"
           }
          ],
          "scattermapbox": [
           {
            "marker": {
             "colorbar": {
              "outlinewidth": 0,
              "ticks": ""
             }
            },
            "type": "scattermapbox"
           }
          ],
          "scatterpolar": [
           {
            "marker": {
             "colorbar": {
              "outlinewidth": 0,
              "ticks": ""
             }
            },
            "type": "scatterpolar"
           }
          ],
          "scatterpolargl": [
           {
            "marker": {
             "colorbar": {
              "outlinewidth": 0,
              "ticks": ""
             }
            },
            "type": "scatterpolargl"
           }
          ],
          "scatterternary": [
           {
            "marker": {
             "colorbar": {
              "outlinewidth": 0,
              "ticks": ""
             }
            },
            "type": "scatterternary"
           }
          ],
          "surface": [
           {
            "colorbar": {
             "outlinewidth": 0,
             "ticks": ""
            },
            "colorscale": [
             [
              0,
              "#0d0887"
             ],
             [
              0.1111111111111111,
              "#46039f"
             ],
             [
              0.2222222222222222,
              "#7201a8"
             ],
             [
              0.3333333333333333,
              "#9c179e"
             ],
             [
              0.4444444444444444,
              "#bd3786"
             ],
             [
              0.5555555555555556,
              "#d8576b"
             ],
             [
              0.6666666666666666,
              "#ed7953"
             ],
             [
              0.7777777777777778,
              "#fb9f3a"
             ],
             [
              0.8888888888888888,
              "#fdca26"
             ],
             [
              1,
              "#f0f921"
             ]
            ],
            "type": "surface"
           }
          ],
          "table": [
           {
            "cells": {
             "fill": {
              "color": "#EBF0F8"
             },
             "line": {
              "color": "white"
             }
            },
            "header": {
             "fill": {
              "color": "#C8D4E3"
             },
             "line": {
              "color": "white"
             }
            },
            "type": "table"
           }
          ]
         },
         "layout": {
          "annotationdefaults": {
           "arrowcolor": "#2a3f5f",
           "arrowhead": 0,
           "arrowwidth": 1
          },
          "autotypenumbers": "strict",
          "coloraxis": {
           "colorbar": {
            "outlinewidth": 0,
            "ticks": ""
           }
          },
          "colorscale": {
           "diverging": [
            [
             0,
             "#8e0152"
            ],
            [
             0.1,
             "#c51b7d"
            ],
            [
             0.2,
             "#de77ae"
            ],
            [
             0.3,
             "#f1b6da"
            ],
            [
             0.4,
             "#fde0ef"
            ],
            [
             0.5,
             "#f7f7f7"
            ],
            [
             0.6,
             "#e6f5d0"
            ],
            [
             0.7,
             "#b8e186"
            ],
            [
             0.8,
             "#7fbc41"
            ],
            [
             0.9,
             "#4d9221"
            ],
            [
             1,
             "#276419"
            ]
           ],
           "sequential": [
            [
             0,
             "#0d0887"
            ],
            [
             0.1111111111111111,
             "#46039f"
            ],
            [
             0.2222222222222222,
             "#7201a8"
            ],
            [
             0.3333333333333333,
             "#9c179e"
            ],
            [
             0.4444444444444444,
             "#bd3786"
            ],
            [
             0.5555555555555556,
             "#d8576b"
            ],
            [
             0.6666666666666666,
             "#ed7953"
            ],
            [
             0.7777777777777778,
             "#fb9f3a"
            ],
            [
             0.8888888888888888,
             "#fdca26"
            ],
            [
             1,
             "#f0f921"
            ]
           ],
           "sequentialminus": [
            [
             0,
             "#0d0887"
            ],
            [
             0.1111111111111111,
             "#46039f"
            ],
            [
             0.2222222222222222,
             "#7201a8"
            ],
            [
             0.3333333333333333,
             "#9c179e"
            ],
            [
             0.4444444444444444,
             "#bd3786"
            ],
            [
             0.5555555555555556,
             "#d8576b"
            ],
            [
             0.6666666666666666,
             "#ed7953"
            ],
            [
             0.7777777777777778,
             "#fb9f3a"
            ],
            [
             0.8888888888888888,
             "#fdca26"
            ],
            [
             1,
             "#f0f921"
            ]
           ]
          },
          "colorway": [
           "#636efa",
           "#EF553B",
           "#00cc96",
           "#ab63fa",
           "#FFA15A",
           "#19d3f3",
           "#FF6692",
           "#B6E880",
           "#FF97FF",
           "#FECB52"
          ],
          "font": {
           "color": "#2a3f5f"
          },
          "geo": {
           "bgcolor": "white",
           "lakecolor": "white",
           "landcolor": "#E5ECF6",
           "showlakes": true,
           "showland": true,
           "subunitcolor": "white"
          },
          "hoverlabel": {
           "align": "left"
          },
          "hovermode": "closest",
          "mapbox": {
           "style": "light"
          },
          "paper_bgcolor": "white",
          "plot_bgcolor": "#E5ECF6",
          "polar": {
           "angularaxis": {
            "gridcolor": "white",
            "linecolor": "white",
            "ticks": ""
           },
           "bgcolor": "#E5ECF6",
           "radialaxis": {
            "gridcolor": "white",
            "linecolor": "white",
            "ticks": ""
           }
          },
          "scene": {
           "xaxis": {
            "backgroundcolor": "#E5ECF6",
            "gridcolor": "white",
            "gridwidth": 2,
            "linecolor": "white",
            "showbackground": true,
            "ticks": "",
            "zerolinecolor": "white"
           },
           "yaxis": {
            "backgroundcolor": "#E5ECF6",
            "gridcolor": "white",
            "gridwidth": 2,
            "linecolor": "white",
            "showbackground": true,
            "ticks": "",
            "zerolinecolor": "white"
           },
           "zaxis": {
            "backgroundcolor": "#E5ECF6",
            "gridcolor": "white",
            "gridwidth": 2,
            "linecolor": "white",
            "showbackground": true,
            "ticks": "",
            "zerolinecolor": "white"
           }
          },
          "shapedefaults": {
           "line": {
            "color": "#2a3f5f"
           }
          },
          "ternary": {
           "aaxis": {
            "gridcolor": "white",
            "linecolor": "white",
            "ticks": ""
           },
           "baxis": {
            "gridcolor": "white",
            "linecolor": "white",
            "ticks": ""
           },
           "bgcolor": "#E5ECF6",
           "caxis": {
            "gridcolor": "white",
            "linecolor": "white",
            "ticks": ""
           }
          },
          "title": {
           "x": 0.05
          },
          "xaxis": {
           "automargin": true,
           "gridcolor": "white",
           "linecolor": "white",
           "ticks": "",
           "title": {
            "standoff": 15
           },
           "zerolinecolor": "white",
           "zerolinewidth": 2
          },
          "yaxis": {
           "automargin": true,
           "gridcolor": "white",
           "linecolor": "white",
           "ticks": "",
           "title": {
            "standoff": 15
           },
           "zerolinecolor": "white",
           "zerolinewidth": 2
          }
         }
        },
        "width": 800,
        "xaxis": {
         "showgrid": false
        },
        "yaxis": {
         "scaleanchor": "x",
         "showgrid": false
        }
       }
      }
     },
     "metadata": {},
     "output_type": "display_data"
    }
   ],
   "source": [
    "plot(damaged_patch)"
   ]
  },
  {
   "cell_type": "markdown",
   "id": "971edaf2",
   "metadata": {},
   "source": [
    "## Making subpatches"
   ]
  },
  {
   "cell_type": "code",
   "execution_count": 16,
   "id": "bac5dbf7",
   "metadata": {},
   "outputs": [
    {
     "name": "stdout",
     "output_type": "stream",
     "text": [
      "Found 1 defect clusters.\n",
      "Strategy dropped: Had frozen qubit (3, 13) along boundary (probably due to an invalid corner placement).\n",
      "Strategy dropped: Had frozen qubit (3, 9) along boundary (probably due to an invalid corner placement).\n",
      "Strategy dropped: Had frozen qubit (3, 13) along boundary (probably due to an invalid corner placement).\n",
      "Strategy dropped: Had frozen qubit (3, 9) along boundary (probably due to an invalid corner placement).\n",
      "Strategy dropped: Had frozen qubit (3, 13) along boundary (probably due to an invalid corner placement).\n",
      "Strategy dropped: Had frozen qubit (3, 9) along boundary (probably due to an invalid corner placement).\n"
     ]
    },
    {
     "data": {
      "application/vnd.plotly.v1+json": {
       "config": {
        "plotlyServerURL": "https://plot.ly"
       },
       "data": [
        {
         "marker": {
          "color": "#474645",
          "size": 8
         },
         "mode": "markers",
         "name": "qubit",
         "showlegend": false,
         "type": "scatter",
         "x": [
          1,
          1,
          1,
          1,
          1,
          1,
          1,
          3,
          3,
          3,
          3,
          3,
          3,
          3,
          5,
          5,
          5,
          5,
          5,
          5,
          5,
          7,
          7,
          7,
          7,
          7,
          7,
          7,
          9,
          9,
          9,
          9,
          9,
          9,
          9,
          11,
          11,
          11,
          11,
          11,
          11,
          11,
          13,
          13,
          13,
          13,
          13,
          13,
          13
         ],
         "y": [
          1,
          3,
          5,
          7,
          9,
          11,
          13,
          1,
          3,
          5,
          7,
          9,
          11,
          13,
          1,
          3,
          5,
          7,
          9,
          11,
          13,
          1,
          3,
          5,
          7,
          9,
          11,
          13,
          1,
          3,
          5,
          7,
          9,
          11,
          13,
          1,
          3,
          5,
          7,
          9,
          11,
          13,
          1,
          3,
          5,
          7,
          9,
          11,
          13
         ]
        },
        {
         "marker": {
          "color": "#787776",
          "size": 10
         },
         "mode": "markers",
         "name": "qubit",
         "showlegend": false,
         "type": "scatter",
         "x": [
          0,
          0,
          0,
          0,
          0,
          0,
          0,
          0,
          2,
          2,
          2,
          2,
          2,
          2,
          2,
          2,
          4,
          4,
          4,
          4,
          4,
          4,
          4,
          4,
          6,
          6,
          6,
          6,
          6,
          6,
          6,
          6,
          8,
          8,
          8,
          8,
          8,
          8,
          8,
          8,
          10,
          10,
          10,
          10,
          10,
          10,
          10,
          10,
          12,
          12,
          12,
          12,
          12,
          12,
          12,
          12,
          14,
          14,
          14,
          14,
          14,
          14,
          14,
          14
         ],
         "y": [
          0,
          2,
          4,
          6,
          8,
          10,
          12,
          14,
          0,
          2,
          4,
          6,
          8,
          10,
          12,
          14,
          0,
          2,
          4,
          6,
          8,
          10,
          12,
          14,
          0,
          2,
          4,
          6,
          8,
          10,
          12,
          14,
          0,
          2,
          4,
          6,
          8,
          10,
          12,
          14,
          0,
          2,
          4,
          6,
          8,
          10,
          12,
          14,
          0,
          2,
          4,
          6,
          8,
          10,
          12,
          14,
          0,
          2,
          4,
          6,
          8,
          10,
          12,
          14
         ]
        },
        {
         "fill": "toself",
         "fillcolor": "#78DAF0",
         "hoverinfo": "none",
         "legendgroup": "S_Z",
         "line": {
          "color": "#128AA5",
          "width": 2
         },
         "name": "S_Z",
         "showlegend": true,
         "type": "scatter",
         "x": [
          1,
          3,
          3,
          1,
          1
         ],
         "y": [
          1,
          1,
          3,
          3,
          1
         ]
        },
        {
         "marker": {
          "color": "#474645",
          "size": 8
         },
         "mode": "markers",
         "name": "data",
         "showlegend": false,
         "type": "scatter",
         "x": [
          1,
          3,
          1,
          3
         ],
         "y": [
          3,
          3,
          1,
          1
         ]
        },
        {
         "fill": "toself",
         "fillcolor": "#78DAF0",
         "hoverinfo": "none",
         "legendgroup": "S_Z",
         "line": {
          "color": "#128AA5",
          "width": 2
         },
         "name": "S_Z",
         "showlegend": false,
         "type": "scatter",
         "x": [
          5,
          7,
          7,
          5,
          5
         ],
         "y": [
          1,
          1,
          3,
          3,
          1
         ]
        },
        {
         "marker": {
          "color": "#474645",
          "size": 8
         },
         "mode": "markers",
         "name": "data",
         "showlegend": false,
         "type": "scatter",
         "x": [
          5,
          7,
          5,
          7
         ],
         "y": [
          3,
          3,
          1,
          1
         ]
        },
        {
         "fill": "toself",
         "fillcolor": "#E27985",
         "hoverinfo": "none",
         "legendgroup": "S_X",
         "line": {
          "color": "#CE2D40",
          "width": 2
         },
         "name": "S_X",
         "showlegend": true,
         "type": "scatter",
         "x": [
          1,
          3,
          3,
          1,
          1
         ],
         "y": [
          7,
          7,
          9,
          9,
          7
         ]
        },
        {
         "marker": {
          "color": "#474645",
          "size": 8
         },
         "mode": "markers",
         "name": "data",
         "showlegend": false,
         "type": "scatter",
         "x": [
          1,
          3,
          1,
          3
         ],
         "y": [
          9,
          9,
          7,
          7
         ]
        },
        {
         "fill": "toself",
         "fillcolor": "#78DAF0",
         "hoverinfo": "none",
         "legendgroup": "S_Z",
         "line": {
          "color": "#128AA5",
          "width": 2
         },
         "name": "S_Z",
         "showlegend": false,
         "type": "scatter",
         "x": [
          3,
          5,
          5,
          3,
          3
         ],
         "y": [
          7,
          7,
          9,
          9,
          7
         ]
        },
        {
         "marker": {
          "color": "#474645",
          "size": 8
         },
         "mode": "markers",
         "name": "data",
         "showlegend": false,
         "type": "scatter",
         "x": [
          3,
          5,
          3,
          5
         ],
         "y": [
          9,
          9,
          7,
          7
         ]
        },
        {
         "fill": "toself",
         "fillcolor": "#E27985",
         "hoverinfo": "none",
         "legendgroup": "S_X",
         "line": {
          "color": "#CE2D40",
          "width": 2
         },
         "name": "S_X",
         "showlegend": false,
         "type": "scatter",
         "x": [
          7,
          9,
          9,
          7,
          7
         ],
         "y": [
          1,
          1,
          3,
          3,
          1
         ]
        },
        {
         "marker": {
          "color": "#474645",
          "size": 8
         },
         "mode": "markers",
         "name": "data",
         "showlegend": false,
         "type": "scatter",
         "x": [
          7,
          9,
          7,
          9
         ],
         "y": [
          3,
          3,
          1,
          1
         ]
        },
        {
         "fill": "toself",
         "fillcolor": "#E27985",
         "hoverinfo": "none",
         "legendgroup": "S_X",
         "line": {
          "color": "#CE2D40",
          "width": 2
         },
         "name": "S_X",
         "showlegend": false,
         "type": "scatter",
         "x": [
          7,
          9,
          9,
          7,
          7
         ],
         "y": [
          5,
          5,
          7,
          7,
          5
         ]
        },
        {
         "marker": {
          "color": "#474645",
          "size": 8
         },
         "mode": "markers",
         "name": "data",
         "showlegend": false,
         "type": "scatter",
         "x": [
          7,
          9,
          7,
          9
         ],
         "y": [
          7,
          7,
          5,
          5
         ]
        },
        {
         "fill": "toself",
         "fillcolor": "#78DAF0",
         "hoverinfo": "none",
         "legendgroup": "S_Z",
         "line": {
          "color": "#128AA5",
          "width": 2
         },
         "name": "S_Z",
         "showlegend": false,
         "type": "scatter",
         "x": [
          7,
          9,
          9,
          7,
          7
         ],
         "y": [
          7,
          7,
          9,
          9,
          7
         ]
        },
        {
         "marker": {
          "color": "#474645",
          "size": 8
         },
         "mode": "markers",
         "name": "data",
         "showlegend": false,
         "type": "scatter",
         "x": [
          7,
          9,
          7,
          9
         ],
         "y": [
          9,
          9,
          7,
          7
         ]
        },
        {
         "fill": "toself",
         "fillcolor": "#E27985",
         "hoverinfo": "none",
         "legendgroup": "S_X",
         "line": {
          "color": "#CE2D40",
          "width": 2
         },
         "name": "S_X",
         "showlegend": false,
         "type": "scatter",
         "x": [
          7,
          9,
          9,
          7,
          7
         ],
         "y": [
          9,
          9,
          11,
          11,
          9
         ]
        },
        {
         "marker": {
          "color": "#474645",
          "size": 8
         },
         "mode": "markers",
         "name": "data",
         "showlegend": false,
         "type": "scatter",
         "x": [
          7,
          9,
          7,
          9
         ],
         "y": [
          11,
          11,
          9,
          9
         ]
        },
        {
         "fill": "toself",
         "fillcolor": "#E27985",
         "hoverinfo": "none",
         "legendgroup": "S_X",
         "line": {
          "color": "#CE2D40",
          "width": 2
         },
         "name": "S_X",
         "showlegend": false,
         "type": "scatter",
         "x": [
          9,
          11,
          11,
          9,
          9
         ],
         "y": [
          7,
          7,
          9,
          9,
          7
         ]
        },
        {
         "marker": {
          "color": "#474645",
          "size": 8
         },
         "mode": "markers",
         "name": "data",
         "showlegend": false,
         "type": "scatter",
         "x": [
          9,
          11,
          9,
          11
         ],
         "y": [
          9,
          9,
          7,
          7
         ]
        },
        {
         "fill": "toself",
         "fillcolor": "#78DAF0",
         "hoverinfo": "none",
         "legendgroup": "S_Z",
         "line": {
          "color": "#128AA5",
          "width": 2
         },
         "name": "S_Z",
         "showlegend": false,
         "type": "scatter",
         "x": [
          9,
          11,
          11,
          9,
          9
         ],
         "y": [
          9,
          9,
          11,
          11,
          9
         ]
        },
        {
         "marker": {
          "color": "#474645",
          "size": 8
         },
         "mode": "markers",
         "name": "data",
         "showlegend": false,
         "type": "scatter",
         "x": [
          9,
          11,
          9,
          11
         ],
         "y": [
          11,
          11,
          9,
          9
         ]
        },
        {
         "fill": "toself",
         "fillcolor": "#E27985",
         "hoverinfo": "none",
         "legendgroup": "S_X",
         "line": {
          "color": "#CE2D40",
          "width": 2
         },
         "name": "S_X",
         "showlegend": false,
         "type": "scatter",
         "x": [
          5,
          7,
          7,
          5,
          5
         ],
         "y": [
          11,
          11,
          13,
          13,
          11
         ]
        },
        {
         "marker": {
          "color": "#474645",
          "size": 8
         },
         "mode": "markers",
         "name": "data",
         "showlegend": false,
         "type": "scatter",
         "x": [
          5,
          7,
          5,
          7
         ],
         "y": [
          13,
          13,
          11,
          11
         ]
        },
        {
         "fill": "toself",
         "fillcolor": "#78DAF0",
         "hoverinfo": "none",
         "legendgroup": "S_Z",
         "line": {
          "color": "#128AA5",
          "width": 2
         },
         "name": "S_Z",
         "showlegend": false,
         "type": "scatter",
         "x": [
          7,
          9,
          9,
          7,
          7
         ],
         "y": [
          11,
          11,
          13,
          13,
          11
         ]
        },
        {
         "marker": {
          "color": "#474645",
          "size": 8
         },
         "mode": "markers",
         "name": "data",
         "showlegend": false,
         "type": "scatter",
         "x": [
          7,
          9,
          7,
          9
         ],
         "y": [
          13,
          13,
          11,
          11
         ]
        },
        {
         "fill": "toself",
         "fillcolor": "#E27985",
         "hoverinfo": "none",
         "legendgroup": "S_X",
         "line": {
          "color": "#CE2D40",
          "width": 2
         },
         "name": "S_X",
         "showlegend": false,
         "type": "scatter",
         "x": [
          9,
          11,
          11,
          9,
          9
         ],
         "y": [
          11,
          11,
          13,
          13,
          11
         ]
        },
        {
         "marker": {
          "color": "#474645",
          "size": 8
         },
         "mode": "markers",
         "name": "data",
         "showlegend": false,
         "type": "scatter",
         "x": [
          9,
          11,
          9,
          11
         ],
         "y": [
          13,
          13,
          11,
          11
         ]
        },
        {
         "fill": "toself",
         "fillcolor": "#E27985",
         "hoverinfo": "none",
         "legendgroup": "S_X",
         "line": {
          "color": "#CE2D40",
          "width": 2
         },
         "name": "S_X",
         "showlegend": false,
         "type": "scatter",
         "x": [
          11,
          13,
          13,
          11,
          11
         ],
         "y": [
          5,
          5,
          7,
          7,
          5
         ]
        },
        {
         "marker": {
          "color": "#474645",
          "size": 8
         },
         "mode": "markers",
         "name": "data",
         "showlegend": false,
         "type": "scatter",
         "x": [
          11,
          13,
          11,
          13
         ],
         "y": [
          7,
          7,
          5,
          5
         ]
        },
        {
         "fill": "toself",
         "fillcolor": "#78DAF0",
         "hoverinfo": "none",
         "legendgroup": "S_Z",
         "line": {
          "color": "#128AA5",
          "width": 2
         },
         "name": "S_Z",
         "showlegend": false,
         "type": "scatter",
         "x": [
          11,
          13,
          13,
          11,
          11
         ],
         "y": [
          7,
          7,
          9,
          9,
          7
         ]
        },
        {
         "marker": {
          "color": "#474645",
          "size": 8
         },
         "mode": "markers",
         "name": "data",
         "showlegend": false,
         "type": "scatter",
         "x": [
          11,
          13,
          11,
          13
         ],
         "y": [
          9,
          9,
          7,
          7
         ]
        },
        {
         "fill": "toself",
         "fillcolor": "#E27985",
         "hoverinfo": "none",
         "legendgroup": "S_X",
         "line": {
          "color": "#CE2D40",
          "width": 2
         },
         "name": "S_X",
         "showlegend": false,
         "type": "scatter",
         "x": [
          11,
          13,
          13,
          11,
          11
         ],
         "y": [
          9,
          9,
          11,
          11,
          9
         ]
        },
        {
         "marker": {
          "color": "#474645",
          "size": 8
         },
         "mode": "markers",
         "name": "data",
         "showlegend": false,
         "type": "scatter",
         "x": [
          11,
          13,
          11,
          13
         ],
         "y": [
          11,
          11,
          9,
          9
         ]
        },
        {
         "fill": "toself",
         "fillcolor": "#78DAF0",
         "hoverinfo": "none",
         "legendgroup": "S_Z",
         "line": {
          "color": "#128AA5",
          "width": 2
         },
         "name": "S_Z",
         "showlegend": false,
         "type": "scatter",
         "x": [
          11,
          13,
          13,
          11,
          11
         ],
         "y": [
          11,
          11,
          13,
          13,
          11
         ]
        },
        {
         "marker": {
          "color": "#474645",
          "size": 8
         },
         "mode": "markers",
         "name": "data",
         "showlegend": false,
         "type": "scatter",
         "x": [
          11,
          13,
          11,
          13
         ],
         "y": [
          13,
          13,
          11,
          11
         ]
        },
        {
         "fill": "toself",
         "fillcolor": "#EE8F6D",
         "hoverinfo": "none",
         "legendgroup": "S_X",
         "line": {
          "color": "#E55724",
          "width": 2
         },
         "name": "S_X",
         "showlegend": false,
         "type": "scatter",
         "x": [
          3,
          5,
          5,
          3,
          3
         ],
         "y": [
          5,
          5,
          7,
          7,
          5
         ]
        },
        {
         "marker": {
          "color": "#474645",
          "size": 8
         },
         "mode": "markers",
         "name": "data",
         "showlegend": false,
         "type": "scatter",
         "x": [
          3,
          5,
          3,
          5
         ],
         "y": [
          5,
          5,
          7,
          7
         ]
        },
        {
         "fill": "toself",
         "fillcolor": "#EE8F6D",
         "hoverinfo": "none",
         "legendgroup": "S_X",
         "line": {
          "color": "#E55724",
          "width": 2
         },
         "name": "S_X",
         "showlegend": false,
         "type": "scatter",
         "x": [
          3,
          5,
          5,
          3,
          3
         ],
         "y": [
          1,
          1,
          3,
          3,
          1
         ]
        },
        {
         "marker": {
          "color": "#474645",
          "size": 8
         },
         "mode": "markers",
         "name": "data",
         "showlegend": false,
         "type": "scatter",
         "x": [
          3,
          3,
          5,
          5
         ],
         "y": [
          1,
          3,
          3,
          1
         ]
        },
        {
         "fill": "toself",
         "fillcolor": "#D2AAF0",
         "hoverinfo": "none",
         "legendgroup": "S_Z",
         "line": {
          "color": "#A352E0",
          "width": 2
         },
         "name": "S_Z",
         "showlegend": false,
         "type": "scatter",
         "x": [
          1,
          3,
          3,
          1,
          1
         ],
         "y": [
          5,
          5,
          7,
          7,
          5
         ]
        },
        {
         "marker": {
          "color": "#474645",
          "size": 8
         },
         "mode": "markers",
         "name": "data",
         "showlegend": false,
         "type": "scatter",
         "x": [
          1,
          3,
          1,
          3
         ],
         "y": [
          7,
          7,
          5,
          5
         ]
        },
        {
         "fill": "toself",
         "fillcolor": "#F1BB7E",
         "hoverinfo": "none",
         "legendgroup": "S_X",
         "line": {
          "color": "#DC8118",
          "width": 2
         },
         "name": "S_X",
         "showlegend": false,
         "type": "scatter",
         "x": [
          5,
          7,
          7,
          5,
          5
         ],
         "y": [
          7,
          7,
          9,
          9,
          7
         ]
        },
        {
         "marker": {
          "color": "#474645",
          "size": 8
         },
         "mode": "markers",
         "name": "data",
         "showlegend": false,
         "type": "scatter",
         "x": [
          5,
          7,
          5,
          7
         ],
         "y": [
          7,
          7,
          9,
          9
         ]
        },
        {
         "fill": "toself",
         "fillcolor": "#F1BB7E",
         "hoverinfo": "none",
         "legendgroup": "S_X",
         "line": {
          "color": "#DC8118",
          "width": 2
         },
         "name": "S_X",
         "showlegend": false,
         "type": "scatter",
         "x": [
          5,
          7,
          7,
          5,
          5
         ],
         "y": [
          3,
          3,
          5,
          5,
          3
         ]
        },
        {
         "marker": {
          "color": "#474645",
          "size": 8
         },
         "mode": "markers",
         "name": "data",
         "showlegend": false,
         "type": "scatter",
         "x": [
          5,
          5,
          7,
          7
         ],
         "y": [
          3,
          5,
          3,
          5
         ]
        },
        {
         "fill": "toself",
         "fillcolor": "#7BB5EB",
         "hoverinfo": "none",
         "legendgroup": "S_Z",
         "line": {
          "color": "#207DD5",
          "width": 2
         },
         "name": "S_Z",
         "showlegend": false,
         "type": "scatter",
         "x": [
          11,
          13,
          13,
          11,
          11
         ],
         "y": [
          3,
          3,
          5,
          5,
          3
         ]
        },
        {
         "marker": {
          "color": "#474645",
          "size": 8
         },
         "mode": "markers",
         "name": "data",
         "showlegend": false,
         "type": "scatter",
         "x": [
          11,
          13,
          11,
          13
         ],
         "y": [
          3,
          3,
          5,
          5
         ]
        },
        {
         "fill": "toself",
         "fillcolor": "#7BB5EB",
         "hoverinfo": "none",
         "legendgroup": "S_Z",
         "line": {
          "color": "#207DD5",
          "width": 2
         },
         "name": "S_Z",
         "showlegend": false,
         "type": "scatter",
         "x": [
          7,
          9,
          9,
          7,
          7
         ],
         "y": [
          3,
          3,
          5,
          5,
          3
         ]
        },
        {
         "marker": {
          "color": "#474645",
          "size": 8
         },
         "mode": "markers",
         "name": "data",
         "showlegend": false,
         "type": "scatter",
         "x": [
          7,
          7,
          9,
          9
         ],
         "y": [
          3,
          5,
          3,
          5
         ]
        },
        {
         "fill": "toself",
         "fillcolor": "#D2AAF0",
         "hoverinfo": "none",
         "legendgroup": "S_Z",
         "line": {
          "color": "#A352E0",
          "width": 2
         },
         "name": "S_Z",
         "showlegend": false,
         "type": "scatter",
         "x": [
          9,
          11,
          11,
          9,
          9
         ],
         "y": [
          1,
          1,
          3,
          3,
          1
         ]
        },
        {
         "marker": {
          "color": "#474645",
          "size": 8
         },
         "mode": "markers",
         "name": "data",
         "showlegend": false,
         "type": "scatter",
         "x": [
          9,
          11,
          9,
          11
         ],
         "y": [
          3,
          3,
          1,
          1
         ]
        },
        {
         "fill": "toself",
         "fillcolor": "#9C97FB",
         "hoverinfo": "none",
         "legendgroup": "S_Z",
         "line": {
          "color": "#564EF9",
          "width": 2
         },
         "name": "S_Z",
         "showlegend": false,
         "type": "scatter",
         "x": [
          9,
          11,
          11,
          9,
          9
         ],
         "y": [
          5,
          5,
          7,
          7,
          5
         ]
        },
        {
         "marker": {
          "color": "#474645",
          "size": 8
         },
         "mode": "markers",
         "name": "data",
         "showlegend": false,
         "type": "scatter",
         "x": [
          9,
          11,
          9,
          11
         ],
         "y": [
          7,
          7,
          5,
          5
         ]
        },
        {
         "fill": "toself",
         "fillcolor": "#D49587",
         "hoverinfo": "none",
         "legendgroup": "S_X",
         "line": {
          "color": "#BD5E49",
          "width": 2
         },
         "name": "S_X",
         "showlegend": false,
         "type": "scatter",
         "x": [
          11,
          13,
          13,
          11,
          11
         ],
         "y": [
          1,
          1,
          3,
          3,
          1
         ]
        },
        {
         "marker": {
          "color": "#474645",
          "size": 8
         },
         "mode": "markers",
         "name": "data",
         "showlegend": false,
         "type": "scatter",
         "x": [
          11,
          13,
          11,
          13
         ],
         "y": [
          3,
          3,
          1,
          1
         ]
        },
        {
         "fill": "toself",
         "fillcolor": "#9C97FB",
         "hoverinfo": "none",
         "legendgroup": "S_Z",
         "line": {
          "color": "#564EF9",
          "width": 2
         },
         "name": "S_Z",
         "showlegend": false,
         "type": "scatter",
         "x": [
          5,
          7,
          7,
          5,
          5
         ],
         "y": [
          9,
          9,
          11,
          11,
          9
         ]
        },
        {
         "marker": {
          "color": "#474645",
          "size": 8
         },
         "mode": "markers",
         "name": "data",
         "showlegend": false,
         "type": "scatter",
         "x": [
          5,
          7,
          5,
          7
         ],
         "y": [
          11,
          11,
          9,
          9
         ]
        },
        {
         "fill": "toself",
         "fillcolor": "#9C97FB",
         "hoverinfo": "none",
         "legendgroup": "S_Z",
         "line": {
          "color": "#564EF9",
          "width": 2
         },
         "name": "S_Z",
         "showlegend": false,
         "type": "scatter",
         "x": [
          1,
          3,
          3,
          1,
          1
         ],
         "y": [
          9,
          9,
          11,
          11,
          9
         ]
        },
        {
         "marker": {
          "color": "#474645",
          "size": 8
         },
         "mode": "markers",
         "name": "data",
         "showlegend": false,
         "type": "scatter",
         "x": [
          1,
          3,
          1,
          3
         ],
         "y": [
          11,
          11,
          9,
          9
         ]
        },
        {
         "fill": "toself",
         "fillcolor": "#B3BFD0",
         "hoverinfo": "none",
         "legendgroup": "S_Z",
         "line": {
          "color": "#5D7598",
          "width": 2
         },
         "name": "S_Z",
         "showlegend": false,
         "type": "scatter",
         "x": [
          3,
          5,
          5,
          3,
          3
         ],
         "y": [
          11,
          11,
          13,
          13,
          11
         ]
        },
        {
         "marker": {
          "color": "#474645",
          "size": 8
         },
         "mode": "markers",
         "name": "data",
         "showlegend": false,
         "type": "scatter",
         "x": [
          3,
          3,
          5,
          5
         ],
         "y": [
          13,
          11,
          13,
          11
         ]
        },
        {
         "fill": "toself",
         "fillcolor": "#E27985",
         "hoverinfo": "none",
         "legendgroup": "S_X",
         "line": {
          "color": "#CE2D40",
          "width": 2
         },
         "name": "S_X",
         "showlegend": false,
         "type": "scatter",
         "x": [
          2,
          1,
          3,
          2
         ],
         "y": [
          0,
          1,
          1,
          0
         ]
        },
        {
         "marker": {
          "color": "#474645",
          "size": 8
         },
         "mode": "markers",
         "name": "data",
         "showlegend": false,
         "type": "scatter",
         "x": [
          1,
          3
         ],
         "y": [
          1,
          1
         ]
        },
        {
         "fill": "toself",
         "fillcolor": "#E27985",
         "hoverinfo": "none",
         "legendgroup": "S_X",
         "line": {
          "color": "#CE2D40",
          "width": 2
         },
         "name": "S_X",
         "showlegend": false,
         "type": "scatter",
         "x": [
          6,
          5,
          7,
          6
         ],
         "y": [
          0,
          1,
          1,
          0
         ]
        },
        {
         "marker": {
          "color": "#474645",
          "size": 8
         },
         "mode": "markers",
         "name": "data",
         "showlegend": false,
         "type": "scatter",
         "x": [
          5,
          7
         ],
         "y": [
          1,
          1
         ]
        },
        {
         "fill": "toself",
         "fillcolor": "#78DAF0",
         "hoverinfo": "none",
         "legendgroup": "S_Z",
         "line": {
          "color": "#128AA5",
          "width": 2
         },
         "name": "S_Z",
         "showlegend": false,
         "type": "scatter",
         "x": [
          0,
          1,
          1,
          0
         ],
         "y": [
          8,
          9,
          7,
          8
         ]
        },
        {
         "marker": {
          "color": "#474645",
          "size": 8
         },
         "mode": "markers",
         "name": "data",
         "showlegend": false,
         "type": "scatter",
         "x": [
          1,
          1
         ],
         "y": [
          9,
          7
         ]
        },
        {
         "fill": "toself",
         "fillcolor": "#E27985",
         "hoverinfo": "none",
         "legendgroup": "S_X",
         "line": {
          "color": "#CE2D40",
          "width": 2
         },
         "name": "S_X",
         "showlegend": false,
         "type": "scatter",
         "x": [
          10,
          9,
          11,
          10
         ],
         "y": [
          0,
          1,
          1,
          0
         ]
        },
        {
         "marker": {
          "color": "#474645",
          "size": 8
         },
         "mode": "markers",
         "name": "data",
         "showlegend": false,
         "type": "scatter",
         "x": [
          9,
          11
         ],
         "y": [
          1,
          1
         ]
        },
        {
         "fill": "toself",
         "fillcolor": "#E27985",
         "hoverinfo": "none",
         "legendgroup": "S_X",
         "line": {
          "color": "#CE2D40",
          "width": 2
         },
         "name": "S_X",
         "showlegend": false,
         "type": "scatter",
         "x": [
          4,
          3,
          5,
          4
         ],
         "y": [
          14,
          13,
          13,
          14
         ]
        },
        {
         "marker": {
          "color": "#474645",
          "size": 8
         },
         "mode": "markers",
         "name": "data",
         "showlegend": false,
         "type": "scatter",
         "x": [
          3,
          5
         ],
         "y": [
          13,
          13
         ]
        },
        {
         "fill": "toself",
         "fillcolor": "#E27985",
         "hoverinfo": "none",
         "legendgroup": "S_X",
         "line": {
          "color": "#CE2D40",
          "width": 2
         },
         "name": "S_X",
         "showlegend": false,
         "type": "scatter",
         "x": [
          8,
          7,
          9,
          8
         ],
         "y": [
          14,
          13,
          13,
          14
         ]
        },
        {
         "marker": {
          "color": "#474645",
          "size": 8
         },
         "mode": "markers",
         "name": "data",
         "showlegend": false,
         "type": "scatter",
         "x": [
          7,
          9
         ],
         "y": [
          13,
          13
         ]
        },
        {
         "fill": "toself",
         "fillcolor": "#E27985",
         "hoverinfo": "none",
         "legendgroup": "S_X",
         "line": {
          "color": "#CE2D40",
          "width": 2
         },
         "name": "S_X",
         "showlegend": false,
         "type": "scatter",
         "x": [
          12,
          11,
          13,
          12
         ],
         "y": [
          14,
          13,
          13,
          14
         ]
        },
        {
         "marker": {
          "color": "#474645",
          "size": 8
         },
         "mode": "markers",
         "name": "data",
         "showlegend": false,
         "type": "scatter",
         "x": [
          11,
          13
         ],
         "y": [
          13,
          13
         ]
        },
        {
         "fill": "toself",
         "fillcolor": "#78DAF0",
         "hoverinfo": "none",
         "legendgroup": "S_Z",
         "line": {
          "color": "#128AA5",
          "width": 2
         },
         "name": "S_Z",
         "showlegend": false,
         "type": "scatter",
         "x": [
          14,
          13,
          13,
          14
         ],
         "y": [
          6,
          7,
          5,
          6
         ]
        },
        {
         "marker": {
          "color": "#474645",
          "size": 8
         },
         "mode": "markers",
         "name": "data",
         "showlegend": false,
         "type": "scatter",
         "x": [
          13,
          13
         ],
         "y": [
          7,
          5
         ]
        },
        {
         "fill": "toself",
         "fillcolor": "#78DAF0",
         "hoverinfo": "none",
         "legendgroup": "S_Z",
         "line": {
          "color": "#128AA5",
          "width": 2
         },
         "name": "S_Z",
         "showlegend": false,
         "type": "scatter",
         "x": [
          14,
          13,
          13,
          14
         ],
         "y": [
          10,
          11,
          9,
          10
         ]
        },
        {
         "marker": {
          "color": "#474645",
          "size": 8
         },
         "mode": "markers",
         "name": "data",
         "showlegend": false,
         "type": "scatter",
         "x": [
          13,
          13
         ],
         "y": [
          11,
          9
         ]
        },
        {
         "fill": "toself",
         "fillcolor": "#9C97FB",
         "hoverinfo": "none",
         "legendgroup": "S_Z",
         "line": {
          "color": "#564EF9",
          "width": 2
         },
         "name": "S_Z",
         "showlegend": false,
         "type": "scatter",
         "x": [
          0,
          1,
          1,
          0
         ],
         "y": [
          4,
          3,
          5,
          4
         ]
        },
        {
         "marker": {
          "color": "#474645",
          "size": 8
         },
         "mode": "markers",
         "name": "data",
         "showlegend": false,
         "type": "scatter",
         "x": [
          1,
          1
         ],
         "y": [
          3,
          5
         ]
        },
        {
         "fill": "toself",
         "fillcolor": "#9C97FB",
         "hoverinfo": "none",
         "legendgroup": "S_Z",
         "line": {
          "color": "#564EF9",
          "width": 2
         },
         "name": "S_Z",
         "showlegend": false,
         "type": "scatter",
         "x": [
          2,
          3,
          3,
          2
         ],
         "y": [
          4,
          5,
          3,
          4
         ]
        },
        {
         "marker": {
          "color": "#474645",
          "size": 8
         },
         "mode": "markers",
         "name": "data",
         "showlegend": false,
         "type": "scatter",
         "x": [
          3,
          3
         ],
         "y": [
          5,
          3
         ]
        },
        {
         "fill": "toself",
         "fillcolor": "#9C97FB",
         "hoverinfo": "none",
         "legendgroup": "S_Z",
         "line": {
          "color": "#564EF9",
          "width": 2
         },
         "name": "S_Z",
         "showlegend": false,
         "type": "scatter",
         "x": [
          6,
          5,
          5,
          6
         ],
         "y": [
          4,
          5,
          3,
          4
         ]
        },
        {
         "marker": {
          "color": "#474645",
          "size": 8
         },
         "mode": "markers",
         "name": "data",
         "showlegend": false,
         "type": "scatter",
         "x": [
          5,
          5
         ],
         "y": [
          5,
          3
         ]
        },
        {
         "fill": "toself",
         "fillcolor": "#D49587",
         "hoverinfo": "none",
         "legendgroup": "S_X",
         "line": {
          "color": "#BD5E49",
          "width": 2
         },
         "name": "S_X",
         "showlegend": false,
         "type": "scatter",
         "x": [
          2,
          3,
          1,
          2
         ],
         "y": [
          4,
          3,
          3,
          4
         ]
        },
        {
         "marker": {
          "color": "#474645",
          "size": 8
         },
         "mode": "markers",
         "name": "data",
         "showlegend": false,
         "type": "scatter",
         "x": [
          3,
          1
         ],
         "y": [
          3,
          3
         ]
        },
        {
         "fill": "toself",
         "fillcolor": "#D49587",
         "hoverinfo": "none",
         "legendgroup": "S_X",
         "line": {
          "color": "#BD5E49",
          "width": 2
         },
         "name": "S_X",
         "showlegend": false,
         "type": "scatter",
         "x": [
          2,
          3,
          1,
          2
         ],
         "y": [
          6,
          5,
          5,
          6
         ]
        },
        {
         "marker": {
          "color": "#474645",
          "size": 8
         },
         "mode": "markers",
         "name": "data",
         "showlegend": false,
         "type": "scatter",
         "x": [
          3,
          1
         ],
         "y": [
          5,
          5
         ]
        },
        {
         "fill": "toself",
         "fillcolor": "#B3BFD0",
         "hoverinfo": "none",
         "legendgroup": "S_Z",
         "line": {
          "color": "#5D7598",
          "width": 2
         },
         "name": "S_Z",
         "showlegend": false,
         "type": "scatter",
         "x": [
          4,
          5,
          5,
          4
         ],
         "y": [
          6,
          7,
          5,
          6
         ]
        },
        {
         "marker": {
          "color": "#474645",
          "size": 8
         },
         "mode": "markers",
         "name": "data",
         "showlegend": false,
         "type": "scatter",
         "x": [
          5,
          5
         ],
         "y": [
          7,
          5
         ]
        },
        {
         "fill": "toself",
         "fillcolor": "#B3BFD0",
         "hoverinfo": "none",
         "legendgroup": "S_Z",
         "line": {
          "color": "#5D7598",
          "width": 2
         },
         "name": "S_Z",
         "showlegend": false,
         "type": "scatter",
         "x": [
          6,
          7,
          7,
          6
         ],
         "y": [
          6,
          7,
          5,
          6
         ]
        },
        {
         "marker": {
          "color": "#474645",
          "size": 8
         },
         "mode": "markers",
         "name": "data",
         "showlegend": false,
         "type": "scatter",
         "x": [
          7,
          7
         ],
         "y": [
          7,
          5
         ]
        },
        {
         "fill": "toself",
         "fillcolor": "#F1BB7E",
         "hoverinfo": "none",
         "legendgroup": "S_X",
         "line": {
          "color": "#DC8118",
          "width": 2
         },
         "name": "S_X",
         "showlegend": false,
         "type": "scatter",
         "x": [
          10,
          11,
          9,
          10
         ],
         "y": [
          2,
          3,
          3,
          2
         ]
        },
        {
         "marker": {
          "color": "#474645",
          "size": 8
         },
         "mode": "markers",
         "name": "data",
         "showlegend": false,
         "type": "scatter",
         "x": [
          11,
          9
         ],
         "y": [
          3,
          3
         ]
        },
        {
         "fill": "toself",
         "fillcolor": "#F1BB7E",
         "hoverinfo": "none",
         "legendgroup": "S_X",
         "line": {
          "color": "#DC8118",
          "width": 2
         },
         "name": "S_X",
         "showlegend": false,
         "type": "scatter",
         "x": [
          10,
          11,
          9,
          10
         ],
         "y": [
          6,
          5,
          5,
          6
         ]
        },
        {
         "marker": {
          "color": "#474645",
          "size": 8
         },
         "mode": "markers",
         "name": "data",
         "showlegend": false,
         "type": "scatter",
         "x": [
          11,
          9
         ],
         "y": [
          5,
          5
         ]
        },
        {
         "fill": "toself",
         "fillcolor": "#B3BFD0",
         "hoverinfo": "none",
         "legendgroup": "S_Z",
         "line": {
          "color": "#5D7598",
          "width": 2
         },
         "name": "S_Z",
         "showlegend": false,
         "type": "scatter",
         "x": [
          12,
          13,
          13,
          12
         ],
         "y": [
          2,
          3,
          1,
          2
         ]
        },
        {
         "marker": {
          "color": "#474645",
          "size": 8
         },
         "mode": "markers",
         "name": "data",
         "showlegend": false,
         "type": "scatter",
         "x": [
          13,
          13
         ],
         "y": [
          3,
          1
         ]
        },
        {
         "fill": "toself",
         "fillcolor": "#F1BB7E",
         "hoverinfo": "none",
         "legendgroup": "S_X",
         "line": {
          "color": "#DC8118",
          "width": 2
         },
         "name": "S_X",
         "showlegend": false,
         "type": "scatter",
         "x": [
          2,
          3,
          1,
          2
         ],
         "y": [
          14,
          13,
          13,
          14
         ]
        },
        {
         "marker": {
          "color": "#474645",
          "size": 8
         },
         "mode": "markers",
         "name": "data",
         "showlegend": false,
         "type": "scatter",
         "x": [
          3,
          1
         ],
         "y": [
          13,
          13
         ]
        },
        {
         "fill": "toself",
         "fillcolor": "#F1BB7E",
         "hoverinfo": "none",
         "legendgroup": "S_X",
         "line": {
          "color": "#DC8118",
          "width": 2
         },
         "name": "S_X",
         "showlegend": false,
         "type": "scatter",
         "x": [
          2,
          3,
          1,
          2
         ],
         "y": [
          10,
          11,
          11,
          10
         ]
        },
        {
         "marker": {
          "color": "#474645",
          "size": 8
         },
         "mode": "markers",
         "name": "data",
         "showlegend": false,
         "type": "scatter",
         "x": [
          3,
          1
         ],
         "y": [
          11,
          11
         ]
        },
        {
         "fill": "toself",
         "fillcolor": "#D49587",
         "hoverinfo": "none",
         "legendgroup": "S_X",
         "line": {
          "color": "#BD5E49",
          "width": 2
         },
         "name": "S_X",
         "showlegend": false,
         "type": "scatter",
         "x": [
          4,
          5,
          3,
          4
         ],
         "y": [
          10,
          9,
          9,
          10
         ]
        },
        {
         "marker": {
          "color": "#474645",
          "size": 8
         },
         "mode": "markers",
         "name": "data",
         "showlegend": false,
         "type": "scatter",
         "x": [
          5,
          3
         ],
         "y": [
          9,
          9
         ]
        },
        {
         "fill": "toself",
         "fillcolor": "#D49587",
         "hoverinfo": "none",
         "legendgroup": "S_X",
         "line": {
          "color": "#BD5E49",
          "width": 2
         },
         "name": "S_X",
         "showlegend": false,
         "type": "scatter",
         "x": [
          4,
          5,
          3,
          4
         ],
         "y": [
          12,
          11,
          11,
          12
         ]
        },
        {
         "marker": {
          "color": "#474645",
          "size": 8
         },
         "mode": "markers",
         "name": "data",
         "showlegend": false,
         "type": "scatter",
         "x": [
          5,
          3
         ],
         "y": [
          11,
          11
         ]
        },
        {
         "fill": "toself",
         "fillcolor": "#B3BFD0",
         "hoverinfo": "none",
         "legendgroup": "S_Z",
         "line": {
          "color": "#5D7598",
          "width": 2
         },
         "name": "S_Z",
         "showlegend": false,
         "type": "scatter",
         "x": [
          0,
          1,
          1,
          0
         ],
         "y": [
          12,
          13,
          11,
          12
         ]
        },
        {
         "marker": {
          "color": "#474645",
          "size": 8
         },
         "mode": "markers",
         "name": "data",
         "showlegend": false,
         "type": "scatter",
         "x": [
          1,
          1
         ],
         "y": [
          13,
          11
         ]
        },
        {
         "hoverlabel": {
          "namelength": -1
         },
         "marker": {
          "color": "#787776",
          "size": 10
         },
         "mode": "markers",
         "name": "Ancilla XX",
         "showlegend": false,
         "type": "scatter",
         "x": [
          2
         ],
         "y": [
          0
         ]
        },
        {
         "hoverlabel": {
          "namelength": -1
         },
         "marker": {
          "color": "#787776",
          "size": 10
         },
         "mode": "markers",
         "name": "Ancilla ZZZZ",
         "showlegend": false,
         "type": "scatter",
         "x": [
          2
         ],
         "y": [
          2
         ]
        },
        {
         "hoverlabel": {
          "namelength": -1
         },
         "marker": {
          "color": "#787776",
          "size": 10
         },
         "mode": "markers",
         "name": "Ancilla XX",
         "showlegend": false,
         "type": "scatter",
         "x": [
          6
         ],
         "y": [
          0
         ]
        },
        {
         "hoverlabel": {
          "namelength": -1
         },
         "marker": {
          "color": "#787776",
          "size": 10
         },
         "mode": "markers",
         "name": "Ancilla ZZZZ",
         "showlegend": false,
         "type": "scatter",
         "x": [
          6
         ],
         "y": [
          2
         ]
        },
        {
         "hoverlabel": {
          "namelength": -1
         },
         "marker": {
          "color": "#787776",
          "size": 10
         },
         "mode": "markers",
         "name": "Ancilla ZZ",
         "showlegend": false,
         "type": "scatter",
         "x": [
          0
         ],
         "y": [
          8
         ]
        },
        {
         "hoverlabel": {
          "namelength": -1
         },
         "marker": {
          "color": "#787776",
          "size": 10
         },
         "mode": "markers",
         "name": "Ancilla XXXX",
         "showlegend": false,
         "type": "scatter",
         "x": [
          2
         ],
         "y": [
          8
         ]
        },
        {
         "hoverlabel": {
          "namelength": -1
         },
         "marker": {
          "color": "#787776",
          "size": 10
         },
         "mode": "markers",
         "name": "Ancilla ZZZZ",
         "showlegend": false,
         "type": "scatter",
         "x": [
          4
         ],
         "y": [
          8
         ]
        },
        {
         "hoverlabel": {
          "namelength": -1
         },
         "marker": {
          "color": "#787776",
          "size": 10
         },
         "mode": "markers",
         "name": "Ancilla XXXX",
         "showlegend": false,
         "type": "scatter",
         "x": [
          8
         ],
         "y": [
          2
         ]
        },
        {
         "hoverlabel": {
          "namelength": -1
         },
         "marker": {
          "color": "#787776",
          "size": 10
         },
         "mode": "markers",
         "name": "Ancilla XXXX",
         "showlegend": false,
         "type": "scatter",
         "x": [
          8
         ],
         "y": [
          6
         ]
        },
        {
         "hoverlabel": {
          "namelength": -1
         },
         "marker": {
          "color": "#787776",
          "size": 10
         },
         "mode": "markers",
         "name": "Ancilla ZZZZ",
         "showlegend": false,
         "type": "scatter",
         "x": [
          8
         ],
         "y": [
          8
         ]
        },
        {
         "hoverlabel": {
          "namelength": -1
         },
         "marker": {
          "color": "#787776",
          "size": 10
         },
         "mode": "markers",
         "name": "Ancilla XXXX",
         "showlegend": false,
         "type": "scatter",
         "x": [
          8
         ],
         "y": [
          10
         ]
        },
        {
         "hoverlabel": {
          "namelength": -1
         },
         "marker": {
          "color": "#787776",
          "size": 10
         },
         "mode": "markers",
         "name": "Ancilla XX",
         "showlegend": false,
         "type": "scatter",
         "x": [
          10
         ],
         "y": [
          0
         ]
        },
        {
         "hoverlabel": {
          "namelength": -1
         },
         "marker": {
          "color": "#787776",
          "size": 10
         },
         "mode": "markers",
         "name": "Ancilla XXXX",
         "showlegend": false,
         "type": "scatter",
         "x": [
          10
         ],
         "y": [
          8
         ]
        },
        {
         "hoverlabel": {
          "namelength": -1
         },
         "marker": {
          "color": "#787776",
          "size": 10
         },
         "mode": "markers",
         "name": "Ancilla ZZZZ",
         "showlegend": false,
         "type": "scatter",
         "x": [
          10
         ],
         "y": [
          10
         ]
        },
        {
         "hoverlabel": {
          "namelength": -1
         },
         "marker": {
          "color": "#787776",
          "size": 10
         },
         "mode": "markers",
         "name": "Ancilla XXXX",
         "showlegend": false,
         "type": "scatter",
         "x": [
          6
         ],
         "y": [
          12
         ]
        },
        {
         "hoverlabel": {
          "namelength": -1
         },
         "marker": {
          "color": "#787776",
          "size": 10
         },
         "mode": "markers",
         "name": "Ancilla ZZZZ",
         "showlegend": false,
         "type": "scatter",
         "x": [
          8
         ],
         "y": [
          12
         ]
        },
        {
         "hoverlabel": {
          "namelength": -1
         },
         "marker": {
          "color": "#787776",
          "size": 10
         },
         "mode": "markers",
         "name": "Ancilla XXXX",
         "showlegend": false,
         "type": "scatter",
         "x": [
          10
         ],
         "y": [
          12
         ]
        },
        {
         "hoverlabel": {
          "namelength": -1
         },
         "marker": {
          "color": "#787776",
          "size": 10
         },
         "mode": "markers",
         "name": "Ancilla XXXX",
         "showlegend": false,
         "type": "scatter",
         "x": [
          12
         ],
         "y": [
          6
         ]
        },
        {
         "hoverlabel": {
          "namelength": -1
         },
         "marker": {
          "color": "#787776",
          "size": 10
         },
         "mode": "markers",
         "name": "Ancilla ZZZZ",
         "showlegend": false,
         "type": "scatter",
         "x": [
          12
         ],
         "y": [
          8
         ]
        },
        {
         "hoverlabel": {
          "namelength": -1
         },
         "marker": {
          "color": "#787776",
          "size": 10
         },
         "mode": "markers",
         "name": "Ancilla XXXX",
         "showlegend": false,
         "type": "scatter",
         "x": [
          12
         ],
         "y": [
          10
         ]
        },
        {
         "hoverlabel": {
          "namelength": -1
         },
         "marker": {
          "color": "#787776",
          "size": 10
         },
         "mode": "markers",
         "name": "Ancilla ZZZZ",
         "showlegend": false,
         "type": "scatter",
         "x": [
          12
         ],
         "y": [
          12
         ]
        },
        {
         "hoverlabel": {
          "namelength": -1
         },
         "marker": {
          "color": "#787776",
          "size": 10
         },
         "mode": "markers",
         "name": "Ancilla XX",
         "showlegend": false,
         "type": "scatter",
         "x": [
          4
         ],
         "y": [
          14
         ]
        },
        {
         "hoverlabel": {
          "namelength": -1
         },
         "marker": {
          "color": "#787776",
          "size": 10
         },
         "mode": "markers",
         "name": "Ancilla XX",
         "showlegend": false,
         "type": "scatter",
         "x": [
          8
         ],
         "y": [
          14
         ]
        },
        {
         "hoverlabel": {
          "namelength": -1
         },
         "marker": {
          "color": "#787776",
          "size": 10
         },
         "mode": "markers",
         "name": "Ancilla XX",
         "showlegend": false,
         "type": "scatter",
         "x": [
          12
         ],
         "y": [
          14
         ]
        },
        {
         "hoverlabel": {
          "namelength": -1
         },
         "marker": {
          "color": "#787776",
          "size": 10
         },
         "mode": "markers",
         "name": "Ancilla ZZ",
         "showlegend": false,
         "type": "scatter",
         "x": [
          14
         ],
         "y": [
          6
         ]
        },
        {
         "hoverlabel": {
          "namelength": -1
         },
         "marker": {
          "color": "#787776",
          "size": 10
         },
         "mode": "markers",
         "name": "Ancilla ZZ",
         "showlegend": false,
         "type": "scatter",
         "x": [
          14
         ],
         "y": [
          10
         ]
        },
        {
         "hoverlabel": {
          "namelength": -1
         },
         "marker": {
          "color": "#787776",
          "size": 10
         },
         "mode": "markers",
         "name": "Ancilla ZZ",
         "showlegend": false,
         "type": "scatter",
         "x": [
          0
         ],
         "y": [
          4
         ]
        },
        {
         "hoverlabel": {
          "namelength": -1
         },
         "marker": {
          "color": "#787776",
          "size": 10
         },
         "mode": "markers",
         "name": "Ancilla ZZ,XX",
         "showlegend": false,
         "type": "scatter",
         "x": [
          2
         ],
         "y": [
          4
         ]
        },
        {
         "hoverlabel": {
          "namelength": -1
         },
         "marker": {
          "color": "#787776",
          "size": 10
         },
         "mode": "markers",
         "name": "Ancilla ZZ,XXXX",
         "showlegend": false,
         "type": "scatter",
         "x": [
          6
         ],
         "y": [
          4
         ]
        },
        {
         "hoverlabel": {
          "namelength": -1
         },
         "marker": {
          "color": "#787776",
          "size": 10
         },
         "mode": "markers",
         "name": "Ancilla XX,ZZZZ",
         "showlegend": false,
         "type": "scatter",
         "x": [
          2
         ],
         "y": [
          6
         ]
        },
        {
         "hoverlabel": {
          "namelength": -1
         },
         "marker": {
          "color": "#787776",
          "size": 10
         },
         "mode": "markers",
         "name": "Ancilla XXXX,ZZ",
         "showlegend": false,
         "type": "scatter",
         "x": [
          4
         ],
         "y": [
          6
         ]
        },
        {
         "hoverlabel": {
          "namelength": -1
         },
         "marker": {
          "color": "#787776",
          "size": 10
         },
         "mode": "markers",
         "name": "Ancilla XXXX",
         "showlegend": false,
         "type": "scatter",
         "x": [
          4
         ],
         "y": [
          2
         ]
        },
        {
         "hoverlabel": {
          "namelength": -1
         },
         "marker": {
          "color": "#787776",
          "size": 10
         },
         "mode": "markers",
         "name": "Ancilla ZZ",
         "showlegend": false,
         "type": "scatter",
         "x": [
          6
         ],
         "y": [
          6
         ]
        },
        {
         "hoverlabel": {
          "namelength": -1
         },
         "marker": {
          "color": "#787776",
          "size": 10
         },
         "mode": "markers",
         "name": "Ancilla XXXX",
         "showlegend": false,
         "type": "scatter",
         "x": [
          6
         ],
         "y": [
          8
         ]
        },
        {
         "hoverlabel": {
          "namelength": -1
         },
         "marker": {
          "color": "#787776",
          "size": 10
         },
         "mode": "markers",
         "name": "Ancilla ZZZZ",
         "showlegend": false,
         "type": "scatter",
         "x": [
          12
         ],
         "y": [
          4
         ]
        },
        {
         "hoverlabel": {
          "namelength": -1
         },
         "marker": {
          "color": "#787776",
          "size": 10
         },
         "mode": "markers",
         "name": "Ancilla ZZZZ",
         "showlegend": false,
         "type": "scatter",
         "x": [
          8
         ],
         "y": [
          4
         ]
        },
        {
         "hoverlabel": {
          "namelength": -1
         },
         "marker": {
          "color": "#787776",
          "size": 10
         },
         "mode": "markers",
         "name": "Ancilla XX,ZZZZ",
         "showlegend": false,
         "type": "scatter",
         "x": [
          10
         ],
         "y": [
          2
         ]
        },
        {
         "hoverlabel": {
          "namelength": -1
         },
         "marker": {
          "color": "#787776",
          "size": 10
         },
         "mode": "markers",
         "name": "Ancilla XX,ZZZZ",
         "showlegend": false,
         "type": "scatter",
         "x": [
          10
         ],
         "y": [
          6
         ]
        },
        {
         "hoverlabel": {
          "namelength": -1
         },
         "marker": {
          "color": "#787776",
          "size": 10
         },
         "mode": "markers",
         "name": "Ancilla ZZ,XXXX",
         "showlegend": false,
         "type": "scatter",
         "x": [
          12
         ],
         "y": [
          2
         ]
        },
        {
         "hoverlabel": {
          "namelength": -1
         },
         "marker": {
          "color": "#787776",
          "size": 10
         },
         "mode": "markers",
         "name": "Ancilla ZZZZ",
         "showlegend": false,
         "type": "scatter",
         "x": [
          6
         ],
         "y": [
          10
         ]
        },
        {
         "hoverlabel": {
          "namelength": -1
         },
         "marker": {
          "color": "#787776",
          "size": 10
         },
         "mode": "markers",
         "name": "Ancilla ZZZZ,XX",
         "showlegend": false,
         "type": "scatter",
         "x": [
          2
         ],
         "y": [
          10
         ]
        },
        {
         "hoverlabel": {
          "namelength": -1
         },
         "marker": {
          "color": "#787776",
          "size": 10
         },
         "mode": "markers",
         "name": "Ancilla XX",
         "showlegend": false,
         "type": "scatter",
         "x": [
          2
         ],
         "y": [
          14
         ]
        },
        {
         "hoverlabel": {
          "namelength": -1
         },
         "marker": {
          "color": "#787776",
          "size": 10
         },
         "mode": "markers",
         "name": "Ancilla XX",
         "showlegend": false,
         "type": "scatter",
         "x": [
          4
         ],
         "y": [
          10
         ]
        },
        {
         "hoverlabel": {
          "namelength": -1
         },
         "marker": {
          "color": "#787776",
          "size": 10
         },
         "mode": "markers",
         "name": "Ancilla XX,ZZZZ",
         "showlegend": false,
         "type": "scatter",
         "x": [
          4
         ],
         "y": [
          12
         ]
        },
        {
         "hoverlabel": {
          "namelength": -1
         },
         "marker": {
          "color": "#787776",
          "size": 10
         },
         "mode": "markers",
         "name": "Ancilla ZZ",
         "showlegend": false,
         "type": "scatter",
         "x": [
          0
         ],
         "y": [
          12
         ]
        },
        {
         "legendgroup": "X_L",
         "line": {
          "color": "#CE2D40",
          "width": 4
         },
         "name": "X_L",
         "showlegend": false,
         "type": "scatter",
         "x": [
          1,
          1,
          1,
          1,
          1,
          1,
          1
         ],
         "y": [
          13,
          11,
          9,
          7,
          5,
          3,
          1
         ]
        },
        {
         "legendgroup": "Z_L",
         "line": {
          "color": "#128AA5",
          "width": 4
         },
         "name": "Z_L",
         "showlegend": false,
         "type": "scatter",
         "x": [
          1,
          3,
          5,
          7,
          9,
          11,
          13
         ],
         "y": [
          1,
          1,
          1,
          1,
          1,
          1,
          1
         ]
        },
        {
         "legendgroup": "X_L",
         "line": {
          "color": "#CE2D40",
          "width": 4
         },
         "name": "X_L",
         "showlegend": true,
         "type": "scatter",
         "x": [
          13,
          13,
          13,
          13,
          13,
          13,
          13
         ],
         "y": [
          1,
          3,
          5,
          7,
          9,
          11,
          13
         ]
        },
        {
         "legendgroup": "Z_L",
         "line": {
          "color": "#128AA5",
          "width": 4
         },
         "name": "Z_L",
         "showlegend": true,
         "type": "scatter",
         "x": [
          13,
          11,
          9,
          7,
          5,
          3,
          1
         ],
         "y": [
          13,
          13,
          13,
          13,
          13,
          13,
          13
         ]
        },
        {
         "marker": {
          "color": "red",
          "size": 12,
          "symbol": "x"
         },
         "mode": "markers",
         "name": "qubit defect",
         "showlegend": false,
         "type": "scatter",
         "x": [
          4,
          10,
          14,
          2
         ],
         "y": [
          4,
          4,
          2,
          12
         ]
        },
        {
         "line": {
          "color": "red",
          "dash": "dot",
          "width": 2
         },
         "mode": "lines",
         "name": "link defect",
         "showlegend": false,
         "type": "scatter",
         "x": [
          5,
          5.5,
          6
         ],
         "y": [
          5,
          5.5,
          6
         ]
        },
        {
         "line": {
          "color": "red",
          "dash": "dot",
          "width": 2
         },
         "mode": "lines",
         "name": "link defect",
         "showlegend": false,
         "type": "scatter",
         "x": [
          1,
          1.5,
          2
         ],
         "y": [
          5,
          4.5,
          4
         ]
        },
        {
         "line": {
          "color": "red",
          "dash": "dot",
          "width": 2
         },
         "mode": "lines",
         "name": "link defect",
         "showlegend": false,
         "type": "scatter",
         "x": [
          3,
          3.5,
          4
         ],
         "y": [
          11,
          10.5,
          10
         ]
        }
       ],
       "layout": {
        "autosize": false,
        "template": {
         "data": {
          "bar": [
           {
            "error_x": {
             "color": "#2a3f5f"
            },
            "error_y": {
             "color": "#2a3f5f"
            },
            "marker": {
             "line": {
              "color": "#E5ECF6",
              "width": 0.5
             },
             "pattern": {
              "fillmode": "overlay",
              "size": 10,
              "solidity": 0.2
             }
            },
            "type": "bar"
           }
          ],
          "barpolar": [
           {
            "marker": {
             "line": {
              "color": "#E5ECF6",
              "width": 0.5
             },
             "pattern": {
              "fillmode": "overlay",
              "size": 10,
              "solidity": 0.2
             }
            },
            "type": "barpolar"
           }
          ],
          "carpet": [
           {
            "aaxis": {
             "endlinecolor": "#2a3f5f",
             "gridcolor": "white",
             "linecolor": "white",
             "minorgridcolor": "white",
             "startlinecolor": "#2a3f5f"
            },
            "baxis": {
             "endlinecolor": "#2a3f5f",
             "gridcolor": "white",
             "linecolor": "white",
             "minorgridcolor": "white",
             "startlinecolor": "#2a3f5f"
            },
            "type": "carpet"
           }
          ],
          "choropleth": [
           {
            "colorbar": {
             "outlinewidth": 0,
             "ticks": ""
            },
            "type": "choropleth"
           }
          ],
          "contour": [
           {
            "colorbar": {
             "outlinewidth": 0,
             "ticks": ""
            },
            "colorscale": [
             [
              0,
              "#0d0887"
             ],
             [
              0.1111111111111111,
              "#46039f"
             ],
             [
              0.2222222222222222,
              "#7201a8"
             ],
             [
              0.3333333333333333,
              "#9c179e"
             ],
             [
              0.4444444444444444,
              "#bd3786"
             ],
             [
              0.5555555555555556,
              "#d8576b"
             ],
             [
              0.6666666666666666,
              "#ed7953"
             ],
             [
              0.7777777777777778,
              "#fb9f3a"
             ],
             [
              0.8888888888888888,
              "#fdca26"
             ],
             [
              1,
              "#f0f921"
             ]
            ],
            "type": "contour"
           }
          ],
          "contourcarpet": [
           {
            "colorbar": {
             "outlinewidth": 0,
             "ticks": ""
            },
            "type": "contourcarpet"
           }
          ],
          "heatmap": [
           {
            "colorbar": {
             "outlinewidth": 0,
             "ticks": ""
            },
            "colorscale": [
             [
              0,
              "#0d0887"
             ],
             [
              0.1111111111111111,
              "#46039f"
             ],
             [
              0.2222222222222222,
              "#7201a8"
             ],
             [
              0.3333333333333333,
              "#9c179e"
             ],
             [
              0.4444444444444444,
              "#bd3786"
             ],
             [
              0.5555555555555556,
              "#d8576b"
             ],
             [
              0.6666666666666666,
              "#ed7953"
             ],
             [
              0.7777777777777778,
              "#fb9f3a"
             ],
             [
              0.8888888888888888,
              "#fdca26"
             ],
             [
              1,
              "#f0f921"
             ]
            ],
            "type": "heatmap"
           }
          ],
          "heatmapgl": [
           {
            "colorbar": {
             "outlinewidth": 0,
             "ticks": ""
            },
            "colorscale": [
             [
              0,
              "#0d0887"
             ],
             [
              0.1111111111111111,
              "#46039f"
             ],
             [
              0.2222222222222222,
              "#7201a8"
             ],
             [
              0.3333333333333333,
              "#9c179e"
             ],
             [
              0.4444444444444444,
              "#bd3786"
             ],
             [
              0.5555555555555556,
              "#d8576b"
             ],
             [
              0.6666666666666666,
              "#ed7953"
             ],
             [
              0.7777777777777778,
              "#fb9f3a"
             ],
             [
              0.8888888888888888,
              "#fdca26"
             ],
             [
              1,
              "#f0f921"
             ]
            ],
            "type": "heatmapgl"
           }
          ],
          "histogram": [
           {
            "marker": {
             "pattern": {
              "fillmode": "overlay",
              "size": 10,
              "solidity": 0.2
             }
            },
            "type": "histogram"
           }
          ],
          "histogram2d": [
           {
            "colorbar": {
             "outlinewidth": 0,
             "ticks": ""
            },
            "colorscale": [
             [
              0,
              "#0d0887"
             ],
             [
              0.1111111111111111,
              "#46039f"
             ],
             [
              0.2222222222222222,
              "#7201a8"
             ],
             [
              0.3333333333333333,
              "#9c179e"
             ],
             [
              0.4444444444444444,
              "#bd3786"
             ],
             [
              0.5555555555555556,
              "#d8576b"
             ],
             [
              0.6666666666666666,
              "#ed7953"
             ],
             [
              0.7777777777777778,
              "#fb9f3a"
             ],
             [
              0.8888888888888888,
              "#fdca26"
             ],
             [
              1,
              "#f0f921"
             ]
            ],
            "type": "histogram2d"
           }
          ],
          "histogram2dcontour": [
           {
            "colorbar": {
             "outlinewidth": 0,
             "ticks": ""
            },
            "colorscale": [
             [
              0,
              "#0d0887"
             ],
             [
              0.1111111111111111,
              "#46039f"
             ],
             [
              0.2222222222222222,
              "#7201a8"
             ],
             [
              0.3333333333333333,
              "#9c179e"
             ],
             [
              0.4444444444444444,
              "#bd3786"
             ],
             [
              0.5555555555555556,
              "#d8576b"
             ],
             [
              0.6666666666666666,
              "#ed7953"
             ],
             [
              0.7777777777777778,
              "#fb9f3a"
             ],
             [
              0.8888888888888888,
              "#fdca26"
             ],
             [
              1,
              "#f0f921"
             ]
            ],
            "type": "histogram2dcontour"
           }
          ],
          "mesh3d": [
           {
            "colorbar": {
             "outlinewidth": 0,
             "ticks": ""
            },
            "type": "mesh3d"
           }
          ],
          "parcoords": [
           {
            "line": {
             "colorbar": {
              "outlinewidth": 0,
              "ticks": ""
             }
            },
            "type": "parcoords"
           }
          ],
          "pie": [
           {
            "automargin": true,
            "type": "pie"
           }
          ],
          "scatter": [
           {
            "fillpattern": {
             "fillmode": "overlay",
             "size": 10,
             "solidity": 0.2
            },
            "type": "scatter"
           }
          ],
          "scatter3d": [
           {
            "line": {
             "colorbar": {
              "outlinewidth": 0,
              "ticks": ""
             }
            },
            "marker": {
             "colorbar": {
              "outlinewidth": 0,
              "ticks": ""
             }
            },
            "type": "scatter3d"
           }
          ],
          "scattercarpet": [
           {
            "marker": {
             "colorbar": {
              "outlinewidth": 0,
              "ticks": ""
             }
            },
            "type": "scattercarpet"
           }
          ],
          "scattergeo": [
           {
            "marker": {
             "colorbar": {
              "outlinewidth": 0,
              "ticks": ""
             }
            },
            "type": "scattergeo"
           }
          ],
          "scattergl": [
           {
            "marker": {
             "colorbar": {
              "outlinewidth": 0,
              "ticks": ""
             }
            },
            "type": "scattergl"
           }
          ],
          "scattermapbox": [
           {
            "marker": {
             "colorbar": {
              "outlinewidth": 0,
              "ticks": ""
             }
            },
            "type": "scattermapbox"
           }
          ],
          "scatterpolar": [
           {
            "marker": {
             "colorbar": {
              "outlinewidth": 0,
              "ticks": ""
             }
            },
            "type": "scatterpolar"
           }
          ],
          "scatterpolargl": [
           {
            "marker": {
             "colorbar": {
              "outlinewidth": 0,
              "ticks": ""
             }
            },
            "type": "scatterpolargl"
           }
          ],
          "scatterternary": [
           {
            "marker": {
             "colorbar": {
              "outlinewidth": 0,
              "ticks": ""
             }
            },
            "type": "scatterternary"
           }
          ],
          "surface": [
           {
            "colorbar": {
             "outlinewidth": 0,
             "ticks": ""
            },
            "colorscale": [
             [
              0,
              "#0d0887"
             ],
             [
              0.1111111111111111,
              "#46039f"
             ],
             [
              0.2222222222222222,
              "#7201a8"
             ],
             [
              0.3333333333333333,
              "#9c179e"
             ],
             [
              0.4444444444444444,
              "#bd3786"
             ],
             [
              0.5555555555555556,
              "#d8576b"
             ],
             [
              0.6666666666666666,
              "#ed7953"
             ],
             [
              0.7777777777777778,
              "#fb9f3a"
             ],
             [
              0.8888888888888888,
              "#fdca26"
             ],
             [
              1,
              "#f0f921"
             ]
            ],
            "type": "surface"
           }
          ],
          "table": [
           {
            "cells": {
             "fill": {
              "color": "#EBF0F8"
             },
             "line": {
              "color": "white"
             }
            },
            "header": {
             "fill": {
              "color": "#C8D4E3"
             },
             "line": {
              "color": "white"
             }
            },
            "type": "table"
           }
          ]
         },
         "layout": {
          "annotationdefaults": {
           "arrowcolor": "#2a3f5f",
           "arrowhead": 0,
           "arrowwidth": 1
          },
          "autotypenumbers": "strict",
          "coloraxis": {
           "colorbar": {
            "outlinewidth": 0,
            "ticks": ""
           }
          },
          "colorscale": {
           "diverging": [
            [
             0,
             "#8e0152"
            ],
            [
             0.1,
             "#c51b7d"
            ],
            [
             0.2,
             "#de77ae"
            ],
            [
             0.3,
             "#f1b6da"
            ],
            [
             0.4,
             "#fde0ef"
            ],
            [
             0.5,
             "#f7f7f7"
            ],
            [
             0.6,
             "#e6f5d0"
            ],
            [
             0.7,
             "#b8e186"
            ],
            [
             0.8,
             "#7fbc41"
            ],
            [
             0.9,
             "#4d9221"
            ],
            [
             1,
             "#276419"
            ]
           ],
           "sequential": [
            [
             0,
             "#0d0887"
            ],
            [
             0.1111111111111111,
             "#46039f"
            ],
            [
             0.2222222222222222,
             "#7201a8"
            ],
            [
             0.3333333333333333,
             "#9c179e"
            ],
            [
             0.4444444444444444,
             "#bd3786"
            ],
            [
             0.5555555555555556,
             "#d8576b"
            ],
            [
             0.6666666666666666,
             "#ed7953"
            ],
            [
             0.7777777777777778,
             "#fb9f3a"
            ],
            [
             0.8888888888888888,
             "#fdca26"
            ],
            [
             1,
             "#f0f921"
            ]
           ],
           "sequentialminus": [
            [
             0,
             "#0d0887"
            ],
            [
             0.1111111111111111,
             "#46039f"
            ],
            [
             0.2222222222222222,
             "#7201a8"
            ],
            [
             0.3333333333333333,
             "#9c179e"
            ],
            [
             0.4444444444444444,
             "#bd3786"
            ],
            [
             0.5555555555555556,
             "#d8576b"
            ],
            [
             0.6666666666666666,
             "#ed7953"
            ],
            [
             0.7777777777777778,
             "#fb9f3a"
            ],
            [
             0.8888888888888888,
             "#fdca26"
            ],
            [
             1,
             "#f0f921"
            ]
           ]
          },
          "colorway": [
           "#636efa",
           "#EF553B",
           "#00cc96",
           "#ab63fa",
           "#FFA15A",
           "#19d3f3",
           "#FF6692",
           "#B6E880",
           "#FF97FF",
           "#FECB52"
          ],
          "font": {
           "color": "#2a3f5f"
          },
          "geo": {
           "bgcolor": "white",
           "lakecolor": "white",
           "landcolor": "#E5ECF6",
           "showlakes": true,
           "showland": true,
           "subunitcolor": "white"
          },
          "hoverlabel": {
           "align": "left"
          },
          "hovermode": "closest",
          "mapbox": {
           "style": "light"
          },
          "paper_bgcolor": "white",
          "plot_bgcolor": "#E5ECF6",
          "polar": {
           "angularaxis": {
            "gridcolor": "white",
            "linecolor": "white",
            "ticks": ""
           },
           "bgcolor": "#E5ECF6",
           "radialaxis": {
            "gridcolor": "white",
            "linecolor": "white",
            "ticks": ""
           }
          },
          "scene": {
           "xaxis": {
            "backgroundcolor": "#E5ECF6",
            "gridcolor": "white",
            "gridwidth": 2,
            "linecolor": "white",
            "showbackground": true,
            "ticks": "",
            "zerolinecolor": "white"
           },
           "yaxis": {
            "backgroundcolor": "#E5ECF6",
            "gridcolor": "white",
            "gridwidth": 2,
            "linecolor": "white",
            "showbackground": true,
            "ticks": "",
            "zerolinecolor": "white"
           },
           "zaxis": {
            "backgroundcolor": "#E5ECF6",
            "gridcolor": "white",
            "gridwidth": 2,
            "linecolor": "white",
            "showbackground": true,
            "ticks": "",
            "zerolinecolor": "white"
           }
          },
          "shapedefaults": {
           "line": {
            "color": "#2a3f5f"
           }
          },
          "ternary": {
           "aaxis": {
            "gridcolor": "white",
            "linecolor": "white",
            "ticks": ""
           },
           "baxis": {
            "gridcolor": "white",
            "linecolor": "white",
            "ticks": ""
           },
           "bgcolor": "#E5ECF6",
           "caxis": {
            "gridcolor": "white",
            "linecolor": "white",
            "ticks": ""
           }
          },
          "title": {
           "x": 0.05
          },
          "xaxis": {
           "automargin": true,
           "gridcolor": "white",
           "linecolor": "white",
           "ticks": "",
           "title": {
            "standoff": 15
           },
           "zerolinecolor": "white",
           "zerolinewidth": 2
          },
          "yaxis": {
           "automargin": true,
           "gridcolor": "white",
           "linecolor": "white",
           "ticks": "",
           "title": {
            "standoff": 15
           },
           "zerolinecolor": "white",
           "zerolinewidth": 2
          }
         }
        },
        "width": 800,
        "xaxis": {
         "showgrid": false
        },
        "yaxis": {
         "scaleanchor": "x",
         "showgrid": false
        }
       }
      }
     },
     "metadata": {},
     "output_type": "display_data"
    }
   ],
   "source": [
    "L = 3\n",
    "undamaged_patch = RotatedSurfaceCode(distance=(2 * L + 1, 2 * L + 1))\n",
    "\n",
    "data_defects = {Pos(*x) for x in {}}\n",
    "ancilla_defects = {Pos(*x) for x in {(2, 12), (4, 4), (10, 4), (14, 2)}}\n",
    "link_defects = {\n",
    "    (Pos(*x), Pos(*y)) for x, y in {((5, 5), (6, 6)), ((3, 11), (4, 10)), ((1, 5), (2, 4))}\n",
    "}\n",
    "heuristics = Heuristics(n_sol_max_per_cluster=10, n_sol_max=100)\n",
    "\n",
    "_, damaged_patches = DefectiveSurfaceCode.make_defective_patches(\n",
    "    undamaged_patch,\n",
    "    ancilla_defects,\n",
    "    data_defects,\n",
    "    link_defects,\n",
    "    repurpose_ancillas=True,\n",
    "    add_padding=True,\n",
    "    use_heuristics=heuristics,\n",
    "    first_super_type=PauliT.X,\n",
    ")\n",
    "\n",
    "patch = damaged_patches[0]\n",
    "plot(patch)"
   ]
  },
  {
   "cell_type": "code",
   "execution_count": 17,
   "id": "5f2ddd46",
   "metadata": {},
   "outputs": [
    {
     "data": {
      "application/vnd.plotly.v1+json": {
       "config": {
        "plotlyServerURL": "https://plot.ly"
       },
       "data": [
        {
         "marker": {
          "color": "#474645",
          "size": 8
         },
         "mode": "markers",
         "name": "qubit",
         "showlegend": false,
         "type": "scatter",
         "x": [
          1,
          1,
          1,
          1,
          1,
          1,
          1,
          3,
          3,
          3,
          3,
          3,
          3,
          3,
          5,
          5,
          5,
          5,
          5,
          5,
          5,
          7,
          7,
          7,
          7,
          7,
          7,
          7,
          9,
          9,
          9,
          9,
          9,
          9,
          9,
          11,
          11,
          11,
          11,
          11,
          11,
          11,
          13,
          13,
          13,
          13,
          13,
          13,
          13
         ],
         "y": [
          1,
          3,
          5,
          7,
          9,
          11,
          13,
          1,
          3,
          5,
          7,
          9,
          11,
          13,
          1,
          3,
          5,
          7,
          9,
          11,
          13,
          1,
          3,
          5,
          7,
          9,
          11,
          13,
          1,
          3,
          5,
          7,
          9,
          11,
          13,
          1,
          3,
          5,
          7,
          9,
          11,
          13,
          1,
          3,
          5,
          7,
          9,
          11,
          13
         ]
        },
        {
         "marker": {
          "color": "#787776",
          "size": 10
         },
         "mode": "markers",
         "name": "qubit",
         "showlegend": false,
         "type": "scatter",
         "x": [
          0,
          0,
          0,
          0,
          0,
          0,
          0,
          0,
          2,
          2,
          2,
          2,
          2,
          2,
          2,
          2,
          4,
          4,
          4,
          4,
          4,
          4,
          4,
          4,
          6,
          6,
          6,
          6,
          6,
          6,
          6,
          6,
          8,
          8,
          8,
          8,
          8,
          8,
          8,
          8,
          10,
          10,
          10,
          10,
          10,
          10,
          10,
          10,
          12,
          12,
          12,
          12,
          12,
          12,
          12,
          12,
          14,
          14,
          14,
          14,
          14,
          14,
          14,
          14
         ],
         "y": [
          0,
          2,
          4,
          6,
          8,
          10,
          12,
          14,
          0,
          2,
          4,
          6,
          8,
          10,
          12,
          14,
          0,
          2,
          4,
          6,
          8,
          10,
          12,
          14,
          0,
          2,
          4,
          6,
          8,
          10,
          12,
          14,
          0,
          2,
          4,
          6,
          8,
          10,
          12,
          14,
          0,
          2,
          4,
          6,
          8,
          10,
          12,
          14,
          0,
          2,
          4,
          6,
          8,
          10,
          12,
          14,
          0,
          2,
          4,
          6,
          8,
          10,
          12,
          14
         ]
        },
        {
         "fill": "toself",
         "fillcolor": "#78DAF0",
         "hoverinfo": "none",
         "legendgroup": "S_Z",
         "line": {
          "color": "#128AA5",
          "width": 2
         },
         "name": "S_Z",
         "showlegend": true,
         "type": "scatter",
         "x": [
          1,
          3,
          3,
          1,
          1
         ],
         "y": [
          1,
          1,
          3,
          3,
          1
         ]
        },
        {
         "marker": {
          "color": "#474645",
          "size": 8
         },
         "mode": "markers",
         "name": "data",
         "showlegend": false,
         "type": "scatter",
         "x": [
          1,
          3,
          1,
          3
         ],
         "y": [
          3,
          3,
          1,
          1
         ]
        },
        {
         "fill": "toself",
         "fillcolor": "#D49587",
         "hoverinfo": "none",
         "legendgroup": "S_X",
         "line": {
          "color": "#BD5E49",
          "width": 2
         },
         "name": "S_X",
         "showlegend": true,
         "type": "scatter",
         "x": [
          3,
          5,
          5,
          3,
          3
         ],
         "y": [
          1,
          1,
          3,
          3,
          1
         ]
        },
        {
         "marker": {
          "color": "#474645",
          "size": 8
         },
         "mode": "markers",
         "name": "data",
         "showlegend": false,
         "type": "scatter",
         "x": [
          3,
          3,
          5,
          5
         ],
         "y": [
          1,
          3,
          3,
          1
         ]
        },
        {
         "fill": "toself",
         "fillcolor": "#E27985",
         "hoverinfo": "none",
         "legendgroup": "S_X",
         "line": {
          "color": "#CE2D40",
          "width": 2
         },
         "name": "S_X",
         "showlegend": false,
         "type": "scatter",
         "x": [
          2,
          1,
          3,
          2
         ],
         "y": [
          0,
          1,
          1,
          0
         ]
        },
        {
         "marker": {
          "color": "#474645",
          "size": 8
         },
         "mode": "markers",
         "name": "data",
         "showlegend": false,
         "type": "scatter",
         "x": [
          1,
          3
         ],
         "y": [
          1,
          1
         ]
        },
        {
         "fill": "toself",
         "fillcolor": "#78DAF0",
         "hoverinfo": "none",
         "legendgroup": "S_Z",
         "line": {
          "color": "#128AA5",
          "width": 2
         },
         "name": "S_Z",
         "showlegend": false,
         "type": "scatter",
         "x": [
          6,
          5,
          5,
          6
         ],
         "y": [
          2,
          3,
          1,
          2
         ]
        },
        {
         "marker": {
          "color": "#474645",
          "size": 8
         },
         "mode": "markers",
         "name": "data",
         "showlegend": false,
         "type": "scatter",
         "x": [
          5,
          5
         ],
         "y": [
          3,
          1
         ]
        },
        {
         "fill": "toself",
         "fillcolor": "#D2AAF0",
         "hoverinfo": "none",
         "legendgroup": "S_Z",
         "line": {
          "color": "#A352E0",
          "width": 2
         },
         "name": "S_Z",
         "showlegend": false,
         "type": "scatter",
         "x": [
          0,
          1,
          1,
          0
         ],
         "y": [
          4,
          3,
          5,
          4
         ]
        },
        {
         "marker": {
          "color": "#474645",
          "size": 8
         },
         "mode": "markers",
         "name": "data",
         "showlegend": false,
         "type": "scatter",
         "x": [
          1,
          1
         ],
         "y": [
          3,
          5
         ]
        },
        {
         "fill": "toself",
         "fillcolor": "#D2AAF0",
         "hoverinfo": "none",
         "legendgroup": "S_Z",
         "line": {
          "color": "#A352E0",
          "width": 2
         },
         "name": "S_Z",
         "showlegend": false,
         "type": "scatter",
         "x": [
          2,
          3,
          3,
          2
         ],
         "y": [
          4,
          5,
          3,
          4
         ]
        },
        {
         "marker": {
          "color": "#474645",
          "size": 8
         },
         "mode": "markers",
         "name": "data",
         "showlegend": false,
         "type": "scatter",
         "x": [
          3,
          3
         ],
         "y": [
          5,
          3
         ]
        },
        {
         "fill": "toself",
         "fillcolor": "#D2AAF0",
         "hoverinfo": "none",
         "legendgroup": "S_Z",
         "line": {
          "color": "#A352E0",
          "width": 2
         },
         "name": "S_Z",
         "showlegend": false,
         "type": "scatter",
         "x": [
          6,
          5,
          5,
          6
         ],
         "y": [
          4,
          5,
          3,
          4
         ]
        },
        {
         "marker": {
          "color": "#474645",
          "size": 8
         },
         "mode": "markers",
         "name": "data",
         "showlegend": false,
         "type": "scatter",
         "x": [
          5,
          5
         ],
         "y": [
          5,
          3
         ]
        },
        {
         "fill": "toself",
         "fillcolor": "#F1BB7E",
         "hoverinfo": "none",
         "legendgroup": "S_X",
         "line": {
          "color": "#DC8118",
          "width": 2
         },
         "name": "S_X",
         "showlegend": false,
         "type": "scatter",
         "x": [
          2,
          3,
          1,
          2
         ],
         "y": [
          4,
          3,
          3,
          4
         ]
        },
        {
         "marker": {
          "color": "#474645",
          "size": 8
         },
         "mode": "markers",
         "name": "data",
         "showlegend": false,
         "type": "scatter",
         "x": [
          3,
          1
         ],
         "y": [
          3,
          3
         ]
        },
        {
         "fill": "toself",
         "fillcolor": "#F1BB7E",
         "hoverinfo": "none",
         "legendgroup": "S_X",
         "line": {
          "color": "#DC8118",
          "width": 2
         },
         "name": "S_X",
         "showlegend": false,
         "type": "scatter",
         "x": [
          2,
          3,
          1,
          2
         ],
         "y": [
          6,
          5,
          5,
          6
         ]
        },
        {
         "marker": {
          "color": "#474645",
          "size": 8
         },
         "mode": "markers",
         "name": "data",
         "showlegend": false,
         "type": "scatter",
         "x": [
          3,
          1
         ],
         "y": [
          5,
          5
         ]
        },
        {
         "fill": "toself",
         "fillcolor": "#D49587",
         "hoverinfo": "none",
         "legendgroup": "S_X",
         "line": {
          "color": "#BD5E49",
          "width": 2
         },
         "name": "S_X",
         "showlegend": false,
         "type": "scatter",
         "x": [
          4,
          3,
          5,
          4
         ],
         "y": [
          6,
          5,
          5,
          6
         ]
        },
        {
         "marker": {
          "color": "#474645",
          "size": 8
         },
         "mode": "markers",
         "name": "data",
         "showlegend": false,
         "type": "scatter",
         "x": [
          3,
          5
         ],
         "y": [
          5,
          5
         ]
        },
        {
         "hoverlabel": {
          "namelength": -1
         },
         "marker": {
          "color": "#787776",
          "size": 10
         },
         "mode": "markers",
         "name": "Ancilla XX",
         "showlegend": false,
         "type": "scatter",
         "x": [
          2
         ],
         "y": [
          0
         ]
        },
        {
         "hoverlabel": {
          "namelength": -1
         },
         "marker": {
          "color": "#787776",
          "size": 10
         },
         "mode": "markers",
         "name": "Ancilla ZZZZ",
         "showlegend": false,
         "type": "scatter",
         "x": [
          2
         ],
         "y": [
          2
         ]
        },
        {
         "hoverlabel": {
          "namelength": -1
         },
         "marker": {
          "color": "#787776",
          "size": 10
         },
         "mode": "markers",
         "name": "Ancilla ZZ",
         "showlegend": false,
         "type": "scatter",
         "x": [
          6
         ],
         "y": [
          2
         ]
        },
        {
         "hoverlabel": {
          "namelength": -1
         },
         "marker": {
          "color": "#787776",
          "size": 10
         },
         "mode": "markers",
         "name": "Ancilla ZZ",
         "showlegend": false,
         "type": "scatter",
         "x": [
          0
         ],
         "y": [
          4
         ]
        },
        {
         "hoverlabel": {
          "namelength": -1
         },
         "marker": {
          "color": "#787776",
          "size": 10
         },
         "mode": "markers",
         "name": "Ancilla ZZ,XX",
         "showlegend": false,
         "type": "scatter",
         "x": [
          2
         ],
         "y": [
          4
         ]
        },
        {
         "hoverlabel": {
          "namelength": -1
         },
         "marker": {
          "color": "#787776",
          "size": 10
         },
         "mode": "markers",
         "name": "Ancilla ZZ",
         "showlegend": false,
         "type": "scatter",
         "x": [
          6
         ],
         "y": [
          4
         ]
        },
        {
         "hoverlabel": {
          "namelength": -1
         },
         "marker": {
          "color": "#787776",
          "size": 10
         },
         "mode": "markers",
         "name": "Ancilla XX",
         "showlegend": false,
         "type": "scatter",
         "x": [
          2
         ],
         "y": [
          6
         ]
        },
        {
         "hoverlabel": {
          "namelength": -1
         },
         "marker": {
          "color": "#787776",
          "size": 10
         },
         "mode": "markers",
         "name": "Ancilla XX",
         "showlegend": false,
         "type": "scatter",
         "x": [
          4
         ],
         "y": [
          6
         ]
        },
        {
         "hoverlabel": {
          "namelength": -1
         },
         "marker": {
          "color": "#787776",
          "size": 10
         },
         "mode": "markers",
         "name": "Ancilla XXXX",
         "showlegend": false,
         "type": "scatter",
         "x": [
          4
         ],
         "y": [
          2
         ]
        },
        {
         "legendgroup": "X_L",
         "line": {
          "color": "#CE2D40",
          "width": 4
         },
         "name": "X_L",
         "showlegend": false,
         "type": "scatter",
         "x": [
          1,
          1,
          1
         ],
         "y": [
          5,
          3,
          1
         ]
        },
        {
         "legendgroup": "Z_L",
         "line": {
          "color": "#128AA5",
          "width": 4
         },
         "name": "Z_L",
         "showlegend": false,
         "type": "scatter",
         "x": [
          1,
          3,
          5
         ],
         "y": [
          1,
          1,
          1
         ]
        },
        {
         "legendgroup": "X_L",
         "line": {
          "color": "#CE2D40",
          "width": 4
         },
         "name": "X_L",
         "showlegend": true,
         "type": "scatter",
         "x": [
          5,
          5,
          5
         ],
         "y": [
          1,
          3,
          5
         ]
        },
        {
         "legendgroup": "Z_L",
         "line": {
          "color": "#128AA5",
          "width": 4
         },
         "name": "Z_L",
         "showlegend": true,
         "type": "scatter",
         "x": [
          5,
          3,
          1
         ],
         "y": [
          5,
          5,
          5
         ]
        },
        {
         "marker": {
          "color": "red",
          "size": 12,
          "symbol": "x"
         },
         "mode": "markers",
         "name": "qubit defect",
         "showlegend": false,
         "type": "scatter",
         "x": [
          4
         ],
         "y": [
          4
         ]
        },
        {
         "line": {
          "color": "red",
          "dash": "dot",
          "width": 2
         },
         "mode": "lines",
         "name": "link defect",
         "showlegend": false,
         "type": "scatter",
         "x": [
          1,
          1.5,
          2
         ],
         "y": [
          5,
          4.5,
          4
         ]
        },
        {
         "fill": "toself",
         "fillcolor": "#D2AAF0",
         "hoverinfo": "none",
         "legendgroup": "S_Z",
         "line": {
          "color": "#A352E0",
          "width": 2
         },
         "name": "S_Z",
         "showlegend": true,
         "type": "scatter",
         "x": [
          1,
          3,
          3,
          1,
          1
         ],
         "y": [
          9,
          9,
          11,
          11,
          9
         ]
        },
        {
         "marker": {
          "color": "#474645",
          "size": 8
         },
         "mode": "markers",
         "name": "data",
         "showlegend": false,
         "type": "scatter",
         "x": [
          1,
          3,
          1,
          3
         ],
         "y": [
          11,
          11,
          9,
          9
         ]
        },
        {
         "fill": "toself",
         "fillcolor": "#7BB5EB",
         "hoverinfo": "none",
         "legendgroup": "S_Z",
         "line": {
          "color": "#207DD5",
          "width": 2
         },
         "name": "S_Z",
         "showlegend": false,
         "type": "scatter",
         "x": [
          3,
          5,
          5,
          3,
          3
         ],
         "y": [
          11,
          11,
          13,
          13,
          11
         ]
        },
        {
         "marker": {
          "color": "#474645",
          "size": 8
         },
         "mode": "markers",
         "name": "data",
         "showlegend": false,
         "type": "scatter",
         "x": [
          3,
          3,
          5,
          5
         ],
         "y": [
          13,
          11,
          13,
          11
         ]
        },
        {
         "fill": "toself",
         "fillcolor": "#E27985",
         "hoverinfo": "none",
         "legendgroup": "S_X",
         "line": {
          "color": "#CE2D40",
          "width": 2
         },
         "name": "S_X",
         "showlegend": true,
         "type": "scatter",
         "x": [
          2,
          1,
          3,
          2
         ],
         "y": [
          8,
          9,
          9,
          8
         ]
        },
        {
         "marker": {
          "color": "#474645",
          "size": 8
         },
         "mode": "markers",
         "name": "data",
         "showlegend": false,
         "type": "scatter",
         "x": [
          1,
          3
         ],
         "y": [
          9,
          9
         ]
        },
        {
         "fill": "toself",
         "fillcolor": "#E27985",
         "hoverinfo": "none",
         "legendgroup": "S_X",
         "line": {
          "color": "#CE2D40",
          "width": 2
         },
         "name": "S_X",
         "showlegend": false,
         "type": "scatter",
         "x": [
          4,
          3,
          5,
          4
         ],
         "y": [
          14,
          13,
          13,
          14
         ]
        },
        {
         "marker": {
          "color": "#474645",
          "size": 8
         },
         "mode": "markers",
         "name": "data",
         "showlegend": false,
         "type": "scatter",
         "x": [
          3,
          5
         ],
         "y": [
          13,
          13
         ]
        },
        {
         "fill": "toself",
         "fillcolor": "#D2AAF0",
         "hoverinfo": "none",
         "legendgroup": "S_Z",
         "line": {
          "color": "#A352E0",
          "width": 2
         },
         "name": "S_Z",
         "showlegend": false,
         "type": "scatter",
         "x": [
          6,
          5,
          5,
          6
         ],
         "y": [
          10,
          11,
          9,
          10
         ]
        },
        {
         "marker": {
          "color": "#474645",
          "size": 8
         },
         "mode": "markers",
         "name": "data",
         "showlegend": false,
         "type": "scatter",
         "x": [
          5,
          5
         ],
         "y": [
          11,
          9
         ]
        },
        {
         "fill": "toself",
         "fillcolor": "#EE8F6D",
         "hoverinfo": "none",
         "legendgroup": "S_X",
         "line": {
          "color": "#E55724",
          "width": 2
         },
         "name": "S_X",
         "showlegend": false,
         "type": "scatter",
         "x": [
          2,
          3,
          1,
          2
         ],
         "y": [
          14,
          13,
          13,
          14
         ]
        },
        {
         "marker": {
          "color": "#474645",
          "size": 8
         },
         "mode": "markers",
         "name": "data",
         "showlegend": false,
         "type": "scatter",
         "x": [
          3,
          1
         ],
         "y": [
          13,
          13
         ]
        },
        {
         "fill": "toself",
         "fillcolor": "#EE8F6D",
         "hoverinfo": "none",
         "legendgroup": "S_X",
         "line": {
          "color": "#E55724",
          "width": 2
         },
         "name": "S_X",
         "showlegend": false,
         "type": "scatter",
         "x": [
          2,
          3,
          1,
          2
         ],
         "y": [
          10,
          11,
          11,
          10
         ]
        },
        {
         "marker": {
          "color": "#474645",
          "size": 8
         },
         "mode": "markers",
         "name": "data",
         "showlegend": false,
         "type": "scatter",
         "x": [
          3,
          1
         ],
         "y": [
          11,
          11
         ]
        },
        {
         "fill": "toself",
         "fillcolor": "#D49587",
         "hoverinfo": "none",
         "legendgroup": "S_X",
         "line": {
          "color": "#BD5E49",
          "width": 2
         },
         "name": "S_X",
         "showlegend": false,
         "type": "scatter",
         "x": [
          4,
          5,
          3,
          4
         ],
         "y": [
          10,
          9,
          9,
          10
         ]
        },
        {
         "marker": {
          "color": "#474645",
          "size": 8
         },
         "mode": "markers",
         "name": "data",
         "showlegend": false,
         "type": "scatter",
         "x": [
          5,
          3
         ],
         "y": [
          9,
          9
         ]
        },
        {
         "fill": "toself",
         "fillcolor": "#D49587",
         "hoverinfo": "none",
         "legendgroup": "S_X",
         "line": {
          "color": "#BD5E49",
          "width": 2
         },
         "name": "S_X",
         "showlegend": false,
         "type": "scatter",
         "x": [
          4,
          5,
          3,
          4
         ],
         "y": [
          12,
          11,
          11,
          12
         ]
        },
        {
         "marker": {
          "color": "#474645",
          "size": 8
         },
         "mode": "markers",
         "name": "data",
         "showlegend": false,
         "type": "scatter",
         "x": [
          5,
          3
         ],
         "y": [
          11,
          11
         ]
        },
        {
         "fill": "toself",
         "fillcolor": "#7BB5EB",
         "hoverinfo": "none",
         "legendgroup": "S_Z",
         "line": {
          "color": "#207DD5",
          "width": 2
         },
         "name": "S_Z",
         "showlegend": false,
         "type": "scatter",
         "x": [
          0,
          1,
          1,
          0
         ],
         "y": [
          12,
          13,
          11,
          12
         ]
        },
        {
         "marker": {
          "color": "#474645",
          "size": 8
         },
         "mode": "markers",
         "name": "data",
         "showlegend": false,
         "type": "scatter",
         "x": [
          1,
          1
         ],
         "y": [
          13,
          11
         ]
        },
        {
         "hoverlabel": {
          "namelength": -1
         },
         "marker": {
          "color": "#787776",
          "size": 10
         },
         "mode": "markers",
         "name": "Ancilla XX",
         "showlegend": false,
         "type": "scatter",
         "x": [
          2
         ],
         "y": [
          8
         ]
        },
        {
         "hoverlabel": {
          "namelength": -1
         },
         "marker": {
          "color": "#787776",
          "size": 10
         },
         "mode": "markers",
         "name": "Ancilla XX",
         "showlegend": false,
         "type": "scatter",
         "x": [
          4
         ],
         "y": [
          14
         ]
        },
        {
         "hoverlabel": {
          "namelength": -1
         },
         "marker": {
          "color": "#787776",
          "size": 10
         },
         "mode": "markers",
         "name": "Ancilla ZZ",
         "showlegend": false,
         "type": "scatter",
         "x": [
          6
         ],
         "y": [
          10
         ]
        },
        {
         "hoverlabel": {
          "namelength": -1
         },
         "marker": {
          "color": "#787776",
          "size": 10
         },
         "mode": "markers",
         "name": "Ancilla ZZZZ,XX",
         "showlegend": false,
         "type": "scatter",
         "x": [
          2
         ],
         "y": [
          10
         ]
        },
        {
         "hoverlabel": {
          "namelength": -1
         },
         "marker": {
          "color": "#787776",
          "size": 10
         },
         "mode": "markers",
         "name": "Ancilla XX",
         "showlegend": false,
         "type": "scatter",
         "x": [
          2
         ],
         "y": [
          14
         ]
        },
        {
         "hoverlabel": {
          "namelength": -1
         },
         "marker": {
          "color": "#787776",
          "size": 10
         },
         "mode": "markers",
         "name": "Ancilla XX",
         "showlegend": false,
         "type": "scatter",
         "x": [
          4
         ],
         "y": [
          10
         ]
        },
        {
         "hoverlabel": {
          "namelength": -1
         },
         "marker": {
          "color": "#787776",
          "size": 10
         },
         "mode": "markers",
         "name": "Ancilla XX,ZZZZ",
         "showlegend": false,
         "type": "scatter",
         "x": [
          4
         ],
         "y": [
          12
         ]
        },
        {
         "hoverlabel": {
          "namelength": -1
         },
         "marker": {
          "color": "#787776",
          "size": 10
         },
         "mode": "markers",
         "name": "Ancilla ZZ",
         "showlegend": false,
         "type": "scatter",
         "x": [
          0
         ],
         "y": [
          12
         ]
        },
        {
         "legendgroup": "X_L",
         "line": {
          "color": "#CE2D40",
          "width": 4
         },
         "name": "X_L",
         "showlegend": false,
         "type": "scatter",
         "x": [
          1,
          1,
          1
         ],
         "y": [
          13,
          11,
          9
         ]
        },
        {
         "legendgroup": "Z_L",
         "line": {
          "color": "#128AA5",
          "width": 4
         },
         "name": "Z_L",
         "showlegend": false,
         "type": "scatter",
         "x": [
          1,
          3,
          5
         ],
         "y": [
          9,
          9,
          9
         ]
        },
        {
         "legendgroup": "X_L",
         "line": {
          "color": "#CE2D40",
          "width": 4
         },
         "name": "X_L",
         "showlegend": true,
         "type": "scatter",
         "x": [
          5,
          5,
          5
         ],
         "y": [
          9,
          11,
          13
         ]
        },
        {
         "legendgroup": "Z_L",
         "line": {
          "color": "#128AA5",
          "width": 4
         },
         "name": "Z_L",
         "showlegend": true,
         "type": "scatter",
         "x": [
          5,
          3,
          1
         ],
         "y": [
          13,
          13,
          13
         ]
        },
        {
         "marker": {
          "color": "red",
          "size": 12,
          "symbol": "x"
         },
         "mode": "markers",
         "name": "qubit defect",
         "showlegend": false,
         "type": "scatter",
         "x": [
          2
         ],
         "y": [
          12
         ]
        },
        {
         "line": {
          "color": "red",
          "dash": "dot",
          "width": 2
         },
         "mode": "lines",
         "name": "link defect",
         "showlegend": false,
         "type": "scatter",
         "x": [
          3,
          3.5,
          4
         ],
         "y": [
          11,
          10.5,
          10
         ]
        },
        {
         "fill": "toself",
         "fillcolor": "#D2AAF0",
         "hoverinfo": "none",
         "legendgroup": "S_Z",
         "line": {
          "color": "#A352E0",
          "width": 2
         },
         "name": "S_Z",
         "showlegend": true,
         "type": "scatter",
         "x": [
          11,
          13,
          13,
          11,
          11
         ],
         "y": [
          3,
          3,
          5,
          5,
          3
         ]
        },
        {
         "marker": {
          "color": "#474645",
          "size": 8
         },
         "mode": "markers",
         "name": "data",
         "showlegend": false,
         "type": "scatter",
         "x": [
          11,
          13,
          11,
          13
         ],
         "y": [
          3,
          3,
          5,
          5
         ]
        },
        {
         "fill": "toself",
         "fillcolor": "#7BB5EB",
         "hoverinfo": "none",
         "legendgroup": "S_Z",
         "line": {
          "color": "#207DD5",
          "width": 2
         },
         "name": "S_Z",
         "showlegend": false,
         "type": "scatter",
         "x": [
          9,
          11,
          11,
          9,
          9
         ],
         "y": [
          1,
          1,
          3,
          3,
          1
         ]
        },
        {
         "marker": {
          "color": "#474645",
          "size": 8
         },
         "mode": "markers",
         "name": "data",
         "showlegend": false,
         "type": "scatter",
         "x": [
          9,
          11,
          9,
          11
         ],
         "y": [
          3,
          3,
          1,
          1
         ]
        },
        {
         "fill": "toself",
         "fillcolor": "#D49587",
         "hoverinfo": "none",
         "legendgroup": "S_X",
         "line": {
          "color": "#BD5E49",
          "width": 2
         },
         "name": "S_X",
         "showlegend": true,
         "type": "scatter",
         "x": [
          11,
          13,
          13,
          11,
          11
         ],
         "y": [
          1,
          1,
          3,
          3,
          1
         ]
        },
        {
         "marker": {
          "color": "#474645",
          "size": 8
         },
         "mode": "markers",
         "name": "data",
         "showlegend": false,
         "type": "scatter",
         "x": [
          11,
          13,
          11,
          13
         ],
         "y": [
          3,
          3,
          1,
          1
         ]
        },
        {
         "fill": "toself",
         "fillcolor": "#E27985",
         "hoverinfo": "none",
         "legendgroup": "S_X",
         "line": {
          "color": "#CE2D40",
          "width": 2
         },
         "name": "S_X",
         "showlegend": false,
         "type": "scatter",
         "x": [
          10,
          9,
          11,
          10
         ],
         "y": [
          0,
          1,
          1,
          0
         ]
        },
        {
         "marker": {
          "color": "#474645",
          "size": 8
         },
         "mode": "markers",
         "name": "data",
         "showlegend": false,
         "type": "scatter",
         "x": [
          9,
          11
         ],
         "y": [
          1,
          1
         ]
        },
        {
         "fill": "toself",
         "fillcolor": "#E27985",
         "hoverinfo": "none",
         "legendgroup": "S_X",
         "line": {
          "color": "#CE2D40",
          "width": 2
         },
         "name": "S_X",
         "showlegend": false,
         "type": "scatter",
         "x": [
          12,
          11,
          13,
          12
         ],
         "y": [
          6,
          5,
          5,
          6
         ]
        },
        {
         "marker": {
          "color": "#474645",
          "size": 8
         },
         "mode": "markers",
         "name": "data",
         "showlegend": false,
         "type": "scatter",
         "x": [
          11,
          13
         ],
         "y": [
          5,
          5
         ]
        },
        {
         "fill": "toself",
         "fillcolor": "#D2AAF0",
         "hoverinfo": "none",
         "legendgroup": "S_Z",
         "line": {
          "color": "#A352E0",
          "width": 2
         },
         "name": "S_Z",
         "showlegend": false,
         "type": "scatter",
         "x": [
          8,
          9,
          9,
          8
         ],
         "y": [
          4,
          3,
          5,
          4
         ]
        },
        {
         "marker": {
          "color": "#474645",
          "size": 8
         },
         "mode": "markers",
         "name": "data",
         "showlegend": false,
         "type": "scatter",
         "x": [
          9,
          9
         ],
         "y": [
          3,
          5
         ]
        },
        {
         "fill": "toself",
         "fillcolor": "#C9A769",
         "hoverinfo": "none",
         "legendgroup": "S_X",
         "line": {
          "color": "#A5803B",
          "width": 2
         },
         "name": "S_X",
         "showlegend": false,
         "type": "scatter",
         "x": [
          10,
          11,
          9,
          10
         ],
         "y": [
          2,
          3,
          3,
          2
         ]
        },
        {
         "marker": {
          "color": "#474645",
          "size": 8
         },
         "mode": "markers",
         "name": "data",
         "showlegend": false,
         "type": "scatter",
         "x": [
          11,
          9
         ],
         "y": [
          3,
          3
         ]
        },
        {
         "fill": "toself",
         "fillcolor": "#C9A769",
         "hoverinfo": "none",
         "legendgroup": "S_X",
         "line": {
          "color": "#A5803B",
          "width": 2
         },
         "name": "S_X",
         "showlegend": false,
         "type": "scatter",
         "x": [
          10,
          11,
          9,
          10
         ],
         "y": [
          6,
          5,
          5,
          6
         ]
        },
        {
         "marker": {
          "color": "#474645",
          "size": 8
         },
         "mode": "markers",
         "name": "data",
         "showlegend": false,
         "type": "scatter",
         "x": [
          11,
          9
         ],
         "y": [
          5,
          5
         ]
        },
        {
         "fill": "toself",
         "fillcolor": "#9C97FB",
         "hoverinfo": "none",
         "legendgroup": "S_Z",
         "line": {
          "color": "#564EF9",
          "width": 2
         },
         "name": "S_Z",
         "showlegend": false,
         "type": "scatter",
         "x": [
          12,
          13,
          13,
          12
         ],
         "y": [
          2,
          3,
          1,
          2
         ]
        },
        {
         "marker": {
          "color": "#474645",
          "size": 8
         },
         "mode": "markers",
         "name": "data",
         "showlegend": false,
         "type": "scatter",
         "x": [
          13,
          13
         ],
         "y": [
          3,
          1
         ]
        },
        {
         "hoverlabel": {
          "namelength": -1
         },
         "marker": {
          "color": "#787776",
          "size": 10
         },
         "mode": "markers",
         "name": "Ancilla XX",
         "showlegend": false,
         "type": "scatter",
         "x": [
          10
         ],
         "y": [
          0
         ]
        },
        {
         "hoverlabel": {
          "namelength": -1
         },
         "marker": {
          "color": "#787776",
          "size": 10
         },
         "mode": "markers",
         "name": "Ancilla XX",
         "showlegend": false,
         "type": "scatter",
         "x": [
          12
         ],
         "y": [
          6
         ]
        },
        {
         "hoverlabel": {
          "namelength": -1
         },
         "marker": {
          "color": "#787776",
          "size": 10
         },
         "mode": "markers",
         "name": "Ancilla ZZZZ",
         "showlegend": false,
         "type": "scatter",
         "x": [
          12
         ],
         "y": [
          4
         ]
        },
        {
         "hoverlabel": {
          "namelength": -1
         },
         "marker": {
          "color": "#787776",
          "size": 10
         },
         "mode": "markers",
         "name": "Ancilla ZZ",
         "showlegend": false,
         "type": "scatter",
         "x": [
          8
         ],
         "y": [
          4
         ]
        },
        {
         "hoverlabel": {
          "namelength": -1
         },
         "marker": {
          "color": "#787776",
          "size": 10
         },
         "mode": "markers",
         "name": "Ancilla XX,ZZZZ",
         "showlegend": false,
         "type": "scatter",
         "x": [
          10
         ],
         "y": [
          2
         ]
        },
        {
         "hoverlabel": {
          "namelength": -1
         },
         "marker": {
          "color": "#787776",
          "size": 10
         },
         "mode": "markers",
         "name": "Ancilla XX",
         "showlegend": false,
         "type": "scatter",
         "x": [
          10
         ],
         "y": [
          6
         ]
        },
        {
         "hoverlabel": {
          "namelength": -1
         },
         "marker": {
          "color": "#787776",
          "size": 10
         },
         "mode": "markers",
         "name": "Ancilla ZZ,XXXX",
         "showlegend": false,
         "type": "scatter",
         "x": [
          12
         ],
         "y": [
          2
         ]
        },
        {
         "legendgroup": "X_L",
         "line": {
          "color": "#CE2D40",
          "width": 4
         },
         "name": "X_L",
         "showlegend": false,
         "type": "scatter",
         "x": [
          9,
          9,
          9
         ],
         "y": [
          5,
          3,
          1
         ]
        },
        {
         "legendgroup": "Z_L",
         "line": {
          "color": "#128AA5",
          "width": 4
         },
         "name": "Z_L",
         "showlegend": false,
         "type": "scatter",
         "x": [
          9,
          11,
          13
         ],
         "y": [
          1,
          1,
          1
         ]
        },
        {
         "legendgroup": "X_L",
         "line": {
          "color": "#CE2D40",
          "width": 4
         },
         "name": "X_L",
         "showlegend": true,
         "type": "scatter",
         "x": [
          13,
          13,
          13
         ],
         "y": [
          1,
          3,
          5
         ]
        },
        {
         "legendgroup": "Z_L",
         "line": {
          "color": "#128AA5",
          "width": 4
         },
         "name": "Z_L",
         "showlegend": true,
         "type": "scatter",
         "x": [
          13,
          11,
          9
         ],
         "y": [
          5,
          5,
          5
         ]
        },
        {
         "marker": {
          "color": "red",
          "size": 12,
          "symbol": "x"
         },
         "mode": "markers",
         "name": "qubit defect",
         "showlegend": false,
         "type": "scatter",
         "x": [
          10,
          14
         ],
         "y": [
          4,
          2
         ]
        }
       ],
       "layout": {
        "autosize": false,
        "template": {
         "data": {
          "bar": [
           {
            "error_x": {
             "color": "#2a3f5f"
            },
            "error_y": {
             "color": "#2a3f5f"
            },
            "marker": {
             "line": {
              "color": "#E5ECF6",
              "width": 0.5
             },
             "pattern": {
              "fillmode": "overlay",
              "size": 10,
              "solidity": 0.2
             }
            },
            "type": "bar"
           }
          ],
          "barpolar": [
           {
            "marker": {
             "line": {
              "color": "#E5ECF6",
              "width": 0.5
             },
             "pattern": {
              "fillmode": "overlay",
              "size": 10,
              "solidity": 0.2
             }
            },
            "type": "barpolar"
           }
          ],
          "carpet": [
           {
            "aaxis": {
             "endlinecolor": "#2a3f5f",
             "gridcolor": "white",
             "linecolor": "white",
             "minorgridcolor": "white",
             "startlinecolor": "#2a3f5f"
            },
            "baxis": {
             "endlinecolor": "#2a3f5f",
             "gridcolor": "white",
             "linecolor": "white",
             "minorgridcolor": "white",
             "startlinecolor": "#2a3f5f"
            },
            "type": "carpet"
           }
          ],
          "choropleth": [
           {
            "colorbar": {
             "outlinewidth": 0,
             "ticks": ""
            },
            "type": "choropleth"
           }
          ],
          "contour": [
           {
            "colorbar": {
             "outlinewidth": 0,
             "ticks": ""
            },
            "colorscale": [
             [
              0,
              "#0d0887"
             ],
             [
              0.1111111111111111,
              "#46039f"
             ],
             [
              0.2222222222222222,
              "#7201a8"
             ],
             [
              0.3333333333333333,
              "#9c179e"
             ],
             [
              0.4444444444444444,
              "#bd3786"
             ],
             [
              0.5555555555555556,
              "#d8576b"
             ],
             [
              0.6666666666666666,
              "#ed7953"
             ],
             [
              0.7777777777777778,
              "#fb9f3a"
             ],
             [
              0.8888888888888888,
              "#fdca26"
             ],
             [
              1,
              "#f0f921"
             ]
            ],
            "type": "contour"
           }
          ],
          "contourcarpet": [
           {
            "colorbar": {
             "outlinewidth": 0,
             "ticks": ""
            },
            "type": "contourcarpet"
           }
          ],
          "heatmap": [
           {
            "colorbar": {
             "outlinewidth": 0,
             "ticks": ""
            },
            "colorscale": [
             [
              0,
              "#0d0887"
             ],
             [
              0.1111111111111111,
              "#46039f"
             ],
             [
              0.2222222222222222,
              "#7201a8"
             ],
             [
              0.3333333333333333,
              "#9c179e"
             ],
             [
              0.4444444444444444,
              "#bd3786"
             ],
             [
              0.5555555555555556,
              "#d8576b"
             ],
             [
              0.6666666666666666,
              "#ed7953"
             ],
             [
              0.7777777777777778,
              "#fb9f3a"
             ],
             [
              0.8888888888888888,
              "#fdca26"
             ],
             [
              1,
              "#f0f921"
             ]
            ],
            "type": "heatmap"
           }
          ],
          "heatmapgl": [
           {
            "colorbar": {
             "outlinewidth": 0,
             "ticks": ""
            },
            "colorscale": [
             [
              0,
              "#0d0887"
             ],
             [
              0.1111111111111111,
              "#46039f"
             ],
             [
              0.2222222222222222,
              "#7201a8"
             ],
             [
              0.3333333333333333,
              "#9c179e"
             ],
             [
              0.4444444444444444,
              "#bd3786"
             ],
             [
              0.5555555555555556,
              "#d8576b"
             ],
             [
              0.6666666666666666,
              "#ed7953"
             ],
             [
              0.7777777777777778,
              "#fb9f3a"
             ],
             [
              0.8888888888888888,
              "#fdca26"
             ],
             [
              1,
              "#f0f921"
             ]
            ],
            "type": "heatmapgl"
           }
          ],
          "histogram": [
           {
            "marker": {
             "pattern": {
              "fillmode": "overlay",
              "size": 10,
              "solidity": 0.2
             }
            },
            "type": "histogram"
           }
          ],
          "histogram2d": [
           {
            "colorbar": {
             "outlinewidth": 0,
             "ticks": ""
            },
            "colorscale": [
             [
              0,
              "#0d0887"
             ],
             [
              0.1111111111111111,
              "#46039f"
             ],
             [
              0.2222222222222222,
              "#7201a8"
             ],
             [
              0.3333333333333333,
              "#9c179e"
             ],
             [
              0.4444444444444444,
              "#bd3786"
             ],
             [
              0.5555555555555556,
              "#d8576b"
             ],
             [
              0.6666666666666666,
              "#ed7953"
             ],
             [
              0.7777777777777778,
              "#fb9f3a"
             ],
             [
              0.8888888888888888,
              "#fdca26"
             ],
             [
              1,
              "#f0f921"
             ]
            ],
            "type": "histogram2d"
           }
          ],
          "histogram2dcontour": [
           {
            "colorbar": {
             "outlinewidth": 0,
             "ticks": ""
            },
            "colorscale": [
             [
              0,
              "#0d0887"
             ],
             [
              0.1111111111111111,
              "#46039f"
             ],
             [
              0.2222222222222222,
              "#7201a8"
             ],
             [
              0.3333333333333333,
              "#9c179e"
             ],
             [
              0.4444444444444444,
              "#bd3786"
             ],
             [
              0.5555555555555556,
              "#d8576b"
             ],
             [
              0.6666666666666666,
              "#ed7953"
             ],
             [
              0.7777777777777778,
              "#fb9f3a"
             ],
             [
              0.8888888888888888,
              "#fdca26"
             ],
             [
              1,
              "#f0f921"
             ]
            ],
            "type": "histogram2dcontour"
           }
          ],
          "mesh3d": [
           {
            "colorbar": {
             "outlinewidth": 0,
             "ticks": ""
            },
            "type": "mesh3d"
           }
          ],
          "parcoords": [
           {
            "line": {
             "colorbar": {
              "outlinewidth": 0,
              "ticks": ""
             }
            },
            "type": "parcoords"
           }
          ],
          "pie": [
           {
            "automargin": true,
            "type": "pie"
           }
          ],
          "scatter": [
           {
            "fillpattern": {
             "fillmode": "overlay",
             "size": 10,
             "solidity": 0.2
            },
            "type": "scatter"
           }
          ],
          "scatter3d": [
           {
            "line": {
             "colorbar": {
              "outlinewidth": 0,
              "ticks": ""
             }
            },
            "marker": {
             "colorbar": {
              "outlinewidth": 0,
              "ticks": ""
             }
            },
            "type": "scatter3d"
           }
          ],
          "scattercarpet": [
           {
            "marker": {
             "colorbar": {
              "outlinewidth": 0,
              "ticks": ""
             }
            },
            "type": "scattercarpet"
           }
          ],
          "scattergeo": [
           {
            "marker": {
             "colorbar": {
              "outlinewidth": 0,
              "ticks": ""
             }
            },
            "type": "scattergeo"
           }
          ],
          "scattergl": [
           {
            "marker": {
             "colorbar": {
              "outlinewidth": 0,
              "ticks": ""
             }
            },
            "type": "scattergl"
           }
          ],
          "scattermapbox": [
           {
            "marker": {
             "colorbar": {
              "outlinewidth": 0,
              "ticks": ""
             }
            },
            "type": "scattermapbox"
           }
          ],
          "scatterpolar": [
           {
            "marker": {
             "colorbar": {
              "outlinewidth": 0,
              "ticks": ""
             }
            },
            "type": "scatterpolar"
           }
          ],
          "scatterpolargl": [
           {
            "marker": {
             "colorbar": {
              "outlinewidth": 0,
              "ticks": ""
             }
            },
            "type": "scatterpolargl"
           }
          ],
          "scatterternary": [
           {
            "marker": {
             "colorbar": {
              "outlinewidth": 0,
              "ticks": ""
             }
            },
            "type": "scatterternary"
           }
          ],
          "surface": [
           {
            "colorbar": {
             "outlinewidth": 0,
             "ticks": ""
            },
            "colorscale": [
             [
              0,
              "#0d0887"
             ],
             [
              0.1111111111111111,
              "#46039f"
             ],
             [
              0.2222222222222222,
              "#7201a8"
             ],
             [
              0.3333333333333333,
              "#9c179e"
             ],
             [
              0.4444444444444444,
              "#bd3786"
             ],
             [
              0.5555555555555556,
              "#d8576b"
             ],
             [
              0.6666666666666666,
              "#ed7953"
             ],
             [
              0.7777777777777778,
              "#fb9f3a"
             ],
             [
              0.8888888888888888,
              "#fdca26"
             ],
             [
              1,
              "#f0f921"
             ]
            ],
            "type": "surface"
           }
          ],
          "table": [
           {
            "cells": {
             "fill": {
              "color": "#EBF0F8"
             },
             "line": {
              "color": "white"
             }
            },
            "header": {
             "fill": {
              "color": "#C8D4E3"
             },
             "line": {
              "color": "white"
             }
            },
            "type": "table"
           }
          ]
         },
         "layout": {
          "annotationdefaults": {
           "arrowcolor": "#2a3f5f",
           "arrowhead": 0,
           "arrowwidth": 1
          },
          "autotypenumbers": "strict",
          "coloraxis": {
           "colorbar": {
            "outlinewidth": 0,
            "ticks": ""
           }
          },
          "colorscale": {
           "diverging": [
            [
             0,
             "#8e0152"
            ],
            [
             0.1,
             "#c51b7d"
            ],
            [
             0.2,
             "#de77ae"
            ],
            [
             0.3,
             "#f1b6da"
            ],
            [
             0.4,
             "#fde0ef"
            ],
            [
             0.5,
             "#f7f7f7"
            ],
            [
             0.6,
             "#e6f5d0"
            ],
            [
             0.7,
             "#b8e186"
            ],
            [
             0.8,
             "#7fbc41"
            ],
            [
             0.9,
             "#4d9221"
            ],
            [
             1,
             "#276419"
            ]
           ],
           "sequential": [
            [
             0,
             "#0d0887"
            ],
            [
             0.1111111111111111,
             "#46039f"
            ],
            [
             0.2222222222222222,
             "#7201a8"
            ],
            [
             0.3333333333333333,
             "#9c179e"
            ],
            [
             0.4444444444444444,
             "#bd3786"
            ],
            [
             0.5555555555555556,
             "#d8576b"
            ],
            [
             0.6666666666666666,
             "#ed7953"
            ],
            [
             0.7777777777777778,
             "#fb9f3a"
            ],
            [
             0.8888888888888888,
             "#fdca26"
            ],
            [
             1,
             "#f0f921"
            ]
           ],
           "sequentialminus": [
            [
             0,
             "#0d0887"
            ],
            [
             0.1111111111111111,
             "#46039f"
            ],
            [
             0.2222222222222222,
             "#7201a8"
            ],
            [
             0.3333333333333333,
             "#9c179e"
            ],
            [
             0.4444444444444444,
             "#bd3786"
            ],
            [
             0.5555555555555556,
             "#d8576b"
            ],
            [
             0.6666666666666666,
             "#ed7953"
            ],
            [
             0.7777777777777778,
             "#fb9f3a"
            ],
            [
             0.8888888888888888,
             "#fdca26"
            ],
            [
             1,
             "#f0f921"
            ]
           ]
          },
          "colorway": [
           "#636efa",
           "#EF553B",
           "#00cc96",
           "#ab63fa",
           "#FFA15A",
           "#19d3f3",
           "#FF6692",
           "#B6E880",
           "#FF97FF",
           "#FECB52"
          ],
          "font": {
           "color": "#2a3f5f"
          },
          "geo": {
           "bgcolor": "white",
           "lakecolor": "white",
           "landcolor": "#E5ECF6",
           "showlakes": true,
           "showland": true,
           "subunitcolor": "white"
          },
          "hoverlabel": {
           "align": "left"
          },
          "hovermode": "closest",
          "mapbox": {
           "style": "light"
          },
          "paper_bgcolor": "white",
          "plot_bgcolor": "#E5ECF6",
          "polar": {
           "angularaxis": {
            "gridcolor": "white",
            "linecolor": "white",
            "ticks": ""
           },
           "bgcolor": "#E5ECF6",
           "radialaxis": {
            "gridcolor": "white",
            "linecolor": "white",
            "ticks": ""
           }
          },
          "scene": {
           "xaxis": {
            "backgroundcolor": "#E5ECF6",
            "gridcolor": "white",
            "gridwidth": 2,
            "linecolor": "white",
            "showbackground": true,
            "ticks": "",
            "zerolinecolor": "white"
           },
           "yaxis": {
            "backgroundcolor": "#E5ECF6",
            "gridcolor": "white",
            "gridwidth": 2,
            "linecolor": "white",
            "showbackground": true,
            "ticks": "",
            "zerolinecolor": "white"
           },
           "zaxis": {
            "backgroundcolor": "#E5ECF6",
            "gridcolor": "white",
            "gridwidth": 2,
            "linecolor": "white",
            "showbackground": true,
            "ticks": "",
            "zerolinecolor": "white"
           }
          },
          "shapedefaults": {
           "line": {
            "color": "#2a3f5f"
           }
          },
          "ternary": {
           "aaxis": {
            "gridcolor": "white",
            "linecolor": "white",
            "ticks": ""
           },
           "baxis": {
            "gridcolor": "white",
            "linecolor": "white",
            "ticks": ""
           },
           "bgcolor": "#E5ECF6",
           "caxis": {
            "gridcolor": "white",
            "linecolor": "white",
            "ticks": ""
           }
          },
          "title": {
           "x": 0.05
          },
          "xaxis": {
           "automargin": true,
           "gridcolor": "white",
           "linecolor": "white",
           "ticks": "",
           "title": {
            "standoff": 15
           },
           "zerolinecolor": "white",
           "zerolinewidth": 2
          },
          "yaxis": {
           "automargin": true,
           "gridcolor": "white",
           "linecolor": "white",
           "ticks": "",
           "title": {
            "standoff": 15
           },
           "zerolinecolor": "white",
           "zerolinewidth": 2
          }
         }
        },
        "width": 800,
        "xaxis": {
         "showgrid": false
        },
        "yaxis": {
         "scaleanchor": "x",
         "showgrid": false
        }
       }
      }
     },
     "metadata": {},
     "output_type": "display_data"
    }
   ],
   "source": [
    "ancilla_patch = patch.make_subpatch(3, sw_offset=Pos(1,1))\n",
    "control_patch = patch.make_subpatch(3, sw_offset=Pos(1,9))\n",
    "target_patch = patch.make_subpatch(3, sw_offset=Pos(9,1))\n",
    "plot(ancilla_patch, control_patch, target_patch)"
   ]
  },
  {
   "cell_type": "code",
   "execution_count": null,
   "id": "0910f81b",
   "metadata": {},
   "outputs": [],
   "source": []
  }
 ],
 "metadata": {
  "kernelspec": {
   "display_name": "qec_toolkit",
   "language": "python",
   "name": "python3"
  },
  "language_info": {
   "codemirror_mode": {
    "name": "ipython",
    "version": 3
   },
   "file_extension": ".py",
   "mimetype": "text/x-python",
   "name": "python",
   "nbconvert_exporter": "python",
   "pygments_lexer": "ipython3",
   "version": "3.10.14"
  }
 },
 "nbformat": 4,
 "nbformat_minor": 5
}
